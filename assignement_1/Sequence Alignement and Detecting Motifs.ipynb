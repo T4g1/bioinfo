{
 "cells": [
  {
   "cell_type": "markdown",
   "metadata": {
    "deletable": true,
    "editable": true
   },
   "source": [
    "# Sequence Alignement and Detecting Motifs\n",
    "\n",
    "This work was done for the ULB course: Computational biology and bioinformatics (INFO-F-439) by Thomas Van Gysegem (all rigth reserved).\n",
    "\n",
    "Please notice that several differences of results can occur compared to http://www.ch.embnet.org/software/LALIGN_form.html because of the algorithm they use which is a sligth modification of the one used here (citation from their software: \"The lalign program implements the algorithm of Huang and Miller, published in Adv. Appl. Math. (1991) 12:337-357.\")\n",
    "\n",
    "First of all, let us introduce some utility function that will be used for this project. The first one is a function that will be used to display our Dynamic Programing matrice:"
   ]
  },
  {
   "cell_type": "code",
   "execution_count": 54,
   "metadata": {
    "collapsed": false,
    "deletable": true,
    "editable": true
   },
   "outputs": [
    {
     "data": {
      "text/html": [
       "<style>\n",
       ".outter td, .outter, .outter tr, .outter th {padding: 1px;}\n",
       ".inner td, .inner, .inner tr, .inner th {border:none!important;}\n",
       ".inner td, .inner tr, .inner th {width: 20px; height: 20px}\n",
       ".optimal td, .optimal, .optimal tr, .optimal th {border:2px!important; color: red;}\n",
       "</style>"
      ],
      "text/plain": [
       "<IPython.core.display.HTML object>"
      ]
     },
     "metadata": {},
     "output_type": "display_data"
    }
   ],
   "source": [
    "%%html\n",
    "<style>\n",
    ".outter td, .outter, .outter tr, .outter th {padding: 1px;}\n",
    ".inner td, .inner, .inner tr, .inner th {border:none!important;}\n",
    ".inner td, .inner tr, .inner th {width: 20px; height: 20px}\n",
    ".optimal td, .optimal, .optimal tr, .optimal th {border:2px!important; color: red;}\n",
    "</style>"
   ]
  },
  {
   "cell_type": "code",
   "execution_count": 55,
   "metadata": {
    "collapsed": false,
    "deletable": true,
    "editable": true
   },
   "outputs": [],
   "source": [
    "from IPython.display import HTML, display\n",
    "\n",
    "def display_dp_matrix(dp_matrix, x, y, backtrack_matrix, optimal_path):\n",
    "    \"\"\" Simple display function that shows all informations about the DP matrice, sequences, ... \"\"\"\n",
    "    \n",
    "    html_str = '<table class=\"outter\">'\n",
    "    \n",
    "    # First row (header)\n",
    "    html_str += '<tr><td></td><td></td><td>{}</td></tr>'.format('</td><td>'.join(_ for _ in y))\n",
    "    \n",
    "    for i in range(len(dp_matrix)):\n",
    "        row = dp_matrix[i]\n",
    "        \n",
    "        c = '' if i <= 0 else x[i - 1]\n",
    "        \n",
    "        html_str += '<tr><td>{}</td>'.format(c)\n",
    "        \n",
    "        for j in range(len(row)):\n",
    "            value = row[j]\n",
    "            \n",
    "            upleft = '<img src=\"upleft.png\" height=\"42\" width=\"9\" />' if backtrack_matrix[i][j][0] else ''\n",
    "            up = '<img src=\"up.png\" height=\"9\" width=\"9\" />' if backtrack_matrix[i][j][1] else ''\n",
    "            left = '<img src=\"left.png\" height=\"9\" width=\"9\" />' if backtrack_matrix[i][j][2] else ''\n",
    "            \n",
    "            upleft = '<img src=\"upleftred.png\" height=\"42\" width=\"9\" />' if optimal_path_direction[i][j][0] else upleft\n",
    "            up = '<img src=\"upred.png\" height=\"9\" width=\"9\" />' if optimal_path_direction[i][j][1] else up\n",
    "            left = '<img src=\"leftred.png\" height=\"9\" width=\"9\" />' if optimal_path_direction[i][j][2] else left\n",
    "            \n",
    "            optimal = ' optimal' if optimal_path[i][j] else ''\n",
    "            \n",
    "            sub_table = '<table class=\"inner{}\"><tr><td>{}</td><td>{}</td></tr>'.format(optimal, upleft, up)\n",
    "            sub_table += '<tr><td>{}</td><td>{}</td></tr></table>'.format(left, int(value))\n",
    "            \n",
    "            html_str += '<td>{}</td>'.format(sub_table)\n",
    "        \n",
    "        html_str += '</tr>'\n",
    "    \n",
    "    html_str += '</table>'\n",
    "    \n",
    "    display(HTML(html_str))"
   ]
  },
  {
   "cell_type": "markdown",
   "metadata": {
    "deletable": true,
    "editable": true
   },
   "source": [
    "The second one will be used to parse BLOSUM and PAM matrices used. For simplicity sake we will use a 2D Python dictionnary:"
   ]
  },
  {
   "cell_type": "code",
   "execution_count": 56,
   "metadata": {
    "collapsed": false,
    "deletable": true,
    "editable": true
   },
   "outputs": [],
   "source": [
    "def parse_ranking_matrix(filename):\n",
    "    \"\"\" Parse a ranking matrix file with comment line beginning with # \"\"\"\n",
    "    ranking_matrix = {}\n",
    "    \n",
    "    header = []\n",
    "    metadata_parsed = False\n",
    "    \n",
    "    with open(filename, 'r') as file:\n",
    "        for line in file:\n",
    "            line = line.strip()\n",
    "            \n",
    "            # Ignore empty or comment line\n",
    "            if line == \"\" or line.startswith('#'):\n",
    "                continue\n",
    "            \n",
    "            # First line of data: Header\n",
    "            elif not metadata_parsed:\n",
    "                header = [_ for _ in line if _ != ' ']\n",
    "                metadata_parsed = True\n",
    "            \n",
    "            # Other lines\n",
    "            else:\n",
    "                data = line.split(' ')\n",
    "                \n",
    "                key1 = data[0]\n",
    "                data = [_ for _ in data[1:] if _ != '']\n",
    "                \n",
    "                ranking_matrix[key1] = {}\n",
    "                for i in range(len(data)):\n",
    "                    key2 = header[i]\n",
    "                    value = int(data[i])\n",
    "                    \n",
    "                    ranking_matrix[key1][key2] = value\n",
    "        \n",
    "        return ranking_matrix"
   ]
  },
  {
   "cell_type": "markdown",
   "metadata": {
    "deletable": true,
    "editable": true
   },
   "source": [
    "This function is used to display solutions with human readable formatting (showing gap, matches and so on)"
   ]
  },
  {
   "cell_type": "code",
   "execution_count": 57,
   "metadata": {
    "collapsed": false,
    "deletable": true,
    "editable": true
   },
   "outputs": [],
   "source": [
    "def display_solution(solution, x, y):\n",
    "    lines = ['', '', '']\n",
    "    \n",
    "    solution = solution[::-1]\n",
    "    \n",
    "    # Append the begginning\n",
    "    i, j = solution[0]\n",
    "    \n",
    "    if i == 0:\n",
    "        for _j in range(j-1):\n",
    "            lines[0] += '<td>-</td>'\n",
    "            lines[1] += '<td></td>'\n",
    "            lines[2] += '<td>{}</td>'.format(y[_j])\n",
    "    elif j == 0:\n",
    "        for _i in range(i-1):\n",
    "            lines[0] += '<td>{}</td>'.format(x[_i])\n",
    "            lines[1] += '<td></td>'\n",
    "            lines[2] += '<td>-</td>'\n",
    "    \n",
    "    # Take the most upper-left point from the first cell of the solution as the previous one\n",
    "    # This will force a match for the first cell solution if the solution begin in the middle of the matrix\n",
    "    # And a gap if it begin on the up or left border\n",
    "    pi, pj = max(solution[0][0] - 1, 0), max(solution[0][1] - 1, 0)\n",
    "    \n",
    "    for i, j in solution:\n",
    "        # Matched\n",
    "        if (i - pi) + (j - pj) == 2:\n",
    "            lines[0] += '<td bgcolor=\"#00FF11\"><b>{}</b></td>'.format(x[i-1])\n",
    "            lines[1] += '<td>|</td>'\n",
    "            lines[2] += '<td bgcolor=\"#00FF11\"><b>{}</b></td>'.format(y[j-1])\n",
    "        elif (i - pi) == 1:\n",
    "            lines[0] += '<td>{}</td>'.format(x[i-1])\n",
    "            lines[1] += '<td></td>'\n",
    "            lines[2] += '<td>-</td>'\n",
    "        elif (j - pj) == 1:\n",
    "            lines[0] += '<td>-</td>'\n",
    "            lines[1] += '<td></td>'\n",
    "            lines[2] += '<td>{}</td>'.format(y[j-1])\n",
    "        \n",
    "        pi, pj = i, j\n",
    "    \n",
    "    # Append the end\n",
    "    if pi == M - 1:\n",
    "        for j in range(pj+1, N):\n",
    "            lines[0] += '<td>-</td>'\n",
    "            lines[1] += '<td></td>'\n",
    "            lines[2] += '<td>{}</td>'.format(y[j-1])\n",
    "    elif pj == N - 1:\n",
    "        for i in range(pi+1, M):\n",
    "            lines[0] += '<td>{}</td>'.format(x[i-1])\n",
    "            lines[1] += '<td></td>'\n",
    "            lines[2] += '<td>-</td>'\n",
    "    \n",
    "    lines[0] = '<table class=\"inner\"><tr>{}</tr>'.format(lines[0])\n",
    "    lines[1] = '<tr>{}</tr>'.format(lines[1])\n",
    "    lines[2] = '<tr>{}</tr></table>'.format(lines[2])\n",
    "    \n",
    "    display(HTML(''.join(lines)))"
   ]
  },
  {
   "cell_type": "markdown",
   "metadata": {
    "deletable": true,
    "editable": true
   },
   "source": [
    "The variables used are as follows:\n",
    "* `dp_matrix` is the main matrix computed with a recursive definition of the value of each cells like seen in the course.\n",
    "* W and V matrices are the same as the ones from the course\n",
    "* `q` is the ranking matrix (BLOSOM, PAM, ... depending which one you choosed to parse\n",
    "* gap_penalty is, of course, the penalty for introducing a gap\n",
    "* i_gap_penalty is the penalty for introducing a gap\n",
    "* e_gap_penalty is the penalty for extending a gap\n",
    "* bactrack_matrix is a somewhat hacky matrix that stores which way we come from for a given cell of the dp_matrix. Each cell is a list of 3 boolean, the first one is True if we come from the upper left cell (so a match occured), the second one is True if we introduced a gap in Y and the last one is True if we introduced a gap in X.\n",
    "* optimal_path is a list of boolean, True if one optimal solution goes through it, False otherwise. It is used purely for display\n",
    "* optimal_path_direction is like backtrack_matrix but for showing red arrows instead of black ones.\n",
    "* l_solutions is a list of list of ordered positions in dp_matrix, each list in l_solutions is an optimal solution (up to k solutions)"
   ]
  },
  {
   "cell_type": "markdown",
   "metadata": {
    "deletable": true,
    "editable": true
   },
   "source": [
    "## Part 1: Sequence Alignement Algorithms\n",
    "\n",
    "This is the first part of the assignement.\n",
    "\n",
    "First, please input your sequences here and how many optimal solutions you want (k):"
   ]
  },
  {
   "cell_type": "code",
   "execution_count": 58,
   "metadata": {
    "collapsed": true,
    "deletable": true,
    "editable": true
   },
   "outputs": [],
   "source": [
    "x = 'WYFGKLGRKDAERQLLSFGNPRGTFLIRESQTTKGAYSLSIRDWDDMKGDHVKHYKIRKLDNGGYYITTRAQFETLQQLVQHYSERAAGLCCRLVVPC'\n",
    "y = 'WYYGKVTRHQAEMALNERGHEGDFLIRDSESSPNDFSVSLKAQGKNKHFKVQLKETVYCIGQRKFSTMEELVEHYKKAPIFTSEQGEKLYLVKHL'\n",
    "k = 3\n",
    "\n",
    "# True to disable rendering of table (can solve lag issues)\n",
    "large_matrice = True"
   ]
  },
  {
   "cell_type": "markdown",
   "metadata": {
    "deletable": true,
    "editable": true
   },
   "source": [
    "Then, we need to load a ranking matrix and sepcify a gap penalty value"
   ]
  },
  {
   "cell_type": "code",
   "execution_count": 59,
   "metadata": {
    "collapsed": false,
    "deletable": true,
    "editable": true
   },
   "outputs": [],
   "source": [
    "filename = 'BLOSUM62'\n",
    "q = parse_ranking_matrix(filename)\n",
    "\n",
    "# Use same values for both of those variables to have a linear gap penalty\n",
    "i_gap_penalty = -10\n",
    "e_gap_penalty = -1"
   ]
  },
  {
   "cell_type": "code",
   "execution_count": 60,
   "metadata": {
    "collapsed": false,
    "deletable": true,
    "editable": true
   },
   "outputs": [],
   "source": [
    "M, N, dp_matrix, W, V = None, None, None, None, None\n",
    "backtrack_matrix, optimal_path, optimal_path_direction, to_zero = None, None, None, None"
   ]
  },
  {
   "cell_type": "markdown",
   "metadata": {
    "deletable": true,
    "editable": true
   },
   "source": [
    "### Needleman-Wunsch (global)"
   ]
  },
  {
   "cell_type": "code",
   "execution_count": 61,
   "metadata": {
    "collapsed": false,
    "deletable": true,
    "editable": true
   },
   "outputs": [],
   "source": [
    "import numpy as np\n",
    "\n",
    "def reset_optimal():\n",
    "    global M, N, optimal_path, optimal_path_direction\n",
    "    \n",
    "    optimal_path = np.zeros((M, N), dtype=bool)\n",
    "\n",
    "    optimal_path_direction = []\n",
    "    for i in range(M):\n",
    "        optimal_path_direction.append([])\n",
    "\n",
    "        for j in range(N):\n",
    "            optimal_path_direction[i].append([False, False, False])\n",
    "\n",
    "def init_data_structures():\n",
    "    \"\"\" Initialisation of data structures \"\"\"\n",
    "    global M, N, dp_matrix, W, V, backtrack_matrix, optimal_path, optimal_path_direction, to_zero\n",
    "    \n",
    "    M = len(x) + 1\n",
    "    N = len(y) + 1\n",
    "    \n",
    "    dp_matrix = np.zeros((M, N))\n",
    "    W = np.zeros((M, N))\n",
    "    V = np.zeros((M, N))\n",
    "    \n",
    "    to_zero = np.zeros((M, N), dtype=bool)\n",
    "\n",
    "    backtrack_matrix = []\n",
    "    for i in range(M):\n",
    "        backtrack_matrix.append([])\n",
    "\n",
    "        for j in range(N):\n",
    "            backtrack_matrix[i].append([False, False, False])\n",
    "    \n",
    "    reset_optimal()\n",
    "\n",
    "init_data_structures()"
   ]
  },
  {
   "cell_type": "code",
   "execution_count": 62,
   "metadata": {
    "collapsed": false,
    "deletable": true,
    "editable": true
   },
   "outputs": [],
   "source": [
    "\"\"\"\n",
    "# Initialise non-zero gap penalty\n",
    "for i in range(M):\n",
    "    dp_matrix[i][0] = gap_penalty * i\n",
    "    backtrack_matrix[i][0] = [False, True, False]\n",
    "    \n",
    "for j in range(N):\n",
    "    dp_matrix[0][j] = gap_penalty * j\n",
    "    backtrack_matrix[0][j] = [False, False, True]\n",
    "    \n",
    "backtrack_matrix[0][0] = [False, False, False]\n",
    "\"\"\"\n",
    "pass"
   ]
  },
  {
   "cell_type": "code",
   "execution_count": 63,
   "metadata": {
    "collapsed": false,
    "deletable": true,
    "editable": true
   },
   "outputs": [],
   "source": [
    "def compute_dp_matrix(local_alignement=False):\n",
    "    \"\"\" Nested loop to process all the DP matrix \"\"\"\n",
    "    global x, y, M, N, dp_matrix, W, V, backtrack_matrix, i_gap_penalty, e_gap_penalty, to_zero\n",
    "    \n",
    "    for i in range(1, M):\n",
    "        for j in range(1, N):\n",
    "            # This cell is forced to be zero\n",
    "            if to_zero[i][j]:\n",
    "                dp_matrix[i][j] = 0\n",
    "                V[i][j] = 0\n",
    "                W[i][j] = 0\n",
    "                \n",
    "                backtrack_matrix[i][j] = [False, False, False]\n",
    "                continue\n",
    "            \n",
    "            key1 = x[i - 1]\n",
    "            key2 = y[j - 1]\n",
    "\n",
    "            V[i][j] = max(\n",
    "                dp_matrix[i - 1][j] + i_gap_penalty,\n",
    "                V[i - 1][j] + e_gap_penalty\n",
    "            )\n",
    "\n",
    "            W[i][j] = max(\n",
    "                dp_matrix[i][j - 1] + i_gap_penalty,\n",
    "                W[i][j - 1] + e_gap_penalty\n",
    "            )\n",
    "\n",
    "            no_gap = dp_matrix[i - 1][j - 1] + q[key1][key2]\n",
    "\n",
    "            value = max(no_gap, W[i][j], V[i][j])\n",
    "\n",
    "            if local_alignement:\n",
    "                value = max(0, value)\n",
    "\n",
    "            dp_matrix[i][j] = value\n",
    "\n",
    "            backtrack_matrix[i][j] = [\n",
    "                no_gap == value,\n",
    "                V[i][j] == value,\n",
    "                W[i][j] == value\n",
    "            ]\n",
    "\n",
    "compute_dp_matrix()"
   ]
  },
  {
   "cell_type": "code",
   "execution_count": 64,
   "metadata": {
    "collapsed": false,
    "deletable": true,
    "editable": true,
    "scrolled": false
   },
   "outputs": [
    {
     "name": "stdout",
     "output_type": "stream",
     "text": [
      "Solution #1:\n"
     ]
    },
    {
     "data": {
      "text/html": [
       "<table class=\"inner\"><tr><td bgcolor=\"#00FF11\"><b>W</b></td><td bgcolor=\"#00FF11\"><b>Y</b></td><td bgcolor=\"#00FF11\"><b>F</b></td><td bgcolor=\"#00FF11\"><b>G</b></td><td bgcolor=\"#00FF11\"><b>K</b></td><td bgcolor=\"#00FF11\"><b>L</b></td><td bgcolor=\"#00FF11\"><b>G</b></td><td bgcolor=\"#00FF11\"><b>R</b></td><td bgcolor=\"#00FF11\"><b>K</b></td><td bgcolor=\"#00FF11\"><b>D</b></td><td bgcolor=\"#00FF11\"><b>A</b></td><td bgcolor=\"#00FF11\"><b>E</b></td><td bgcolor=\"#00FF11\"><b>R</b></td><td bgcolor=\"#00FF11\"><b>Q</b></td><td bgcolor=\"#00FF11\"><b>L</b></td><td bgcolor=\"#00FF11\"><b>L</b></td><td bgcolor=\"#00FF11\"><b>S</b></td><td bgcolor=\"#00FF11\"><b>F</b></td><td bgcolor=\"#00FF11\"><b>G</b></td><td bgcolor=\"#00FF11\"><b>N</b></td><td>P</td><td bgcolor=\"#00FF11\"><b>R</b></td><td bgcolor=\"#00FF11\"><b>G</b></td><td bgcolor=\"#00FF11\"><b>T</b></td><td bgcolor=\"#00FF11\"><b>F</b></td><td bgcolor=\"#00FF11\"><b>L</b></td><td bgcolor=\"#00FF11\"><b>I</b></td><td bgcolor=\"#00FF11\"><b>R</b></td><td bgcolor=\"#00FF11\"><b>E</b></td><td bgcolor=\"#00FF11\"><b>S</b></td><td bgcolor=\"#00FF11\"><b>Q</b></td><td bgcolor=\"#00FF11\"><b>T</b></td><td bgcolor=\"#00FF11\"><b>T</b></td><td bgcolor=\"#00FF11\"><b>K</b></td><td bgcolor=\"#00FF11\"><b>G</b></td><td bgcolor=\"#00FF11\"><b>A</b></td><td bgcolor=\"#00FF11\"><b>Y</b></td><td bgcolor=\"#00FF11\"><b>S</b></td><td bgcolor=\"#00FF11\"><b>L</b></td><td bgcolor=\"#00FF11\"><b>S</b></td><td bgcolor=\"#00FF11\"><b>I</b></td><td bgcolor=\"#00FF11\"><b>R</b></td><td>D</td><td>W</td><td>D</td><td>D</td><td bgcolor=\"#00FF11\"><b>M</b></td><td bgcolor=\"#00FF11\"><b>K</b></td><td bgcolor=\"#00FF11\"><b>G</b></td><td bgcolor=\"#00FF11\"><b>D</b></td><td bgcolor=\"#00FF11\"><b>H</b></td><td>V</td><td bgcolor=\"#00FF11\"><b>K</b></td><td bgcolor=\"#00FF11\"><b>H</b></td><td bgcolor=\"#00FF11\"><b>Y</b></td><td bgcolor=\"#00FF11\"><b>K</b></td><td bgcolor=\"#00FF11\"><b>I</b></td><td>R</td><td bgcolor=\"#00FF11\"><b>K</b></td><td bgcolor=\"#00FF11\"><b>L</b></td><td bgcolor=\"#00FF11\"><b>D</b></td><td bgcolor=\"#00FF11\"><b>N</b></td><td bgcolor=\"#00FF11\"><b>G</b></td><td>G</td><td bgcolor=\"#00FF11\"><b>Y</b></td><td bgcolor=\"#00FF11\"><b>Y</b></td><td bgcolor=\"#00FF11\"><b>I</b></td><td bgcolor=\"#00FF11\"><b>T</b></td><td bgcolor=\"#00FF11\"><b>T</b></td><td bgcolor=\"#00FF11\"><b>R</b></td><td bgcolor=\"#00FF11\"><b>A</b></td><td bgcolor=\"#00FF11\"><b>Q</b></td><td bgcolor=\"#00FF11\"><b>F</b></td><td bgcolor=\"#00FF11\"><b>E</b></td><td bgcolor=\"#00FF11\"><b>T</b></td><td bgcolor=\"#00FF11\"><b>L</b></td><td bgcolor=\"#00FF11\"><b>Q</b></td><td bgcolor=\"#00FF11\"><b>Q</b></td><td bgcolor=\"#00FF11\"><b>L</b></td><td bgcolor=\"#00FF11\"><b>V</b></td><td bgcolor=\"#00FF11\"><b>Q</b></td><td bgcolor=\"#00FF11\"><b>H</b></td><td bgcolor=\"#00FF11\"><b>Y</b></td><td>S</td><td>E</td><td bgcolor=\"#00FF11\"><b>R</b></td><td>A</td><td>A</td><td>G</td><td>L</td><td>C</td><td>C</td><td bgcolor=\"#00FF11\"><b>R</b></td><td>L</td><td>V</td><td bgcolor=\"#00FF11\"><b>V</b></td><td bgcolor=\"#00FF11\"><b>P</b></td><td bgcolor=\"#00FF11\"><b>C</b></td><td>-</td><td>-</td><td>-</td><td>-</td><td>-</td><td>-</td><td>-</td><td>-</td><td>-</td><td>-</td><td>-</td><td>-</td><td>-</td><td>-</td><td>-</td></tr><tr><td>|</td><td>|</td><td>|</td><td>|</td><td>|</td><td>|</td><td>|</td><td>|</td><td>|</td><td>|</td><td>|</td><td>|</td><td>|</td><td>|</td><td>|</td><td>|</td><td>|</td><td>|</td><td>|</td><td>|</td><td></td><td>|</td><td>|</td><td>|</td><td>|</td><td>|</td><td>|</td><td>|</td><td>|</td><td>|</td><td>|</td><td>|</td><td>|</td><td>|</td><td>|</td><td>|</td><td>|</td><td>|</td><td>|</td><td>|</td><td>|</td><td>|</td><td></td><td></td><td></td><td></td><td>|</td><td>|</td><td>|</td><td>|</td><td>|</td><td></td><td>|</td><td>|</td><td>|</td><td>|</td><td>|</td><td></td><td>|</td><td>|</td><td>|</td><td>|</td><td>|</td><td></td><td>|</td><td>|</td><td>|</td><td>|</td><td>|</td><td>|</td><td>|</td><td>|</td><td>|</td><td>|</td><td>|</td><td>|</td><td>|</td><td>|</td><td>|</td><td>|</td><td>|</td><td>|</td><td>|</td><td></td><td></td><td>|</td><td></td><td></td><td></td><td></td><td></td><td></td><td>|</td><td></td><td></td><td>|</td><td>|</td><td>|</td><td></td><td></td><td></td><td></td><td></td><td></td><td></td><td></td><td></td><td></td><td></td><td></td><td></td><td></td><td></td></tr><tr><td bgcolor=\"#00FF11\"><b>W</b></td><td bgcolor=\"#00FF11\"><b>Y</b></td><td bgcolor=\"#00FF11\"><b>Y</b></td><td bgcolor=\"#00FF11\"><b>G</b></td><td bgcolor=\"#00FF11\"><b>K</b></td><td bgcolor=\"#00FF11\"><b>V</b></td><td bgcolor=\"#00FF11\"><b>T</b></td><td bgcolor=\"#00FF11\"><b>R</b></td><td bgcolor=\"#00FF11\"><b>H</b></td><td bgcolor=\"#00FF11\"><b>Q</b></td><td bgcolor=\"#00FF11\"><b>A</b></td><td bgcolor=\"#00FF11\"><b>E</b></td><td bgcolor=\"#00FF11\"><b>M</b></td><td bgcolor=\"#00FF11\"><b>A</b></td><td bgcolor=\"#00FF11\"><b>L</b></td><td bgcolor=\"#00FF11\"><b>N</b></td><td bgcolor=\"#00FF11\"><b>E</b></td><td bgcolor=\"#00FF11\"><b>R</b></td><td bgcolor=\"#00FF11\"><b>G</b></td><td bgcolor=\"#00FF11\"><b>H</b></td><td>-</td><td bgcolor=\"#00FF11\"><b>E</b></td><td bgcolor=\"#00FF11\"><b>G</b></td><td bgcolor=\"#00FF11\"><b>D</b></td><td bgcolor=\"#00FF11\"><b>F</b></td><td bgcolor=\"#00FF11\"><b>L</b></td><td bgcolor=\"#00FF11\"><b>I</b></td><td bgcolor=\"#00FF11\"><b>R</b></td><td bgcolor=\"#00FF11\"><b>D</b></td><td bgcolor=\"#00FF11\"><b>S</b></td><td bgcolor=\"#00FF11\"><b>E</b></td><td bgcolor=\"#00FF11\"><b>S</b></td><td bgcolor=\"#00FF11\"><b>S</b></td><td bgcolor=\"#00FF11\"><b>P</b></td><td bgcolor=\"#00FF11\"><b>N</b></td><td bgcolor=\"#00FF11\"><b>D</b></td><td bgcolor=\"#00FF11\"><b>F</b></td><td bgcolor=\"#00FF11\"><b>S</b></td><td bgcolor=\"#00FF11\"><b>V</b></td><td bgcolor=\"#00FF11\"><b>S</b></td><td bgcolor=\"#00FF11\"><b>L</b></td><td bgcolor=\"#00FF11\"><b>K</b></td><td>-</td><td>-</td><td>-</td><td>-</td><td bgcolor=\"#00FF11\"><b>A</b></td><td bgcolor=\"#00FF11\"><b>Q</b></td><td bgcolor=\"#00FF11\"><b>G</b></td><td bgcolor=\"#00FF11\"><b>K</b></td><td bgcolor=\"#00FF11\"><b>N</b></td><td>-</td><td bgcolor=\"#00FF11\"><b>K</b></td><td bgcolor=\"#00FF11\"><b>H</b></td><td bgcolor=\"#00FF11\"><b>F</b></td><td bgcolor=\"#00FF11\"><b>K</b></td><td bgcolor=\"#00FF11\"><b>V</b></td><td>-</td><td bgcolor=\"#00FF11\"><b>Q</b></td><td bgcolor=\"#00FF11\"><b>L</b></td><td bgcolor=\"#00FF11\"><b>K</b></td><td bgcolor=\"#00FF11\"><b>E</b></td><td bgcolor=\"#00FF11\"><b>T</b></td><td>-</td><td bgcolor=\"#00FF11\"><b>V</b></td><td bgcolor=\"#00FF11\"><b>Y</b></td><td bgcolor=\"#00FF11\"><b>C</b></td><td bgcolor=\"#00FF11\"><b>I</b></td><td bgcolor=\"#00FF11\"><b>G</b></td><td bgcolor=\"#00FF11\"><b>Q</b></td><td bgcolor=\"#00FF11\"><b>R</b></td><td bgcolor=\"#00FF11\"><b>K</b></td><td bgcolor=\"#00FF11\"><b>F</b></td><td bgcolor=\"#00FF11\"><b>S</b></td><td bgcolor=\"#00FF11\"><b>T</b></td><td bgcolor=\"#00FF11\"><b>M</b></td><td bgcolor=\"#00FF11\"><b>E</b></td><td bgcolor=\"#00FF11\"><b>E</b></td><td bgcolor=\"#00FF11\"><b>L</b></td><td bgcolor=\"#00FF11\"><b>V</b></td><td bgcolor=\"#00FF11\"><b>E</b></td><td bgcolor=\"#00FF11\"><b>H</b></td><td bgcolor=\"#00FF11\"><b>Y</b></td><td>-</td><td>-</td><td bgcolor=\"#00FF11\"><b>K</b></td><td>-</td><td>-</td><td>-</td><td>-</td><td>-</td><td>-</td><td bgcolor=\"#00FF11\"><b>K</b></td><td>-</td><td>-</td><td bgcolor=\"#00FF11\"><b>A</b></td><td bgcolor=\"#00FF11\"><b>P</b></td><td bgcolor=\"#00FF11\"><b>I</b></td><td>F</td><td>T</td><td>S</td><td>E</td><td>Q</td><td>G</td><td>E</td><td>K</td><td>L</td><td>Y</td><td>L</td><td>V</td><td>K</td><td>H</td><td>L</td></tr></table>"
      ],
      "text/plain": [
       "<IPython.core.display.HTML object>"
      ]
     },
     "metadata": {},
     "output_type": "display_data"
    }
   ],
   "source": [
    "# A bit of backtracking now\n",
    "def backtrack(solution, i, j, ignore):\n",
    "    global optimal_path, backtrack_matrix\n",
    "    \n",
    "    solution.append((i, j))\n",
    "    \n",
    "    optimal_path[i][j] = True\n",
    "    \n",
    "    if True not in backtrack_matrix[i][j]:\n",
    "        return True\n",
    "    \n",
    "    if backtrack_matrix[i][j][0]: \n",
    "        if ignore == 0:\n",
    "            optimal_path_direction[i][j][0] = True\n",
    "            return backtrack(solution, i-1, j-1, ignore)\n",
    "        else:\n",
    "            ignore -=1\n",
    "    if backtrack_matrix[i][j][1]: \n",
    "        if ignore == 0:\n",
    "            optimal_path_direction[i][j][1] = True\n",
    "            return backtrack(solution, i-1, j, ignore)\n",
    "        else:\n",
    "            ignore -=1\n",
    "    if backtrack_matrix[i][j][2]: \n",
    "        if ignore == 0:\n",
    "            optimal_path_direction[i][j][2] = True\n",
    "            return backtrack(solution, i, j-1, ignore)\n",
    "        else:\n",
    "            ignore -=1\n",
    "    \n",
    "    return False\n",
    "\n",
    "def find_k_solutions(k, local_alignement=False):\n",
    "    \"\"\" Find at most k solutions \"\"\"\n",
    "    l_solution = []\n",
    "    for ignore in range(k):\n",
    "        solution = []\n",
    "\n",
    "        # Find better score in last row\n",
    "        max_score = None\n",
    "        max_position = None\n",
    "        for i in range(M):\n",
    "            for j in range(N):\n",
    "                if not local_alignement and i != M-1 and j != N-1:\n",
    "                    continue\n",
    "                    \n",
    "                if max_score == None or dp_matrix[i][j] > max_score:\n",
    "                    max_score = dp_matrix[i][j]\n",
    "                    max_position = (i, j)\n",
    "\n",
    "        backtrack(solution, max_position[0], max_position[1], ignore)\n",
    "\n",
    "        i, j = solution[-1]\n",
    "        if True not in backtrack_matrix[i][j]:\n",
    "            l_solution.append(solution)\n",
    "\n",
    "    if not large_matrice:\n",
    "        display_dp_matrix(dp_matrix, x, y, backtrack_matrix, optimal_path)\n",
    "\n",
    "    for i in range(len(l_solution)):\n",
    "        print(\"Solution #{}:\".format(i+1))\n",
    "        display_solution(l_solution[i], x, y)\n",
    "    \n",
    "    return l_solution\n",
    "\n",
    "_ = find_k_solutions(k)"
   ]
  },
  {
   "cell_type": "markdown",
   "metadata": {
    "deletable": true,
    "editable": true
   },
   "source": [
    "### Smith-Waterman(local)"
   ]
  },
  {
   "cell_type": "code",
   "execution_count": 65,
   "metadata": {
    "collapsed": false,
    "deletable": true,
    "editable": true,
    "scrolled": false
   },
   "outputs": [
    {
     "data": {
      "text/html": [
       "<table class=\"outter\"><tr><td></td><td></td><td>I</td><td>S</td><td>A</td><td>L</td><td>I</td><td>G</td><td>N</td><td>E</td><td>D</td></tr><tr><td></td><td><table class=\"inner\"><tr><td></td><td></td></tr><tr><td></td><td>0</td></tr></table></td><td><table class=\"inner\"><tr><td></td><td></td></tr><tr><td></td><td>0</td></tr></table></td><td><table class=\"inner\"><tr><td></td><td></td></tr><tr><td></td><td>0</td></tr></table></td><td><table class=\"inner\"><tr><td></td><td></td></tr><tr><td></td><td>0</td></tr></table></td><td><table class=\"inner\"><tr><td></td><td></td></tr><tr><td></td><td>0</td></tr></table></td><td><table class=\"inner\"><tr><td></td><td></td></tr><tr><td></td><td>0</td></tr></table></td><td><table class=\"inner\"><tr><td></td><td></td></tr><tr><td></td><td>0</td></tr></table></td><td><table class=\"inner\"><tr><td></td><td></td></tr><tr><td></td><td>0</td></tr></table></td><td><table class=\"inner\"><tr><td></td><td></td></tr><tr><td></td><td>0</td></tr></table></td><td><table class=\"inner\"><tr><td></td><td></td></tr><tr><td></td><td>0</td></tr></table></td></tr><tr><td>T</td><td><table class=\"inner\"><tr><td></td><td></td></tr><tr><td></td><td>0</td></tr></table></td><td><table class=\"inner\"><tr><td></td><td></td></tr><tr><td></td><td>0</td></tr></table></td><td><table class=\"inner\"><tr><td><img src=\"upleft.png\" height=\"42\" width=\"9\" /></td><td></td></tr><tr><td></td><td>1</td></tr></table></td><td><table class=\"inner\"><tr><td><img src=\"upleft.png\" height=\"42\" width=\"9\" /></td><td></td></tr><tr><td></td><td>0</td></tr></table></td><td><table class=\"inner\"><tr><td></td><td></td></tr><tr><td></td><td>0</td></tr></table></td><td><table class=\"inner\"><tr><td></td><td></td></tr><tr><td></td><td>0</td></tr></table></td><td><table class=\"inner\"><tr><td></td><td></td></tr><tr><td></td><td>0</td></tr></table></td><td><table class=\"inner\"><tr><td><img src=\"upleft.png\" height=\"42\" width=\"9\" /></td><td></td></tr><tr><td></td><td>0</td></tr></table></td><td><table class=\"inner\"><tr><td></td><td></td></tr><tr><td></td><td>0</td></tr></table></td><td><table class=\"inner\"><tr><td></td><td></td></tr><tr><td></td><td>0</td></tr></table></td></tr><tr><td>H</td><td><table class=\"inner optimal\"><tr><td></td><td></td></tr><tr><td></td><td>0</td></tr></table></td><td><table class=\"inner\"><tr><td></td><td></td></tr><tr><td></td><td>0</td></tr></table></td><td><table class=\"inner\"><tr><td></td><td></td></tr><tr><td></td><td>0</td></tr></table></td><td><table class=\"inner\"><tr><td></td><td></td></tr><tr><td></td><td>0</td></tr></table></td><td><table class=\"inner\"><tr><td></td><td></td></tr><tr><td></td><td>0</td></tr></table></td><td><table class=\"inner\"><tr><td></td><td></td></tr><tr><td></td><td>0</td></tr></table></td><td><table class=\"inner\"><tr><td></td><td></td></tr><tr><td></td><td>0</td></tr></table></td><td><table class=\"inner\"><tr><td><img src=\"upleft.png\" height=\"42\" width=\"9\" /></td><td></td></tr><tr><td></td><td>1</td></tr></table></td><td><table class=\"inner\"><tr><td><img src=\"upleft.png\" height=\"42\" width=\"9\" /></td><td></td></tr><tr><td></td><td>0</td></tr></table></td><td><table class=\"inner\"><tr><td></td><td></td></tr><tr><td></td><td>0</td></tr></table></td></tr><tr><td>I</td><td><table class=\"inner\"><tr><td></td><td></td></tr><tr><td></td><td>0</td></tr></table></td><td><table class=\"inner optimal\"><tr><td><img src=\"upleftred.png\" height=\"42\" width=\"9\" /></td><td></td></tr><tr><td></td><td>4</td></tr></table></td><td><table class=\"inner\"><tr><td></td><td></td></tr><tr><td><img src=\"left.png\" height=\"9\" width=\"9\" /></td><td>0</td></tr></table></td><td><table class=\"inner\"><tr><td></td><td></td></tr><tr><td></td><td>0</td></tr></table></td><td><table class=\"inner\"><tr><td><img src=\"upleft.png\" height=\"42\" width=\"9\" /></td><td></td></tr><tr><td></td><td>2</td></tr></table></td><td><table class=\"inner\"><tr><td><img src=\"upleft.png\" height=\"42\" width=\"9\" /></td><td></td></tr><tr><td></td><td>4</td></tr></table></td><td><table class=\"inner\"><tr><td></td><td></td></tr><tr><td><img src=\"left.png\" height=\"9\" width=\"9\" /></td><td>0</td></tr></table></td><td><table class=\"inner\"><tr><td></td><td></td></tr><tr><td></td><td>0</td></tr></table></td><td><table class=\"inner\"><tr><td></td><td></td></tr><tr><td></td><td>0</td></tr></table></td><td><table class=\"inner\"><tr><td></td><td></td></tr><tr><td></td><td>0</td></tr></table></td></tr><tr><td>S</td><td><table class=\"inner\"><tr><td></td><td></td></tr><tr><td></td><td>0</td></tr></table></td><td><table class=\"inner\"><tr><td></td><td><img src=\"up.png\" height=\"9\" width=\"9\" /></td></tr><tr><td></td><td>0</td></tr></table></td><td><table class=\"inner optimal\"><tr><td><img src=\"upleftred.png\" height=\"42\" width=\"9\" /></td><td></td></tr><tr><td></td><td>8</td></tr></table></td><td><table class=\"inner optimal\"><tr><td></td><td></td></tr><tr><td><img src=\"leftred.png\" height=\"9\" width=\"9\" /></td><td>4</td></tr></table></td><td><table class=\"inner\"><tr><td></td><td></td></tr><tr><td><img src=\"left.png\" height=\"9\" width=\"9\" /></td><td>0</td></tr></table></td><td><table class=\"inner\"><tr><td><img src=\"upleft.png\" height=\"42\" width=\"9\" /></td><td><img src=\"up.png\" height=\"9\" width=\"9\" /></td></tr><tr><td></td><td>0</td></tr></table></td><td><table class=\"inner\"><tr><td><img src=\"upleft.png\" height=\"42\" width=\"9\" /></td><td></td></tr><tr><td></td><td>4</td></tr></table></td><td><table class=\"inner\"><tr><td><img src=\"upleft.png\" height=\"42\" width=\"9\" /></td><td></td></tr><tr><td></td><td>1</td></tr></table></td><td><table class=\"inner\"><tr><td><img src=\"upleft.png\" height=\"42\" width=\"9\" /></td><td></td></tr><tr><td></td><td>0</td></tr></table></td><td><table class=\"inner\"><tr><td><img src=\"upleft.png\" height=\"42\" width=\"9\" /></td><td></td></tr><tr><td></td><td>0</td></tr></table></td></tr><tr><td>L</td><td><table class=\"inner\"><tr><td></td><td></td></tr><tr><td></td><td>0</td></tr></table></td><td><table class=\"inner\"><tr><td><img src=\"upleft.png\" height=\"42\" width=\"9\" /></td><td></td></tr><tr><td></td><td>2</td></tr></table></td><td><table class=\"inner\"><tr><td></td><td><img src=\"up.png\" height=\"9\" width=\"9\" /></td></tr><tr><td></td><td>4</td></tr></table></td><td><table class=\"inner\"><tr><td><img src=\"upleft.png\" height=\"42\" width=\"9\" /></td><td></td></tr><tr><td></td><td>7</td></tr></table></td><td><table class=\"inner optimal\"><tr><td><img src=\"upleftred.png\" height=\"42\" width=\"9\" /></td><td></td></tr><tr><td></td><td>8</td></tr></table></td><td><table class=\"inner\"><tr><td></td><td></td></tr><tr><td><img src=\"left.png\" height=\"9\" width=\"9\" /></td><td>4</td></tr></table></td><td><table class=\"inner\"><tr><td></td><td><img src=\"up.png\" height=\"9\" width=\"9\" /></td></tr><tr><td><img src=\"left.png\" height=\"9\" width=\"9\" /></td><td>0</td></tr></table></td><td><table class=\"inner\"><tr><td><img src=\"upleft.png\" height=\"42\" width=\"9\" /></td><td></td></tr><tr><td></td><td>1</td></tr></table></td><td><table class=\"inner\"><tr><td></td><td></td></tr><tr><td></td><td>0</td></tr></table></td><td><table class=\"inner\"><tr><td></td><td></td></tr><tr><td></td><td>0</td></tr></table></td></tr><tr><td>I</td><td><table class=\"inner\"><tr><td></td><td></td></tr><tr><td></td><td>0</td></tr></table></td><td><table class=\"inner\"><tr><td><img src=\"upleft.png\" height=\"42\" width=\"9\" /></td><td></td></tr><tr><td></td><td>4</td></tr></table></td><td><table class=\"inner\"><tr><td><img src=\"upleft.png\" height=\"42\" width=\"9\" /></td><td><img src=\"up.png\" height=\"9\" width=\"9\" /></td></tr><tr><td><img src=\"left.png\" height=\"9\" width=\"9\" /></td><td>0</td></tr></table></td><td><table class=\"inner\"><tr><td><img src=\"upleft.png\" height=\"42\" width=\"9\" /></td><td><img src=\"up.png\" height=\"9\" width=\"9\" /></td></tr><tr><td></td><td>3</td></tr></table></td><td><table class=\"inner\"><tr><td><img src=\"upleft.png\" height=\"42\" width=\"9\" /></td><td></td></tr><tr><td></td><td>9</td></tr></table></td><td><table class=\"inner optimal\"><tr><td><img src=\"upleftred.png\" height=\"42\" width=\"9\" /></td><td></td></tr><tr><td></td><td>12</td></tr></table></td><td><table class=\"inner optimal\"><tr><td></td><td></td></tr><tr><td><img src=\"leftred.png\" height=\"9\" width=\"9\" /></td><td>8</td></tr></table></td><td><table class=\"inner\"><tr><td></td><td></td></tr><tr><td><img src=\"left.png\" height=\"9\" width=\"9\" /></td><td>4</td></tr></table></td><td><table class=\"inner\"><tr><td></td><td></td></tr><tr><td><img src=\"left.png\" height=\"9\" width=\"9\" /></td><td>0</td></tr></table></td><td><table class=\"inner\"><tr><td></td><td></td></tr><tr><td></td><td>0</td></tr></table></td></tr><tr><td>N</td><td><table class=\"inner\"><tr><td></td><td></td></tr><tr><td></td><td>0</td></tr></table></td><td><table class=\"inner\"><tr><td></td><td><img src=\"up.png\" height=\"9\" width=\"9\" /></td></tr><tr><td></td><td>0</td></tr></table></td><td><table class=\"inner\"><tr><td><img src=\"upleft.png\" height=\"42\" width=\"9\" /></td><td></td></tr><tr><td></td><td>5</td></tr></table></td><td><table class=\"inner\"><tr><td></td><td></td></tr><tr><td><img src=\"left.png\" height=\"9\" width=\"9\" /></td><td>1</td></tr></table></td><td><table class=\"inner\"><tr><td></td><td><img src=\"up.png\" height=\"9\" width=\"9\" /></td></tr><tr><td></td><td>5</td></tr></table></td><td><table class=\"inner\"><tr><td></td><td><img src=\"up.png\" height=\"9\" width=\"9\" /></td></tr><tr><td></td><td>8</td></tr></table></td><td><table class=\"inner\"><tr><td><img src=\"upleft.png\" height=\"42\" width=\"9\" /></td><td></td></tr><tr><td></td><td>12</td></tr></table></td><td><table class=\"inner optimal\"><tr><td><img src=\"upleftred.png\" height=\"42\" width=\"9\" /></td><td></td></tr><tr><td></td><td>14</td></tr></table></td><td><table class=\"inner\"><tr><td></td><td></td></tr><tr><td><img src=\"left.png\" height=\"9\" width=\"9\" /></td><td>10</td></tr></table></td><td><table class=\"inner\"><tr><td></td><td></td></tr><tr><td><img src=\"left.png\" height=\"9\" width=\"9\" /></td><td>6</td></tr></table></td></tr><tr><td>E</td><td><table class=\"inner\"><tr><td></td><td></td></tr><tr><td></td><td>0</td></tr></table></td><td><table class=\"inner\"><tr><td></td><td></td></tr><tr><td></td><td>0</td></tr></table></td><td><table class=\"inner\"><tr><td></td><td><img src=\"up.png\" height=\"9\" width=\"9\" /></td></tr><tr><td></td><td>1</td></tr></table></td><td><table class=\"inner\"><tr><td><img src=\"upleft.png\" height=\"42\" width=\"9\" /></td><td></td></tr><tr><td></td><td>4</td></tr></table></td><td><table class=\"inner\"><tr><td></td><td><img src=\"up.png\" height=\"9\" width=\"9\" /></td></tr><tr><td></td><td>1</td></tr></table></td><td><table class=\"inner\"><tr><td></td><td><img src=\"up.png\" height=\"9\" width=\"9\" /></td></tr><tr><td></td><td>4</td></tr></table></td><td><table class=\"inner\"><tr><td></td><td><img src=\"up.png\" height=\"9\" width=\"9\" /></td></tr><tr><td></td><td>8</td></tr></table></td><td><table class=\"inner\"><tr><td><img src=\"upleft.png\" height=\"42\" width=\"9\" /></td><td></td></tr><tr><td></td><td>12</td></tr></table></td><td><table class=\"inner optimal\"><tr><td><img src=\"upleftred.png\" height=\"42\" width=\"9\" /></td><td></td></tr><tr><td></td><td>19</td></tr></table></td><td><table class=\"inner\"><tr><td></td><td></td></tr><tr><td><img src=\"left.png\" height=\"9\" width=\"9\" /></td><td>15</td></tr></table></td></tr></table>"
      ],
      "text/plain": [
       "<IPython.core.display.HTML object>"
      ]
     },
     "metadata": {},
     "output_type": "display_data"
    },
    {
     "name": "stdout",
     "output_type": "stream",
     "text": [
      "Solution #1:\n"
     ]
    },
    {
     "data": {
      "text/html": [
       "<table class=\"inner\"><tr><td>T</td><td>H</td><td bgcolor=\"#00FF11\"><b>I</b></td><td bgcolor=\"#00FF11\"><b>S</b></td><td>-</td><td bgcolor=\"#00FF11\"><b>L</b></td><td bgcolor=\"#00FF11\"><b>I</b></td><td>-</td><td bgcolor=\"#00FF11\"><b>N</b></td><td bgcolor=\"#00FF11\"><b>E</b></td><td>-</td></tr><tr><td></td><td></td><td>|</td><td>|</td><td></td><td>|</td><td>|</td><td></td><td>|</td><td>|</td><td></td></tr><tr><td>-</td><td>-</td><td bgcolor=\"#00FF11\"><b>I</b></td><td bgcolor=\"#00FF11\"><b>S</b></td><td>A</td><td bgcolor=\"#00FF11\"><b>L</b></td><td bgcolor=\"#00FF11\"><b>I</b></td><td>G</td><td bgcolor=\"#00FF11\"><b>N</b></td><td bgcolor=\"#00FF11\"><b>E</b></td><td>D</td></tr></table>"
      ],
      "text/plain": [
       "<IPython.core.display.HTML object>"
      ]
     },
     "metadata": {},
     "output_type": "display_data"
    },
    {
     "data": {
      "text/html": [
       "<table class=\"outter\"><tr><td></td><td></td><td>I</td><td>S</td><td>A</td><td>L</td><td>I</td><td>G</td><td>N</td><td>E</td><td>D</td></tr><tr><td></td><td><table class=\"inner\"><tr><td></td><td></td></tr><tr><td></td><td>0</td></tr></table></td><td><table class=\"inner\"><tr><td></td><td></td></tr><tr><td></td><td>0</td></tr></table></td><td><table class=\"inner\"><tr><td></td><td></td></tr><tr><td></td><td>0</td></tr></table></td><td><table class=\"inner\"><tr><td></td><td></td></tr><tr><td></td><td>0</td></tr></table></td><td><table class=\"inner\"><tr><td></td><td></td></tr><tr><td></td><td>0</td></tr></table></td><td><table class=\"inner\"><tr><td></td><td></td></tr><tr><td></td><td>0</td></tr></table></td><td><table class=\"inner\"><tr><td></td><td></td></tr><tr><td></td><td>0</td></tr></table></td><td><table class=\"inner\"><tr><td></td><td></td></tr><tr><td></td><td>0</td></tr></table></td><td><table class=\"inner\"><tr><td></td><td></td></tr><tr><td></td><td>0</td></tr></table></td><td><table class=\"inner\"><tr><td></td><td></td></tr><tr><td></td><td>0</td></tr></table></td></tr><tr><td>T</td><td><table class=\"inner\"><tr><td></td><td></td></tr><tr><td></td><td>0</td></tr></table></td><td><table class=\"inner\"><tr><td></td><td></td></tr><tr><td></td><td>0</td></tr></table></td><td><table class=\"inner\"><tr><td><img src=\"upleft.png\" height=\"42\" width=\"9\" /></td><td></td></tr><tr><td></td><td>1</td></tr></table></td><td><table class=\"inner\"><tr><td><img src=\"upleft.png\" height=\"42\" width=\"9\" /></td><td></td></tr><tr><td></td><td>0</td></tr></table></td><td><table class=\"inner\"><tr><td></td><td></td></tr><tr><td></td><td>0</td></tr></table></td><td><table class=\"inner\"><tr><td></td><td></td></tr><tr><td></td><td>0</td></tr></table></td><td><table class=\"inner\"><tr><td></td><td></td></tr><tr><td></td><td>0</td></tr></table></td><td><table class=\"inner\"><tr><td><img src=\"upleft.png\" height=\"42\" width=\"9\" /></td><td></td></tr><tr><td></td><td>0</td></tr></table></td><td><table class=\"inner\"><tr><td></td><td></td></tr><tr><td></td><td>0</td></tr></table></td><td><table class=\"inner\"><tr><td></td><td></td></tr><tr><td></td><td>0</td></tr></table></td></tr><tr><td>H</td><td><table class=\"inner\"><tr><td></td><td></td></tr><tr><td></td><td>0</td></tr></table></td><td><table class=\"inner\"><tr><td></td><td></td></tr><tr><td></td><td>0</td></tr></table></td><td><table class=\"inner\"><tr><td></td><td></td></tr><tr><td></td><td>0</td></tr></table></td><td><table class=\"inner\"><tr><td></td><td></td></tr><tr><td></td><td>0</td></tr></table></td><td><table class=\"inner\"><tr><td></td><td></td></tr><tr><td></td><td>0</td></tr></table></td><td><table class=\"inner\"><tr><td></td><td></td></tr><tr><td></td><td>0</td></tr></table></td><td><table class=\"inner\"><tr><td></td><td></td></tr><tr><td></td><td>0</td></tr></table></td><td><table class=\"inner\"><tr><td><img src=\"upleft.png\" height=\"42\" width=\"9\" /></td><td></td></tr><tr><td></td><td>1</td></tr></table></td><td><table class=\"inner\"><tr><td><img src=\"upleft.png\" height=\"42\" width=\"9\" /></td><td></td></tr><tr><td></td><td>0</td></tr></table></td><td><table class=\"inner\"><tr><td></td><td></td></tr><tr><td></td><td>0</td></tr></table></td></tr><tr><td>I</td><td><table class=\"inner\"><tr><td></td><td></td></tr><tr><td></td><td>0</td></tr></table></td><td><table class=\"inner\"><tr><td></td><td></td></tr><tr><td></td><td>0</td></tr></table></td><td><table class=\"inner\"><tr><td></td><td></td></tr><tr><td></td><td>0</td></tr></table></td><td><table class=\"inner\"><tr><td></td><td></td></tr><tr><td></td><td>0</td></tr></table></td><td><table class=\"inner\"><tr><td><img src=\"upleft.png\" height=\"42\" width=\"9\" /></td><td></td></tr><tr><td></td><td>2</td></tr></table></td><td><table class=\"inner\"><tr><td><img src=\"upleft.png\" height=\"42\" width=\"9\" /></td><td></td></tr><tr><td></td><td>4</td></tr></table></td><td><table class=\"inner\"><tr><td></td><td></td></tr><tr><td><img src=\"left.png\" height=\"9\" width=\"9\" /></td><td>0</td></tr></table></td><td><table class=\"inner\"><tr><td></td><td></td></tr><tr><td></td><td>0</td></tr></table></td><td><table class=\"inner\"><tr><td></td><td></td></tr><tr><td></td><td>0</td></tr></table></td><td><table class=\"inner\"><tr><td></td><td></td></tr><tr><td></td><td>0</td></tr></table></td></tr><tr><td>S</td><td><table class=\"inner\"><tr><td></td><td></td></tr><tr><td></td><td>0</td></tr></table></td><td><table class=\"inner\"><tr><td></td><td></td></tr><tr><td></td><td>0</td></tr></table></td><td><table class=\"inner\"><tr><td></td><td></td></tr><tr><td></td><td>0</td></tr></table></td><td><table class=\"inner\"><tr><td></td><td></td></tr><tr><td></td><td>0</td></tr></table></td><td><table class=\"inner\"><tr><td></td><td></td></tr><tr><td></td><td>0</td></tr></table></td><td><table class=\"inner\"><tr><td><img src=\"upleft.png\" height=\"42\" width=\"9\" /></td><td><img src=\"up.png\" height=\"9\" width=\"9\" /></td></tr><tr><td></td><td>0</td></tr></table></td><td><table class=\"inner\"><tr><td><img src=\"upleft.png\" height=\"42\" width=\"9\" /></td><td></td></tr><tr><td></td><td>4</td></tr></table></td><td><table class=\"inner\"><tr><td><img src=\"upleft.png\" height=\"42\" width=\"9\" /></td><td></td></tr><tr><td></td><td>1</td></tr></table></td><td><table class=\"inner\"><tr><td><img src=\"upleft.png\" height=\"42\" width=\"9\" /></td><td></td></tr><tr><td></td><td>0</td></tr></table></td><td><table class=\"inner\"><tr><td><img src=\"upleft.png\" height=\"42\" width=\"9\" /></td><td></td></tr><tr><td></td><td>0</td></tr></table></td></tr><tr><td>L</td><td><table class=\"inner optimal\"><tr><td></td><td></td></tr><tr><td></td><td>0</td></tr></table></td><td><table class=\"inner\"><tr><td><img src=\"upleft.png\" height=\"42\" width=\"9\" /></td><td></td></tr><tr><td></td><td>2</td></tr></table></td><td><table class=\"inner\"><tr><td></td><td></td></tr><tr><td></td><td>0</td></tr></table></td><td><table class=\"inner\"><tr><td></td><td></td></tr><tr><td></td><td>0</td></tr></table></td><td><table class=\"inner\"><tr><td></td><td></td></tr><tr><td></td><td>0</td></tr></table></td><td><table class=\"inner\"><tr><td><img src=\"upleft.png\" height=\"42\" width=\"9\" /></td><td></td></tr><tr><td></td><td>2</td></tr></table></td><td><table class=\"inner\"><tr><td></td><td><img src=\"up.png\" height=\"9\" width=\"9\" /></td></tr><tr><td></td><td>0</td></tr></table></td><td><table class=\"inner\"><tr><td><img src=\"upleft.png\" height=\"42\" width=\"9\" /></td><td></td></tr><tr><td></td><td>1</td></tr></table></td><td><table class=\"inner\"><tr><td></td><td></td></tr><tr><td></td><td>0</td></tr></table></td><td><table class=\"inner\"><tr><td></td><td></td></tr><tr><td></td><td>0</td></tr></table></td></tr><tr><td>I</td><td><table class=\"inner\"><tr><td></td><td></td></tr><tr><td></td><td>0</td></tr></table></td><td><table class=\"inner optimal\"><tr><td><img src=\"upleftred.png\" height=\"42\" width=\"9\" /></td><td></td></tr><tr><td></td><td>4</td></tr></table></td><td><table class=\"inner\"><tr><td><img src=\"upleft.png\" height=\"42\" width=\"9\" /></td><td></td></tr><tr><td><img src=\"left.png\" height=\"9\" width=\"9\" /></td><td>0</td></tr></table></td><td><table class=\"inner\"><tr><td></td><td></td></tr><tr><td></td><td>0</td></tr></table></td><td><table class=\"inner\"><tr><td><img src=\"upleft.png\" height=\"42\" width=\"9\" /></td><td></td></tr><tr><td></td><td>2</td></tr></table></td><td><table class=\"inner\"><tr><td></td><td></td></tr><tr><td></td><td>0</td></tr></table></td><td><table class=\"inner\"><tr><td></td><td></td></tr><tr><td></td><td>0</td></tr></table></td><td><table class=\"inner\"><tr><td></td><td></td></tr><tr><td></td><td>0</td></tr></table></td><td><table class=\"inner\"><tr><td></td><td></td></tr><tr><td></td><td>0</td></tr></table></td><td><table class=\"inner\"><tr><td></td><td></td></tr><tr><td></td><td>0</td></tr></table></td></tr><tr><td>N</td><td><table class=\"inner\"><tr><td></td><td></td></tr><tr><td></td><td>0</td></tr></table></td><td><table class=\"inner\"><tr><td></td><td><img src=\"up.png\" height=\"9\" width=\"9\" /></td></tr><tr><td></td><td>0</td></tr></table></td><td><table class=\"inner optimal\"><tr><td><img src=\"upleftred.png\" height=\"42\" width=\"9\" /></td><td></td></tr><tr><td></td><td>5</td></tr></table></td><td><table class=\"inner\"><tr><td></td><td></td></tr><tr><td><img src=\"left.png\" height=\"9\" width=\"9\" /></td><td>1</td></tr></table></td><td><table class=\"inner\"><tr><td></td><td></td></tr><tr><td></td><td>0</td></tr></table></td><td><table class=\"inner\"><tr><td></td><td></td></tr><tr><td></td><td>0</td></tr></table></td><td><table class=\"inner\"><tr><td><img src=\"upleft.png\" height=\"42\" width=\"9\" /></td><td></td></tr><tr><td></td><td>0</td></tr></table></td><td><table class=\"inner\"><tr><td></td><td></td></tr><tr><td></td><td>0</td></tr></table></td><td><table class=\"inner\"><tr><td><img src=\"upleft.png\" height=\"42\" width=\"9\" /></td><td></td></tr><tr><td></td><td>0</td></tr></table></td><td><table class=\"inner\"><tr><td><img src=\"upleft.png\" height=\"42\" width=\"9\" /></td><td></td></tr><tr><td></td><td>1</td></tr></table></td></tr><tr><td>E</td><td><table class=\"inner\"><tr><td></td><td></td></tr><tr><td></td><td>0</td></tr></table></td><td><table class=\"inner\"><tr><td></td><td></td></tr><tr><td></td><td>0</td></tr></table></td><td><table class=\"inner\"><tr><td></td><td><img src=\"up.png\" height=\"9\" width=\"9\" /></td></tr><tr><td></td><td>1</td></tr></table></td><td><table class=\"inner\"><tr><td><img src=\"upleft.png\" height=\"42\" width=\"9\" /></td><td></td></tr><tr><td></td><td>4</td></tr></table></td><td><table class=\"inner\"><tr><td></td><td></td></tr><tr><td><img src=\"left.png\" height=\"9\" width=\"9\" /></td><td>0</td></tr></table></td><td><table class=\"inner\"><tr><td></td><td></td></tr><tr><td></td><td>0</td></tr></table></td><td><table class=\"inner\"><tr><td></td><td></td></tr><tr><td></td><td>0</td></tr></table></td><td><table class=\"inner\"><tr><td><img src=\"upleft.png\" height=\"42\" width=\"9\" /></td><td></td></tr><tr><td></td><td>0</td></tr></table></td><td><table class=\"inner\"><tr><td></td><td></td></tr><tr><td></td><td>0</td></tr></table></td><td><table class=\"inner\"><tr><td><img src=\"upleft.png\" height=\"42\" width=\"9\" /></td><td></td></tr><tr><td></td><td>2</td></tr></table></td></tr></table>"
      ],
      "text/plain": [
       "<IPython.core.display.HTML object>"
      ]
     },
     "metadata": {},
     "output_type": "display_data"
    },
    {
     "name": "stdout",
     "output_type": "stream",
     "text": [
      "Solution #1:\n"
     ]
    },
    {
     "data": {
      "text/html": [
       "<table class=\"inner\"><tr><td>T</td><td>H</td><td>I</td><td>S</td><td>L</td><td bgcolor=\"#00FF11\"><b>I</b></td><td bgcolor=\"#00FF11\"><b>N</b></td></tr><tr><td></td><td></td><td></td><td></td><td></td><td>|</td><td>|</td></tr><tr><td>-</td><td>-</td><td>-</td><td>-</td><td>-</td><td bgcolor=\"#00FF11\"><b>I</b></td><td bgcolor=\"#00FF11\"><b>S</b></td></tr></table>"
      ],
      "text/plain": [
       "<IPython.core.display.HTML object>"
      ]
     },
     "metadata": {},
     "output_type": "display_data"
    }
   ],
   "source": [
    "x = 'THISLINE'\n",
    "y = 'ISALIGNED'\n",
    "k = 3\n",
    "local_count = 2 # How many local solution we want\n",
    "\n",
    "# True to disable rendering of table (can solve lag issues)\n",
    "large_matrice = False\n",
    "\n",
    "filename = 'BLOSUM62'\n",
    "q = parse_ranking_matrix(filename)\n",
    "\n",
    "# Use same values for both of those variables to have a linear gap penalty\n",
    "i_gap_penalty = -4\n",
    "e_gap_penalty = -4\n",
    "\n",
    "init_data_structures()\n",
    "\n",
    "for _ in range(local_count):\n",
    "    reset_optimal()\n",
    "    compute_dp_matrix(local_alignement=True)\n",
    "    \n",
    "    l_solutions = find_k_solutions(k, local_alignement=True)\n",
    "    \n",
    "    solution = l_solutions[0]\n",
    "    \n",
    "    for i, j in solution:\n",
    "        to_zero[i][j] = True"
   ]
  },
  {
   "cell_type": "markdown",
   "metadata": {
    "deletable": true,
    "editable": true
   },
   "source": [
    "## Results"
   ]
  },
  {
   "cell_type": "code",
   "execution_count": 66,
   "metadata": {
    "collapsed": false,
    "deletable": true,
    "editable": true
   },
   "outputs": [
    {
     "name": "stdout",
     "output_type": "stream",
     "text": [
      "Test #1: x: VPLPAGWEMAKTSSGQRYFLNHIDQTTTWQDPRK, y: SPLPPGWEERQDILGRTYYVNHESRRTQWKRPTP\n",
      "Solution #1:\n"
     ]
    },
    {
     "data": {
      "text/html": [
       "<table class=\"inner\"><tr><td bgcolor=\"#00FF11\"><b>V</b></td><td bgcolor=\"#00FF11\"><b>P</b></td><td bgcolor=\"#00FF11\"><b>L</b></td><td bgcolor=\"#00FF11\"><b>P</b></td><td bgcolor=\"#00FF11\"><b>A</b></td><td bgcolor=\"#00FF11\"><b>G</b></td><td bgcolor=\"#00FF11\"><b>W</b></td><td bgcolor=\"#00FF11\"><b>E</b></td><td bgcolor=\"#00FF11\"><b>M</b></td><td bgcolor=\"#00FF11\"><b>A</b></td><td bgcolor=\"#00FF11\"><b>K</b></td><td bgcolor=\"#00FF11\"><b>T</b></td><td bgcolor=\"#00FF11\"><b>S</b></td><td bgcolor=\"#00FF11\"><b>S</b></td><td bgcolor=\"#00FF11\"><b>G</b></td><td bgcolor=\"#00FF11\"><b>Q</b></td><td bgcolor=\"#00FF11\"><b>R</b></td><td bgcolor=\"#00FF11\"><b>Y</b></td><td bgcolor=\"#00FF11\"><b>F</b></td><td bgcolor=\"#00FF11\"><b>L</b></td><td bgcolor=\"#00FF11\"><b>N</b></td><td bgcolor=\"#00FF11\"><b>H</b></td><td bgcolor=\"#00FF11\"><b>I</b></td><td bgcolor=\"#00FF11\"><b>D</b></td><td bgcolor=\"#00FF11\"><b>Q</b></td><td bgcolor=\"#00FF11\"><b>T</b></td><td bgcolor=\"#00FF11\"><b>T</b></td><td bgcolor=\"#00FF11\"><b>T</b></td><td bgcolor=\"#00FF11\"><b>W</b></td><td bgcolor=\"#00FF11\"><b>Q</b></td><td bgcolor=\"#00FF11\"><b>D</b></td><td bgcolor=\"#00FF11\"><b>P</b></td><td bgcolor=\"#00FF11\"><b>R</b></td><td bgcolor=\"#00FF11\"><b>K</b></td></tr><tr><td>|</td><td>|</td><td>|</td><td>|</td><td>|</td><td>|</td><td>|</td><td>|</td><td>|</td><td>|</td><td>|</td><td>|</td><td>|</td><td>|</td><td>|</td><td>|</td><td>|</td><td>|</td><td>|</td><td>|</td><td>|</td><td>|</td><td>|</td><td>|</td><td>|</td><td>|</td><td>|</td><td>|</td><td>|</td><td>|</td><td>|</td><td>|</td><td>|</td><td>|</td></tr><tr><td bgcolor=\"#00FF11\"><b>S</b></td><td bgcolor=\"#00FF11\"><b>P</b></td><td bgcolor=\"#00FF11\"><b>L</b></td><td bgcolor=\"#00FF11\"><b>P</b></td><td bgcolor=\"#00FF11\"><b>P</b></td><td bgcolor=\"#00FF11\"><b>G</b></td><td bgcolor=\"#00FF11\"><b>W</b></td><td bgcolor=\"#00FF11\"><b>E</b></td><td bgcolor=\"#00FF11\"><b>E</b></td><td bgcolor=\"#00FF11\"><b>R</b></td><td bgcolor=\"#00FF11\"><b>Q</b></td><td bgcolor=\"#00FF11\"><b>D</b></td><td bgcolor=\"#00FF11\"><b>I</b></td><td bgcolor=\"#00FF11\"><b>L</b></td><td bgcolor=\"#00FF11\"><b>G</b></td><td bgcolor=\"#00FF11\"><b>R</b></td><td bgcolor=\"#00FF11\"><b>T</b></td><td bgcolor=\"#00FF11\"><b>Y</b></td><td bgcolor=\"#00FF11\"><b>Y</b></td><td bgcolor=\"#00FF11\"><b>V</b></td><td bgcolor=\"#00FF11\"><b>N</b></td><td bgcolor=\"#00FF11\"><b>H</b></td><td bgcolor=\"#00FF11\"><b>E</b></td><td bgcolor=\"#00FF11\"><b>S</b></td><td bgcolor=\"#00FF11\"><b>R</b></td><td bgcolor=\"#00FF11\"><b>R</b></td><td bgcolor=\"#00FF11\"><b>T</b></td><td bgcolor=\"#00FF11\"><b>Q</b></td><td bgcolor=\"#00FF11\"><b>W</b></td><td bgcolor=\"#00FF11\"><b>K</b></td><td bgcolor=\"#00FF11\"><b>R</b></td><td bgcolor=\"#00FF11\"><b>P</b></td><td bgcolor=\"#00FF11\"><b>T</b></td><td bgcolor=\"#00FF11\"><b>P</b></td></tr></table>"
      ],
      "text/plain": [
       "<IPython.core.display.HTML object>"
      ]
     },
     "metadata": {},
     "output_type": "display_data"
    },
    {
     "name": "stdout",
     "output_type": "stream",
     "text": [
      "Test #2: x: VPLPAGWEMAKTSSGQRYFLNHIDQTTTWQDPRK, y: GPLPPGWEERTHTDGRIFYINHNIKRTQWEDPRL\n",
      "Solution #1:\n"
     ]
    },
    {
     "data": {
      "text/html": [
       "<table class=\"inner\"><tr><td bgcolor=\"#00FF11\"><b>V</b></td><td bgcolor=\"#00FF11\"><b>P</b></td><td bgcolor=\"#00FF11\"><b>L</b></td><td bgcolor=\"#00FF11\"><b>P</b></td><td bgcolor=\"#00FF11\"><b>A</b></td><td bgcolor=\"#00FF11\"><b>G</b></td><td bgcolor=\"#00FF11\"><b>W</b></td><td bgcolor=\"#00FF11\"><b>E</b></td><td bgcolor=\"#00FF11\"><b>M</b></td><td bgcolor=\"#00FF11\"><b>A</b></td><td bgcolor=\"#00FF11\"><b>K</b></td><td bgcolor=\"#00FF11\"><b>T</b></td><td bgcolor=\"#00FF11\"><b>S</b></td><td bgcolor=\"#00FF11\"><b>S</b></td><td bgcolor=\"#00FF11\"><b>G</b></td><td bgcolor=\"#00FF11\"><b>Q</b></td><td bgcolor=\"#00FF11\"><b>R</b></td><td bgcolor=\"#00FF11\"><b>Y</b></td><td bgcolor=\"#00FF11\"><b>F</b></td><td bgcolor=\"#00FF11\"><b>L</b></td><td bgcolor=\"#00FF11\"><b>N</b></td><td bgcolor=\"#00FF11\"><b>H</b></td><td bgcolor=\"#00FF11\"><b>I</b></td><td bgcolor=\"#00FF11\"><b>D</b></td><td bgcolor=\"#00FF11\"><b>Q</b></td><td bgcolor=\"#00FF11\"><b>T</b></td><td bgcolor=\"#00FF11\"><b>T</b></td><td bgcolor=\"#00FF11\"><b>T</b></td><td bgcolor=\"#00FF11\"><b>W</b></td><td bgcolor=\"#00FF11\"><b>Q</b></td><td bgcolor=\"#00FF11\"><b>D</b></td><td bgcolor=\"#00FF11\"><b>P</b></td><td bgcolor=\"#00FF11\"><b>R</b></td><td bgcolor=\"#00FF11\"><b>K</b></td></tr><tr><td>|</td><td>|</td><td>|</td><td>|</td><td>|</td><td>|</td><td>|</td><td>|</td><td>|</td><td>|</td><td>|</td><td>|</td><td>|</td><td>|</td><td>|</td><td>|</td><td>|</td><td>|</td><td>|</td><td>|</td><td>|</td><td>|</td><td>|</td><td>|</td><td>|</td><td>|</td><td>|</td><td>|</td><td>|</td><td>|</td><td>|</td><td>|</td><td>|</td><td>|</td></tr><tr><td bgcolor=\"#00FF11\"><b>G</b></td><td bgcolor=\"#00FF11\"><b>P</b></td><td bgcolor=\"#00FF11\"><b>L</b></td><td bgcolor=\"#00FF11\"><b>P</b></td><td bgcolor=\"#00FF11\"><b>P</b></td><td bgcolor=\"#00FF11\"><b>G</b></td><td bgcolor=\"#00FF11\"><b>W</b></td><td bgcolor=\"#00FF11\"><b>E</b></td><td bgcolor=\"#00FF11\"><b>E</b></td><td bgcolor=\"#00FF11\"><b>R</b></td><td bgcolor=\"#00FF11\"><b>T</b></td><td bgcolor=\"#00FF11\"><b>H</b></td><td bgcolor=\"#00FF11\"><b>T</b></td><td bgcolor=\"#00FF11\"><b>D</b></td><td bgcolor=\"#00FF11\"><b>G</b></td><td bgcolor=\"#00FF11\"><b>R</b></td><td bgcolor=\"#00FF11\"><b>I</b></td><td bgcolor=\"#00FF11\"><b>F</b></td><td bgcolor=\"#00FF11\"><b>Y</b></td><td bgcolor=\"#00FF11\"><b>I</b></td><td bgcolor=\"#00FF11\"><b>N</b></td><td bgcolor=\"#00FF11\"><b>H</b></td><td bgcolor=\"#00FF11\"><b>N</b></td><td bgcolor=\"#00FF11\"><b>I</b></td><td bgcolor=\"#00FF11\"><b>K</b></td><td bgcolor=\"#00FF11\"><b>R</b></td><td bgcolor=\"#00FF11\"><b>T</b></td><td bgcolor=\"#00FF11\"><b>Q</b></td><td bgcolor=\"#00FF11\"><b>W</b></td><td bgcolor=\"#00FF11\"><b>E</b></td><td bgcolor=\"#00FF11\"><b>D</b></td><td bgcolor=\"#00FF11\"><b>P</b></td><td bgcolor=\"#00FF11\"><b>R</b></td><td bgcolor=\"#00FF11\"><b>L</b></td></tr></table>"
      ],
      "text/plain": [
       "<IPython.core.display.HTML object>"
      ]
     },
     "metadata": {},
     "output_type": "display_data"
    },
    {
     "name": "stdout",
     "output_type": "stream",
     "text": [
      "Test #3: x: VPLPAGWEMAKTSSGQRYFLNHIDQTTTWQDPRK, y: EKLPPGWEKRMSRSSGRVYYFNHITNASQWERPSG\n",
      "Solution #1:\n"
     ]
    },
    {
     "data": {
      "text/html": [
       "<table class=\"inner\"><tr><td bgcolor=\"#00FF11\"><b>V</b></td><td bgcolor=\"#00FF11\"><b>P</b></td><td bgcolor=\"#00FF11\"><b>L</b></td><td bgcolor=\"#00FF11\"><b>P</b></td><td bgcolor=\"#00FF11\"><b>A</b></td><td bgcolor=\"#00FF11\"><b>G</b></td><td bgcolor=\"#00FF11\"><b>W</b></td><td bgcolor=\"#00FF11\"><b>E</b></td><td bgcolor=\"#00FF11\"><b>M</b></td><td bgcolor=\"#00FF11\"><b>A</b></td><td bgcolor=\"#00FF11\"><b>K</b></td><td bgcolor=\"#00FF11\"><b>T</b></td><td>-</td><td bgcolor=\"#00FF11\"><b>S</b></td><td bgcolor=\"#00FF11\"><b>S</b></td><td bgcolor=\"#00FF11\"><b>G</b></td><td bgcolor=\"#00FF11\"><b>Q</b></td><td bgcolor=\"#00FF11\"><b>R</b></td><td bgcolor=\"#00FF11\"><b>Y</b></td><td bgcolor=\"#00FF11\"><b>F</b></td><td bgcolor=\"#00FF11\"><b>L</b></td><td bgcolor=\"#00FF11\"><b>N</b></td><td bgcolor=\"#00FF11\"><b>H</b></td><td bgcolor=\"#00FF11\"><b>I</b></td><td bgcolor=\"#00FF11\"><b>D</b></td><td bgcolor=\"#00FF11\"><b>Q</b></td><td bgcolor=\"#00FF11\"><b>T</b></td><td bgcolor=\"#00FF11\"><b>T</b></td><td bgcolor=\"#00FF11\"><b>T</b></td><td bgcolor=\"#00FF11\"><b>W</b></td><td bgcolor=\"#00FF11\"><b>Q</b></td><td bgcolor=\"#00FF11\"><b>D</b></td><td bgcolor=\"#00FF11\"><b>P</b></td><td bgcolor=\"#00FF11\"><b>R</b></td><td bgcolor=\"#00FF11\"><b>K</b></td></tr><tr><td>|</td><td>|</td><td>|</td><td>|</td><td>|</td><td>|</td><td>|</td><td>|</td><td>|</td><td>|</td><td>|</td><td>|</td><td></td><td>|</td><td>|</td><td>|</td><td>|</td><td>|</td><td>|</td><td>|</td><td>|</td><td>|</td><td>|</td><td>|</td><td>|</td><td>|</td><td>|</td><td>|</td><td>|</td><td>|</td><td>|</td><td>|</td><td>|</td><td>|</td><td>|</td></tr><tr><td bgcolor=\"#00FF11\"><b>E</b></td><td bgcolor=\"#00FF11\"><b>K</b></td><td bgcolor=\"#00FF11\"><b>L</b></td><td bgcolor=\"#00FF11\"><b>P</b></td><td bgcolor=\"#00FF11\"><b>P</b></td><td bgcolor=\"#00FF11\"><b>G</b></td><td bgcolor=\"#00FF11\"><b>W</b></td><td bgcolor=\"#00FF11\"><b>E</b></td><td bgcolor=\"#00FF11\"><b>K</b></td><td bgcolor=\"#00FF11\"><b>R</b></td><td bgcolor=\"#00FF11\"><b>M</b></td><td bgcolor=\"#00FF11\"><b>S</b></td><td>R</td><td bgcolor=\"#00FF11\"><b>S</b></td><td bgcolor=\"#00FF11\"><b>S</b></td><td bgcolor=\"#00FF11\"><b>G</b></td><td bgcolor=\"#00FF11\"><b>R</b></td><td bgcolor=\"#00FF11\"><b>V</b></td><td bgcolor=\"#00FF11\"><b>Y</b></td><td bgcolor=\"#00FF11\"><b>Y</b></td><td bgcolor=\"#00FF11\"><b>F</b></td><td bgcolor=\"#00FF11\"><b>N</b></td><td bgcolor=\"#00FF11\"><b>H</b></td><td bgcolor=\"#00FF11\"><b>I</b></td><td bgcolor=\"#00FF11\"><b>T</b></td><td bgcolor=\"#00FF11\"><b>N</b></td><td bgcolor=\"#00FF11\"><b>A</b></td><td bgcolor=\"#00FF11\"><b>S</b></td><td bgcolor=\"#00FF11\"><b>Q</b></td><td bgcolor=\"#00FF11\"><b>W</b></td><td bgcolor=\"#00FF11\"><b>E</b></td><td bgcolor=\"#00FF11\"><b>R</b></td><td bgcolor=\"#00FF11\"><b>P</b></td><td bgcolor=\"#00FF11\"><b>S</b></td><td bgcolor=\"#00FF11\"><b>G</b></td></tr></table>"
      ],
      "text/plain": [
       "<IPython.core.display.HTML object>"
      ]
     },
     "metadata": {},
     "output_type": "display_data"
    },
    {
     "name": "stdout",
     "output_type": "stream",
     "text": [
      "Test #4: x: VPLPAGWEMAKTSSGQRYFLNHIDQTTTWQDPRK, y: SGAKSMWTEHKSPDGRTYYYNTETKQSTWEKPDD\n",
      "Solution #1:\n"
     ]
    },
    {
     "data": {
      "text/html": [
       "<table class=\"inner\"><tr><td bgcolor=\"#00FF11\"><b>V</b></td><td bgcolor=\"#00FF11\"><b>P</b></td><td bgcolor=\"#00FF11\"><b>L</b></td><td bgcolor=\"#00FF11\"><b>P</b></td><td bgcolor=\"#00FF11\"><b>A</b></td><td bgcolor=\"#00FF11\"><b>G</b></td><td bgcolor=\"#00FF11\"><b>W</b></td><td bgcolor=\"#00FF11\"><b>E</b></td><td bgcolor=\"#00FF11\"><b>M</b></td><td bgcolor=\"#00FF11\"><b>A</b></td><td bgcolor=\"#00FF11\"><b>K</b></td><td bgcolor=\"#00FF11\"><b>T</b></td><td bgcolor=\"#00FF11\"><b>S</b></td><td bgcolor=\"#00FF11\"><b>S</b></td><td bgcolor=\"#00FF11\"><b>G</b></td><td bgcolor=\"#00FF11\"><b>Q</b></td><td bgcolor=\"#00FF11\"><b>R</b></td><td bgcolor=\"#00FF11\"><b>Y</b></td><td bgcolor=\"#00FF11\"><b>F</b></td><td bgcolor=\"#00FF11\"><b>L</b></td><td bgcolor=\"#00FF11\"><b>N</b></td><td bgcolor=\"#00FF11\"><b>H</b></td><td bgcolor=\"#00FF11\"><b>I</b></td><td bgcolor=\"#00FF11\"><b>D</b></td><td bgcolor=\"#00FF11\"><b>Q</b></td><td bgcolor=\"#00FF11\"><b>T</b></td><td bgcolor=\"#00FF11\"><b>T</b></td><td bgcolor=\"#00FF11\"><b>T</b></td><td bgcolor=\"#00FF11\"><b>W</b></td><td bgcolor=\"#00FF11\"><b>Q</b></td><td bgcolor=\"#00FF11\"><b>D</b></td><td bgcolor=\"#00FF11\"><b>P</b></td><td bgcolor=\"#00FF11\"><b>R</b></td><td bgcolor=\"#00FF11\"><b>K</b></td></tr><tr><td>|</td><td>|</td><td>|</td><td>|</td><td>|</td><td>|</td><td>|</td><td>|</td><td>|</td><td>|</td><td>|</td><td>|</td><td>|</td><td>|</td><td>|</td><td>|</td><td>|</td><td>|</td><td>|</td><td>|</td><td>|</td><td>|</td><td>|</td><td>|</td><td>|</td><td>|</td><td>|</td><td>|</td><td>|</td><td>|</td><td>|</td><td>|</td><td>|</td><td>|</td></tr><tr><td bgcolor=\"#00FF11\"><b>S</b></td><td bgcolor=\"#00FF11\"><b>G</b></td><td bgcolor=\"#00FF11\"><b>A</b></td><td bgcolor=\"#00FF11\"><b>K</b></td><td bgcolor=\"#00FF11\"><b>S</b></td><td bgcolor=\"#00FF11\"><b>M</b></td><td bgcolor=\"#00FF11\"><b>W</b></td><td bgcolor=\"#00FF11\"><b>T</b></td><td bgcolor=\"#00FF11\"><b>E</b></td><td bgcolor=\"#00FF11\"><b>H</b></td><td bgcolor=\"#00FF11\"><b>K</b></td><td bgcolor=\"#00FF11\"><b>S</b></td><td bgcolor=\"#00FF11\"><b>P</b></td><td bgcolor=\"#00FF11\"><b>D</b></td><td bgcolor=\"#00FF11\"><b>G</b></td><td bgcolor=\"#00FF11\"><b>R</b></td><td bgcolor=\"#00FF11\"><b>T</b></td><td bgcolor=\"#00FF11\"><b>Y</b></td><td bgcolor=\"#00FF11\"><b>Y</b></td><td bgcolor=\"#00FF11\"><b>Y</b></td><td bgcolor=\"#00FF11\"><b>N</b></td><td bgcolor=\"#00FF11\"><b>T</b></td><td bgcolor=\"#00FF11\"><b>E</b></td><td bgcolor=\"#00FF11\"><b>T</b></td><td bgcolor=\"#00FF11\"><b>K</b></td><td bgcolor=\"#00FF11\"><b>Q</b></td><td bgcolor=\"#00FF11\"><b>S</b></td><td bgcolor=\"#00FF11\"><b>T</b></td><td bgcolor=\"#00FF11\"><b>W</b></td><td bgcolor=\"#00FF11\"><b>E</b></td><td bgcolor=\"#00FF11\"><b>K</b></td><td bgcolor=\"#00FF11\"><b>P</b></td><td bgcolor=\"#00FF11\"><b>D</b></td><td bgcolor=\"#00FF11\"><b>D</b></td></tr></table>"
      ],
      "text/plain": [
       "<IPython.core.display.HTML object>"
      ]
     },
     "metadata": {},
     "output_type": "display_data"
    },
    {
     "name": "stdout",
     "output_type": "stream",
     "text": [
      "Test #5: x: VPLPAGWEMAKTSSGQRYFLNHIDQTTTWQDPRK, y: LLSKCPWKEYKSDSGKPYYYNSQTKESRWAKPKE\n",
      "Solution #1:\n"
     ]
    },
    {
     "data": {
      "text/html": [
       "<table class=\"inner\"><tr><td bgcolor=\"#00FF11\"><b>V</b></td><td bgcolor=\"#00FF11\"><b>P</b></td><td bgcolor=\"#00FF11\"><b>L</b></td><td bgcolor=\"#00FF11\"><b>P</b></td><td bgcolor=\"#00FF11\"><b>A</b></td><td bgcolor=\"#00FF11\"><b>G</b></td><td bgcolor=\"#00FF11\"><b>W</b></td><td bgcolor=\"#00FF11\"><b>E</b></td><td bgcolor=\"#00FF11\"><b>M</b></td><td bgcolor=\"#00FF11\"><b>A</b></td><td bgcolor=\"#00FF11\"><b>K</b></td><td bgcolor=\"#00FF11\"><b>T</b></td><td bgcolor=\"#00FF11\"><b>S</b></td><td bgcolor=\"#00FF11\"><b>S</b></td><td bgcolor=\"#00FF11\"><b>G</b></td><td bgcolor=\"#00FF11\"><b>Q</b></td><td bgcolor=\"#00FF11\"><b>R</b></td><td bgcolor=\"#00FF11\"><b>Y</b></td><td bgcolor=\"#00FF11\"><b>F</b></td><td bgcolor=\"#00FF11\"><b>L</b></td><td bgcolor=\"#00FF11\"><b>N</b></td><td bgcolor=\"#00FF11\"><b>H</b></td><td bgcolor=\"#00FF11\"><b>I</b></td><td bgcolor=\"#00FF11\"><b>D</b></td><td bgcolor=\"#00FF11\"><b>Q</b></td><td bgcolor=\"#00FF11\"><b>T</b></td><td bgcolor=\"#00FF11\"><b>T</b></td><td bgcolor=\"#00FF11\"><b>T</b></td><td bgcolor=\"#00FF11\"><b>W</b></td><td bgcolor=\"#00FF11\"><b>Q</b></td><td bgcolor=\"#00FF11\"><b>D</b></td><td bgcolor=\"#00FF11\"><b>P</b></td><td bgcolor=\"#00FF11\"><b>R</b></td><td bgcolor=\"#00FF11\"><b>K</b></td></tr><tr><td>|</td><td>|</td><td>|</td><td>|</td><td>|</td><td>|</td><td>|</td><td>|</td><td>|</td><td>|</td><td>|</td><td>|</td><td>|</td><td>|</td><td>|</td><td>|</td><td>|</td><td>|</td><td>|</td><td>|</td><td>|</td><td>|</td><td>|</td><td>|</td><td>|</td><td>|</td><td>|</td><td>|</td><td>|</td><td>|</td><td>|</td><td>|</td><td>|</td><td>|</td></tr><tr><td bgcolor=\"#00FF11\"><b>L</b></td><td bgcolor=\"#00FF11\"><b>L</b></td><td bgcolor=\"#00FF11\"><b>S</b></td><td bgcolor=\"#00FF11\"><b>K</b></td><td bgcolor=\"#00FF11\"><b>C</b></td><td bgcolor=\"#00FF11\"><b>P</b></td><td bgcolor=\"#00FF11\"><b>W</b></td><td bgcolor=\"#00FF11\"><b>K</b></td><td bgcolor=\"#00FF11\"><b>E</b></td><td bgcolor=\"#00FF11\"><b>Y</b></td><td bgcolor=\"#00FF11\"><b>K</b></td><td bgcolor=\"#00FF11\"><b>S</b></td><td bgcolor=\"#00FF11\"><b>D</b></td><td bgcolor=\"#00FF11\"><b>S</b></td><td bgcolor=\"#00FF11\"><b>G</b></td><td bgcolor=\"#00FF11\"><b>K</b></td><td bgcolor=\"#00FF11\"><b>P</b></td><td bgcolor=\"#00FF11\"><b>Y</b></td><td bgcolor=\"#00FF11\"><b>Y</b></td><td bgcolor=\"#00FF11\"><b>Y</b></td><td bgcolor=\"#00FF11\"><b>N</b></td><td bgcolor=\"#00FF11\"><b>S</b></td><td bgcolor=\"#00FF11\"><b>Q</b></td><td bgcolor=\"#00FF11\"><b>T</b></td><td bgcolor=\"#00FF11\"><b>K</b></td><td bgcolor=\"#00FF11\"><b>E</b></td><td bgcolor=\"#00FF11\"><b>S</b></td><td bgcolor=\"#00FF11\"><b>R</b></td><td bgcolor=\"#00FF11\"><b>W</b></td><td bgcolor=\"#00FF11\"><b>A</b></td><td bgcolor=\"#00FF11\"><b>K</b></td><td bgcolor=\"#00FF11\"><b>P</b></td><td bgcolor=\"#00FF11\"><b>K</b></td><td bgcolor=\"#00FF11\"><b>E</b></td></tr></table>"
      ],
      "text/plain": [
       "<IPython.core.display.HTML object>"
      ]
     },
     "metadata": {},
     "output_type": "display_data"
    },
    {
     "name": "stdout",
     "output_type": "stream",
     "text": [
      "Test #6: x: SPLPPGWEERQDILGRTYYVNHESRRTQWKRPTP, y: GPLPPGWEERTHTDGRIFYINHNIKRTQWEDPRL\n",
      "Solution #1:\n"
     ]
    },
    {
     "data": {
      "text/html": [
       "<table class=\"inner\"><tr><td bgcolor=\"#00FF11\"><b>S</b></td><td bgcolor=\"#00FF11\"><b>P</b></td><td bgcolor=\"#00FF11\"><b>L</b></td><td bgcolor=\"#00FF11\"><b>P</b></td><td bgcolor=\"#00FF11\"><b>P</b></td><td bgcolor=\"#00FF11\"><b>G</b></td><td bgcolor=\"#00FF11\"><b>W</b></td><td bgcolor=\"#00FF11\"><b>E</b></td><td bgcolor=\"#00FF11\"><b>E</b></td><td bgcolor=\"#00FF11\"><b>R</b></td><td bgcolor=\"#00FF11\"><b>Q</b></td><td bgcolor=\"#00FF11\"><b>D</b></td><td bgcolor=\"#00FF11\"><b>I</b></td><td bgcolor=\"#00FF11\"><b>L</b></td><td bgcolor=\"#00FF11\"><b>G</b></td><td bgcolor=\"#00FF11\"><b>R</b></td><td bgcolor=\"#00FF11\"><b>T</b></td><td bgcolor=\"#00FF11\"><b>Y</b></td><td bgcolor=\"#00FF11\"><b>Y</b></td><td bgcolor=\"#00FF11\"><b>V</b></td><td bgcolor=\"#00FF11\"><b>N</b></td><td bgcolor=\"#00FF11\"><b>H</b></td><td bgcolor=\"#00FF11\"><b>E</b></td><td bgcolor=\"#00FF11\"><b>S</b></td><td bgcolor=\"#00FF11\"><b>R</b></td><td bgcolor=\"#00FF11\"><b>R</b></td><td bgcolor=\"#00FF11\"><b>T</b></td><td bgcolor=\"#00FF11\"><b>Q</b></td><td bgcolor=\"#00FF11\"><b>W</b></td><td bgcolor=\"#00FF11\"><b>K</b></td><td bgcolor=\"#00FF11\"><b>R</b></td><td bgcolor=\"#00FF11\"><b>P</b></td><td bgcolor=\"#00FF11\"><b>T</b></td><td bgcolor=\"#00FF11\"><b>P</b></td></tr><tr><td>|</td><td>|</td><td>|</td><td>|</td><td>|</td><td>|</td><td>|</td><td>|</td><td>|</td><td>|</td><td>|</td><td>|</td><td>|</td><td>|</td><td>|</td><td>|</td><td>|</td><td>|</td><td>|</td><td>|</td><td>|</td><td>|</td><td>|</td><td>|</td><td>|</td><td>|</td><td>|</td><td>|</td><td>|</td><td>|</td><td>|</td><td>|</td><td>|</td><td>|</td></tr><tr><td bgcolor=\"#00FF11\"><b>G</b></td><td bgcolor=\"#00FF11\"><b>P</b></td><td bgcolor=\"#00FF11\"><b>L</b></td><td bgcolor=\"#00FF11\"><b>P</b></td><td bgcolor=\"#00FF11\"><b>P</b></td><td bgcolor=\"#00FF11\"><b>G</b></td><td bgcolor=\"#00FF11\"><b>W</b></td><td bgcolor=\"#00FF11\"><b>E</b></td><td bgcolor=\"#00FF11\"><b>E</b></td><td bgcolor=\"#00FF11\"><b>R</b></td><td bgcolor=\"#00FF11\"><b>T</b></td><td bgcolor=\"#00FF11\"><b>H</b></td><td bgcolor=\"#00FF11\"><b>T</b></td><td bgcolor=\"#00FF11\"><b>D</b></td><td bgcolor=\"#00FF11\"><b>G</b></td><td bgcolor=\"#00FF11\"><b>R</b></td><td bgcolor=\"#00FF11\"><b>I</b></td><td bgcolor=\"#00FF11\"><b>F</b></td><td bgcolor=\"#00FF11\"><b>Y</b></td><td bgcolor=\"#00FF11\"><b>I</b></td><td bgcolor=\"#00FF11\"><b>N</b></td><td bgcolor=\"#00FF11\"><b>H</b></td><td bgcolor=\"#00FF11\"><b>N</b></td><td bgcolor=\"#00FF11\"><b>I</b></td><td bgcolor=\"#00FF11\"><b>K</b></td><td bgcolor=\"#00FF11\"><b>R</b></td><td bgcolor=\"#00FF11\"><b>T</b></td><td bgcolor=\"#00FF11\"><b>Q</b></td><td bgcolor=\"#00FF11\"><b>W</b></td><td bgcolor=\"#00FF11\"><b>E</b></td><td bgcolor=\"#00FF11\"><b>D</b></td><td bgcolor=\"#00FF11\"><b>P</b></td><td bgcolor=\"#00FF11\"><b>R</b></td><td bgcolor=\"#00FF11\"><b>L</b></td></tr></table>"
      ],
      "text/plain": [
       "<IPython.core.display.HTML object>"
      ]
     },
     "metadata": {},
     "output_type": "display_data"
    },
    {
     "name": "stdout",
     "output_type": "stream",
     "text": [
      "Test #7: x: SPLPPGWEERQDILGRTYYVNHESRRTQWKRPTP, y: EKLPPGWEKRMSRSSGRVYYFNHITNASQWERPSG\n",
      "Solution #1:\n"
     ]
    },
    {
     "data": {
      "text/html": [
       "<table class=\"inner\"><tr><td bgcolor=\"#00FF11\"><b>S</b></td><td bgcolor=\"#00FF11\"><b>P</b></td><td bgcolor=\"#00FF11\"><b>L</b></td><td bgcolor=\"#00FF11\"><b>P</b></td><td bgcolor=\"#00FF11\"><b>P</b></td><td bgcolor=\"#00FF11\"><b>G</b></td><td bgcolor=\"#00FF11\"><b>W</b></td><td bgcolor=\"#00FF11\"><b>E</b></td><td bgcolor=\"#00FF11\"><b>E</b></td><td bgcolor=\"#00FF11\"><b>R</b></td><td bgcolor=\"#00FF11\"><b>Q</b></td><td bgcolor=\"#00FF11\"><b>D</b></td><td>-</td><td bgcolor=\"#00FF11\"><b>I</b></td><td bgcolor=\"#00FF11\"><b>L</b></td><td bgcolor=\"#00FF11\"><b>G</b></td><td bgcolor=\"#00FF11\"><b>R</b></td><td bgcolor=\"#00FF11\"><b>T</b></td><td bgcolor=\"#00FF11\"><b>Y</b></td><td bgcolor=\"#00FF11\"><b>Y</b></td><td bgcolor=\"#00FF11\"><b>V</b></td><td bgcolor=\"#00FF11\"><b>N</b></td><td bgcolor=\"#00FF11\"><b>H</b></td><td bgcolor=\"#00FF11\"><b>E</b></td><td bgcolor=\"#00FF11\"><b>S</b></td><td bgcolor=\"#00FF11\"><b>R</b></td><td bgcolor=\"#00FF11\"><b>R</b></td><td bgcolor=\"#00FF11\"><b>T</b></td><td bgcolor=\"#00FF11\"><b>Q</b></td><td bgcolor=\"#00FF11\"><b>W</b></td><td bgcolor=\"#00FF11\"><b>K</b></td><td bgcolor=\"#00FF11\"><b>R</b></td><td bgcolor=\"#00FF11\"><b>P</b></td><td bgcolor=\"#00FF11\"><b>T</b></td><td bgcolor=\"#00FF11\"><b>P</b></td></tr><tr><td>|</td><td>|</td><td>|</td><td>|</td><td>|</td><td>|</td><td>|</td><td>|</td><td>|</td><td>|</td><td>|</td><td>|</td><td></td><td>|</td><td>|</td><td>|</td><td>|</td><td>|</td><td>|</td><td>|</td><td>|</td><td>|</td><td>|</td><td>|</td><td>|</td><td>|</td><td>|</td><td>|</td><td>|</td><td>|</td><td>|</td><td>|</td><td>|</td><td>|</td><td>|</td></tr><tr><td bgcolor=\"#00FF11\"><b>E</b></td><td bgcolor=\"#00FF11\"><b>K</b></td><td bgcolor=\"#00FF11\"><b>L</b></td><td bgcolor=\"#00FF11\"><b>P</b></td><td bgcolor=\"#00FF11\"><b>P</b></td><td bgcolor=\"#00FF11\"><b>G</b></td><td bgcolor=\"#00FF11\"><b>W</b></td><td bgcolor=\"#00FF11\"><b>E</b></td><td bgcolor=\"#00FF11\"><b>K</b></td><td bgcolor=\"#00FF11\"><b>R</b></td><td bgcolor=\"#00FF11\"><b>M</b></td><td bgcolor=\"#00FF11\"><b>S</b></td><td>R</td><td bgcolor=\"#00FF11\"><b>S</b></td><td bgcolor=\"#00FF11\"><b>S</b></td><td bgcolor=\"#00FF11\"><b>G</b></td><td bgcolor=\"#00FF11\"><b>R</b></td><td bgcolor=\"#00FF11\"><b>V</b></td><td bgcolor=\"#00FF11\"><b>Y</b></td><td bgcolor=\"#00FF11\"><b>Y</b></td><td bgcolor=\"#00FF11\"><b>F</b></td><td bgcolor=\"#00FF11\"><b>N</b></td><td bgcolor=\"#00FF11\"><b>H</b></td><td bgcolor=\"#00FF11\"><b>I</b></td><td bgcolor=\"#00FF11\"><b>T</b></td><td bgcolor=\"#00FF11\"><b>N</b></td><td bgcolor=\"#00FF11\"><b>A</b></td><td bgcolor=\"#00FF11\"><b>S</b></td><td bgcolor=\"#00FF11\"><b>Q</b></td><td bgcolor=\"#00FF11\"><b>W</b></td><td bgcolor=\"#00FF11\"><b>E</b></td><td bgcolor=\"#00FF11\"><b>R</b></td><td bgcolor=\"#00FF11\"><b>P</b></td><td bgcolor=\"#00FF11\"><b>S</b></td><td bgcolor=\"#00FF11\"><b>G</b></td></tr></table>"
      ],
      "text/plain": [
       "<IPython.core.display.HTML object>"
      ]
     },
     "metadata": {},
     "output_type": "display_data"
    },
    {
     "name": "stdout",
     "output_type": "stream",
     "text": [
      "Test #8: x: SPLPPGWEERQDILGRTYYVNHESRRTQWKRPTP, y: SGAKSMWTEHKSPDGRTYYYNTETKQSTWEKPDD\n",
      "Solution #1:\n"
     ]
    },
    {
     "data": {
      "text/html": [
       "<table class=\"inner\"><tr><td bgcolor=\"#00FF11\"><b>S</b></td><td bgcolor=\"#00FF11\"><b>P</b></td><td bgcolor=\"#00FF11\"><b>L</b></td><td bgcolor=\"#00FF11\"><b>P</b></td><td bgcolor=\"#00FF11\"><b>P</b></td><td bgcolor=\"#00FF11\"><b>G</b></td><td bgcolor=\"#00FF11\"><b>W</b></td><td bgcolor=\"#00FF11\"><b>E</b></td><td bgcolor=\"#00FF11\"><b>E</b></td><td bgcolor=\"#00FF11\"><b>R</b></td><td bgcolor=\"#00FF11\"><b>Q</b></td><td bgcolor=\"#00FF11\"><b>D</b></td><td bgcolor=\"#00FF11\"><b>I</b></td><td bgcolor=\"#00FF11\"><b>L</b></td><td bgcolor=\"#00FF11\"><b>G</b></td><td bgcolor=\"#00FF11\"><b>R</b></td><td bgcolor=\"#00FF11\"><b>T</b></td><td bgcolor=\"#00FF11\"><b>Y</b></td><td bgcolor=\"#00FF11\"><b>Y</b></td><td bgcolor=\"#00FF11\"><b>V</b></td><td bgcolor=\"#00FF11\"><b>N</b></td><td bgcolor=\"#00FF11\"><b>H</b></td><td bgcolor=\"#00FF11\"><b>E</b></td><td bgcolor=\"#00FF11\"><b>S</b></td><td bgcolor=\"#00FF11\"><b>R</b></td><td bgcolor=\"#00FF11\"><b>R</b></td><td bgcolor=\"#00FF11\"><b>T</b></td><td bgcolor=\"#00FF11\"><b>Q</b></td><td bgcolor=\"#00FF11\"><b>W</b></td><td bgcolor=\"#00FF11\"><b>K</b></td><td bgcolor=\"#00FF11\"><b>R</b></td><td bgcolor=\"#00FF11\"><b>P</b></td><td bgcolor=\"#00FF11\"><b>T</b></td><td bgcolor=\"#00FF11\"><b>P</b></td></tr><tr><td>|</td><td>|</td><td>|</td><td>|</td><td>|</td><td>|</td><td>|</td><td>|</td><td>|</td><td>|</td><td>|</td><td>|</td><td>|</td><td>|</td><td>|</td><td>|</td><td>|</td><td>|</td><td>|</td><td>|</td><td>|</td><td>|</td><td>|</td><td>|</td><td>|</td><td>|</td><td>|</td><td>|</td><td>|</td><td>|</td><td>|</td><td>|</td><td>|</td><td>|</td></tr><tr><td bgcolor=\"#00FF11\"><b>S</b></td><td bgcolor=\"#00FF11\"><b>G</b></td><td bgcolor=\"#00FF11\"><b>A</b></td><td bgcolor=\"#00FF11\"><b>K</b></td><td bgcolor=\"#00FF11\"><b>S</b></td><td bgcolor=\"#00FF11\"><b>M</b></td><td bgcolor=\"#00FF11\"><b>W</b></td><td bgcolor=\"#00FF11\"><b>T</b></td><td bgcolor=\"#00FF11\"><b>E</b></td><td bgcolor=\"#00FF11\"><b>H</b></td><td bgcolor=\"#00FF11\"><b>K</b></td><td bgcolor=\"#00FF11\"><b>S</b></td><td bgcolor=\"#00FF11\"><b>P</b></td><td bgcolor=\"#00FF11\"><b>D</b></td><td bgcolor=\"#00FF11\"><b>G</b></td><td bgcolor=\"#00FF11\"><b>R</b></td><td bgcolor=\"#00FF11\"><b>T</b></td><td bgcolor=\"#00FF11\"><b>Y</b></td><td bgcolor=\"#00FF11\"><b>Y</b></td><td bgcolor=\"#00FF11\"><b>Y</b></td><td bgcolor=\"#00FF11\"><b>N</b></td><td bgcolor=\"#00FF11\"><b>T</b></td><td bgcolor=\"#00FF11\"><b>E</b></td><td bgcolor=\"#00FF11\"><b>T</b></td><td bgcolor=\"#00FF11\"><b>K</b></td><td bgcolor=\"#00FF11\"><b>Q</b></td><td bgcolor=\"#00FF11\"><b>S</b></td><td bgcolor=\"#00FF11\"><b>T</b></td><td bgcolor=\"#00FF11\"><b>W</b></td><td bgcolor=\"#00FF11\"><b>E</b></td><td bgcolor=\"#00FF11\"><b>K</b></td><td bgcolor=\"#00FF11\"><b>P</b></td><td bgcolor=\"#00FF11\"><b>D</b></td><td bgcolor=\"#00FF11\"><b>D</b></td></tr></table>"
      ],
      "text/plain": [
       "<IPython.core.display.HTML object>"
      ]
     },
     "metadata": {},
     "output_type": "display_data"
    },
    {
     "name": "stdout",
     "output_type": "stream",
     "text": [
      "Test #9: x: SPLPPGWEERQDILGRTYYVNHESRRTQWKRPTP, y: LLSKCPWKEYKSDSGKPYYYNSQTKESRWAKPKE\n",
      "Solution #1:\n"
     ]
    },
    {
     "data": {
      "text/html": [
       "<table class=\"inner\"><tr><td>-</td><td>-</td><td bgcolor=\"#00FF11\"><b>S</b></td><td bgcolor=\"#00FF11\"><b>P</b></td><td bgcolor=\"#00FF11\"><b>L</b></td><td>P</td><td bgcolor=\"#00FF11\"><b>P</b></td><td>G</td><td bgcolor=\"#00FF11\"><b>W</b></td><td bgcolor=\"#00FF11\"><b>E</b></td><td bgcolor=\"#00FF11\"><b>E</b></td><td bgcolor=\"#00FF11\"><b>R</b></td><td bgcolor=\"#00FF11\"><b>Q</b></td><td bgcolor=\"#00FF11\"><b>D</b></td><td bgcolor=\"#00FF11\"><b>I</b></td><td bgcolor=\"#00FF11\"><b>L</b></td><td bgcolor=\"#00FF11\"><b>G</b></td><td bgcolor=\"#00FF11\"><b>R</b></td><td bgcolor=\"#00FF11\"><b>T</b></td><td bgcolor=\"#00FF11\"><b>Y</b></td><td bgcolor=\"#00FF11\"><b>Y</b></td><td bgcolor=\"#00FF11\"><b>V</b></td><td bgcolor=\"#00FF11\"><b>N</b></td><td bgcolor=\"#00FF11\"><b>H</b></td><td bgcolor=\"#00FF11\"><b>E</b></td><td bgcolor=\"#00FF11\"><b>S</b></td><td bgcolor=\"#00FF11\"><b>R</b></td><td bgcolor=\"#00FF11\"><b>R</b></td><td bgcolor=\"#00FF11\"><b>T</b></td><td bgcolor=\"#00FF11\"><b>Q</b></td><td bgcolor=\"#00FF11\"><b>W</b></td><td bgcolor=\"#00FF11\"><b>K</b></td><td bgcolor=\"#00FF11\"><b>R</b></td><td bgcolor=\"#00FF11\"><b>P</b></td><td bgcolor=\"#00FF11\"><b>T</b></td><td bgcolor=\"#00FF11\"><b>P</b></td></tr><tr><td></td><td></td><td>|</td><td>|</td><td>|</td><td></td><td>|</td><td></td><td>|</td><td>|</td><td>|</td><td>|</td><td>|</td><td>|</td><td>|</td><td>|</td><td>|</td><td>|</td><td>|</td><td>|</td><td>|</td><td>|</td><td>|</td><td>|</td><td>|</td><td>|</td><td>|</td><td>|</td><td>|</td><td>|</td><td>|</td><td>|</td><td>|</td><td>|</td><td>|</td><td>|</td></tr><tr><td>L</td><td>L</td><td bgcolor=\"#00FF11\"><b>S</b></td><td bgcolor=\"#00FF11\"><b>K</b></td><td bgcolor=\"#00FF11\"><b>C</b></td><td>-</td><td bgcolor=\"#00FF11\"><b>P</b></td><td>-</td><td bgcolor=\"#00FF11\"><b>W</b></td><td bgcolor=\"#00FF11\"><b>K</b></td><td bgcolor=\"#00FF11\"><b>E</b></td><td bgcolor=\"#00FF11\"><b>Y</b></td><td bgcolor=\"#00FF11\"><b>K</b></td><td bgcolor=\"#00FF11\"><b>S</b></td><td bgcolor=\"#00FF11\"><b>D</b></td><td bgcolor=\"#00FF11\"><b>S</b></td><td bgcolor=\"#00FF11\"><b>G</b></td><td bgcolor=\"#00FF11\"><b>K</b></td><td bgcolor=\"#00FF11\"><b>P</b></td><td bgcolor=\"#00FF11\"><b>Y</b></td><td bgcolor=\"#00FF11\"><b>Y</b></td><td bgcolor=\"#00FF11\"><b>Y</b></td><td bgcolor=\"#00FF11\"><b>N</b></td><td bgcolor=\"#00FF11\"><b>S</b></td><td bgcolor=\"#00FF11\"><b>Q</b></td><td bgcolor=\"#00FF11\"><b>T</b></td><td bgcolor=\"#00FF11\"><b>K</b></td><td bgcolor=\"#00FF11\"><b>E</b></td><td bgcolor=\"#00FF11\"><b>S</b></td><td bgcolor=\"#00FF11\"><b>R</b></td><td bgcolor=\"#00FF11\"><b>W</b></td><td bgcolor=\"#00FF11\"><b>A</b></td><td bgcolor=\"#00FF11\"><b>K</b></td><td bgcolor=\"#00FF11\"><b>P</b></td><td bgcolor=\"#00FF11\"><b>K</b></td><td bgcolor=\"#00FF11\"><b>E</b></td></tr></table>"
      ],
      "text/plain": [
       "<IPython.core.display.HTML object>"
      ]
     },
     "metadata": {},
     "output_type": "display_data"
    },
    {
     "name": "stdout",
     "output_type": "stream",
     "text": [
      "Test #10: x: GPLPPGWEERTHTDGRIFYINHNIKRTQWEDPRL, y: EKLPPGWEKRMSRSSGRVYYFNHITNASQWERPSG\n",
      "Solution #1:\n"
     ]
    },
    {
     "data": {
      "text/html": [
       "<table class=\"inner\"><tr><td bgcolor=\"#00FF11\"><b>G</b></td><td bgcolor=\"#00FF11\"><b>P</b></td><td bgcolor=\"#00FF11\"><b>L</b></td><td bgcolor=\"#00FF11\"><b>P</b></td><td bgcolor=\"#00FF11\"><b>P</b></td><td bgcolor=\"#00FF11\"><b>G</b></td><td bgcolor=\"#00FF11\"><b>W</b></td><td bgcolor=\"#00FF11\"><b>E</b></td><td bgcolor=\"#00FF11\"><b>E</b></td><td bgcolor=\"#00FF11\"><b>R</b></td><td>-</td><td bgcolor=\"#00FF11\"><b>T</b></td><td bgcolor=\"#00FF11\"><b>H</b></td><td bgcolor=\"#00FF11\"><b>T</b></td><td bgcolor=\"#00FF11\"><b>D</b></td><td bgcolor=\"#00FF11\"><b>G</b></td><td bgcolor=\"#00FF11\"><b>R</b></td><td bgcolor=\"#00FF11\"><b>I</b></td><td bgcolor=\"#00FF11\"><b>F</b></td><td bgcolor=\"#00FF11\"><b>Y</b></td><td bgcolor=\"#00FF11\"><b>I</b></td><td bgcolor=\"#00FF11\"><b>N</b></td><td bgcolor=\"#00FF11\"><b>H</b></td><td bgcolor=\"#00FF11\"><b>N</b></td><td bgcolor=\"#00FF11\"><b>I</b></td><td bgcolor=\"#00FF11\"><b>K</b></td><td bgcolor=\"#00FF11\"><b>R</b></td><td bgcolor=\"#00FF11\"><b>T</b></td><td bgcolor=\"#00FF11\"><b>Q</b></td><td bgcolor=\"#00FF11\"><b>W</b></td><td bgcolor=\"#00FF11\"><b>E</b></td><td bgcolor=\"#00FF11\"><b>D</b></td><td bgcolor=\"#00FF11\"><b>P</b></td><td bgcolor=\"#00FF11\"><b>R</b></td><td bgcolor=\"#00FF11\"><b>L</b></td></tr><tr><td>|</td><td>|</td><td>|</td><td>|</td><td>|</td><td>|</td><td>|</td><td>|</td><td>|</td><td>|</td><td></td><td>|</td><td>|</td><td>|</td><td>|</td><td>|</td><td>|</td><td>|</td><td>|</td><td>|</td><td>|</td><td>|</td><td>|</td><td>|</td><td>|</td><td>|</td><td>|</td><td>|</td><td>|</td><td>|</td><td>|</td><td>|</td><td>|</td><td>|</td><td>|</td></tr><tr><td bgcolor=\"#00FF11\"><b>E</b></td><td bgcolor=\"#00FF11\"><b>K</b></td><td bgcolor=\"#00FF11\"><b>L</b></td><td bgcolor=\"#00FF11\"><b>P</b></td><td bgcolor=\"#00FF11\"><b>P</b></td><td bgcolor=\"#00FF11\"><b>G</b></td><td bgcolor=\"#00FF11\"><b>W</b></td><td bgcolor=\"#00FF11\"><b>E</b></td><td bgcolor=\"#00FF11\"><b>K</b></td><td bgcolor=\"#00FF11\"><b>R</b></td><td>M</td><td bgcolor=\"#00FF11\"><b>S</b></td><td bgcolor=\"#00FF11\"><b>R</b></td><td bgcolor=\"#00FF11\"><b>S</b></td><td bgcolor=\"#00FF11\"><b>S</b></td><td bgcolor=\"#00FF11\"><b>G</b></td><td bgcolor=\"#00FF11\"><b>R</b></td><td bgcolor=\"#00FF11\"><b>V</b></td><td bgcolor=\"#00FF11\"><b>Y</b></td><td bgcolor=\"#00FF11\"><b>Y</b></td><td bgcolor=\"#00FF11\"><b>F</b></td><td bgcolor=\"#00FF11\"><b>N</b></td><td bgcolor=\"#00FF11\"><b>H</b></td><td bgcolor=\"#00FF11\"><b>I</b></td><td bgcolor=\"#00FF11\"><b>T</b></td><td bgcolor=\"#00FF11\"><b>N</b></td><td bgcolor=\"#00FF11\"><b>A</b></td><td bgcolor=\"#00FF11\"><b>S</b></td><td bgcolor=\"#00FF11\"><b>Q</b></td><td bgcolor=\"#00FF11\"><b>W</b></td><td bgcolor=\"#00FF11\"><b>E</b></td><td bgcolor=\"#00FF11\"><b>R</b></td><td bgcolor=\"#00FF11\"><b>P</b></td><td bgcolor=\"#00FF11\"><b>S</b></td><td bgcolor=\"#00FF11\"><b>G</b></td></tr></table>"
      ],
      "text/plain": [
       "<IPython.core.display.HTML object>"
      ]
     },
     "metadata": {},
     "output_type": "display_data"
    },
    {
     "name": "stdout",
     "output_type": "stream",
     "text": [
      "Test #11: x: GPLPPGWEERTHTDGRIFYINHNIKRTQWEDPRL, y: SGAKSMWTEHKSPDGRTYYYNTETKQSTWEKPDD\n",
      "Solution #1:\n"
     ]
    },
    {
     "data": {
      "text/html": [
       "<table class=\"inner\"><tr><td bgcolor=\"#00FF11\"><b>G</b></td><td bgcolor=\"#00FF11\"><b>P</b></td><td bgcolor=\"#00FF11\"><b>L</b></td><td bgcolor=\"#00FF11\"><b>P</b></td><td bgcolor=\"#00FF11\"><b>P</b></td><td bgcolor=\"#00FF11\"><b>G</b></td><td bgcolor=\"#00FF11\"><b>W</b></td><td bgcolor=\"#00FF11\"><b>E</b></td><td bgcolor=\"#00FF11\"><b>E</b></td><td bgcolor=\"#00FF11\"><b>R</b></td><td bgcolor=\"#00FF11\"><b>T</b></td><td bgcolor=\"#00FF11\"><b>H</b></td><td bgcolor=\"#00FF11\"><b>T</b></td><td bgcolor=\"#00FF11\"><b>D</b></td><td bgcolor=\"#00FF11\"><b>G</b></td><td bgcolor=\"#00FF11\"><b>R</b></td><td bgcolor=\"#00FF11\"><b>I</b></td><td bgcolor=\"#00FF11\"><b>F</b></td><td bgcolor=\"#00FF11\"><b>Y</b></td><td bgcolor=\"#00FF11\"><b>I</b></td><td bgcolor=\"#00FF11\"><b>N</b></td><td bgcolor=\"#00FF11\"><b>H</b></td><td bgcolor=\"#00FF11\"><b>N</b></td><td bgcolor=\"#00FF11\"><b>I</b></td><td bgcolor=\"#00FF11\"><b>K</b></td><td bgcolor=\"#00FF11\"><b>R</b></td><td bgcolor=\"#00FF11\"><b>T</b></td><td bgcolor=\"#00FF11\"><b>Q</b></td><td bgcolor=\"#00FF11\"><b>W</b></td><td bgcolor=\"#00FF11\"><b>E</b></td><td bgcolor=\"#00FF11\"><b>D</b></td><td bgcolor=\"#00FF11\"><b>P</b></td><td bgcolor=\"#00FF11\"><b>R</b></td><td bgcolor=\"#00FF11\"><b>L</b></td></tr><tr><td>|</td><td>|</td><td>|</td><td>|</td><td>|</td><td>|</td><td>|</td><td>|</td><td>|</td><td>|</td><td>|</td><td>|</td><td>|</td><td>|</td><td>|</td><td>|</td><td>|</td><td>|</td><td>|</td><td>|</td><td>|</td><td>|</td><td>|</td><td>|</td><td>|</td><td>|</td><td>|</td><td>|</td><td>|</td><td>|</td><td>|</td><td>|</td><td>|</td><td>|</td></tr><tr><td bgcolor=\"#00FF11\"><b>S</b></td><td bgcolor=\"#00FF11\"><b>G</b></td><td bgcolor=\"#00FF11\"><b>A</b></td><td bgcolor=\"#00FF11\"><b>K</b></td><td bgcolor=\"#00FF11\"><b>S</b></td><td bgcolor=\"#00FF11\"><b>M</b></td><td bgcolor=\"#00FF11\"><b>W</b></td><td bgcolor=\"#00FF11\"><b>T</b></td><td bgcolor=\"#00FF11\"><b>E</b></td><td bgcolor=\"#00FF11\"><b>H</b></td><td bgcolor=\"#00FF11\"><b>K</b></td><td bgcolor=\"#00FF11\"><b>S</b></td><td bgcolor=\"#00FF11\"><b>P</b></td><td bgcolor=\"#00FF11\"><b>D</b></td><td bgcolor=\"#00FF11\"><b>G</b></td><td bgcolor=\"#00FF11\"><b>R</b></td><td bgcolor=\"#00FF11\"><b>T</b></td><td bgcolor=\"#00FF11\"><b>Y</b></td><td bgcolor=\"#00FF11\"><b>Y</b></td><td bgcolor=\"#00FF11\"><b>Y</b></td><td bgcolor=\"#00FF11\"><b>N</b></td><td bgcolor=\"#00FF11\"><b>T</b></td><td bgcolor=\"#00FF11\"><b>E</b></td><td bgcolor=\"#00FF11\"><b>T</b></td><td bgcolor=\"#00FF11\"><b>K</b></td><td bgcolor=\"#00FF11\"><b>Q</b></td><td bgcolor=\"#00FF11\"><b>S</b></td><td bgcolor=\"#00FF11\"><b>T</b></td><td bgcolor=\"#00FF11\"><b>W</b></td><td bgcolor=\"#00FF11\"><b>E</b></td><td bgcolor=\"#00FF11\"><b>K</b></td><td bgcolor=\"#00FF11\"><b>P</b></td><td bgcolor=\"#00FF11\"><b>D</b></td><td bgcolor=\"#00FF11\"><b>D</b></td></tr></table>"
      ],
      "text/plain": [
       "<IPython.core.display.HTML object>"
      ]
     },
     "metadata": {},
     "output_type": "display_data"
    },
    {
     "name": "stdout",
     "output_type": "stream",
     "text": [
      "Test #12: x: GPLPPGWEERTHTDGRIFYINHNIKRTQWEDPRL, y: LLSKCPWKEYKSDSGKPYYYNSQTKESRWAKPKE\n",
      "Solution #1:\n"
     ]
    },
    {
     "data": {
      "text/html": [
       "<table class=\"inner\"><tr><td>G</td><td bgcolor=\"#00FF11\"><b>P</b></td><td bgcolor=\"#00FF11\"><b>L</b></td><td bgcolor=\"#00FF11\"><b>P</b></td><td bgcolor=\"#00FF11\"><b>P</b></td><td>-</td><td bgcolor=\"#00FF11\"><b>G</b></td><td bgcolor=\"#00FF11\"><b>W</b></td><td bgcolor=\"#00FF11\"><b>E</b></td><td bgcolor=\"#00FF11\"><b>E</b></td><td bgcolor=\"#00FF11\"><b>R</b></td><td bgcolor=\"#00FF11\"><b>T</b></td><td bgcolor=\"#00FF11\"><b>H</b></td><td bgcolor=\"#00FF11\"><b>T</b></td><td bgcolor=\"#00FF11\"><b>D</b></td><td bgcolor=\"#00FF11\"><b>G</b></td><td bgcolor=\"#00FF11\"><b>R</b></td><td bgcolor=\"#00FF11\"><b>I</b></td><td bgcolor=\"#00FF11\"><b>F</b></td><td bgcolor=\"#00FF11\"><b>Y</b></td><td bgcolor=\"#00FF11\"><b>I</b></td><td bgcolor=\"#00FF11\"><b>N</b></td><td bgcolor=\"#00FF11\"><b>H</b></td><td bgcolor=\"#00FF11\"><b>N</b></td><td bgcolor=\"#00FF11\"><b>I</b></td><td bgcolor=\"#00FF11\"><b>K</b></td><td bgcolor=\"#00FF11\"><b>R</b></td><td bgcolor=\"#00FF11\"><b>T</b></td><td bgcolor=\"#00FF11\"><b>Q</b></td><td bgcolor=\"#00FF11\"><b>W</b></td><td bgcolor=\"#00FF11\"><b>E</b></td><td bgcolor=\"#00FF11\"><b>D</b></td><td bgcolor=\"#00FF11\"><b>P</b></td><td bgcolor=\"#00FF11\"><b>R</b></td><td bgcolor=\"#00FF11\"><b>L</b></td></tr><tr><td></td><td>|</td><td>|</td><td>|</td><td>|</td><td></td><td>|</td><td>|</td><td>|</td><td>|</td><td>|</td><td>|</td><td>|</td><td>|</td><td>|</td><td>|</td><td>|</td><td>|</td><td>|</td><td>|</td><td>|</td><td>|</td><td>|</td><td>|</td><td>|</td><td>|</td><td>|</td><td>|</td><td>|</td><td>|</td><td>|</td><td>|</td><td>|</td><td>|</td><td>|</td></tr><tr><td>-</td><td bgcolor=\"#00FF11\"><b>L</b></td><td bgcolor=\"#00FF11\"><b>L</b></td><td bgcolor=\"#00FF11\"><b>S</b></td><td bgcolor=\"#00FF11\"><b>K</b></td><td>C</td><td bgcolor=\"#00FF11\"><b>P</b></td><td bgcolor=\"#00FF11\"><b>W</b></td><td bgcolor=\"#00FF11\"><b>K</b></td><td bgcolor=\"#00FF11\"><b>E</b></td><td bgcolor=\"#00FF11\"><b>Y</b></td><td bgcolor=\"#00FF11\"><b>K</b></td><td bgcolor=\"#00FF11\"><b>S</b></td><td bgcolor=\"#00FF11\"><b>D</b></td><td bgcolor=\"#00FF11\"><b>S</b></td><td bgcolor=\"#00FF11\"><b>G</b></td><td bgcolor=\"#00FF11\"><b>K</b></td><td bgcolor=\"#00FF11\"><b>P</b></td><td bgcolor=\"#00FF11\"><b>Y</b></td><td bgcolor=\"#00FF11\"><b>Y</b></td><td bgcolor=\"#00FF11\"><b>Y</b></td><td bgcolor=\"#00FF11\"><b>N</b></td><td bgcolor=\"#00FF11\"><b>S</b></td><td bgcolor=\"#00FF11\"><b>Q</b></td><td bgcolor=\"#00FF11\"><b>T</b></td><td bgcolor=\"#00FF11\"><b>K</b></td><td bgcolor=\"#00FF11\"><b>E</b></td><td bgcolor=\"#00FF11\"><b>S</b></td><td bgcolor=\"#00FF11\"><b>R</b></td><td bgcolor=\"#00FF11\"><b>W</b></td><td bgcolor=\"#00FF11\"><b>A</b></td><td bgcolor=\"#00FF11\"><b>K</b></td><td bgcolor=\"#00FF11\"><b>P</b></td><td bgcolor=\"#00FF11\"><b>K</b></td><td bgcolor=\"#00FF11\"><b>E</b></td></tr></table>"
      ],
      "text/plain": [
       "<IPython.core.display.HTML object>"
      ]
     },
     "metadata": {},
     "output_type": "display_data"
    },
    {
     "name": "stdout",
     "output_type": "stream",
     "text": [
      "Test #13: x: EKLPPGWEKRMSRSSGRVYYFNHITNASQWERPSG, y: SGAKSMWTEHKSPDGRTYYYNTETKQSTWEKPDD\n",
      "Solution #1:\n"
     ]
    },
    {
     "data": {
      "text/html": [
       "<table class=\"inner\"><tr><td bgcolor=\"#00FF11\"><b>E</b></td><td bgcolor=\"#00FF11\"><b>K</b></td><td bgcolor=\"#00FF11\"><b>L</b></td><td bgcolor=\"#00FF11\"><b>P</b></td><td bgcolor=\"#00FF11\"><b>P</b></td><td bgcolor=\"#00FF11\"><b>G</b></td><td bgcolor=\"#00FF11\"><b>W</b></td><td bgcolor=\"#00FF11\"><b>E</b></td><td bgcolor=\"#00FF11\"><b>K</b></td><td bgcolor=\"#00FF11\"><b>R</b></td><td bgcolor=\"#00FF11\"><b>M</b></td><td bgcolor=\"#00FF11\"><b>S</b></td><td>R</td><td bgcolor=\"#00FF11\"><b>S</b></td><td bgcolor=\"#00FF11\"><b>S</b></td><td bgcolor=\"#00FF11\"><b>G</b></td><td bgcolor=\"#00FF11\"><b>R</b></td><td bgcolor=\"#00FF11\"><b>V</b></td><td bgcolor=\"#00FF11\"><b>Y</b></td><td bgcolor=\"#00FF11\"><b>Y</b></td><td bgcolor=\"#00FF11\"><b>F</b></td><td bgcolor=\"#00FF11\"><b>N</b></td><td bgcolor=\"#00FF11\"><b>H</b></td><td bgcolor=\"#00FF11\"><b>I</b></td><td bgcolor=\"#00FF11\"><b>T</b></td><td bgcolor=\"#00FF11\"><b>N</b></td><td bgcolor=\"#00FF11\"><b>A</b></td><td bgcolor=\"#00FF11\"><b>S</b></td><td bgcolor=\"#00FF11\"><b>Q</b></td><td bgcolor=\"#00FF11\"><b>W</b></td><td bgcolor=\"#00FF11\"><b>E</b></td><td bgcolor=\"#00FF11\"><b>R</b></td><td bgcolor=\"#00FF11\"><b>P</b></td><td bgcolor=\"#00FF11\"><b>S</b></td><td bgcolor=\"#00FF11\"><b>G</b></td></tr><tr><td>|</td><td>|</td><td>|</td><td>|</td><td>|</td><td>|</td><td>|</td><td>|</td><td>|</td><td>|</td><td>|</td><td>|</td><td></td><td>|</td><td>|</td><td>|</td><td>|</td><td>|</td><td>|</td><td>|</td><td>|</td><td>|</td><td>|</td><td>|</td><td>|</td><td>|</td><td>|</td><td>|</td><td>|</td><td>|</td><td>|</td><td>|</td><td>|</td><td>|</td><td>|</td></tr><tr><td bgcolor=\"#00FF11\"><b>S</b></td><td bgcolor=\"#00FF11\"><b>G</b></td><td bgcolor=\"#00FF11\"><b>A</b></td><td bgcolor=\"#00FF11\"><b>K</b></td><td bgcolor=\"#00FF11\"><b>S</b></td><td bgcolor=\"#00FF11\"><b>M</b></td><td bgcolor=\"#00FF11\"><b>W</b></td><td bgcolor=\"#00FF11\"><b>T</b></td><td bgcolor=\"#00FF11\"><b>E</b></td><td bgcolor=\"#00FF11\"><b>H</b></td><td bgcolor=\"#00FF11\"><b>K</b></td><td bgcolor=\"#00FF11\"><b>S</b></td><td>-</td><td bgcolor=\"#00FF11\"><b>P</b></td><td bgcolor=\"#00FF11\"><b>D</b></td><td bgcolor=\"#00FF11\"><b>G</b></td><td bgcolor=\"#00FF11\"><b>R</b></td><td bgcolor=\"#00FF11\"><b>T</b></td><td bgcolor=\"#00FF11\"><b>Y</b></td><td bgcolor=\"#00FF11\"><b>Y</b></td><td bgcolor=\"#00FF11\"><b>Y</b></td><td bgcolor=\"#00FF11\"><b>N</b></td><td bgcolor=\"#00FF11\"><b>T</b></td><td bgcolor=\"#00FF11\"><b>E</b></td><td bgcolor=\"#00FF11\"><b>T</b></td><td bgcolor=\"#00FF11\"><b>K</b></td><td bgcolor=\"#00FF11\"><b>Q</b></td><td bgcolor=\"#00FF11\"><b>S</b></td><td bgcolor=\"#00FF11\"><b>T</b></td><td bgcolor=\"#00FF11\"><b>W</b></td><td bgcolor=\"#00FF11\"><b>E</b></td><td bgcolor=\"#00FF11\"><b>K</b></td><td bgcolor=\"#00FF11\"><b>P</b></td><td bgcolor=\"#00FF11\"><b>D</b></td><td bgcolor=\"#00FF11\"><b>D</b></td></tr></table>"
      ],
      "text/plain": [
       "<IPython.core.display.HTML object>"
      ]
     },
     "metadata": {},
     "output_type": "display_data"
    },
    {
     "name": "stdout",
     "output_type": "stream",
     "text": [
      "Test #14: x: EKLPPGWEKRMSRSSGRVYYFNHITNASQWERPSG, y: LLSKCPWKEYKSDSGKPYYYNSQTKESRWAKPKE\n",
      "Solution #1:\n"
     ]
    },
    {
     "data": {
      "text/html": [
       "<table class=\"inner\"><tr><td>-</td><td>-</td><td bgcolor=\"#00FF11\"><b>E</b></td><td bgcolor=\"#00FF11\"><b>K</b></td><td bgcolor=\"#00FF11\"><b>L</b></td><td>P</td><td bgcolor=\"#00FF11\"><b>P</b></td><td>G</td><td bgcolor=\"#00FF11\"><b>W</b></td><td>E</td><td bgcolor=\"#00FF11\"><b>K</b></td><td bgcolor=\"#00FF11\"><b>R</b></td><td bgcolor=\"#00FF11\"><b>M</b></td><td bgcolor=\"#00FF11\"><b>S</b></td><td bgcolor=\"#00FF11\"><b>R</b></td><td bgcolor=\"#00FF11\"><b>S</b></td><td bgcolor=\"#00FF11\"><b>S</b></td><td bgcolor=\"#00FF11\"><b>G</b></td><td bgcolor=\"#00FF11\"><b>R</b></td><td bgcolor=\"#00FF11\"><b>V</b></td><td bgcolor=\"#00FF11\"><b>Y</b></td><td bgcolor=\"#00FF11\"><b>Y</b></td><td bgcolor=\"#00FF11\"><b>F</b></td><td bgcolor=\"#00FF11\"><b>N</b></td><td bgcolor=\"#00FF11\"><b>H</b></td><td bgcolor=\"#00FF11\"><b>I</b></td><td bgcolor=\"#00FF11\"><b>T</b></td><td bgcolor=\"#00FF11\"><b>N</b></td><td bgcolor=\"#00FF11\"><b>A</b></td><td bgcolor=\"#00FF11\"><b>S</b></td><td bgcolor=\"#00FF11\"><b>Q</b></td><td bgcolor=\"#00FF11\"><b>W</b></td><td bgcolor=\"#00FF11\"><b>E</b></td><td bgcolor=\"#00FF11\"><b>R</b></td><td bgcolor=\"#00FF11\"><b>P</b></td><td bgcolor=\"#00FF11\"><b>S</b></td><td bgcolor=\"#00FF11\"><b>G</b></td></tr><tr><td></td><td></td><td>|</td><td>|</td><td>|</td><td></td><td>|</td><td></td><td>|</td><td></td><td>|</td><td>|</td><td>|</td><td>|</td><td>|</td><td>|</td><td>|</td><td>|</td><td>|</td><td>|</td><td>|</td><td>|</td><td>|</td><td>|</td><td>|</td><td>|</td><td>|</td><td>|</td><td>|</td><td>|</td><td>|</td><td>|</td><td>|</td><td>|</td><td>|</td><td>|</td><td>|</td></tr><tr><td>L</td><td>L</td><td bgcolor=\"#00FF11\"><b>S</b></td><td bgcolor=\"#00FF11\"><b>K</b></td><td bgcolor=\"#00FF11\"><b>C</b></td><td>-</td><td bgcolor=\"#00FF11\"><b>P</b></td><td>-</td><td bgcolor=\"#00FF11\"><b>W</b></td><td>-</td><td bgcolor=\"#00FF11\"><b>K</b></td><td bgcolor=\"#00FF11\"><b>E</b></td><td bgcolor=\"#00FF11\"><b>Y</b></td><td bgcolor=\"#00FF11\"><b>K</b></td><td bgcolor=\"#00FF11\"><b>S</b></td><td bgcolor=\"#00FF11\"><b>D</b></td><td bgcolor=\"#00FF11\"><b>S</b></td><td bgcolor=\"#00FF11\"><b>G</b></td><td bgcolor=\"#00FF11\"><b>K</b></td><td bgcolor=\"#00FF11\"><b>P</b></td><td bgcolor=\"#00FF11\"><b>Y</b></td><td bgcolor=\"#00FF11\"><b>Y</b></td><td bgcolor=\"#00FF11\"><b>Y</b></td><td bgcolor=\"#00FF11\"><b>N</b></td><td bgcolor=\"#00FF11\"><b>S</b></td><td bgcolor=\"#00FF11\"><b>Q</b></td><td bgcolor=\"#00FF11\"><b>T</b></td><td bgcolor=\"#00FF11\"><b>K</b></td><td bgcolor=\"#00FF11\"><b>E</b></td><td bgcolor=\"#00FF11\"><b>S</b></td><td bgcolor=\"#00FF11\"><b>R</b></td><td bgcolor=\"#00FF11\"><b>W</b></td><td bgcolor=\"#00FF11\"><b>A</b></td><td bgcolor=\"#00FF11\"><b>K</b></td><td bgcolor=\"#00FF11\"><b>P</b></td><td bgcolor=\"#00FF11\"><b>K</b></td><td bgcolor=\"#00FF11\"><b>E</b></td></tr></table>"
      ],
      "text/plain": [
       "<IPython.core.display.HTML object>"
      ]
     },
     "metadata": {},
     "output_type": "display_data"
    },
    {
     "name": "stdout",
     "output_type": "stream",
     "text": [
      "Test #15: x: SGAKSMWTEHKSPDGRTYYYNTETKQSTWEKPDD, y: LLSKCPWKEYKSDSGKPYYYNSQTKESRWAKPKE\n",
      "Solution #1:\n"
     ]
    },
    {
     "data": {
      "text/html": [
       "<table class=\"inner\"><tr><td bgcolor=\"#00FF11\"><b>S</b></td><td bgcolor=\"#00FF11\"><b>G</b></td><td bgcolor=\"#00FF11\"><b>A</b></td><td bgcolor=\"#00FF11\"><b>K</b></td><td bgcolor=\"#00FF11\"><b>S</b></td><td bgcolor=\"#00FF11\"><b>M</b></td><td bgcolor=\"#00FF11\"><b>W</b></td><td bgcolor=\"#00FF11\"><b>T</b></td><td bgcolor=\"#00FF11\"><b>E</b></td><td bgcolor=\"#00FF11\"><b>H</b></td><td bgcolor=\"#00FF11\"><b>K</b></td><td bgcolor=\"#00FF11\"><b>S</b></td><td bgcolor=\"#00FF11\"><b>P</b></td><td bgcolor=\"#00FF11\"><b>D</b></td><td bgcolor=\"#00FF11\"><b>G</b></td><td bgcolor=\"#00FF11\"><b>R</b></td><td bgcolor=\"#00FF11\"><b>T</b></td><td bgcolor=\"#00FF11\"><b>Y</b></td><td bgcolor=\"#00FF11\"><b>Y</b></td><td bgcolor=\"#00FF11\"><b>Y</b></td><td bgcolor=\"#00FF11\"><b>N</b></td><td bgcolor=\"#00FF11\"><b>T</b></td><td bgcolor=\"#00FF11\"><b>E</b></td><td bgcolor=\"#00FF11\"><b>T</b></td><td bgcolor=\"#00FF11\"><b>K</b></td><td bgcolor=\"#00FF11\"><b>Q</b></td><td bgcolor=\"#00FF11\"><b>S</b></td><td bgcolor=\"#00FF11\"><b>T</b></td><td bgcolor=\"#00FF11\"><b>W</b></td><td bgcolor=\"#00FF11\"><b>E</b></td><td bgcolor=\"#00FF11\"><b>K</b></td><td bgcolor=\"#00FF11\"><b>P</b></td><td bgcolor=\"#00FF11\"><b>D</b></td><td bgcolor=\"#00FF11\"><b>D</b></td></tr><tr><td>|</td><td>|</td><td>|</td><td>|</td><td>|</td><td>|</td><td>|</td><td>|</td><td>|</td><td>|</td><td>|</td><td>|</td><td>|</td><td>|</td><td>|</td><td>|</td><td>|</td><td>|</td><td>|</td><td>|</td><td>|</td><td>|</td><td>|</td><td>|</td><td>|</td><td>|</td><td>|</td><td>|</td><td>|</td><td>|</td><td>|</td><td>|</td><td>|</td><td>|</td></tr><tr><td bgcolor=\"#00FF11\"><b>L</b></td><td bgcolor=\"#00FF11\"><b>L</b></td><td bgcolor=\"#00FF11\"><b>S</b></td><td bgcolor=\"#00FF11\"><b>K</b></td><td bgcolor=\"#00FF11\"><b>C</b></td><td bgcolor=\"#00FF11\"><b>P</b></td><td bgcolor=\"#00FF11\"><b>W</b></td><td bgcolor=\"#00FF11\"><b>K</b></td><td bgcolor=\"#00FF11\"><b>E</b></td><td bgcolor=\"#00FF11\"><b>Y</b></td><td bgcolor=\"#00FF11\"><b>K</b></td><td bgcolor=\"#00FF11\"><b>S</b></td><td bgcolor=\"#00FF11\"><b>D</b></td><td bgcolor=\"#00FF11\"><b>S</b></td><td bgcolor=\"#00FF11\"><b>G</b></td><td bgcolor=\"#00FF11\"><b>K</b></td><td bgcolor=\"#00FF11\"><b>P</b></td><td bgcolor=\"#00FF11\"><b>Y</b></td><td bgcolor=\"#00FF11\"><b>Y</b></td><td bgcolor=\"#00FF11\"><b>Y</b></td><td bgcolor=\"#00FF11\"><b>N</b></td><td bgcolor=\"#00FF11\"><b>S</b></td><td bgcolor=\"#00FF11\"><b>Q</b></td><td bgcolor=\"#00FF11\"><b>T</b></td><td bgcolor=\"#00FF11\"><b>K</b></td><td bgcolor=\"#00FF11\"><b>E</b></td><td bgcolor=\"#00FF11\"><b>S</b></td><td bgcolor=\"#00FF11\"><b>R</b></td><td bgcolor=\"#00FF11\"><b>W</b></td><td bgcolor=\"#00FF11\"><b>A</b></td><td bgcolor=\"#00FF11\"><b>K</b></td><td bgcolor=\"#00FF11\"><b>P</b></td><td bgcolor=\"#00FF11\"><b>K</b></td><td bgcolor=\"#00FF11\"><b>E</b></td></tr></table>"
      ],
      "text/plain": [
       "<IPython.core.display.HTML object>"
      ]
     },
     "metadata": {},
     "output_type": "display_data"
    }
   ],
   "source": [
    "large_matrice = True # !!! Do not set to False !!! (or be patient)\n",
    "l_sequences = [\n",
    "    'VPLPAGWEMAKTSSGQRYFLNHIDQTTTWQDPRK',\n",
    "    'SPLPPGWEERQDILGRTYYVNHESRRTQWKRPTP',\n",
    "    'GPLPPGWEERTHTDGRIFYINHNIKRTQWEDPRL',\n",
    "    'EKLPPGWEKRMSRSSGRVYYFNHITNASQWERPSG',\n",
    "    'SGAKSMWTEHKSPDGRTYYYNTETKQSTWEKPDD',\n",
    "    'LLSKCPWKEYKSDSGKPYYYNSQTKESRWAKPKE',\n",
    "]\n",
    "\n",
    "k = 3\n",
    "\n",
    "# True to disable rendering of table (can solve lag issues)\n",
    "large_matrice = True\n",
    "\n",
    "filename = 'BLOSUM62'\n",
    "q = parse_ranking_matrix(filename)\n",
    "\n",
    "# Use same values for both of those variables to have a linear gap penalty\n",
    "i_gap_penalty = -8\n",
    "e_gap_penalty = -8\n",
    "\n",
    "count = 0\n",
    "for i in range(len(l_sequences[:-1])):\n",
    "    x = l_sequences[i]\n",
    "    \n",
    "    for y in l_sequences[i+1:]:\n",
    "        count += 1\n",
    "        print(\"Test #{}: x: {}, y: {}\".format(count, x, y))\n",
    "        \n",
    "        init_data_structures()\n",
    "        compute_dp_matrix(local_alignement=False)\n",
    "        \n",
    "        find_k_solutions(k)\n",
    "        "
   ]
  },
  {
   "cell_type": "markdown",
   "metadata": {
    "collapsed": true,
    "deletable": true,
    "editable": true
   },
   "source": [
    "For the checked value (using http://www.ch.embnet.org/software/LALIGN_form.html), this notebook show similar results. Unfortunately, I was not able to find how to check the sequence ancestor to find if they have some relatives in common."
   ]
  },
  {
   "cell_type": "markdown",
   "metadata": {
    "collapsed": true,
    "deletable": true,
    "editable": true
   },
   "source": [
    "## Part 2: Detecting motifs by aligning sequences to PSSMs\n",
    "\n",
    "Using the CLUSTAL Omega tool, I created the MSA file \"msaresults-CLUSTAL.fasta\" using the file \"to-be-aligned.fasta\" as an input file.\n",
    "\n",
    "First, lets define a function to display our profile:"
   ]
  },
  {
   "cell_type": "code",
   "execution_count": 67,
   "metadata": {
    "collapsed": false
   },
   "outputs": [],
   "source": [
    "def display_profile(seq_size, l_amino_acid, n, f):\n",
    "    header = \"\"\n",
    "    rows = \"\"\n",
    "    \n",
    "    for i in range(seq_size):\n",
    "        header += \"<th>{}</th>\".format(i)\n",
    "        \n",
    "    for b in l_amino_acid:\n",
    "        row = \"\"\n",
    "        for value in f[b]:\n",
    "            if value == 0:\n",
    "                row += \"<td></td>\"\n",
    "            elif value < 0:\n",
    "                row += \"<td style='color: red'>{:.2f}</td>\".format(round(value, 2))\n",
    "            else:\n",
    "                row += \"<td>{:.2f}</td>\".format(round(value, 2))\n",
    "            \n",
    "        rows += \"<tr><th>{}</th>{}</tr>\".format(b, row)\n",
    "    \n",
    "    display(HTML(\"\"\"\n",
    "        <table>\n",
    "            <tr><td></td>{}</tr>{}\n",
    "        </table>\n",
    "    \"\"\".format(header, rows)))"
   ]
  },
  {
   "cell_type": "markdown",
   "metadata": {},
   "source": [
    "P is obtained using: http://web.expasy.org/docs/relnotes/relstat.html (accessed: 19/03/2017)\n",
    "* 6 AMINO ACID COMPOSITION\n",
    "* 6.1 Composition in percent for the complete database\n",
    "\n",
    "For pseudocounts, I used Alpha as Nseq - 1 and Beta as square root of Nseq"
   ]
  },
  {
   "cell_type": "code",
   "execution_count": 76,
   "metadata": {
    "collapsed": false
   },
   "outputs": [
    {
     "name": "stdout",
     "output_type": "stream",
     "text": [
      "Amino acids: ARNDCQEGHILKMFPSTWYV\n",
      "Nseq: 247.0\n",
      "Alpha: 246.0\n",
      "Beta: 15.716233645501712\n",
      "p: {'A': 8.26, 'R': 5.53, 'N': 4.06, 'D': 5.46, 'C': 1.37, 'Q': 3.93, 'E': 6.74, 'G': 7.08, 'H': 2.27, 'I': 5.93, 'L': 9.65, 'K': 5.82, 'M': 2.41, 'F': 3.86, 'P': 4.72, 'S': 6.6, 'T': 5.35, 'W': 1.09, 'Y': 2.92, 'V': 6.86}\n",
      "f:\n"
     ]
    },
    {
     "data": {
      "text/html": [
       "\n",
       "        <table>\n",
       "            <tr><td></td><th>0</th><th>1</th><th>2</th><th>3</th><th>4</th><th>5</th><th>6</th><th>7</th><th>8</th><th>9</th><th>10</th><th>11</th><th>12</th><th>13</th><th>14</th><th>15</th><th>16</th><th>17</th><th>18</th><th>19</th><th>20</th><th>21</th><th>22</th><th>23</th><th>24</th><th>25</th><th>26</th><th>27</th><th>28</th><th>29</th><th>30</th><th>31</th><th>32</th><th>33</th><th>34</th><th>35</th><th>36</th><th>37</th><th>38</th><th>39</th><th>40</th><th>41</th><th>42</th><th>43</th><th>44</th><th>45</th><th>46</th><th>47</th><th>48</th><th>49</th><th>50</th><th>51</th><th>52</th><th>53</th><th>54</th><th>55</th><th>56</th><th>57</th><th>58</th></tr><tr><th>A</th><td>0.02</td><td>0.03</td><td>0.01</td><td>0.08</td><td>0.00</td><td></td><td></td><td>0.02</td><td>0.14</td><td></td><td>0.04</td><td>0.09</td><td>0.03</td><td></td><td></td><td>0.04</td><td>0.00</td><td></td><td></td><td>0.03</td><td></td><td>0.06</td><td>0.02</td><td>0.03</td><td></td><td>0.00</td><td></td><td>0.01</td><td></td><td></td><td></td><td></td><td></td><td></td><td></td><td></td><td></td><td></td><td></td><td></td><td></td><td></td><td></td><td></td><td></td><td></td><td></td><td></td><td></td><td></td><td>0.03</td><td>0.00</td><td>0.03</td><td></td><td>0.02</td><td></td><td></td><td>0.03</td><td>0.02</td></tr><tr><th>R</th><td></td><td>0.01</td><td>0.02</td><td>0.06</td><td>0.01</td><td></td><td>0.02</td><td>0.09</td><td>0.28</td><td>0.02</td><td></td><td>0.07</td><td>0.02</td><td>0.03</td><td>0.04</td><td>0.45</td><td>0.09</td><td></td><td></td><td></td><td></td><td>0.03</td><td>0.04</td><td>0.01</td><td>0.03</td><td></td><td></td><td></td><td></td><td></td><td></td><td></td><td></td><td>0.02</td><td></td><td></td><td></td><td></td><td></td><td></td><td></td><td></td><td></td><td></td><td></td><td></td><td></td><td></td><td></td><td>0.29</td><td>0.11</td><td>0.02</td><td>0.05</td><td></td><td>0.01</td><td>0.21</td><td></td><td>0.33</td><td>0.03</td></tr><tr><th>N</th><td>0.01</td><td>0.00</td><td>0.04</td><td>0.01</td><td>0.05</td><td></td><td></td><td></td><td>0.01</td><td>0.01</td><td></td><td>0.04</td><td>0.04</td><td>0.11</td><td>0.01</td><td></td><td></td><td></td><td></td><td></td><td>0.54</td><td>0.02</td><td>0.32</td><td>0.13</td><td></td><td></td><td></td><td></td><td></td><td></td><td>0.02</td><td></td><td></td><td></td><td></td><td></td><td></td><td></td><td></td><td></td><td></td><td></td><td></td><td></td><td></td><td>0.00</td><td></td><td></td><td>0.06</td><td>0.04</td><td></td><td></td><td></td><td></td><td>0.00</td><td>0.04</td><td></td><td></td><td>0.01</td></tr><tr><th>D</th><td>0.12</td><td></td><td>0.01</td><td>0.04</td><td>0.02</td><td></td><td></td><td></td><td>0.00</td><td>0.01</td><td>0.47</td><td>0.06</td><td>0.09</td><td>0.11</td><td>0.01</td><td>0.02</td><td>0.00</td><td></td><td></td><td></td><td>0.36</td><td>0.01</td><td>0.06</td><td>0.04</td><td></td><td></td><td></td><td></td><td></td><td></td><td></td><td>0.02</td><td></td><td>0.00</td><td></td><td></td><td></td><td></td><td></td><td></td><td></td><td></td><td></td><td></td><td></td><td></td><td></td><td>0.02</td><td></td><td>0.02</td><td>0.01</td><td></td><td></td><td></td><td>0.09</td><td>0.32</td><td></td><td>0.06</td><td>0.11</td></tr><tr><th>C</th><td>0.01</td><td></td><td></td><td>0.02</td><td></td><td></td><td>0.02</td><td>0.01</td><td>0.02</td><td></td><td>0.01</td><td></td><td></td><td>0.02</td><td></td><td>0.00</td><td>0.02</td><td></td><td></td><td></td><td></td><td>0.01</td><td></td><td></td><td></td><td></td><td></td><td>0.02</td><td></td><td></td><td></td><td></td><td></td><td></td><td></td><td></td><td></td><td></td><td></td><td></td><td></td><td></td><td></td><td></td><td></td><td></td><td></td><td></td><td></td><td></td><td>0.01</td><td>0.01</td><td>0.02</td><td>0.03</td><td></td><td></td><td></td><td>0.02</td><td>0.02</td></tr><tr><th>Q</th><td>0.02</td><td></td><td>0.04</td><td>0.01</td><td>0.02</td><td></td><td>0.03</td><td>0.09</td><td></td><td>0.07</td><td></td><td>0.04</td><td>0.04</td><td>0.05</td><td></td><td>0.06</td><td>0.02</td><td>0.00</td><td></td><td></td><td></td><td></td><td>0.07</td><td>0.01</td><td>0.02</td><td></td><td>0.00</td><td></td><td></td><td></td><td>0.00</td><td></td><td></td><td></td><td></td><td></td><td></td><td></td><td>0.00</td><td></td><td></td><td></td><td></td><td></td><td></td><td></td><td></td><td></td><td></td><td>0.09</td><td>0.05</td><td>0.00</td><td>0.30</td><td></td><td>0.08</td><td></td><td></td><td>0.05</td><td></td></tr><tr><th>E</th><td>0.10</td><td>0.00</td><td>0.04</td><td>0.13</td><td>0.08</td><td></td><td>0.62</td><td>0.32</td><td>0.02</td><td>0.06</td><td>0.01</td><td>0.11</td><td>0.02</td><td>0.07</td><td>0.02</td><td>0.05</td><td></td><td></td><td></td><td></td><td></td><td>0.03</td><td>0.10</td><td>0.06</td><td></td><td></td><td></td><td></td><td></td><td>0.02</td><td></td><td></td><td></td><td></td><td></td><td></td><td></td><td></td><td></td><td>0.02</td><td></td><td></td><td></td><td></td><td></td><td></td><td></td><td></td><td></td><td>0.03</td><td>0.13</td><td></td><td>0.02</td><td></td><td>0.41</td><td>0.00</td><td>0.02</td><td>0.02</td><td>0.09</td></tr><tr><th>G</th><td>0.10</td><td>0.01</td><td>0.02</td><td>0.06</td><td>0.60</td><td></td><td>0.02</td><td></td><td>0.09</td><td></td><td></td><td>0.02</td><td>0.05</td><td></td><td>0.82</td><td>0.06</td><td>0.00</td><td></td><td></td><td></td><td></td><td></td><td>0.02</td><td>0.02</td><td></td><td></td><td></td><td></td><td>0.02</td><td></td><td></td><td></td><td></td><td></td><td></td><td>0.00</td><td></td><td></td><td></td><td></td><td></td><td></td><td></td><td>0.00</td><td></td><td></td><td></td><td></td><td></td><td>0.16</td><td></td><td>0.00</td><td>0.00</td><td></td><td></td><td></td><td></td><td>0.02</td><td>0.06</td></tr><tr><th>H</th><td></td><td></td><td>0.01</td><td></td><td>0.01</td><td></td><td></td><td></td><td>0.10</td><td>0.04</td><td>0.04</td><td>0.02</td><td>0.02</td><td>0.04</td><td></td><td></td><td>0.01</td><td></td><td></td><td>0.00</td><td>0.08</td><td>0.56</td><td></td><td></td><td></td><td></td><td></td><td></td><td></td><td></td><td></td><td></td><td>0.00</td><td></td><td></td><td></td><td></td><td></td><td></td><td></td><td></td><td></td><td></td><td></td><td></td><td></td><td>0.01</td><td></td><td></td><td>0.00</td><td></td><td></td><td>0.00</td><td></td><td>0.05</td><td>0.15</td><td></td><td>0.02</td><td></td></tr><tr><th>I</th><td>0.04</td><td>0.02</td><td></td><td></td><td>0.01</td><td></td><td>0.01</td><td>0.03</td><td>0.07</td><td>0.14</td><td>0.01</td><td>0.04</td><td></td><td>0.01</td><td>0.01</td><td>0.02</td><td>0.11</td><td></td><td></td><td>0.27</td><td></td><td>0.03</td><td>0.09</td><td>0.01</td><td></td><td></td><td></td><td></td><td></td><td></td><td></td><td></td><td></td><td></td><td></td><td></td><td></td><td></td><td></td><td></td><td></td><td></td><td></td><td></td><td></td><td></td><td></td><td>0.03</td><td></td><td></td><td>0.04</td><td></td><td></td><td>0.02</td><td>0.05</td><td></td><td></td><td>0.02</td><td>0.02</td></tr><tr><th>L</th><td>0.05</td><td>0.73</td><td></td><td>0.02</td><td>0.00</td><td></td><td>0.02</td><td></td><td>0.02</td><td>0.03</td><td>0.00</td><td>0.03</td><td></td><td>0.04</td><td></td><td>0.02</td><td></td><td>0.00</td><td></td><td>0.05</td><td></td><td>0.02</td><td>0.02</td><td>0.01</td><td></td><td></td><td>0.02</td><td></td><td></td><td></td><td></td><td></td><td></td><td></td><td>0.00</td><td></td><td></td><td>0.00</td><td></td><td></td><td></td><td></td><td></td><td></td><td></td><td></td><td></td><td>0.01</td><td></td><td>0.01</td><td>0.04</td><td></td><td>0.01</td><td></td><td>0.13</td><td>0.05</td><td></td><td>0.00</td><td>0.23</td></tr><tr><th>K</th><td>0.01</td><td></td><td>0.05</td><td>0.02</td><td>0.01</td><td></td><td>0.05</td><td>0.15</td><td>0.06</td><td>0.12</td><td></td><td>0.04</td><td></td><td>0.02</td><td>0.04</td><td>0.12</td><td>0.04</td><td></td><td></td><td></td><td></td><td>0.01</td><td>0.02</td><td></td><td></td><td>0.03</td><td></td><td></td><td></td><td></td><td></td><td></td><td></td><td></td><td></td><td></td><td></td><td></td><td></td><td></td><td></td><td></td><td></td><td></td><td></td><td></td><td></td><td></td><td></td><td>0.28</td><td>0.06</td><td>0.00</td><td></td><td></td><td>0.07</td><td>0.11</td><td></td><td>0.09</td><td>0.03</td></tr><tr><th>M</th><td></td><td></td><td>0.00</td><td></td><td>0.02</td><td></td><td>0.02</td><td>0.13</td><td></td><td>0.02</td><td></td><td>0.00</td><td></td><td>0.01</td><td></td><td>0.01</td><td>0.00</td><td>0.01</td><td></td><td></td><td></td><td></td><td></td><td>0.00</td><td></td><td></td><td></td><td></td><td></td><td></td><td></td><td></td><td></td><td></td><td></td><td></td><td></td><td></td><td></td><td></td><td></td><td></td><td></td><td></td><td></td><td></td><td></td><td></td><td></td><td></td><td></td><td></td><td>0.03</td><td></td><td></td><td>0.01</td><td></td><td>0.00</td><td>0.05</td></tr><tr><th>F</th><td>0.05</td><td></td><td></td><td></td><td></td><td></td><td></td><td></td><td></td><td>0.09</td><td></td><td>0.03</td><td></td><td>0.01</td><td>0.00</td><td>0.01</td><td>0.01</td><td>0.23</td><td>0.34</td><td>0.04</td><td></td><td>0.02</td><td>0.02</td><td></td><td></td><td></td><td></td><td></td><td></td><td></td><td></td><td></td><td></td><td></td><td></td><td></td><td></td><td></td><td></td><td></td><td></td><td></td><td></td><td></td><td>0.00</td><td></td><td></td><td></td><td></td><td></td><td></td><td></td><td></td><td>0.08</td><td></td><td>0.00</td><td></td><td>0.02</td><td>0.01</td></tr><tr><th>P</th><td>0.31</td><td>0.04</td><td>0.72</td><td>0.35</td><td>0.08</td><td></td><td></td><td>0.02</td><td></td><td></td><td></td><td>0.24</td><td>0.00</td><td></td><td></td><td></td><td>0.17</td><td></td><td></td><td></td><td></td><td>0.07</td><td>0.05</td><td></td><td></td><td></td><td></td><td></td><td></td><td></td><td></td><td></td><td></td><td></td><td></td><td></td><td></td><td></td><td></td><td>0.00</td><td>0.00</td><td>0.00</td><td>0.02</td><td></td><td></td><td></td><td></td><td></td><td></td><td></td><td>0.00</td><td></td><td></td><td>0.00</td><td></td><td>0.06</td><td>0.98</td><td>0.00</td><td>0.04</td></tr><tr><th>S</th><td>0.06</td><td>0.06</td><td>0.02</td><td>0.06</td><td>0.05</td><td></td><td>0.04</td><td>0.02</td><td>0.01</td><td>0.02</td><td>0.14</td><td>0.09</td><td>0.13</td><td>0.07</td><td>0.01</td><td></td><td>0.03</td><td></td><td></td><td></td><td>0.02</td><td>0.02</td><td>0.02</td><td>0.12</td><td></td><td></td><td></td><td></td><td></td><td></td><td></td><td></td><td></td><td></td><td></td><td></td><td>0.00</td><td></td><td></td><td></td><td>0.02</td><td></td><td></td><td>0.02</td><td></td><td></td><td></td><td></td><td>0.02</td><td>0.03</td><td>0.06</td><td>0.21</td><td>0.09</td><td></td><td>0.01</td><td>0.04</td><td></td><td>0.06</td><td>0.04</td></tr><tr><th>T</th><td>0.05</td><td>0.05</td><td></td><td>0.07</td><td></td><td></td><td>0.07</td><td>0.04</td><td>0.01</td><td>0.12</td><td>0.27</td><td>0.05</td><td>0.02</td><td>0.07</td><td></td><td></td><td>0.21</td><td></td><td></td><td>0.00</td><td></td><td>0.06</td><td>0.07</td><td>0.51</td><td></td><td>0.01</td><td>0.01</td><td>0.03</td><td></td><td></td><td></td><td></td><td>0.02</td><td></td><td></td><td></td><td></td><td></td><td></td><td></td><td></td><td></td><td></td><td></td><td></td><td></td><td></td><td></td><td></td><td></td><td>0.36</td><td>0.66</td><td>0.38</td><td></td><td>0.06</td><td></td><td></td><td>0.09</td><td>0.12</td></tr><tr><th>W</th><td></td><td></td><td></td><td>0.01</td><td></td><td>0.98</td><td>0.01</td><td></td><td></td><td>0.06</td><td></td><td></td><td></td><td></td><td></td><td>0.02</td><td></td><td></td><td></td><td>0.08</td><td></td><td></td><td></td><td></td><td></td><td></td><td></td><td></td><td></td><td></td><td></td><td>0.00</td><td></td><td></td><td></td><td></td><td></td><td></td><td></td><td></td><td></td><td></td><td></td><td></td><td></td><td></td><td></td><td></td><td></td><td></td><td></td><td></td><td></td><td>0.81</td><td></td><td></td><td></td><td></td><td>0.04</td></tr><tr><th>Y</th><td>0.01</td><td></td><td></td><td>0.05</td><td></td><td>0.02</td><td>0.02</td><td>0.04</td><td>0.07</td><td>0.09</td><td></td><td>0.01</td><td></td><td></td><td>0.04</td><td>0.02</td><td>0.01</td><td>0.74</td><td>0.66</td><td>0.23</td><td></td><td></td><td></td><td></td><td></td><td></td><td></td><td></td><td></td><td></td><td></td><td></td><td></td><td></td><td></td><td></td><td></td><td></td><td></td><td></td><td></td><td></td><td></td><td></td><td>0.02</td><td></td><td></td><td></td><td></td><td></td><td></td><td></td><td></td><td>0.06</td><td></td><td></td><td></td><td>0.01</td><td>0.02</td></tr><tr><th>V</th><td>0.01</td><td>0.05</td><td>0.01</td><td>0.00</td><td>0.03</td><td></td><td>0.06</td><td>0.04</td><td>0.09</td><td>0.10</td><td>0.00</td><td>0.03</td><td></td><td>0.02</td><td>0.00</td><td>0.04</td><td>0.28</td><td>0.01</td><td></td><td>0.30</td><td></td><td>0.02</td><td>0.04</td><td></td><td>0.00</td><td>0.02</td><td>0.03</td><td></td><td></td><td>0.00</td><td></td><td></td><td></td><td></td><td></td><td></td><td></td><td></td><td></td><td></td><td></td><td>0.02</td><td></td><td></td><td></td><td></td><td></td><td></td><td></td><td></td><td>0.06</td><td>0.05</td><td>0.03</td><td></td><td>0.00</td><td></td><td></td><td>0.13</td><td>0.05</td></tr>\n",
       "        </table>\n",
       "    "
      ],
      "text/plain": [
       "<IPython.core.display.HTML object>"
      ]
     },
     "metadata": {},
     "output_type": "display_data"
    },
    {
     "name": "stdout",
     "output_type": "stream",
     "text": [
      "q:\n"
     ]
    },
    {
     "data": {
      "text/html": [
       "\n",
       "        <table>\n",
       "            <tr><td></td><th>0</th><th>1</th><th>2</th><th>3</th><th>4</th><th>5</th><th>6</th><th>7</th><th>8</th><th>9</th><th>10</th><th>11</th><th>12</th><th>13</th><th>14</th><th>15</th><th>16</th><th>17</th><th>18</th><th>19</th><th>20</th><th>21</th><th>22</th><th>23</th><th>24</th><th>25</th><th>26</th><th>27</th><th>28</th><th>29</th><th>30</th><th>31</th><th>32</th><th>33</th><th>34</th><th>35</th><th>36</th><th>37</th><th>38</th><th>39</th><th>40</th><th>41</th><th>42</th><th>43</th><th>44</th><th>45</th><th>46</th><th>47</th><th>48</th><th>49</th><th>50</th><th>51</th><th>52</th><th>53</th><th>54</th><th>55</th><th>56</th><th>57</th><th>58</th></tr><tr><th>A</th><td>0.52</td><td>0.52</td><td>0.51</td><td>0.57</td><td>0.50</td><td>0.50</td><td>0.50</td><td>0.52</td><td>0.63</td><td>0.50</td><td>0.53</td><td>0.58</td><td>0.52</td><td>0.50</td><td>0.50</td><td>0.53</td><td>0.50</td><td>0.50</td><td>0.50</td><td>0.52</td><td>0.50</td><td>0.56</td><td>0.51</td><td>0.53</td><td>0.50</td><td>0.50</td><td>0.50</td><td>0.51</td><td>0.50</td><td>0.50</td><td>0.50</td><td>0.50</td><td>0.50</td><td>0.50</td><td>0.50</td><td>0.50</td><td>0.50</td><td>0.50</td><td>0.50</td><td>0.50</td><td>0.50</td><td>0.50</td><td>0.50</td><td>0.50</td><td>0.50</td><td>0.50</td><td>0.50</td><td>0.50</td><td>0.50</td><td>0.50</td><td>0.52</td><td>0.50</td><td>0.52</td><td>0.50</td><td>0.52</td><td>0.50</td><td>0.50</td><td>0.53</td><td>0.52</td></tr><tr><th>R</th><td>0.33</td><td>0.34</td><td>0.35</td><td>0.39</td><td>0.34</td><td>0.33</td><td>0.35</td><td>0.42</td><td>0.59</td><td>0.35</td><td>0.33</td><td>0.40</td><td>0.35</td><td>0.36</td><td>0.37</td><td>0.76</td><td>0.41</td><td>0.33</td><td>0.33</td><td>0.33</td><td>0.33</td><td>0.36</td><td>0.37</td><td>0.34</td><td>0.36</td><td>0.33</td><td>0.33</td><td>0.33</td><td>0.33</td><td>0.33</td><td>0.33</td><td>0.33</td><td>0.33</td><td>0.35</td><td>0.33</td><td>0.33</td><td>0.33</td><td>0.33</td><td>0.33</td><td>0.33</td><td>0.33</td><td>0.33</td><td>0.33</td><td>0.33</td><td>0.33</td><td>0.33</td><td>0.33</td><td>0.33</td><td>0.33</td><td>0.60</td><td>0.43</td><td>0.35</td><td>0.38</td><td>0.33</td><td>0.34</td><td>0.53</td><td>0.33</td><td>0.64</td><td>0.36</td></tr><tr><th>N</th><td>0.26</td><td>0.25</td><td>0.28</td><td>0.25</td><td>0.29</td><td>0.24</td><td>0.24</td><td>0.24</td><td>0.26</td><td>0.25</td><td>0.24</td><td>0.28</td><td>0.29</td><td>0.34</td><td>0.25</td><td>0.24</td><td>0.24</td><td>0.24</td><td>0.24</td><td>0.24</td><td>0.75</td><td>0.26</td><td>0.54</td><td>0.36</td><td>0.24</td><td>0.24</td><td>0.24</td><td>0.24</td><td>0.24</td><td>0.24</td><td>0.26</td><td>0.24</td><td>0.24</td><td>0.24</td><td>0.24</td><td>0.24</td><td>0.24</td><td>0.24</td><td>0.24</td><td>0.24</td><td>0.24</td><td>0.24</td><td>0.24</td><td>0.24</td><td>0.24</td><td>0.25</td><td>0.24</td><td>0.24</td><td>0.30</td><td>0.29</td><td>0.24</td><td>0.24</td><td>0.24</td><td>0.24</td><td>0.25</td><td>0.28</td><td>0.24</td><td>0.24</td><td>0.26</td></tr><tr><th>D</th><td>0.44</td><td>0.33</td><td>0.34</td><td>0.37</td><td>0.35</td><td>0.33</td><td>0.33</td><td>0.33</td><td>0.33</td><td>0.34</td><td>0.77</td><td>0.38</td><td>0.41</td><td>0.43</td><td>0.34</td><td>0.34</td><td>0.33</td><td>0.33</td><td>0.33</td><td>0.33</td><td>0.67</td><td>0.34</td><td>0.39</td><td>0.36</td><td>0.33</td><td>0.33</td><td>0.33</td><td>0.33</td><td>0.33</td><td>0.33</td><td>0.33</td><td>0.34</td><td>0.33</td><td>0.33</td><td>0.33</td><td>0.33</td><td>0.33</td><td>0.33</td><td>0.33</td><td>0.33</td><td>0.33</td><td>0.33</td><td>0.33</td><td>0.33</td><td>0.33</td><td>0.33</td><td>0.33</td><td>0.34</td><td>0.33</td><td>0.35</td><td>0.34</td><td>0.33</td><td>0.33</td><td>0.33</td><td>0.42</td><td>0.62</td><td>0.33</td><td>0.38</td><td>0.43</td></tr><tr><th>C</th><td>0.09</td><td>0.08</td><td>0.08</td><td>0.11</td><td>0.08</td><td>0.08</td><td>0.10</td><td>0.09</td><td>0.11</td><td>0.08</td><td>0.09</td><td>0.08</td><td>0.08</td><td>0.11</td><td>0.08</td><td>0.09</td><td>0.10</td><td>0.08</td><td>0.08</td><td>0.08</td><td>0.08</td><td>0.09</td><td>0.08</td><td>0.08</td><td>0.08</td><td>0.08</td><td>0.08</td><td>0.10</td><td>0.08</td><td>0.08</td><td>0.08</td><td>0.08</td><td>0.08</td><td>0.08</td><td>0.08</td><td>0.08</td><td>0.08</td><td>0.08</td><td>0.08</td><td>0.08</td><td>0.08</td><td>0.08</td><td>0.08</td><td>0.08</td><td>0.08</td><td>0.08</td><td>0.08</td><td>0.08</td><td>0.08</td><td>0.08</td><td>0.09</td><td>0.09</td><td>0.10</td><td>0.11</td><td>0.08</td><td>0.08</td><td>0.08</td><td>0.10</td><td>0.11</td></tr><tr><th>Q</th><td>0.26</td><td>0.24</td><td>0.27</td><td>0.24</td><td>0.26</td><td>0.24</td><td>0.26</td><td>0.32</td><td>0.24</td><td>0.30</td><td>0.24</td><td>0.27</td><td>0.27</td><td>0.29</td><td>0.24</td><td>0.30</td><td>0.25</td><td>0.24</td><td>0.24</td><td>0.24</td><td>0.24</td><td>0.24</td><td>0.30</td><td>0.24</td><td>0.26</td><td>0.24</td><td>0.24</td><td>0.24</td><td>0.24</td><td>0.24</td><td>0.24</td><td>0.24</td><td>0.24</td><td>0.24</td><td>0.24</td><td>0.24</td><td>0.24</td><td>0.24</td><td>0.24</td><td>0.24</td><td>0.24</td><td>0.24</td><td>0.24</td><td>0.24</td><td>0.24</td><td>0.24</td><td>0.24</td><td>0.24</td><td>0.24</td><td>0.32</td><td>0.28</td><td>0.24</td><td>0.52</td><td>0.24</td><td>0.31</td><td>0.24</td><td>0.24</td><td>0.28</td><td>0.24</td></tr><tr><th>E</th><td>0.50</td><td>0.41</td><td>0.44</td><td>0.52</td><td>0.48</td><td>0.40</td><td>0.98</td><td>0.71</td><td>0.43</td><td>0.46</td><td>0.41</td><td>0.50</td><td>0.42</td><td>0.47</td><td>0.42</td><td>0.45</td><td>0.40</td><td>0.40</td><td>0.40</td><td>0.40</td><td>0.40</td><td>0.44</td><td>0.50</td><td>0.47</td><td>0.40</td><td>0.40</td><td>0.40</td><td>0.40</td><td>0.40</td><td>0.42</td><td>0.40</td><td>0.40</td><td>0.40</td><td>0.40</td><td>0.40</td><td>0.40</td><td>0.40</td><td>0.40</td><td>0.40</td><td>0.42</td><td>0.40</td><td>0.40</td><td>0.40</td><td>0.40</td><td>0.40</td><td>0.40</td><td>0.40</td><td>0.40</td><td>0.40</td><td>0.44</td><td>0.53</td><td>0.40</td><td>0.42</td><td>0.40</td><td>0.79</td><td>0.41</td><td>0.42</td><td>0.43</td><td>0.49</td></tr><tr><th>G</th><td>0.52</td><td>0.43</td><td>0.44</td><td>0.48</td><td>0.99</td><td>0.43</td><td>0.44</td><td>0.43</td><td>0.51</td><td>0.43</td><td>0.43</td><td>0.44</td><td>0.47</td><td>0.43</td><td>1.20</td><td>0.48</td><td>0.43</td><td>0.43</td><td>0.43</td><td>0.43</td><td>0.43</td><td>0.43</td><td>0.44</td><td>0.44</td><td>0.43</td><td>0.43</td><td>0.43</td><td>0.43</td><td>0.44</td><td>0.43</td><td>0.43</td><td>0.43</td><td>0.43</td><td>0.43</td><td>0.43</td><td>0.43</td><td>0.43</td><td>0.43</td><td>0.43</td><td>0.43</td><td>0.43</td><td>0.43</td><td>0.43</td><td>0.43</td><td>0.43</td><td>0.43</td><td>0.43</td><td>0.43</td><td>0.43</td><td>0.57</td><td>0.43</td><td>0.43</td><td>0.43</td><td>0.43</td><td>0.43</td><td>0.43</td><td>0.43</td><td>0.45</td><td>0.48</td></tr><tr><th>H</th><td>0.14</td><td>0.14</td><td>0.14</td><td>0.14</td><td>0.14</td><td>0.14</td><td>0.14</td><td>0.14</td><td>0.23</td><td>0.17</td><td>0.17</td><td>0.16</td><td>0.15</td><td>0.17</td><td>0.14</td><td>0.14</td><td>0.15</td><td>0.14</td><td>0.14</td><td>0.14</td><td>0.21</td><td>0.66</td><td>0.14</td><td>0.14</td><td>0.14</td><td>0.14</td><td>0.14</td><td>0.14</td><td>0.14</td><td>0.14</td><td>0.14</td><td>0.14</td><td>0.14</td><td>0.14</td><td>0.14</td><td>0.14</td><td>0.14</td><td>0.14</td><td>0.14</td><td>0.14</td><td>0.14</td><td>0.14</td><td>0.14</td><td>0.14</td><td>0.14</td><td>0.14</td><td>0.14</td><td>0.14</td><td>0.14</td><td>0.14</td><td>0.14</td><td>0.14</td><td>0.14</td><td>0.14</td><td>0.19</td><td>0.27</td><td>0.14</td><td>0.16</td><td>0.14</td></tr><tr><th>I</th><td>0.39</td><td>0.37</td><td>0.36</td><td>0.36</td><td>0.37</td><td>0.36</td><td>0.36</td><td>0.38</td><td>0.42</td><td>0.49</td><td>0.37</td><td>0.39</td><td>0.36</td><td>0.36</td><td>0.37</td><td>0.38</td><td>0.46</td><td>0.36</td><td>0.36</td><td>0.61</td><td>0.36</td><td>0.39</td><td>0.44</td><td>0.37</td><td>0.36</td><td>0.36</td><td>0.36</td><td>0.36</td><td>0.36</td><td>0.36</td><td>0.36</td><td>0.36</td><td>0.36</td><td>0.36</td><td>0.36</td><td>0.36</td><td>0.36</td><td>0.36</td><td>0.36</td><td>0.36</td><td>0.36</td><td>0.36</td><td>0.36</td><td>0.36</td><td>0.36</td><td>0.36</td><td>0.36</td><td>0.39</td><td>0.36</td><td>0.36</td><td>0.40</td><td>0.36</td><td>0.36</td><td>0.37</td><td>0.40</td><td>0.36</td><td>0.36</td><td>0.37</td><td>0.37</td></tr><tr><th>L</th><td>0.63</td><td>1.26</td><td>0.58</td><td>0.60</td><td>0.58</td><td>0.58</td><td>0.59</td><td>0.58</td><td>0.60</td><td>0.61</td><td>0.58</td><td>0.61</td><td>0.58</td><td>0.62</td><td>0.58</td><td>0.60</td><td>0.58</td><td>0.58</td><td>0.58</td><td>0.63</td><td>0.58</td><td>0.60</td><td>0.60</td><td>0.59</td><td>0.58</td><td>0.58</td><td>0.59</td><td>0.58</td><td>0.58</td><td>0.58</td><td>0.58</td><td>0.58</td><td>0.58</td><td>0.58</td><td>0.58</td><td>0.58</td><td>0.58</td><td>0.58</td><td>0.58</td><td>0.58</td><td>0.58</td><td>0.58</td><td>0.58</td><td>0.58</td><td>0.58</td><td>0.58</td><td>0.58</td><td>0.59</td><td>0.58</td><td>0.59</td><td>0.62</td><td>0.58</td><td>0.59</td><td>0.58</td><td>0.71</td><td>0.63</td><td>0.58</td><td>0.58</td><td>0.79</td></tr><tr><th>K</th><td>0.36</td><td>0.35</td><td>0.40</td><td>0.37</td><td>0.36</td><td>0.35</td><td>0.40</td><td>0.49</td><td>0.41</td><td>0.46</td><td>0.35</td><td>0.38</td><td>0.35</td><td>0.37</td><td>0.38</td><td>0.46</td><td>0.38</td><td>0.35</td><td>0.35</td><td>0.35</td><td>0.35</td><td>0.36</td><td>0.37</td><td>0.35</td><td>0.35</td><td>0.38</td><td>0.35</td><td>0.35</td><td>0.35</td><td>0.35</td><td>0.35</td><td>0.35</td><td>0.35</td><td>0.35</td><td>0.35</td><td>0.35</td><td>0.35</td><td>0.35</td><td>0.35</td><td>0.35</td><td>0.35</td><td>0.35</td><td>0.35</td><td>0.35</td><td>0.35</td><td>0.35</td><td>0.35</td><td>0.35</td><td>0.35</td><td>0.62</td><td>0.40</td><td>0.35</td><td>0.35</td><td>0.35</td><td>0.42</td><td>0.46</td><td>0.35</td><td>0.44</td><td>0.38</td></tr><tr><th>M</th><td>0.14</td><td>0.14</td><td>0.15</td><td>0.14</td><td>0.16</td><td>0.14</td><td>0.17</td><td>0.26</td><td>0.14</td><td>0.16</td><td>0.14</td><td>0.15</td><td>0.14</td><td>0.16</td><td>0.14</td><td>0.15</td><td>0.15</td><td>0.15</td><td>0.14</td><td>0.14</td><td>0.14</td><td>0.14</td><td>0.14</td><td>0.15</td><td>0.14</td><td>0.14</td><td>0.14</td><td>0.14</td><td>0.14</td><td>0.14</td><td>0.14</td><td>0.14</td><td>0.14</td><td>0.14</td><td>0.14</td><td>0.14</td><td>0.14</td><td>0.14</td><td>0.14</td><td>0.14</td><td>0.14</td><td>0.14</td><td>0.14</td><td>0.14</td><td>0.14</td><td>0.14</td><td>0.14</td><td>0.14</td><td>0.14</td><td>0.14</td><td>0.14</td><td>0.14</td><td>0.18</td><td>0.14</td><td>0.14</td><td>0.15</td><td>0.14</td><td>0.15</td><td>0.19</td></tr><tr><th>F</th><td>0.28</td><td>0.23</td><td>0.23</td><td>0.23</td><td>0.23</td><td>0.23</td><td>0.23</td><td>0.23</td><td>0.23</td><td>0.32</td><td>0.23</td><td>0.26</td><td>0.23</td><td>0.24</td><td>0.24</td><td>0.24</td><td>0.24</td><td>0.45</td><td>0.55</td><td>0.27</td><td>0.23</td><td>0.25</td><td>0.25</td><td>0.23</td><td>0.23</td><td>0.23</td><td>0.23</td><td>0.23</td><td>0.23</td><td>0.23</td><td>0.23</td><td>0.23</td><td>0.23</td><td>0.23</td><td>0.23</td><td>0.23</td><td>0.23</td><td>0.23</td><td>0.23</td><td>0.23</td><td>0.23</td><td>0.23</td><td>0.23</td><td>0.23</td><td>0.24</td><td>0.23</td><td>0.23</td><td>0.23</td><td>0.23</td><td>0.23</td><td>0.23</td><td>0.23</td><td>0.23</td><td>0.30</td><td>0.23</td><td>0.24</td><td>0.23</td><td>0.25</td><td>0.24</td></tr><tr><th>P</th><td>0.58</td><td>0.33</td><td>0.96</td><td>0.61</td><td>0.36</td><td>0.28</td><td>0.28</td><td>0.30</td><td>0.28</td><td>0.28</td><td>0.28</td><td>0.51</td><td>0.29</td><td>0.28</td><td>0.28</td><td>0.28</td><td>0.44</td><td>0.28</td><td>0.28</td><td>0.28</td><td>0.28</td><td>0.35</td><td>0.33</td><td>0.28</td><td>0.28</td><td>0.28</td><td>0.28</td><td>0.28</td><td>0.28</td><td>0.28</td><td>0.28</td><td>0.28</td><td>0.28</td><td>0.28</td><td>0.28</td><td>0.28</td><td>0.28</td><td>0.28</td><td>0.28</td><td>0.29</td><td>0.29</td><td>0.29</td><td>0.30</td><td>0.28</td><td>0.28</td><td>0.28</td><td>0.28</td><td>0.28</td><td>0.28</td><td>0.28</td><td>0.29</td><td>0.28</td><td>0.28</td><td>0.29</td><td>0.28</td><td>0.34</td><td>1.20</td><td>0.29</td><td>0.32</td></tr><tr><th>S</th><td>0.46</td><td>0.45</td><td>0.42</td><td>0.45</td><td>0.45</td><td>0.40</td><td>0.43</td><td>0.41</td><td>0.40</td><td>0.41</td><td>0.53</td><td>0.48</td><td>0.52</td><td>0.46</td><td>0.40</td><td>0.40</td><td>0.42</td><td>0.40</td><td>0.40</td><td>0.40</td><td>0.41</td><td>0.42</td><td>0.42</td><td>0.51</td><td>0.40</td><td>0.40</td><td>0.40</td><td>0.40</td><td>0.40</td><td>0.40</td><td>0.40</td><td>0.40</td><td>0.40</td><td>0.40</td><td>0.40</td><td>0.40</td><td>0.40</td><td>0.40</td><td>0.40</td><td>0.40</td><td>0.41</td><td>0.40</td><td>0.40</td><td>0.41</td><td>0.40</td><td>0.40</td><td>0.40</td><td>0.40</td><td>0.41</td><td>0.43</td><td>0.46</td><td>0.59</td><td>0.48</td><td>0.40</td><td>0.41</td><td>0.44</td><td>0.40</td><td>0.45</td><td>0.43</td></tr><tr><th>T</th><td>0.37</td><td>0.37</td><td>0.32</td><td>0.39</td><td>0.32</td><td>0.32</td><td>0.39</td><td>0.36</td><td>0.33</td><td>0.43</td><td>0.58</td><td>0.37</td><td>0.34</td><td>0.39</td><td>0.32</td><td>0.32</td><td>0.52</td><td>0.32</td><td>0.32</td><td>0.33</td><td>0.32</td><td>0.38</td><td>0.39</td><td>0.80</td><td>0.32</td><td>0.33</td><td>0.33</td><td>0.35</td><td>0.32</td><td>0.32</td><td>0.32</td><td>0.32</td><td>0.34</td><td>0.32</td><td>0.32</td><td>0.32</td><td>0.32</td><td>0.32</td><td>0.32</td><td>0.32</td><td>0.32</td><td>0.32</td><td>0.32</td><td>0.32</td><td>0.32</td><td>0.32</td><td>0.32</td><td>0.32</td><td>0.32</td><td>0.32</td><td>0.66</td><td>0.95</td><td>0.68</td><td>0.32</td><td>0.38</td><td>0.32</td><td>0.32</td><td>0.40</td><td>0.43</td></tr><tr><th>W</th><td>0.07</td><td>0.07</td><td>0.07</td><td>0.08</td><td>0.07</td><td>0.99</td><td>0.07</td><td>0.07</td><td>0.07</td><td>0.12</td><td>0.07</td><td>0.07</td><td>0.07</td><td>0.07</td><td>0.07</td><td>0.09</td><td>0.07</td><td>0.07</td><td>0.07</td><td>0.14</td><td>0.07</td><td>0.07</td><td>0.07</td><td>0.07</td><td>0.07</td><td>0.07</td><td>0.07</td><td>0.07</td><td>0.07</td><td>0.07</td><td>0.07</td><td>0.07</td><td>0.07</td><td>0.07</td><td>0.07</td><td>0.07</td><td>0.07</td><td>0.07</td><td>0.07</td><td>0.07</td><td>0.07</td><td>0.07</td><td>0.07</td><td>0.07</td><td>0.07</td><td>0.07</td><td>0.07</td><td>0.07</td><td>0.07</td><td>0.07</td><td>0.07</td><td>0.07</td><td>0.07</td><td>0.83</td><td>0.07</td><td>0.07</td><td>0.07</td><td>0.07</td><td>0.10</td></tr><tr><th>Y</th><td>0.18</td><td>0.18</td><td>0.18</td><td>0.22</td><td>0.18</td><td>0.19</td><td>0.20</td><td>0.21</td><td>0.24</td><td>0.26</td><td>0.18</td><td>0.19</td><td>0.18</td><td>0.18</td><td>0.21</td><td>0.19</td><td>0.19</td><td>0.87</td><td>0.80</td><td>0.39</td><td>0.18</td><td>0.18</td><td>0.18</td><td>0.18</td><td>0.18</td><td>0.18</td><td>0.18</td><td>0.18</td><td>0.18</td><td>0.18</td><td>0.18</td><td>0.18</td><td>0.18</td><td>0.18</td><td>0.18</td><td>0.18</td><td>0.18</td><td>0.18</td><td>0.18</td><td>0.18</td><td>0.18</td><td>0.18</td><td>0.18</td><td>0.18</td><td>0.19</td><td>0.18</td><td>0.18</td><td>0.18</td><td>0.18</td><td>0.18</td><td>0.18</td><td>0.18</td><td>0.18</td><td>0.24</td><td>0.18</td><td>0.18</td><td>0.18</td><td>0.19</td><td>0.20</td></tr><tr><th>V</th><td>0.42</td><td>0.46</td><td>0.42</td><td>0.42</td><td>0.44</td><td>0.41</td><td>0.47</td><td>0.45</td><td>0.49</td><td>0.51</td><td>0.42</td><td>0.44</td><td>0.41</td><td>0.43</td><td>0.42</td><td>0.45</td><td>0.67</td><td>0.42</td><td>0.41</td><td>0.69</td><td>0.41</td><td>0.43</td><td>0.45</td><td>0.41</td><td>0.42</td><td>0.43</td><td>0.44</td><td>0.41</td><td>0.41</td><td>0.42</td><td>0.41</td><td>0.41</td><td>0.41</td><td>0.41</td><td>0.41</td><td>0.41</td><td>0.41</td><td>0.41</td><td>0.41</td><td>0.41</td><td>0.41</td><td>0.43</td><td>0.41</td><td>0.41</td><td>0.41</td><td>0.41</td><td>0.41</td><td>0.41</td><td>0.41</td><td>0.41</td><td>0.47</td><td>0.46</td><td>0.44</td><td>0.41</td><td>0.42</td><td>0.41</td><td>0.41</td><td>0.53</td><td>0.46</td></tr>\n",
       "        </table>\n",
       "    "
      ],
      "text/plain": [
       "<IPython.core.display.HTML object>"
      ]
     },
     "metadata": {},
     "output_type": "display_data"
    },
    {
     "name": "stdout",
     "output_type": "stream",
     "text": [
      "m:\n"
     ]
    },
    {
     "data": {
      "text/html": [
       "\n",
       "        <table>\n",
       "            <tr><td></td><th>0</th><th>1</th><th>2</th><th>3</th><th>4</th><th>5</th><th>6</th><th>7</th><th>8</th><th>9</th><th>10</th><th>11</th><th>12</th><th>13</th><th>14</th><th>15</th><th>16</th><th>17</th><th>18</th><th>19</th><th>20</th><th>21</th><th>22</th><th>23</th><th>24</th><th>25</th><th>26</th><th>27</th><th>28</th><th>29</th><th>30</th><th>31</th><th>32</th><th>33</th><th>34</th><th>35</th><th>36</th><th>37</th><th>38</th><th>39</th><th>40</th><th>41</th><th>42</th><th>43</th><th>44</th><th>45</th><th>46</th><th>47</th><th>48</th><th>49</th><th>50</th><th>51</th><th>52</th><th>53</th><th>54</th><th>55</th><th>56</th><th>57</th><th>58</th></tr><tr><th>A</th><td style='color: red'>-1.20</td><td style='color: red'>-1.20</td><td style='color: red'>-1.21</td><td style='color: red'>-1.16</td><td style='color: red'>-1.22</td><td style='color: red'>-1.22</td><td style='color: red'>-1.22</td><td style='color: red'>-1.20</td><td style='color: red'>-1.12</td><td style='color: red'>-1.22</td><td style='color: red'>-1.19</td><td style='color: red'>-1.15</td><td style='color: red'>-1.20</td><td style='color: red'>-1.22</td><td style='color: red'>-1.22</td><td style='color: red'>-1.19</td><td style='color: red'>-1.22</td><td style='color: red'>-1.22</td><td style='color: red'>-1.22</td><td style='color: red'>-1.20</td><td style='color: red'>-1.22</td><td style='color: red'>-1.17</td><td style='color: red'>-1.21</td><td style='color: red'>-1.20</td><td style='color: red'>-1.22</td><td style='color: red'>-1.22</td><td style='color: red'>-1.22</td><td style='color: red'>-1.21</td><td style='color: red'>-1.22</td><td style='color: red'>-1.22</td><td style='color: red'>-1.22</td><td style='color: red'>-1.22</td><td style='color: red'>-1.22</td><td style='color: red'>-1.22</td><td style='color: red'>-1.22</td><td style='color: red'>-1.22</td><td style='color: red'>-1.22</td><td style='color: red'>-1.22</td><td style='color: red'>-1.22</td><td style='color: red'>-1.22</td><td style='color: red'>-1.22</td><td style='color: red'>-1.22</td><td style='color: red'>-1.22</td><td style='color: red'>-1.22</td><td style='color: red'>-1.22</td><td style='color: red'>-1.22</td><td style='color: red'>-1.22</td><td style='color: red'>-1.22</td><td style='color: red'>-1.22</td><td style='color: red'>-1.22</td><td style='color: red'>-1.20</td><td style='color: red'>-1.22</td><td style='color: red'>-1.20</td><td style='color: red'>-1.22</td><td style='color: red'>-1.21</td><td style='color: red'>-1.22</td><td style='color: red'>-1.22</td><td style='color: red'>-1.20</td><td style='color: red'>-1.21</td></tr><tr><th>R</th><td style='color: red'>-1.22</td><td style='color: red'>-1.21</td><td style='color: red'>-1.20</td><td style='color: red'>-1.15</td><td style='color: red'>-1.21</td><td style='color: red'>-1.22</td><td style='color: red'>-1.20</td><td style='color: red'>-1.12</td><td style='color: red'>-0.97</td><td style='color: red'>-1.19</td><td style='color: red'>-1.22</td><td style='color: red'>-1.14</td><td style='color: red'>-1.20</td><td style='color: red'>-1.19</td><td style='color: red'>-1.18</td><td style='color: red'>-0.86</td><td style='color: red'>-1.13</td><td style='color: red'>-1.22</td><td style='color: red'>-1.22</td><td style='color: red'>-1.22</td><td style='color: red'>-1.22</td><td style='color: red'>-1.18</td><td style='color: red'>-1.18</td><td style='color: red'>-1.21</td><td style='color: red'>-1.19</td><td style='color: red'>-1.22</td><td style='color: red'>-1.22</td><td style='color: red'>-1.22</td><td style='color: red'>-1.22</td><td style='color: red'>-1.22</td><td style='color: red'>-1.22</td><td style='color: red'>-1.22</td><td style='color: red'>-1.22</td><td style='color: red'>-1.20</td><td style='color: red'>-1.22</td><td style='color: red'>-1.22</td><td style='color: red'>-1.22</td><td style='color: red'>-1.22</td><td style='color: red'>-1.22</td><td style='color: red'>-1.22</td><td style='color: red'>-1.22</td><td style='color: red'>-1.22</td><td style='color: red'>-1.22</td><td style='color: red'>-1.22</td><td style='color: red'>-1.22</td><td style='color: red'>-1.22</td><td style='color: red'>-1.22</td><td style='color: red'>-1.22</td><td style='color: red'>-1.22</td><td style='color: red'>-0.96</td><td style='color: red'>-1.11</td><td style='color: red'>-1.20</td><td style='color: red'>-1.17</td><td style='color: red'>-1.22</td><td style='color: red'>-1.21</td><td style='color: red'>-1.02</td><td style='color: red'>-1.22</td><td style='color: red'>-0.94</td><td style='color: red'>-1.18</td></tr><tr><th>N</th><td style='color: red'>-1.20</td><td style='color: red'>-1.21</td><td style='color: red'>-1.16</td><td style='color: red'>-1.21</td><td style='color: red'>-1.14</td><td style='color: red'>-1.22</td><td style='color: red'>-1.22</td><td style='color: red'>-1.22</td><td style='color: red'>-1.20</td><td style='color: red'>-1.21</td><td style='color: red'>-1.22</td><td style='color: red'>-1.16</td><td style='color: red'>-1.15</td><td style='color: red'>-1.07</td><td style='color: red'>-1.21</td><td style='color: red'>-1.22</td><td style='color: red'>-1.22</td><td style='color: red'>-1.22</td><td style='color: red'>-1.22</td><td style='color: red'>-1.22</td><td style='color: red'>-0.73</td><td style='color: red'>-1.20</td><td style='color: red'>-0.87</td><td style='color: red'>-1.05</td><td style='color: red'>-1.22</td><td style='color: red'>-1.22</td><td style='color: red'>-1.22</td><td style='color: red'>-1.22</td><td style='color: red'>-1.22</td><td style='color: red'>-1.22</td><td style='color: red'>-1.20</td><td style='color: red'>-1.22</td><td style='color: red'>-1.22</td><td style='color: red'>-1.22</td><td style='color: red'>-1.22</td><td style='color: red'>-1.22</td><td style='color: red'>-1.22</td><td style='color: red'>-1.22</td><td style='color: red'>-1.22</td><td style='color: red'>-1.22</td><td style='color: red'>-1.22</td><td style='color: red'>-1.22</td><td style='color: red'>-1.22</td><td style='color: red'>-1.22</td><td style='color: red'>-1.22</td><td style='color: red'>-1.21</td><td style='color: red'>-1.22</td><td style='color: red'>-1.22</td><td style='color: red'>-1.14</td><td style='color: red'>-1.15</td><td style='color: red'>-1.22</td><td style='color: red'>-1.22</td><td style='color: red'>-1.22</td><td style='color: red'>-1.22</td><td style='color: red'>-1.21</td><td style='color: red'>-1.16</td><td style='color: red'>-1.22</td><td style='color: red'>-1.22</td><td style='color: red'>-1.20</td></tr><tr><th>D</th><td style='color: red'>-1.09</td><td style='color: red'>-1.22</td><td style='color: red'>-1.21</td><td style='color: red'>-1.17</td><td style='color: red'>-1.20</td><td style='color: red'>-1.22</td><td style='color: red'>-1.22</td><td style='color: red'>-1.22</td><td style='color: red'>-1.22</td><td style='color: red'>-1.21</td><td style='color: red'>-0.85</td><td style='color: red'>-1.16</td><td style='color: red'>-1.12</td><td style='color: red'>-1.11</td><td style='color: red'>-1.21</td><td style='color: red'>-1.20</td><td style='color: red'>-1.22</td><td style='color: red'>-1.22</td><td style='color: red'>-1.22</td><td style='color: red'>-1.22</td><td style='color: red'>-0.91</td><td style='color: red'>-1.21</td><td style='color: red'>-1.15</td><td style='color: red'>-1.18</td><td style='color: red'>-1.22</td><td style='color: red'>-1.22</td><td style='color: red'>-1.22</td><td style='color: red'>-1.22</td><td style='color: red'>-1.22</td><td style='color: red'>-1.22</td><td style='color: red'>-1.22</td><td style='color: red'>-1.20</td><td style='color: red'>-1.22</td><td style='color: red'>-1.22</td><td style='color: red'>-1.22</td><td style='color: red'>-1.22</td><td style='color: red'>-1.22</td><td style='color: red'>-1.22</td><td style='color: red'>-1.22</td><td style='color: red'>-1.22</td><td style='color: red'>-1.22</td><td style='color: red'>-1.22</td><td style='color: red'>-1.22</td><td style='color: red'>-1.22</td><td style='color: red'>-1.22</td><td style='color: red'>-1.22</td><td style='color: red'>-1.22</td><td style='color: red'>-1.20</td><td style='color: red'>-1.22</td><td style='color: red'>-1.19</td><td style='color: red'>-1.21</td><td style='color: red'>-1.22</td><td style='color: red'>-1.22</td><td style='color: red'>-1.22</td><td style='color: red'>-1.12</td><td style='color: red'>-0.94</td><td style='color: red'>-1.22</td><td style='color: red'>-1.16</td><td style='color: red'>-1.10</td></tr><tr><th>C</th><td style='color: red'>-1.18</td><td style='color: red'>-1.22</td><td style='color: red'>-1.22</td><td style='color: red'>-1.12</td><td style='color: red'>-1.22</td><td style='color: red'>-1.22</td><td style='color: red'>-1.13</td><td style='color: red'>-1.18</td><td style='color: red'>-1.12</td><td style='color: red'>-1.22</td><td style='color: red'>-1.18</td><td style='color: red'>-1.22</td><td style='color: red'>-1.22</td><td style='color: red'>-1.12</td><td style='color: red'>-1.22</td><td style='color: red'>-1.20</td><td style='color: red'>-1.13</td><td style='color: red'>-1.22</td><td style='color: red'>-1.22</td><td style='color: red'>-1.22</td><td style='color: red'>-1.22</td><td style='color: red'>-1.17</td><td style='color: red'>-1.22</td><td style='color: red'>-1.22</td><td style='color: red'>-1.22</td><td style='color: red'>-1.22</td><td style='color: red'>-1.22</td><td style='color: red'>-1.15</td><td style='color: red'>-1.22</td><td style='color: red'>-1.22</td><td style='color: red'>-1.22</td><td style='color: red'>-1.22</td><td style='color: red'>-1.22</td><td style='color: red'>-1.22</td><td style='color: red'>-1.22</td><td style='color: red'>-1.22</td><td style='color: red'>-1.22</td><td style='color: red'>-1.22</td><td style='color: red'>-1.22</td><td style='color: red'>-1.22</td><td style='color: red'>-1.22</td><td style='color: red'>-1.22</td><td style='color: red'>-1.22</td><td style='color: red'>-1.22</td><td style='color: red'>-1.22</td><td style='color: red'>-1.22</td><td style='color: red'>-1.22</td><td style='color: red'>-1.22</td><td style='color: red'>-1.22</td><td style='color: red'>-1.22</td><td style='color: red'>-1.17</td><td style='color: red'>-1.18</td><td style='color: red'>-1.13</td><td style='color: red'>-1.10</td><td style='color: red'>-1.22</td><td style='color: red'>-1.22</td><td style='color: red'>-1.22</td><td style='color: red'>-1.13</td><td style='color: red'>-1.12</td></tr><tr><th>Q</th><td style='color: red'>-1.19</td><td style='color: red'>-1.22</td><td style='color: red'>-1.16</td><td style='color: red'>-1.21</td><td style='color: red'>-1.18</td><td style='color: red'>-1.22</td><td style='color: red'>-1.18</td><td style='color: red'>-1.08</td><td style='color: red'>-1.22</td><td style='color: red'>-1.12</td><td style='color: red'>-1.22</td><td style='color: red'>-1.16</td><td style='color: red'>-1.16</td><td style='color: red'>-1.14</td><td style='color: red'>-1.22</td><td style='color: red'>-1.12</td><td style='color: red'>-1.19</td><td style='color: red'>-1.21</td><td style='color: red'>-1.22</td><td style='color: red'>-1.22</td><td style='color: red'>-1.22</td><td style='color: red'>-1.22</td><td style='color: red'>-1.12</td><td style='color: red'>-1.21</td><td style='color: red'>-1.18</td><td style='color: red'>-1.22</td><td style='color: red'>-1.21</td><td style='color: red'>-1.22</td><td style='color: red'>-1.22</td><td style='color: red'>-1.22</td><td style='color: red'>-1.21</td><td style='color: red'>-1.22</td><td style='color: red'>-1.22</td><td style='color: red'>-1.22</td><td style='color: red'>-1.22</td><td style='color: red'>-1.22</td><td style='color: red'>-1.22</td><td style='color: red'>-1.22</td><td style='color: red'>-1.21</td><td style='color: red'>-1.22</td><td style='color: red'>-1.22</td><td style='color: red'>-1.22</td><td style='color: red'>-1.22</td><td style='color: red'>-1.22</td><td style='color: red'>-1.22</td><td style='color: red'>-1.22</td><td style='color: red'>-1.22</td><td style='color: red'>-1.22</td><td style='color: red'>-1.22</td><td style='color: red'>-1.09</td><td style='color: red'>-1.14</td><td style='color: red'>-1.21</td><td style='color: red'>-0.88</td><td style='color: red'>-1.22</td><td style='color: red'>-1.11</td><td style='color: red'>-1.22</td><td style='color: red'>-1.22</td><td style='color: red'>-1.14</td><td style='color: red'>-1.22</td></tr><tr><th>E</th><td style='color: red'>-1.13</td><td style='color: red'>-1.22</td><td style='color: red'>-1.19</td><td style='color: red'>-1.11</td><td style='color: red'>-1.15</td><td style='color: red'>-1.22</td><td style='color: red'>-0.84</td><td style='color: red'>-0.98</td><td style='color: red'>-1.20</td><td style='color: red'>-1.17</td><td style='color: red'>-1.21</td><td style='color: red'>-1.13</td><td style='color: red'>-1.20</td><td style='color: red'>-1.15</td><td style='color: red'>-1.21</td><td style='color: red'>-1.18</td><td style='color: red'>-1.22</td><td style='color: red'>-1.22</td><td style='color: red'>-1.22</td><td style='color: red'>-1.22</td><td style='color: red'>-1.22</td><td style='color: red'>-1.19</td><td style='color: red'>-1.13</td><td style='color: red'>-1.16</td><td style='color: red'>-1.22</td><td style='color: red'>-1.22</td><td style='color: red'>-1.22</td><td style='color: red'>-1.22</td><td style='color: red'>-1.22</td><td style='color: red'>-1.21</td><td style='color: red'>-1.22</td><td style='color: red'>-1.22</td><td style='color: red'>-1.22</td><td style='color: red'>-1.22</td><td style='color: red'>-1.22</td><td style='color: red'>-1.22</td><td style='color: red'>-1.22</td><td style='color: red'>-1.22</td><td style='color: red'>-1.22</td><td style='color: red'>-1.21</td><td style='color: red'>-1.22</td><td style='color: red'>-1.22</td><td style='color: red'>-1.22</td><td style='color: red'>-1.22</td><td style='color: red'>-1.22</td><td style='color: red'>-1.22</td><td style='color: red'>-1.22</td><td style='color: red'>-1.22</td><td style='color: red'>-1.22</td><td style='color: red'>-1.19</td><td style='color: red'>-1.11</td><td style='color: red'>-1.22</td><td style='color: red'>-1.21</td><td style='color: red'>-1.22</td><td style='color: red'>-0.93</td><td style='color: red'>-1.22</td><td style='color: red'>-1.21</td><td style='color: red'>-1.20</td><td style='color: red'>-1.14</td></tr><tr><th>G</th><td style='color: red'>-1.14</td><td style='color: red'>-1.21</td><td style='color: red'>-1.20</td><td style='color: red'>-1.17</td><td style='color: red'>-0.86</td><td style='color: red'>-1.22</td><td style='color: red'>-1.21</td><td style='color: red'>-1.22</td><td style='color: red'>-1.14</td><td style='color: red'>-1.22</td><td style='color: red'>-1.22</td><td style='color: red'>-1.20</td><td style='color: red'>-1.17</td><td style='color: red'>-1.22</td><td style='color: red'>-0.77</td><td style='color: red'>-1.17</td><td style='color: red'>-1.22</td><td style='color: red'>-1.22</td><td style='color: red'>-1.22</td><td style='color: red'>-1.22</td><td style='color: red'>-1.22</td><td style='color: red'>-1.22</td><td style='color: red'>-1.21</td><td style='color: red'>-1.21</td><td style='color: red'>-1.22</td><td style='color: red'>-1.22</td><td style='color: red'>-1.22</td><td style='color: red'>-1.22</td><td style='color: red'>-1.20</td><td style='color: red'>-1.22</td><td style='color: red'>-1.22</td><td style='color: red'>-1.22</td><td style='color: red'>-1.22</td><td style='color: red'>-1.22</td><td style='color: red'>-1.22</td><td style='color: red'>-1.22</td><td style='color: red'>-1.22</td><td style='color: red'>-1.22</td><td style='color: red'>-1.22</td><td style='color: red'>-1.22</td><td style='color: red'>-1.22</td><td style='color: red'>-1.22</td><td style='color: red'>-1.22</td><td style='color: red'>-1.22</td><td style='color: red'>-1.22</td><td style='color: red'>-1.22</td><td style='color: red'>-1.22</td><td style='color: red'>-1.22</td><td style='color: red'>-1.22</td><td style='color: red'>-1.09</td><td style='color: red'>-1.22</td><td style='color: red'>-1.22</td><td style='color: red'>-1.22</td><td style='color: red'>-1.22</td><td style='color: red'>-1.22</td><td style='color: red'>-1.22</td><td style='color: red'>-1.22</td><td style='color: red'>-1.20</td><td style='color: red'>-1.17</td></tr><tr><th>H</th><td style='color: red'>-1.22</td><td style='color: red'>-1.22</td><td style='color: red'>-1.20</td><td style='color: red'>-1.22</td><td style='color: red'>-1.20</td><td style='color: red'>-1.22</td><td style='color: red'>-1.22</td><td style='color: red'>-1.22</td><td style='color: red'>-0.99</td><td style='color: red'>-1.12</td><td style='color: red'>-1.11</td><td style='color: red'>-1.16</td><td style='color: red'>-1.18</td><td style='color: red'>-1.12</td><td style='color: red'>-1.22</td><td style='color: red'>-1.22</td><td style='color: red'>-1.19</td><td style='color: red'>-1.22</td><td style='color: red'>-1.22</td><td style='color: red'>-1.21</td><td style='color: red'>-1.03</td><td style='color: red'>-0.54</td><td style='color: red'>-1.22</td><td style='color: red'>-1.22</td><td style='color: red'>-1.22</td><td style='color: red'>-1.22</td><td style='color: red'>-1.22</td><td style='color: red'>-1.22</td><td style='color: red'>-1.22</td><td style='color: red'>-1.22</td><td style='color: red'>-1.22</td><td style='color: red'>-1.22</td><td style='color: red'>-1.21</td><td style='color: red'>-1.22</td><td style='color: red'>-1.22</td><td style='color: red'>-1.22</td><td style='color: red'>-1.22</td><td style='color: red'>-1.22</td><td style='color: red'>-1.22</td><td style='color: red'>-1.22</td><td style='color: red'>-1.22</td><td style='color: red'>-1.22</td><td style='color: red'>-1.22</td><td style='color: red'>-1.22</td><td style='color: red'>-1.22</td><td style='color: red'>-1.22</td><td style='color: red'>-1.20</td><td style='color: red'>-1.22</td><td style='color: red'>-1.22</td><td style='color: red'>-1.21</td><td style='color: red'>-1.22</td><td style='color: red'>-1.22</td><td style='color: red'>-1.21</td><td style='color: red'>-1.22</td><td style='color: red'>-1.09</td><td style='color: red'>-0.92</td><td style='color: red'>-1.22</td><td style='color: red'>-1.15</td><td style='color: red'>-1.22</td></tr><tr><th>I</th><td style='color: red'>-1.18</td><td style='color: red'>-1.20</td><td style='color: red'>-1.22</td><td style='color: red'>-1.22</td><td style='color: red'>-1.21</td><td style='color: red'>-1.22</td><td style='color: red'>-1.21</td><td style='color: red'>-1.19</td><td style='color: red'>-1.15</td><td style='color: red'>-1.09</td><td style='color: red'>-1.21</td><td style='color: red'>-1.18</td><td style='color: red'>-1.22</td><td style='color: red'>-1.21</td><td style='color: red'>-1.21</td><td style='color: red'>-1.20</td><td style='color: red'>-1.12</td><td style='color: red'>-1.22</td><td style='color: red'>-1.22</td><td style='color: red'>-0.99</td><td style='color: red'>-1.22</td><td style='color: red'>-1.19</td><td style='color: red'>-1.13</td><td style='color: red'>-1.21</td><td style='color: red'>-1.22</td><td style='color: red'>-1.22</td><td style='color: red'>-1.22</td><td style='color: red'>-1.22</td><td style='color: red'>-1.22</td><td style='color: red'>-1.22</td><td style='color: red'>-1.22</td><td style='color: red'>-1.22</td><td style='color: red'>-1.22</td><td style='color: red'>-1.22</td><td style='color: red'>-1.22</td><td style='color: red'>-1.22</td><td style='color: red'>-1.22</td><td style='color: red'>-1.22</td><td style='color: red'>-1.22</td><td style='color: red'>-1.22</td><td style='color: red'>-1.22</td><td style='color: red'>-1.22</td><td style='color: red'>-1.22</td><td style='color: red'>-1.22</td><td style='color: red'>-1.22</td><td style='color: red'>-1.22</td><td style='color: red'>-1.22</td><td style='color: red'>-1.19</td><td style='color: red'>-1.22</td><td style='color: red'>-1.22</td><td style='color: red'>-1.17</td><td style='color: red'>-1.22</td><td style='color: red'>-1.22</td><td style='color: red'>-1.20</td><td style='color: red'>-1.17</td><td style='color: red'>-1.22</td><td style='color: red'>-1.22</td><td style='color: red'>-1.20</td><td style='color: red'>-1.20</td></tr><tr><th>L</th><td style='color: red'>-1.19</td><td style='color: red'>-0.88</td><td style='color: red'>-1.22</td><td style='color: red'>-1.21</td><td style='color: red'>-1.22</td><td style='color: red'>-1.22</td><td style='color: red'>-1.21</td><td style='color: red'>-1.22</td><td style='color: red'>-1.20</td><td style='color: red'>-1.20</td><td style='color: red'>-1.22</td><td style='color: red'>-1.20</td><td style='color: red'>-1.22</td><td style='color: red'>-1.19</td><td style='color: red'>-1.22</td><td style='color: red'>-1.20</td><td style='color: red'>-1.22</td><td style='color: red'>-1.22</td><td style='color: red'>-1.22</td><td style='color: red'>-1.19</td><td style='color: red'>-1.22</td><td style='color: red'>-1.20</td><td style='color: red'>-1.21</td><td style='color: red'>-1.21</td><td style='color: red'>-1.22</td><td style='color: red'>-1.22</td><td style='color: red'>-1.21</td><td style='color: red'>-1.22</td><td style='color: red'>-1.22</td><td style='color: red'>-1.22</td><td style='color: red'>-1.22</td><td style='color: red'>-1.22</td><td style='color: red'>-1.22</td><td style='color: red'>-1.22</td><td style='color: red'>-1.22</td><td style='color: red'>-1.22</td><td style='color: red'>-1.22</td><td style='color: red'>-1.22</td><td style='color: red'>-1.22</td><td style='color: red'>-1.22</td><td style='color: red'>-1.22</td><td style='color: red'>-1.22</td><td style='color: red'>-1.22</td><td style='color: red'>-1.22</td><td style='color: red'>-1.22</td><td style='color: red'>-1.22</td><td style='color: red'>-1.22</td><td style='color: red'>-1.22</td><td style='color: red'>-1.22</td><td style='color: red'>-1.21</td><td style='color: red'>-1.19</td><td style='color: red'>-1.22</td><td style='color: red'>-1.22</td><td style='color: red'>-1.22</td><td style='color: red'>-1.14</td><td style='color: red'>-1.19</td><td style='color: red'>-1.22</td><td style='color: red'>-1.22</td><td style='color: red'>-1.09</td></tr><tr><th>K</th><td style='color: red'>-1.21</td><td style='color: red'>-1.22</td><td style='color: red'>-1.16</td><td style='color: red'>-1.19</td><td style='color: red'>-1.21</td><td style='color: red'>-1.22</td><td style='color: red'>-1.16</td><td style='color: red'>-1.07</td><td style='color: red'>-1.16</td><td style='color: red'>-1.10</td><td style='color: red'>-1.22</td><td style='color: red'>-1.18</td><td style='color: red'>-1.22</td><td style='color: red'>-1.19</td><td style='color: red'>-1.18</td><td style='color: red'>-1.10</td><td style='color: red'>-1.18</td><td style='color: red'>-1.22</td><td style='color: red'>-1.22</td><td style='color: red'>-1.22</td><td style='color: red'>-1.22</td><td style='color: red'>-1.21</td><td style='color: red'>-1.20</td><td style='color: red'>-1.22</td><td style='color: red'>-1.22</td><td style='color: red'>-1.19</td><td style='color: red'>-1.22</td><td style='color: red'>-1.22</td><td style='color: red'>-1.22</td><td style='color: red'>-1.22</td><td style='color: red'>-1.22</td><td style='color: red'>-1.22</td><td style='color: red'>-1.22</td><td style='color: red'>-1.22</td><td style='color: red'>-1.22</td><td style='color: red'>-1.22</td><td style='color: red'>-1.22</td><td style='color: red'>-1.22</td><td style='color: red'>-1.22</td><td style='color: red'>-1.22</td><td style='color: red'>-1.22</td><td style='color: red'>-1.22</td><td style='color: red'>-1.22</td><td style='color: red'>-1.22</td><td style='color: red'>-1.22</td><td style='color: red'>-1.22</td><td style='color: red'>-1.22</td><td style='color: red'>-1.22</td><td style='color: red'>-1.22</td><td style='color: red'>-0.98</td><td style='color: red'>-1.16</td><td style='color: red'>-1.22</td><td style='color: red'>-1.22</td><td style='color: red'>-1.22</td><td style='color: red'>-1.14</td><td style='color: red'>-1.11</td><td style='color: red'>-1.22</td><td style='color: red'>-1.12</td><td style='color: red'>-1.19</td></tr><tr><th>M</th><td style='color: red'>-1.22</td><td style='color: red'>-1.22</td><td style='color: red'>-1.21</td><td style='color: red'>-1.22</td><td style='color: red'>-1.18</td><td style='color: red'>-1.22</td><td style='color: red'>-1.16</td><td style='color: red'>-0.96</td><td style='color: red'>-1.22</td><td style='color: red'>-1.17</td><td style='color: red'>-1.22</td><td style='color: red'>-1.21</td><td style='color: red'>-1.22</td><td style='color: red'>-1.19</td><td style='color: red'>-1.22</td><td style='color: red'>-1.20</td><td style='color: red'>-1.21</td><td style='color: red'>-1.20</td><td style='color: red'>-1.22</td><td style='color: red'>-1.22</td><td style='color: red'>-1.22</td><td style='color: red'>-1.22</td><td style='color: red'>-1.22</td><td style='color: red'>-1.21</td><td style='color: red'>-1.22</td><td style='color: red'>-1.22</td><td style='color: red'>-1.22</td><td style='color: red'>-1.22</td><td style='color: red'>-1.22</td><td style='color: red'>-1.22</td><td style='color: red'>-1.22</td><td style='color: red'>-1.22</td><td style='color: red'>-1.22</td><td style='color: red'>-1.22</td><td style='color: red'>-1.22</td><td style='color: red'>-1.22</td><td style='color: red'>-1.22</td><td style='color: red'>-1.22</td><td style='color: red'>-1.22</td><td style='color: red'>-1.22</td><td style='color: red'>-1.22</td><td style='color: red'>-1.22</td><td style='color: red'>-1.22</td><td style='color: red'>-1.22</td><td style='color: red'>-1.22</td><td style='color: red'>-1.22</td><td style='color: red'>-1.22</td><td style='color: red'>-1.22</td><td style='color: red'>-1.22</td><td style='color: red'>-1.22</td><td style='color: red'>-1.22</td><td style='color: red'>-1.22</td><td style='color: red'>-1.14</td><td style='color: red'>-1.22</td><td style='color: red'>-1.22</td><td style='color: red'>-1.20</td><td style='color: red'>-1.22</td><td style='color: red'>-1.21</td><td style='color: red'>-1.09</td></tr><tr><th>F</th><td style='color: red'>-1.14</td><td style='color: red'>-1.22</td><td style='color: red'>-1.22</td><td style='color: red'>-1.22</td><td style='color: red'>-1.22</td><td style='color: red'>-1.22</td><td style='color: red'>-1.22</td><td style='color: red'>-1.22</td><td style='color: red'>-1.22</td><td style='color: red'>-1.09</td><td style='color: red'>-1.22</td><td style='color: red'>-1.17</td><td style='color: red'>-1.22</td><td style='color: red'>-1.20</td><td style='color: red'>-1.21</td><td style='color: red'>-1.21</td><td style='color: red'>-1.20</td><td style='color: red'>-0.93</td><td style='color: red'>-0.85</td><td style='color: red'>-1.16</td><td style='color: red'>-1.22</td><td style='color: red'>-1.19</td><td style='color: red'>-1.18</td><td style='color: red'>-1.22</td><td style='color: red'>-1.22</td><td style='color: red'>-1.22</td><td style='color: red'>-1.22</td><td style='color: red'>-1.22</td><td style='color: red'>-1.22</td><td style='color: red'>-1.22</td><td style='color: red'>-1.22</td><td style='color: red'>-1.22</td><td style='color: red'>-1.22</td><td style='color: red'>-1.22</td><td style='color: red'>-1.22</td><td style='color: red'>-1.22</td><td style='color: red'>-1.22</td><td style='color: red'>-1.22</td><td style='color: red'>-1.22</td><td style='color: red'>-1.22</td><td style='color: red'>-1.22</td><td style='color: red'>-1.22</td><td style='color: red'>-1.22</td><td style='color: red'>-1.22</td><td style='color: red'>-1.21</td><td style='color: red'>-1.22</td><td style='color: red'>-1.22</td><td style='color: red'>-1.22</td><td style='color: red'>-1.22</td><td style='color: red'>-1.22</td><td style='color: red'>-1.22</td><td style='color: red'>-1.22</td><td style='color: red'>-1.22</td><td style='color: red'>-1.10</td><td style='color: red'>-1.22</td><td style='color: red'>-1.21</td><td style='color: red'>-1.22</td><td style='color: red'>-1.19</td><td style='color: red'>-1.21</td></tr><tr><th>P</th><td style='color: red'>-0.91</td><td style='color: red'>-1.16</td><td style='color: red'>-0.69</td><td style='color: red'>-0.89</td><td style='color: red'>-1.12</td><td style='color: red'>-1.22</td><td style='color: red'>-1.22</td><td style='color: red'>-1.20</td><td style='color: red'>-1.22</td><td style='color: red'>-1.22</td><td style='color: red'>-1.22</td><td style='color: red'>-0.97</td><td style='color: red'>-1.22</td><td style='color: red'>-1.22</td><td style='color: red'>-1.22</td><td style='color: red'>-1.22</td><td style='color: red'>-1.03</td><td style='color: red'>-1.22</td><td style='color: red'>-1.22</td><td style='color: red'>-1.22</td><td style='color: red'>-1.22</td><td style='color: red'>-1.13</td><td style='color: red'>-1.15</td><td style='color: red'>-1.22</td><td style='color: red'>-1.22</td><td style='color: red'>-1.22</td><td style='color: red'>-1.22</td><td style='color: red'>-1.22</td><td style='color: red'>-1.22</td><td style='color: red'>-1.22</td><td style='color: red'>-1.22</td><td style='color: red'>-1.22</td><td style='color: red'>-1.22</td><td style='color: red'>-1.22</td><td style='color: red'>-1.22</td><td style='color: red'>-1.22</td><td style='color: red'>-1.22</td><td style='color: red'>-1.22</td><td style='color: red'>-1.22</td><td style='color: red'>-1.22</td><td style='color: red'>-1.22</td><td style='color: red'>-1.22</td><td style='color: red'>-1.19</td><td style='color: red'>-1.22</td><td style='color: red'>-1.22</td><td style='color: red'>-1.22</td><td style='color: red'>-1.22</td><td style='color: red'>-1.22</td><td style='color: red'>-1.22</td><td style='color: red'>-1.22</td><td style='color: red'>-1.22</td><td style='color: red'>-1.22</td><td style='color: red'>-1.22</td><td style='color: red'>-1.22</td><td style='color: red'>-1.22</td><td style='color: red'>-1.14</td><td style='color: red'>-0.59</td><td style='color: red'>-1.22</td><td style='color: red'>-1.17</td></tr><tr><th>S</th><td style='color: red'>-1.16</td><td style='color: red'>-1.17</td><td style='color: red'>-1.20</td><td style='color: red'>-1.16</td><td style='color: red'>-1.17</td><td style='color: red'>-1.22</td><td style='color: red'>-1.19</td><td style='color: red'>-1.21</td><td style='color: red'>-1.21</td><td style='color: red'>-1.21</td><td style='color: red'>-1.10</td><td style='color: red'>-1.14</td><td style='color: red'>-1.11</td><td style='color: red'>-1.16</td><td style='color: red'>-1.21</td><td style='color: red'>-1.22</td><td style='color: red'>-1.19</td><td style='color: red'>-1.22</td><td style='color: red'>-1.22</td><td style='color: red'>-1.22</td><td style='color: red'>-1.21</td><td style='color: red'>-1.20</td><td style='color: red'>-1.20</td><td style='color: red'>-1.11</td><td style='color: red'>-1.22</td><td style='color: red'>-1.22</td><td style='color: red'>-1.22</td><td style='color: red'>-1.22</td><td style='color: red'>-1.22</td><td style='color: red'>-1.22</td><td style='color: red'>-1.22</td><td style='color: red'>-1.22</td><td style='color: red'>-1.22</td><td style='color: red'>-1.22</td><td style='color: red'>-1.22</td><td style='color: red'>-1.22</td><td style='color: red'>-1.22</td><td style='color: red'>-1.22</td><td style='color: red'>-1.22</td><td style='color: red'>-1.22</td><td style='color: red'>-1.21</td><td style='color: red'>-1.22</td><td style='color: red'>-1.22</td><td style='color: red'>-1.21</td><td style='color: red'>-1.22</td><td style='color: red'>-1.22</td><td style='color: red'>-1.22</td><td style='color: red'>-1.22</td><td style='color: red'>-1.21</td><td style='color: red'>-1.19</td><td style='color: red'>-1.16</td><td style='color: red'>-1.05</td><td style='color: red'>-1.13</td><td style='color: red'>-1.22</td><td style='color: red'>-1.21</td><td style='color: red'>-1.18</td><td style='color: red'>-1.22</td><td style='color: red'>-1.16</td><td style='color: red'>-1.19</td></tr><tr><th>T</th><td style='color: red'>-1.16</td><td style='color: red'>-1.16</td><td style='color: red'>-1.22</td><td style='color: red'>-1.14</td><td style='color: red'>-1.22</td><td style='color: red'>-1.22</td><td style='color: red'>-1.14</td><td style='color: red'>-1.17</td><td style='color: red'>-1.21</td><td style='color: red'>-1.09</td><td style='color: red'>-0.97</td><td style='color: red'>-1.16</td><td style='color: red'>-1.20</td><td style='color: red'>-1.14</td><td style='color: red'>-1.22</td><td style='color: red'>-1.22</td><td style='color: red'>-1.02</td><td style='color: red'>-1.22</td><td style='color: red'>-1.22</td><td style='color: red'>-1.22</td><td style='color: red'>-1.22</td><td style='color: red'>-1.15</td><td style='color: red'>-1.14</td><td style='color: red'>-0.83</td><td style='color: red'>-1.22</td><td style='color: red'>-1.21</td><td style='color: red'>-1.21</td><td style='color: red'>-1.19</td><td style='color: red'>-1.22</td><td style='color: red'>-1.22</td><td style='color: red'>-1.22</td><td style='color: red'>-1.22</td><td style='color: red'>-1.20</td><td style='color: red'>-1.22</td><td style='color: red'>-1.22</td><td style='color: red'>-1.22</td><td style='color: red'>-1.22</td><td style='color: red'>-1.22</td><td style='color: red'>-1.22</td><td style='color: red'>-1.22</td><td style='color: red'>-1.22</td><td style='color: red'>-1.22</td><td style='color: red'>-1.22</td><td style='color: red'>-1.22</td><td style='color: red'>-1.22</td><td style='color: red'>-1.22</td><td style='color: red'>-1.22</td><td style='color: red'>-1.22</td><td style='color: red'>-1.22</td><td style='color: red'>-1.22</td><td style='color: red'>-0.91</td><td style='color: red'>-0.75</td><td style='color: red'>-0.90</td><td style='color: red'>-1.22</td><td style='color: red'>-1.15</td><td style='color: red'>-1.22</td><td style='color: red'>-1.22</td><td style='color: red'>-1.12</td><td style='color: red'>-1.09</td></tr><tr><th>W</th><td style='color: red'>-1.22</td><td style='color: red'>-1.22</td><td style='color: red'>-1.22</td><td style='color: red'>-1.15</td><td style='color: red'>-1.22</td><td style='color: red'>-0.04</td><td style='color: red'>-1.17</td><td style='color: red'>-1.22</td><td style='color: red'>-1.22</td><td style='color: red'>-0.95</td><td style='color: red'>-1.22</td><td style='color: red'>-1.22</td><td style='color: red'>-1.22</td><td style='color: red'>-1.22</td><td style='color: red'>-1.22</td><td style='color: red'>-1.09</td><td style='color: red'>-1.22</td><td style='color: red'>-1.22</td><td style='color: red'>-1.22</td><td style='color: red'>-0.89</td><td style='color: red'>-1.22</td><td style='color: red'>-1.22</td><td style='color: red'>-1.22</td><td style='color: red'>-1.22</td><td style='color: red'>-1.22</td><td style='color: red'>-1.22</td><td style='color: red'>-1.22</td><td style='color: red'>-1.22</td><td style='color: red'>-1.22</td><td style='color: red'>-1.22</td><td style='color: red'>-1.22</td><td style='color: red'>-1.20</td><td style='color: red'>-1.22</td><td style='color: red'>-1.22</td><td style='color: red'>-1.22</td><td style='color: red'>-1.22</td><td style='color: red'>-1.22</td><td style='color: red'>-1.22</td><td style='color: red'>-1.22</td><td style='color: red'>-1.22</td><td style='color: red'>-1.22</td><td style='color: red'>-1.22</td><td style='color: red'>-1.22</td><td style='color: red'>-1.22</td><td style='color: red'>-1.22</td><td style='color: red'>-1.22</td><td style='color: red'>-1.22</td><td style='color: red'>-1.22</td><td style='color: red'>-1.22</td><td style='color: red'>-1.22</td><td style='color: red'>-1.22</td><td style='color: red'>-1.22</td><td style='color: red'>-1.22</td><td style='color: red'>-0.12</td><td style='color: red'>-1.22</td><td style='color: red'>-1.22</td><td style='color: red'>-1.22</td><td style='color: red'>-1.22</td><td style='color: red'>-1.02</td></tr><tr><th>Y</th><td style='color: red'>-1.20</td><td style='color: red'>-1.22</td><td style='color: red'>-1.22</td><td style='color: red'>-1.12</td><td style='color: red'>-1.22</td><td style='color: red'>-1.19</td><td style='color: red'>-1.17</td><td style='color: red'>-1.14</td><td style='color: red'>-1.09</td><td style='color: red'>-1.05</td><td style='color: red'>-1.22</td><td style='color: red'>-1.19</td><td style='color: red'>-1.22</td><td style='color: red'>-1.22</td><td style='color: red'>-1.14</td><td style='color: red'>-1.19</td><td style='color: red'>-1.19</td><td style='color: red'>-0.52</td><td style='color: red'>-0.56</td><td style='color: red'>-0.88</td><td style='color: red'>-1.22</td><td style='color: red'>-1.22</td><td style='color: red'>-1.22</td><td style='color: red'>-1.22</td><td style='color: red'>-1.22</td><td style='color: red'>-1.22</td><td style='color: red'>-1.22</td><td style='color: red'>-1.22</td><td style='color: red'>-1.22</td><td style='color: red'>-1.22</td><td style='color: red'>-1.22</td><td style='color: red'>-1.22</td><td style='color: red'>-1.22</td><td style='color: red'>-1.22</td><td style='color: red'>-1.22</td><td style='color: red'>-1.22</td><td style='color: red'>-1.22</td><td style='color: red'>-1.22</td><td style='color: red'>-1.22</td><td style='color: red'>-1.22</td><td style='color: red'>-1.22</td><td style='color: red'>-1.22</td><td style='color: red'>-1.22</td><td style='color: red'>-1.22</td><td style='color: red'>-1.19</td><td style='color: red'>-1.22</td><td style='color: red'>-1.22</td><td style='color: red'>-1.22</td><td style='color: red'>-1.22</td><td style='color: red'>-1.22</td><td style='color: red'>-1.22</td><td style='color: red'>-1.22</td><td style='color: red'>-1.22</td><td style='color: red'>-1.09</td><td style='color: red'>-1.22</td><td style='color: red'>-1.22</td><td style='color: red'>-1.22</td><td style='color: red'>-1.19</td><td style='color: red'>-1.17</td></tr><tr><th>V</th><td style='color: red'>-1.21</td><td style='color: red'>-1.18</td><td style='color: red'>-1.21</td><td style='color: red'>-1.22</td><td style='color: red'>-1.19</td><td style='color: red'>-1.22</td><td style='color: red'>-1.17</td><td style='color: red'>-1.18</td><td style='color: red'>-1.14</td><td style='color: red'>-1.13</td><td style='color: red'>-1.22</td><td style='color: red'>-1.19</td><td style='color: red'>-1.22</td><td style='color: red'>-1.20</td><td style='color: red'>-1.22</td><td style='color: red'>-1.18</td><td style='color: red'>-1.01</td><td style='color: red'>-1.21</td><td style='color: red'>-1.22</td><td style='color: red'>-1.00</td><td style='color: red'>-1.22</td><td style='color: red'>-1.20</td><td style='color: red'>-1.18</td><td style='color: red'>-1.22</td><td style='color: red'>-1.22</td><td style='color: red'>-1.21</td><td style='color: red'>-1.19</td><td style='color: red'>-1.22</td><td style='color: red'>-1.22</td><td style='color: red'>-1.22</td><td style='color: red'>-1.22</td><td style='color: red'>-1.22</td><td style='color: red'>-1.22</td><td style='color: red'>-1.22</td><td style='color: red'>-1.22</td><td style='color: red'>-1.22</td><td style='color: red'>-1.22</td><td style='color: red'>-1.22</td><td style='color: red'>-1.22</td><td style='color: red'>-1.22</td><td style='color: red'>-1.22</td><td style='color: red'>-1.21</td><td style='color: red'>-1.22</td><td style='color: red'>-1.22</td><td style='color: red'>-1.22</td><td style='color: red'>-1.22</td><td style='color: red'>-1.22</td><td style='color: red'>-1.22</td><td style='color: red'>-1.22</td><td style='color: red'>-1.22</td><td style='color: red'>-1.17</td><td style='color: red'>-1.17</td><td style='color: red'>-1.19</td><td style='color: red'>-1.22</td><td style='color: red'>-1.22</td><td style='color: red'>-1.22</td><td style='color: red'>-1.22</td><td style='color: red'>-1.11</td><td style='color: red'>-1.18</td></tr>\n",
       "        </table>\n",
       "    "
      ],
      "text/plain": [
       "<IPython.core.display.HTML object>"
      ]
     },
     "metadata": {},
     "output_type": "display_data"
    }
   ],
   "source": [
    "import math\n",
    "\n",
    "l_sequence = []\n",
    "l_amino_acid = 'ARNDCQEGHILKMFPSTWYV'\n",
    "\n",
    "with open(\"msaresults-CLUSTAL.fasta\", 'r') as file:\n",
    "    for line in file:\n",
    "        # Ignore meta data\n",
    "        if line.startswith('>'):\n",
    "            continue\n",
    "        \n",
    "        l_sequence.append(line.strip('\\n'))\n",
    "\n",
    "n = {}\n",
    "\n",
    "seq_size = len(l_sequence[0])\n",
    "\n",
    "# Compute matrice n, occurences of amino acid b in position u of any sequence\n",
    "# For each amino acid\n",
    "for b in l_amino_acid:\n",
    "    n[b] = []\n",
    "    # For each position in any sequence\n",
    "    for u in range(seq_size):\n",
    "        n[b].append(0)\n",
    "        \n",
    "        # For each sequence\n",
    "        for seq in l_sequence:\n",
    "            if seq[u] == b:\n",
    "                n[b][u] += 1\n",
    "\n",
    "Nseq = float(len(l_sequence))\n",
    "\n",
    "# Compute f frequency for each amino acid to be in a given position\n",
    "f = {}\n",
    "for b in l_amino_acid:\n",
    "    f[b] = []\n",
    "    # For each position in any sequence\n",
    "    for u in range(seq_size):\n",
    "        f[b].append(n[b][u] / Nseq)\n",
    "        \n",
    "alpha = Nseq - 1\n",
    "beta = math.sqrt(Nseq)\n",
    "\n",
    "p = {'A': 8.26, \n",
    "     'R': 5.53,\n",
    "     'N': 4.06,\n",
    "     'D': 5.46,\n",
    "     'C': 1.37,\n",
    "     'Q': 3.93,\n",
    "     'E': 6.74,\n",
    "     'G': 7.08,\n",
    "     'H': 2.27,\n",
    "     'I': 5.93,\n",
    "     'L': 9.65,\n",
    "     'K': 5.82,\n",
    "     'M': 2.41,\n",
    "     'F': 3.86,\n",
    "     'P': 4.72,\n",
    "     'S': 6.60,\n",
    "     'T': 5.35,\n",
    "     'W': 1.09,\n",
    "     'Y': 2.92,\n",
    "     'V': 6.86,\n",
    "}\n",
    "\n",
    "# Compute q (optimized frequency)\n",
    "q = {}\n",
    "for a in l_amino_acid:\n",
    "    q[a] = []\n",
    "    # For each position in any sequence\n",
    "    for u in range(seq_size):\n",
    "        q[a].append(((alpha * f[a][u]) + (beta * p[a])) / (alpha + beta))\n",
    "        #q[a].append((n[a][u] + (beta * p[a])) / (Nseq + beta))\n",
    "\n",
    "m = {}\n",
    "for a in l_amino_acid:\n",
    "    m[a] = []\n",
    "    # For each position in any sequence\n",
    "    for u in range(seq_size):\n",
    "        m[a].append(math.log(q[a][u] / p[a], 10))\n",
    "\n",
    "print(\"Amino acids:\", l_amino_acid)\n",
    "print(\"Nseq:\", Nseq)\n",
    "print(\"Alpha:\", alpha)\n",
    "print(\"Beta:\", beta)\n",
    "print(\"p:\", p)\n",
    "\n",
    "print(\"f:\")\n",
    "display_profile(seq_size, l_amino_acid, n, f)\n",
    "\n",
    "print(\"q:\")\n",
    "display_profile(seq_size, l_amino_acid, n, q)\n",
    "\n",
    "print(\"m:\")\n",
    "display_profile(seq_size, l_amino_acid, n, m)\n"
   ]
  },
  {
   "cell_type": "code",
   "execution_count": 83,
   "metadata": {
    "collapsed": false
   },
   "outputs": [
    {
     "name": "stdout",
     "output_type": "stream",
     "text": [
      "WW weblogo from http://weblogo.threeplusone.com:\n",
      "Keeping only the biggest acid we get something like: LPGWEEDGRYYN TTWP\n"
     ]
    }
   ],
   "source": [
    "from IPython.display import Image\n",
    "print(\"WW weblogo from http://weblogo.threeplusone.com:\")\n",
    "Image(\"WW-PF00397.png\")\n",
    "print(\"Keeping only the biggest acid we get something like: LPGWEEDGRYYN TTWP\")"
   ]
  },
  {
   "cell_type": "code",
   "execution_count": 78,
   "metadata": {
    "collapsed": false
   },
   "outputs": [
    {
     "name": "stdout",
     "output_type": "stream",
     "text": [
      "Logo generated with the file 'msaresults-CLUSTAL.fasta':\n",
      "Keeping only the biggest acid we get something like: LPGWEEDGRYYN TRKVTGENDTR ESVPSY TTWP\n"
     ]
    }
   ],
   "source": [
    "print(\"Logo generated with the file 'msaresults-CLUSTAL.fasta':\")\n",
    "Image(\"weblogo.berkeley.png\")\n",
    "print(\"Keeping only the biggest acid we get something like: LPGWEEDGRYYN TRKVTGENDTR ESVPSY TTWP\")"
   ]
  },
  {
   "cell_type": "markdown",
   "metadata": {},
   "source": [
    "As one can see, they are very similar, every \"most important\" acid in one of the profile is important too in the other (rigthmost 'P' for example or 'W' in the beginning of the two pictures)\n",
    "\n",
    "A hand-made alignement of some of the biggest acid gives us a lot of similarities: \n",
    "* LPGWEEDGRYYN-TTWP\n",
    "* LPGWEEDGRYYN-TRKVTGENDTR-ESVPSY-TTWP\n",
    "\n",
    "Adapted code to align to PSSM:"
   ]
  },
  {
   "cell_type": "code",
   "execution_count": 79,
   "metadata": {
    "collapsed": false
   },
   "outputs": [],
   "source": [
    "def compute_dp_matrix(pssm):\n",
    "    \"\"\" Nested loop to process all the DP matrix \"\"\"\n",
    "    global x, y, M, dp_matrix, backtrack_matrix, gap_penalty, to_zero\n",
    "    \n",
    "    for i in range(1, M):\n",
    "        for j in range(1, N):\n",
    "            # This cell is forced to be zero\n",
    "            if to_zero[i][j]:\n",
    "                dp_matrix[i][j] = 0\n",
    "                \n",
    "                backtrack_matrix[i][j] = [False, False, False]\n",
    "                continue\n",
    "                \n",
    "            no_gap = dp_matrix[i - 1][j - 1] + pssm[x[i-1]][j-1]\n",
    "            gap_1 = dp_matrix[i - 1][j] + gap_penalty\n",
    "            gap_2 = dp_matrix[i][j - 1] + gap_penalty\n",
    "            \n",
    "            value = max(\n",
    "                no_gap,\n",
    "                gap_1,\n",
    "                gap_2,\n",
    "                0\n",
    "            )\n",
    "\n",
    "            dp_matrix[i][j] = value\n",
    "\n",
    "            backtrack_matrix[i][j] = [\n",
    "                no_gap == value,\n",
    "                gap_1 == value,\n",
    "                gap_2 == value,\n",
    "            ]"
   ]
  },
  {
   "cell_type": "markdown",
   "metadata": {},
   "source": [
    "Lets now compare all proteins in 'protein-sequences.fasta' with our PSSM:"
   ]
  },
  {
   "cell_type": "code",
   "execution_count": 80,
   "metadata": {
    "collapsed": false
   },
   "outputs": [
    {
     "name": "stdout",
     "output_type": "stream",
     "text": [
      "MDPGQQPPPQPAPQGQGQPPSQPPQGQGPPSGPGQPAPAATQAAPQAPPAGHQIVHVRGD\n",
      "Solution #1:\n"
     ]
    },
    {
     "data": {
      "text/html": [
       "<table class=\"inner\"><tr></tr><tr></tr><tr></tr></table>"
      ],
      "text/plain": [
       "<IPython.core.display.HTML object>"
      ]
     },
     "metadata": {},
     "output_type": "display_data"
    },
    {
     "name": "stdout",
     "output_type": "stream",
     "text": [
      "SETDLEALFNAVMNPKTANVPQTVPMRLRKLPDSFFKPPEPKSHSRQASTDAGTAGALTP\n",
      "Solution #1:\n"
     ]
    },
    {
     "data": {
      "text/html": [
       "<table class=\"inner\"><tr></tr><tr></tr><tr></tr></table>"
      ],
      "text/plain": [
       "<IPython.core.display.HTML object>"
      ]
     },
     "metadata": {},
     "output_type": "display_data"
    },
    {
     "name": "stdout",
     "output_type": "stream",
     "text": [
      "QHVRAHSSPASLQLGAVSPGTLTPTGVVSGPAATPTAQHLRQSSFEIPDDVPLPAGWEMA\n",
      "Solution #1:\n"
     ]
    },
    {
     "data": {
      "text/html": [
       "<table class=\"inner\"><tr></tr><tr></tr><tr></tr></table>"
      ],
      "text/plain": [
       "<IPython.core.display.HTML object>"
      ]
     },
     "metadata": {},
     "output_type": "display_data"
    },
    {
     "name": "stdout",
     "output_type": "stream",
     "text": [
      "KTSSGQRYFLNHIDQTTTWQDPRKAMLSQMNVTAPTSPPVQQNMMNSASGPLPDGWEQAM\n",
      "Solution #1:\n"
     ]
    },
    {
     "data": {
      "text/html": [
       "<table class=\"inner\"><tr></tr><tr></tr><tr></tr></table>"
      ],
      "text/plain": [
       "<IPython.core.display.HTML object>"
      ]
     },
     "metadata": {},
     "output_type": "display_data"
    },
    {
     "name": "stdout",
     "output_type": "stream",
     "text": [
      "TQDGEIYYINHKNKTTSWLDPRLDPRFAMNQRISQSAPVKQPPPLAPQSPQGGVMGGSNS\n",
      "Solution #1:\n"
     ]
    },
    {
     "data": {
      "text/html": [
       "<table class=\"inner\"><tr></tr><tr></tr><tr></tr></table>"
      ],
      "text/plain": [
       "<IPython.core.display.HTML object>"
      ]
     },
     "metadata": {},
     "output_type": "display_data"
    },
    {
     "name": "stdout",
     "output_type": "stream",
     "text": [
      "NQQQQMRLQQLQMEKERLRLKQQELLRQAMRNINPSTANSPKCQELALRSQLPTLEQDGG\n",
      "Solution #1:\n"
     ]
    },
    {
     "data": {
      "text/html": [
       "<table class=\"inner\"><tr></tr><tr></tr><tr></tr></table>"
      ],
      "text/plain": [
       "<IPython.core.display.HTML object>"
      ]
     },
     "metadata": {},
     "output_type": "display_data"
    },
    {
     "name": "stdout",
     "output_type": "stream",
     "text": [
      "TQNPVSSPGMSQELRTMTTNSSDPFLNSGTYHSRDESTDSGLSMSSYSVPRTPDDFLNSV\n",
      "Solution #1:\n"
     ]
    },
    {
     "data": {
      "text/html": [
       "<table class=\"inner\"><tr></tr><tr></tr><tr></tr></table>"
      ],
      "text/plain": [
       "<IPython.core.display.HTML object>"
      ]
     },
     "metadata": {},
     "output_type": "display_data"
    },
    {
     "name": "stdout",
     "output_type": "stream",
     "text": [
      "DEMDTGDTINQSTLPSQQNRFPDYLEAIPGTNVDLGTLEGDGMNIEGEELMPSLQEALSS\n",
      "Solution #1:\n"
     ]
    },
    {
     "data": {
      "text/html": [
       "<table class=\"inner\"><tr></tr><tr></tr><tr></tr></table>"
      ],
      "text/plain": [
       "<IPython.core.display.HTML object>"
      ]
     },
     "metadata": {},
     "output_type": "display_data"
    },
    {
     "name": "stdout",
     "output_type": "stream",
     "text": [
      "DILNDMESVLAATKLDKESFLTWL\n",
      "Solution #1:\n"
     ]
    },
    {
     "data": {
      "text/html": [
       "<table class=\"inner\"><tr></tr><tr></tr><tr></tr></table>"
      ],
      "text/plain": [
       "<IPython.core.display.HTML object>"
      ]
     },
     "metadata": {},
     "output_type": "display_data"
    },
    {
     "name": "stdout",
     "output_type": "stream",
     "text": [
      "MAQSLRLHFAARRSNTYPLSETSGDDLDSHVHMCFKRPTRISTSNVVQMKLTPRQTALAP\n",
      "Solution #1:\n"
     ]
    },
    {
     "data": {
      "text/html": [
       "<table class=\"inner\"><tr></tr><tr></tr><tr></tr></table>"
      ],
      "text/plain": [
       "<IPython.core.display.HTML object>"
      ]
     },
     "metadata": {},
     "output_type": "display_data"
    },
    {
     "name": "stdout",
     "output_type": "stream",
     "text": [
      "LIKENVQSQERSSVPSSENVNKKSSCLQISLQPTRYSGYLQSSNVLADSDDASFTCILKD\n",
      "Solution #1:\n"
     ]
    },
    {
     "data": {
      "text/html": [
       "<table class=\"inner\"><tr></tr><tr></tr><tr></tr></table>"
      ],
      "text/plain": [
       "<IPython.core.display.HTML object>"
      ]
     },
     "metadata": {},
     "output_type": "display_data"
    },
    {
     "name": "stdout",
     "output_type": "stream",
     "text": [
      "GIYSSAVVDNELNAVNDGHLVSSPAICSGSLSNFSTSDNGSYSSNGSDFGSCASITSGGS\n",
      "Solution #1:\n"
     ]
    },
    {
     "data": {
      "text/html": [
       "<table class=\"inner\"><tr></tr><tr></tr><tr></tr></table>"
      ],
      "text/plain": [
       "<IPython.core.display.HTML object>"
      ]
     },
     "metadata": {},
     "output_type": "display_data"
    },
    {
     "name": "stdout",
     "output_type": "stream",
     "text": [
      "YTNSVISDSSSYTFPPSDDTFLGGNLPSDSTSNRSVPNRNTTPCEIFSRSTSTDPFVQDD\n",
      "Solution #1:\n"
     ]
    },
    {
     "data": {
      "text/html": [
       "<table class=\"inner\"><tr></tr><tr></tr><tr></tr></table>"
      ],
      "text/plain": [
       "<IPython.core.display.HTML object>"
      ]
     },
     "metadata": {},
     "output_type": "display_data"
    },
    {
     "name": "stdout",
     "output_type": "stream",
     "text": [
      "LEHGLEIMKLPVSRNTKIPLKRYSSLVIFPRSPSTTRPTSPTSLCTLLSKGSYQTSHQFI\n",
      "Solution #1:\n"
     ]
    },
    {
     "data": {
      "text/html": [
       "<table class=\"inner\"><tr></tr><tr></tr><tr></tr></table>"
      ],
      "text/plain": [
       "<IPython.core.display.HTML object>"
      ]
     },
     "metadata": {},
     "output_type": "display_data"
    },
    {
     "name": "stdout",
     "output_type": "stream",
     "text": [
      "ISPSEIAHNEDGTSAKGFLSTAVNGLRLSKTICTPGEVRDIRPLHRKGSLQKKIVLSNNT\n",
      "Solution #1:\n"
     ]
    },
    {
     "data": {
      "text/html": [
       "<table class=\"inner\"><tr></tr><tr></tr><tr></tr></table>"
      ],
      "text/plain": [
       "<IPython.core.display.HTML object>"
      ]
     },
     "metadata": {},
     "output_type": "display_data"
    },
    {
     "name": "stdout",
     "output_type": "stream",
     "text": [
      "PRQTVCEKSSEGYSCVSVHFTQRKAATLDCETTNGDCKPEMSEIKLNSDSEYIKLMHRTS\n",
      "Solution #1:\n"
     ]
    },
    {
     "data": {
      "text/html": [
       "<table class=\"inner\"><tr></tr><tr></tr><tr></tr></table>"
      ],
      "text/plain": [
       "<IPython.core.display.HTML object>"
      ]
     },
     "metadata": {},
     "output_type": "display_data"
    },
    {
     "name": "stdout",
     "output_type": "stream",
     "text": [
      "ACLPSSQNVDCQININGELERPHSQMNKNHGILRRSISLGGAYPNISCLSSLKHNCSKGG\n",
      "Solution #1:\n"
     ]
    },
    {
     "data": {
      "text/html": [
       "<table class=\"inner\"><tr></tr><tr></tr><tr></tr></table>"
      ],
      "text/plain": [
       "<IPython.core.display.HTML object>"
      ]
     },
     "metadata": {},
     "output_type": "display_data"
    },
    {
     "name": "stdout",
     "output_type": "stream",
     "text": [
      "PSQLLIKFASGNEGKVDNLSRDSNRDCTNELSNSCKTRDDFLGQVDVPLYPLPTENPRLE\n",
      "Solution #1:\n"
     ]
    },
    {
     "data": {
      "text/html": [
       "<table class=\"inner\"><tr></tr><tr></tr><tr></tr></table>"
      ],
      "text/plain": [
       "<IPython.core.display.HTML object>"
      ]
     },
     "metadata": {},
     "output_type": "display_data"
    },
    {
     "name": "stdout",
     "output_type": "stream",
     "text": [
      "RPYTFKDFVLHPRSHKSRVKGYLRLKMTYLPKTSGSEDDNAEQAEELEPGWVVLDQPDAA\n",
      "Solution #1:\n"
     ]
    },
    {
     "data": {
      "text/html": [
       "<table class=\"inner\"><tr></tr><tr></tr><tr></tr></table>"
      ],
      "text/plain": [
       "<IPython.core.display.HTML object>"
      ]
     },
     "metadata": {},
     "output_type": "display_data"
    },
    {
     "name": "stdout",
     "output_type": "stream",
     "text": [
      "CHLQQQQEPSPLPPGWEERQDILGRTYYVNHESRRTQWKRPTPQDNLTDAENGNIQLQAQ\n",
      "Solution #1:\n"
     ]
    },
    {
     "data": {
      "text/html": [
       "<table class=\"inner\"><tr></tr><tr></tr><tr></tr></table>"
      ],
      "text/plain": [
       "<IPython.core.display.HTML object>"
      ]
     },
     "metadata": {},
     "output_type": "display_data"
    },
    {
     "name": "stdout",
     "output_type": "stream",
     "text": [
      "RAFTTRRQISEETESVDNRESSENWEIIREDEATMYSNQAFPSPPPSSNLDVPTHLAEEL\n",
      "Solution #1:\n"
     ]
    },
    {
     "data": {
      "text/html": [
       "<table class=\"inner\"><tr></tr><tr></tr><tr></tr></table>"
      ],
      "text/plain": [
       "<IPython.core.display.HTML object>"
      ]
     },
     "metadata": {},
     "output_type": "display_data"
    },
    {
     "name": "stdout",
     "output_type": "stream",
     "text": [
      "NARLTIFGNSAVSQPASSSNHSSRRGSLQAYTFEEQPTLPVLLPTSSGLPPGWEEKQDER\n",
      "Solution #1:\n"
     ]
    },
    {
     "data": {
      "text/html": [
       "<table class=\"inner\"><tr></tr><tr></tr><tr></tr></table>"
      ],
      "text/plain": [
       "<IPython.core.display.HTML object>"
      ]
     },
     "metadata": {},
     "output_type": "display_data"
    },
    {
     "name": "stdout",
     "output_type": "stream",
     "text": [
      "GRSYYVDHNSRTTTWTKPTVQATVETSQLTSSQSSAGPQSQASTSDSGQQVTQPSEIEQG\n",
      "Solution #1:\n"
     ]
    },
    {
     "data": {
      "text/html": [
       "<table class=\"inner\"><tr></tr><tr></tr><tr></tr></table>"
      ],
      "text/plain": [
       "<IPython.core.display.HTML object>"
      ]
     },
     "metadata": {},
     "output_type": "display_data"
    },
    {
     "name": "stdout",
     "output_type": "stream",
     "text": [
      "FLPKGWEVRHAPNGRPFFIDHNTKTTTWEDPRLKIPAHLRGKTSLDTSNDLGPLPPGWEE\n",
      "Solution #1:\n"
     ]
    },
    {
     "data": {
      "text/html": [
       "<table class=\"inner\"><tr></tr><tr></tr><tr></tr></table>"
      ],
      "text/plain": [
       "<IPython.core.display.HTML object>"
      ]
     },
     "metadata": {},
     "output_type": "display_data"
    },
    {
     "name": "stdout",
     "output_type": "stream",
     "text": [
      "RTHTDGRIFYINHNIKRTQWEDPRLENVAITGPAVPYSRDYKRKYEFFRRKLKKQNDIPN\n",
      "Solution #1:\n"
     ]
    },
    {
     "data": {
      "text/html": [
       "<table class=\"inner\"><tr></tr><tr></tr><tr></tr></table>"
      ],
      "text/plain": [
       "<IPython.core.display.HTML object>"
      ]
     },
     "metadata": {},
     "output_type": "display_data"
    },
    {
     "name": "stdout",
     "output_type": "stream",
     "text": [
      "KFEMKLRRATVLEDSYRRIMGVKRADFLKARLWIEFDGEKGLDYGGVAREWFFLISKEMF\n",
      "Solution #1:\n"
     ]
    },
    {
     "data": {
      "text/html": [
       "<table class=\"inner\"><tr></tr><tr></tr><tr></tr></table>"
      ],
      "text/plain": [
       "<IPython.core.display.HTML object>"
      ]
     },
     "metadata": {},
     "output_type": "display_data"
    },
    {
     "name": "stdout",
     "output_type": "stream",
     "text": [
      "NPYYGLFEYSATDNYTLQINPNSGLCNEDHLSYFKFIGRVAGMAVYHGKLLDGFFIRPFY\n",
      "Solution #1:\n"
     ]
    },
    {
     "data": {
      "text/html": [
       "<table class=\"inner\"><tr></tr><tr></tr><tr></tr></table>"
      ],
      "text/plain": [
       "<IPython.core.display.HTML object>"
      ]
     },
     "metadata": {},
     "output_type": "display_data"
    },
    {
     "name": "stdout",
     "output_type": "stream",
     "text": [
      "KMMLHKPITLHDMESVDSEYYNSLRWILENDPTELDLRFIIDEELFGQTHQHELKNGGSE\n",
      "Solution #1:\n"
     ]
    },
    {
     "data": {
      "text/html": [
       "<table class=\"inner\"><tr></tr><tr></tr><tr></tr></table>"
      ],
      "text/plain": [
       "<IPython.core.display.HTML object>"
      ]
     },
     "metadata": {},
     "output_type": "display_data"
    },
    {
     "name": "stdout",
     "output_type": "stream",
     "text": [
      "IVVTNKNKKEYIYLVIQWRFVNRIQKQMAAFKEGFFELIPQDLIKIFDENELELLMCGLG\n",
      "Solution #1:\n"
     ]
    },
    {
     "data": {
      "text/html": [
       "<table class=\"inner\"><tr></tr><tr></tr><tr></tr></table>"
      ],
      "text/plain": [
       "<IPython.core.display.HTML object>"
      ]
     },
     "metadata": {},
     "output_type": "display_data"
    },
    {
     "name": "stdout",
     "output_type": "stream",
     "text": [
      "DVDVNDWREHTKYKNGYSANHQVIQWFWKAVLMMDSEKRIRLLQFVTGTSRVPMNGFAEL\n",
      "Solution #1:\n"
     ]
    },
    {
     "data": {
      "text/html": [
       "<table class=\"inner\"><tr></tr><tr></tr><tr></tr></table>"
      ],
      "text/plain": [
       "<IPython.core.display.HTML object>"
      ]
     },
     "metadata": {},
     "output_type": "display_data"
    },
    {
     "name": "stdout",
     "output_type": "stream",
     "text": [
      "YGSNGPQSFTVEQWGTPEKLPRAHTCFNRLDLPPYESFEELWDKLQMAIENTQGFDGVD\n",
      "Solution #1:\n"
     ]
    },
    {
     "data": {
      "text/html": [
       "<table class=\"inner\"><tr></tr><tr></tr><tr></tr></table>"
      ],
      "text/plain": [
       "<IPython.core.display.HTML object>"
      ]
     },
     "metadata": {},
     "output_type": "display_data"
    },
    {
     "name": "stdout",
     "output_type": "stream",
     "text": [
      "MRPGTGAERGGLMVSEMESHPPSQGPGDGERRLSGSSLCSGSWVSADGFLRRRPSMGHPG\n",
      "Solution #1:\n"
     ]
    },
    {
     "data": {
      "text/html": [
       "<table class=\"inner\"><tr></tr><tr></tr><tr></tr></table>"
      ],
      "text/plain": [
       "<IPython.core.display.HTML object>"
      ]
     },
     "metadata": {},
     "output_type": "display_data"
    },
    {
     "name": "stdout",
     "output_type": "stream",
     "text": [
      "MHYAPMGMHPMGQRANMPPVPHGMMPQMMPPMGGPPMGQMPGMMSSVMPGMMMSHMSQAS\n",
      "Solution #1:\n"
     ]
    },
    {
     "data": {
      "text/html": [
       "<table class=\"inner\"><tr></tr><tr></tr><tr></tr></table>"
      ],
      "text/plain": [
       "<IPython.core.display.HTML object>"
      ]
     },
     "metadata": {},
     "output_type": "display_data"
    },
    {
     "name": "stdout",
     "output_type": "stream",
     "text": [
      "MQPALPPGVNSMDVAAGTASGAKSMWTEHKSPDGRTYYYNTETKQSTWEKPDDLKTPAEQ\n",
      "Solution #1:\n"
     ]
    },
    {
     "data": {
      "text/html": [
       "<table class=\"inner\"><tr></tr><tr></tr><tr></tr></table>"
      ],
      "text/plain": [
       "<IPython.core.display.HTML object>"
      ]
     },
     "metadata": {},
     "output_type": "display_data"
    },
    {
     "name": "stdout",
     "output_type": "stream",
     "text": [
      "LLSKCPWKEYKSDSGKPYYYNSQTKESRWAKPKELEDLEGYQNTIVAGSLITKSNLHAMI\n",
      "Solution #1:\n"
     ]
    },
    {
     "data": {
      "text/html": [
       "<table class=\"inner\"><tr></tr><tr></tr><tr></tr></table>"
      ],
      "text/plain": [
       "<IPython.core.display.HTML object>"
      ]
     },
     "metadata": {},
     "output_type": "display_data"
    },
    {
     "name": "stdout",
     "output_type": "stream",
     "text": [
      "KAEESSKQEECTTTSTAPVPTTEIPTTMSTMAAAEAAAAVVAAAAAAAAAAAAANANAST\n",
      "Solution #1:\n"
     ]
    },
    {
     "data": {
      "text/html": [
       "<table class=\"inner\"><tr></tr><tr></tr><tr></tr></table>"
      ],
      "text/plain": [
       "<IPython.core.display.HTML object>"
      ]
     },
     "metadata": {},
     "output_type": "display_data"
    },
    {
     "name": "stdout",
     "output_type": "stream",
     "text": [
      "SASNTVSGTVPVVPEPEVTSIVATVVDNENTVTISTEEQAQLTSTPAIQDQSVEVSSNTG\n",
      "Solution #1:\n"
     ]
    },
    {
     "data": {
      "text/html": [
       "<table class=\"inner\"><tr></tr><tr></tr><tr></tr></table>"
      ],
      "text/plain": [
       "<IPython.core.display.HTML object>"
      ]
     },
     "metadata": {},
     "output_type": "display_data"
    },
    {
     "name": "stdout",
     "output_type": "stream",
     "text": [
      "EETSKQETVADFTPKKEEEESQPAKKTYTWNTKEEAKQAFKELLKEKRVPSNASWEQAMK\n",
      "Solution #1:\n"
     ]
    },
    {
     "data": {
      "text/html": [
       "<table class=\"inner\"><tr></tr><tr></tr><tr></tr></table>"
      ],
      "text/plain": [
       "<IPython.core.display.HTML object>"
      ]
     },
     "metadata": {},
     "output_type": "display_data"
    },
    {
     "name": "stdout",
     "output_type": "stream",
     "text": [
      "MIINDPRYSALAKLSEKKQAFNAYKVQTEKEEKEEARSKYKEAKESFQRFLENHEKMTST\n",
      "Solution #1:\n"
     ]
    },
    {
     "data": {
      "text/html": [
       "<table class=\"inner\"><tr></tr><tr></tr><tr></tr></table>"
      ],
      "text/plain": [
       "<IPython.core.display.HTML object>"
      ]
     },
     "metadata": {},
     "output_type": "display_data"
    },
    {
     "name": "stdout",
     "output_type": "stream",
     "text": [
      "TRYKKAEQMFGEMEVWNAISERDRLEIYEDVLFFLSKKEKEQAKQLRKRNWEALKNILDN\n",
      "Solution #1:\n"
     ]
    },
    {
     "data": {
      "text/html": [
       "<table class=\"inner\"><tr></tr><tr></tr><tr></tr></table>"
      ],
      "text/plain": [
       "<IPython.core.display.HTML object>"
      ]
     },
     "metadata": {},
     "output_type": "display_data"
    },
    {
     "name": "stdout",
     "output_type": "stream",
     "text": [
      "MANVTYSTTWSEAQQYLMDNPTFAEDEELQNMDKEDALICFEEHIRALEKEEEEEKQKSL\n",
      "Solution #1:\n"
     ]
    },
    {
     "data": {
      "text/html": [
       "<table class=\"inner\"><tr></tr><tr></tr><tr></tr></table>"
      ],
      "text/plain": [
       "<IPython.core.display.HTML object>"
      ]
     },
     "metadata": {},
     "output_type": "display_data"
    },
    {
     "name": "stdout",
     "output_type": "stream",
     "text": [
      "LRERRRQRKNRESFQIFLDELHEHGQLHSMSSWMELYPTISSDIRFTNMLGQPGSTALDL\n",
      "Solution #1:\n"
     ]
    },
    {
     "data": {
      "text/html": [
       "<table class=\"inner\"><tr></tr><tr></tr><tr></tr></table>"
      ],
      "text/plain": [
       "<IPython.core.display.HTML object>"
      ]
     },
     "metadata": {},
     "output_type": "display_data"
    },
    {
     "name": "stdout",
     "output_type": "stream",
     "text": [
      "FKFYVEDLKARYHDEKKIIKDILKDKGFVVEVNTTFEDFVAIISSTKRSTTLDAGNIKLA\n",
      "Solution #1:\n"
     ]
    },
    {
     "data": {
      "text/html": [
       "<table class=\"inner\"><tr></tr><tr></tr><tr></tr></table>"
      ],
      "text/plain": [
       "<IPython.core.display.HTML object>"
      ]
     },
     "metadata": {},
     "output_type": "display_data"
    },
    {
     "name": "stdout",
     "output_type": "stream",
     "text": [
      "FNSLLEKAEAREREREKEEARKMKRKESAFKSMLKQAAPPIELDAVWEDIRERFVKEPAF\n",
      "Solution #1:\n"
     ]
    },
    {
     "data": {
      "text/html": [
       "<table class=\"inner\"><tr></tr><tr></tr><tr></tr></table>"
      ],
      "text/plain": [
       "<IPython.core.display.HTML object>"
      ]
     },
     "metadata": {},
     "output_type": "display_data"
    },
    {
     "name": "stdout",
     "output_type": "stream",
     "text": [
      "EDITLESERKRIFKDFMHVLEHECQHHHSKNKKHSKKSKKHHRKRSRSRSGSDSDDDDSH\n",
      "Solution #1:\n"
     ]
    },
    {
     "data": {
      "text/html": [
       "<table class=\"inner\"><tr></tr><tr></tr><tr></tr></table>"
      ],
      "text/plain": [
       "<IPython.core.display.HTML object>"
      ]
     },
     "metadata": {},
     "output_type": "display_data"
    },
    {
     "name": "stdout",
     "output_type": "stream",
     "text": [
      "SKKKRQRSESRSASEHSSSAESERSYKKSKKHKKKSKKRRHKSDSPESDAEREKDKKEKD\n",
      "Solution #1:\n"
     ]
    },
    {
     "data": {
      "text/html": [
       "<table class=\"inner\"><tr></tr><tr></tr><tr></tr></table>"
      ],
      "text/plain": [
       "<IPython.core.display.HTML object>"
      ]
     },
     "metadata": {},
     "output_type": "display_data"
    },
    {
     "name": "stdout",
     "output_type": "stream",
     "text": [
      "RESEKDRTRQRSESKHKSPKKKTGKDSGNWDTSGSELSEGELEKRRRTLLEQLDDDQ\n",
      "Solution #1:\n"
     ]
    },
    {
     "data": {
      "text/html": [
       "<table class=\"inner\"><tr></tr><tr></tr><tr></tr></table>"
      ],
      "text/plain": [
       "<IPython.core.display.HTML object>"
      ]
     },
     "metadata": {},
     "output_type": "display_data"
    },
    {
     "name": "stdout",
     "output_type": "stream",
     "text": [
      "MADEEKLPPGWEKRMSRSSGRVYYFNHITNASQWERPSGNSSSGGKNGQGEPARVRCSHL\n",
      "Solution #1:\n"
     ]
    },
    {
     "data": {
      "text/html": [
       "<table class=\"inner\"><tr></tr><tr></tr><tr></tr></table>"
      ],
      "text/plain": [
       "<IPython.core.display.HTML object>"
      ]
     },
     "metadata": {},
     "output_type": "display_data"
    },
    {
     "name": "stdout",
     "output_type": "stream",
     "text": [
      "LVKHSQSRRPSSWRQEKITRTKEEALELINGYIQKIKSGEEDFESLASQFSDCSSAKARG\n",
      "Solution #1:\n"
     ]
    },
    {
     "data": {
      "text/html": [
       "<table class=\"inner\"><tr></tr><tr></tr><tr></tr></table>"
      ],
      "text/plain": [
       "<IPython.core.display.HTML object>"
      ]
     },
     "metadata": {},
     "output_type": "display_data"
    },
    {
     "name": "stdout",
     "output_type": "stream",
     "text": [
      "DLGAFSRGQMQKPFEDASFALRTGEMSGPVFTDSGIHIILRTE\n",
      "Solution #1:\n"
     ]
    },
    {
     "data": {
      "text/html": [
       "<table class=\"inner\"><tr></tr><tr></tr><tr></tr></table>"
      ],
      "text/plain": [
       "<IPython.core.display.HTML object>"
      ]
     },
     "metadata": {},
     "output_type": "display_data"
    }
   ],
   "source": [
    "with open('protein-sequences.fasta', 'r') as f:\n",
    "    for line in f:\n",
    "        if line.startswith('>'):\n",
    "            continue\n",
    "            \n",
    "        x = line.strip('\\n')\n",
    "        y = l_sequence[0]\n",
    "        k = 1\n",
    "        local_count = 1 # How many local solution we want\n",
    "        \n",
    "        print(x)\n",
    "\n",
    "        # True to disable rendering of table (can solve lag issues)\n",
    "        large_matrice = True\n",
    "\n",
    "        gap_penalty = -4\n",
    "\n",
    "        init_data_structures()\n",
    "\n",
    "        for _ in range(local_count):\n",
    "            reset_optimal()\n",
    "            compute_dp_matrix(pssm=m)\n",
    "\n",
    "            l_solutions = find_k_solutions(k, local_alignement=True)\n",
    "\n",
    "            solution = l_solutions[0]\n",
    "\n",
    "            for i, j in solution:\n",
    "                to_zero[i][j] = True"
   ]
  },
  {
   "cell_type": "markdown",
   "metadata": {},
   "source": []
  }
 ],
 "metadata": {
  "kernelspec": {
   "display_name": "Python 3",
   "language": "python",
   "name": "python3"
  },
  "language_info": {
   "codemirror_mode": {
    "name": "ipython",
    "version": 3
   },
   "file_extension": ".py",
   "mimetype": "text/x-python",
   "name": "python",
   "nbconvert_exporter": "python",
   "pygments_lexer": "ipython3",
   "version": "3.6.0"
  }
 },
 "nbformat": 4,
 "nbformat_minor": 2
}
