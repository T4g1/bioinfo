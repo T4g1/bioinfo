{
 "cells": [
  {
   "cell_type": "code",
   "execution_count": 16,
   "metadata": {
    "collapsed": true,
    "deletable": true,
    "editable": true
   },
   "outputs": [],
   "source": [
    "def load_CSV(filename, column_names=[], separator=\",\"):\n",
    "    l_data = []\n",
    "    column_names.reverse()\n",
    "    \n",
    "    try:\n",
    "        with open(filename, 'r') as file:\n",
    "            for line in file.readlines():\n",
    "                temp = line.strip().split(separator)\n",
    "\n",
    "                data = {}\n",
    "                for column in column_names:\n",
    "                    data[column] = temp.pop()\n",
    "                    data[column] = data[column].strip()\n",
    "                    \n",
    "                l_data.append(data)\n",
    "    except:\n",
    "        print(\"/!\\ Malformed file {} /!\\ Expecting a CSV with following columns: {}\".format(filename, column_names))\n",
    "        \n",
    "    return l_data"
   ]
  },
  {
   "cell_type": "code",
   "execution_count": 17,
   "metadata": {
    "collapsed": false,
    "deletable": true,
    "editable": true
   },
   "outputs": [],
   "source": [
    "def load_CATH(filename=\"cath_info.txt\"):\n",
    "    return load_CSV(filename=filename, column_names=['PDB_code', 'PDB_chain_code', 'protein_family'], separator=\"\\t\")\n",
    "\n",
    "def load_DSSP(filename=\"dssp_info.txt\"):\n",
    "    return load_CSV(filename=filename, column_names=['PDB_code', 'PDB_chain_code', 'PDB_seq_code', 'residue_name', 'secondary_structure'], separator=\"\\t\")\n",
    "\n",
    "def load_STRIDE(filename=\"stride_info.txt\"):\n",
    "    return load_CSV(filename=filename, column_names=['PDB_code', 'PDB_chain_code', 'PDB_seq_code', 'residue_name', 'secondary_structure'], separator=\"\\t\")"
   ]
  },
  {
   "cell_type": "code",
   "execution_count": 33,
   "metadata": {
    "collapsed": false,
    "deletable": true,
    "editable": true
   },
   "outputs": [
    {
     "name": "stdout",
     "output_type": "stream",
     "text": [
      "Loaded 498 entries for CATH\n",
      "Loaded 71391 entries for DSSP\n",
      "Loaded 71077 entries for STRIDE\n"
     ]
    }
   ],
   "source": [
    "cath_info = load_CATH()\n",
    "dssp_info = load_DSSP()\n",
    "stride_info = load_STRIDE()\n",
    "\n",
    "print(\"Loaded {} entries for CATH\".format(len(cath_info)))\n",
    "print(\"Loaded {} entries for DSSP\".format(len(dssp_info)))\n",
    "print(\"Loaded {} entries for STRIDE\".format(len(stride_info)))"
   ]
  },
  {
   "cell_type": "code",
   "execution_count": 34,
   "metadata": {
    "collapsed": false,
    "deletable": true,
    "editable": true
   },
   "outputs": [
    {
     "name": "stdout",
     "output_type": "stream",
     "text": [
      "20 valid amino acid\n"
     ]
    }
   ],
   "source": [
    "l_residue = ['ALA', 'ARG', 'ASN', 'ASP', 'CYS',\n",
    "             'GLN', 'GLU', 'GLY', 'HIS', 'ILE', \n",
    "             'LEU', 'LYS', 'MET', 'PHE', 'PRO', \n",
    "             'SER', 'THR', 'TRP', 'TYR', 'VAL']\n",
    "\n",
    "print(\"{} valid amino acid\".format(len(l_residue)))"
   ]
  },
  {
   "cell_type": "code",
   "execution_count": 39,
   "metadata": {
    "collapsed": false
   },
   "outputs": [
    {
     "name": "stdout",
     "output_type": "stream",
     "text": [
      "Merging DSSP\n",
      "804 error(s) found\n",
      "498 entries in DSSP\n",
      "Merging STRIDE\n",
      "4 error(s) found\n",
      "498 entries in STRIDE\n"
     ]
    }
   ],
   "source": [
    "# Merge DSSP/STRIDE entries according to the PDB code\n",
    "def merge(data):\n",
    "    l_error = []\n",
    "    \n",
    "    merged = {}\n",
    "    for i in range(len(data)):\n",
    "        entry = data[i]\n",
    "        \n",
    "        key = \"{}_{}\".format(entry['PDB_code'], entry['PDB_chain_code'])\n",
    "        \n",
    "        if key not in merged:\n",
    "            merged[key] = {}\n",
    "            merged[key]['chain'] = entry['PDB_chain_code']\n",
    "            merged[key]['seq'] = []\n",
    "        \n",
    "        try:\n",
    "            # Test data consistency\n",
    "            #assert (entry['PDB_chain_code'] == merged[key]['chain']), \"Inconsistent data: Chain code differs for same PDB entry {}, {}\".format(\n",
    "            #    entry['PDB_chain_code'], merged[entry['PDB_code']]['chain']\n",
    "            #)\n",
    "\n",
    "            # Valid amino acid\n",
    "            assert (entry['residue_name'] in l_residue), \"Invalid amino acid: {}\".format(entry['residue_name'])\n",
    "        except AssertionError as e:\n",
    "            l_error.append(\"Entry #{}: {}\".format(i+1, e.args[0]))\n",
    "            continue\n",
    "        \n",
    "        # Assignement requierement\n",
    "        if entry['secondary_structure'] == 'Other':\n",
    "            entry['secondary_structure'] = 'Coil'\n",
    "        \n",
    "        merged[key]['seq'].append([\n",
    "            entry['PDB_seq_code'],\n",
    "            entry['residue_name'],\n",
    "            entry['secondary_structure'],\n",
    "        ])\n",
    "    \n",
    "    print(\"{} error(s) found\".format(len(l_error)))\n",
    "    #print(\"{}\".format('\\n'.join(l_error)))\n",
    "    \n",
    "    return merged\n",
    "\n",
    "print(\"Merging DSSP\")\n",
    "dssp_info_merged = merge(dssp_info)\n",
    "print(\"{} entries in DSSP\".format(len(dssp_info_merged)))\n",
    "\n",
    "print(\"Merging STRIDE\")\n",
    "stride_info_merged = merge(stride_info)\n",
    "print(\"{} entries in STRIDE\".format(len(stride_info_merged)))"
   ]
  },
  {
   "cell_type": "code",
   "execution_count": 43,
   "metadata": {
    "collapsed": false,
    "deletable": true,
    "editable": true
   },
   "outputs": [
    {
     "name": "stdout",
     "output_type": "stream",
     "text": [
      "Protein count: CATH: 498, DSSP: 498, STRIDE: 498\n",
      "Warning: Protein count does not match !\n"
     ]
    }
   ],
   "source": [
    "print(\"Protein count: CATH: {}, DSSP: {}, STRIDE: {}\".format(len(cath_info), len(dssp_info_merged), len(stride_info_merged)))\n",
    "\n",
    "# Check loading results\n",
    "try:\n",
    "    assert len(cath_info) == len(dssp_info_merged) == len(stride_info_merged), \"Warning: Protein count does not match !\"\n",
    "except AssertionError as e:\n",
    "    print(e)\n",
    "else:\n",
    "    print(\"Loading went well !\")"
   ]
  },
  {
   "cell_type": "code",
   "execution_count": null,
   "metadata": {
    "collapsed": true
   },
   "outputs": [],
   "source": []
  }
 ],
 "metadata": {
  "kernelspec": {
   "display_name": "Python 3",
   "language": "python",
   "name": "python3"
  },
  "language_info": {
   "codemirror_mode": {
    "name": "ipython",
    "version": 3
   },
   "file_extension": ".py",
   "mimetype": "text/x-python",
   "name": "python",
   "nbconvert_exporter": "python",
   "pygments_lexer": "ipython3",
   "version": "3.5.0"
  }
 },
 "nbformat": 4,
 "nbformat_minor": 2
}
