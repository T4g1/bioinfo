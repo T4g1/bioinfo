{
 "cells": [
  {
   "cell_type": "code",
   "execution_count": 44,
   "metadata": {
    "collapsed": true
   },
   "outputs": [],
   "source": [
    "def load_CSV(filename, column_names=[], separator=\",\"):\n",
    "    l_data = []\n",
    "    column_names.reverse()\n",
    "    \n",
    "    try:\n",
    "        with open(filename, 'r') as file:\n",
    "            for line in file.readlines():\n",
    "                temp = line.strip().split(separator)\n",
    "\n",
    "                data = {}\n",
    "                for column in column_names:\n",
    "                    data[column] = temp.pop()\n",
    "                    \n",
    "                l_data.append(data)\n",
    "    except:\n",
    "        print(\"/!\\ Malformed file {} /!\\ Expecting a CSV with following columns: {}\".format(filename, column_names))\n",
    "        \n",
    "    return l_data"
   ]
  },
  {
   "cell_type": "code",
   "execution_count": 45,
   "metadata": {
    "collapsed": false
   },
   "outputs": [],
   "source": [
    "def load_CATH(filename=\"cath_info.txt\"):\n",
    "    return load_CSV(filename=filename, column_names=['PDB_code', 'PDB_chain_code', 'protein_family'], separator=\"\\t\")\n",
    "\n",
    "def load_DSSP(filename=\"dssp_info.txt\"):\n",
    "    return load_CSV(filename=filename, column_names=['PDB_code', 'PDB_chain_code', 'PDB_seq_code', 'residue_name', 'secondary_structure'], separator=\"\\t\")\n",
    "\n",
    "def load_STRIDE(filename=\"stride_info.txt\"):\n",
    "    return load_CSV(filename=filename, column_names=['PDB_code', 'PDB_chain_code', 'PDB_seq_code', 'residue_name', 'secondary_structure'], separator=\"\\t\")"
   ]
  },
  {
   "cell_type": "code",
   "execution_count": 46,
   "metadata": {
    "collapsed": false
   },
   "outputs": [
    {
     "name": "stdout",
     "output_type": "stream",
     "text": [
      "498\n",
      "71391\n",
      "71077\n"
     ]
    }
   ],
   "source": [
    "cath_info = load_CATH()\n",
    "dssp_info = load_DSSP()\n",
    "stride_info = load_STRIDE()\n",
    "\n",
    "print(\"Loaded {} entries for CATH\".format(len(cath_info)))\n",
    "print(\"Loaded {} entries for DSSP\".format(len(dssp_info)))\n",
    "print(\"Loaded {} entries for STRIDE\".format(len(stride_info)))\n",
    "print(len(dssp_info))\n",
    "print(len(stride_info))"
   ]
  },
  {
   "cell_type": "code",
   "execution_count": 24,
   "metadata": {
    "collapsed": false
   },
   "outputs": [
    {
     "name": "stdout",
     "output_type": "stream",
     "text": [
      "None\n"
     ]
    }
   ],
   "source": []
  },
  {
   "cell_type": "code",
   "execution_count": null,
   "metadata": {
    "collapsed": true
   },
   "outputs": [],
   "source": []
  }
 ],
 "metadata": {
  "kernelspec": {
   "display_name": "Python 3",
   "language": "python",
   "name": "python3"
  },
  "language_info": {
   "codemirror_mode": {
    "name": "ipython",
    "version": 3
   },
   "file_extension": ".py",
   "mimetype": "text/x-python",
   "name": "python",
   "nbconvert_exporter": "python",
   "pygments_lexer": "ipython3",
   "version": "3.5.0"
  }
 },
 "nbformat": 4,
 "nbformat_minor": 2
}
