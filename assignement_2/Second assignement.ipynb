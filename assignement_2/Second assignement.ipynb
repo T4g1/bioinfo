{
 "cells": [
  {
   "cell_type": "code",
   "execution_count": 88,
   "metadata": {
    "collapsed": true,
    "deletable": true,
    "editable": true
   },
   "outputs": [],
   "source": [
    "def load_CSV(filename, column_names=[], separator=\",\"):\n",
    "    l_data = []\n",
    "    column_names.reverse()\n",
    "    \n",
    "    try:\n",
    "        with open(filename, 'r') as file:\n",
    "            for line in file.readlines():\n",
    "                temp = line.strip().split(separator)\n",
    "\n",
    "                data = {}\n",
    "                for column in column_names:\n",
    "                    data[column] = temp.pop()\n",
    "                    data[column] = data[column].strip()\n",
    "                    \n",
    "                l_data.append(data)\n",
    "    except:\n",
    "        print(\"/!\\ Malformed file {} /!\\ Expecting a CSV with following columns: {}\".format(filename, column_names))\n",
    "        \n",
    "    return l_data"
   ]
  },
  {
   "cell_type": "code",
   "execution_count": 89,
   "metadata": {
    "collapsed": false,
    "deletable": true,
    "editable": true
   },
   "outputs": [],
   "source": [
    "def load_CATH(filename=\"cath_info.txt\"):\n",
    "    return load_CSV(filename=filename, column_names=['PDB_code', 'PDB_chain_code', 'protein_family'], separator=\"\\t\")\n",
    "\n",
    "def load_DSSP(filename=\"dssp_info.txt\"):\n",
    "    return load_CSV(filename=filename, column_names=['PDB_code', 'PDB_chain_code', 'PDB_seq_code', 'residue_name', 'secondary_structure'], separator=\"\\t\")\n",
    "\n",
    "def load_STRIDE(filename=\"stride_info.txt\"):\n",
    "    return load_CSV(filename=filename, column_names=['PDB_code', 'PDB_chain_code', 'PDB_seq_code', 'residue_name', 'secondary_structure'], separator=\"\\t\")"
   ]
  },
  {
   "cell_type": "code",
   "execution_count": 90,
   "metadata": {
    "collapsed": false,
    "deletable": true,
    "editable": true
   },
   "outputs": [
    {
     "name": "stdout",
     "output_type": "stream",
     "text": [
      "Loaded 498 entries for CATH\n",
      "Loaded 71391 entries for DSSP\n",
      "Loaded 71077 entries for STRIDE\n"
     ]
    }
   ],
   "source": [
    "cath_info = load_CATH()\n",
    "dssp_info = load_DSSP()\n",
    "stride_info = load_STRIDE()\n",
    "\n",
    "print(\"Loaded {} entries for CATH\".format(len(cath_info)))\n",
    "print(\"Loaded {} entries for DSSP\".format(len(dssp_info)))\n",
    "print(\"Loaded {} entries for STRIDE\".format(len(stride_info)))"
   ]
  },
  {
   "cell_type": "code",
   "execution_count": 178,
   "metadata": {
    "collapsed": false,
    "deletable": true,
    "editable": true
   },
   "outputs": [
    {
     "name": "stdout",
     "output_type": "stream",
     "text": [
      "20 valid amino acid\n",
      "3 valid conformation\n"
     ]
    }
   ],
   "source": [
    "l_short_residue_mapping = {\n",
    "    'A': 'ALA',\n",
    "    'R': 'ARG', \n",
    "    'N': 'ASN', \n",
    "    'D': 'ASP', \n",
    "    'C': 'CYS',\n",
    "    'Q': 'GLN', \n",
    "    'E': 'GLU', \n",
    "    'G': 'GLY', \n",
    "    'H': 'HIS', \n",
    "    'I': 'ILE', \n",
    "    'L': 'LEU', \n",
    "    'K': 'LYS', \n",
    "    'M': 'MET', \n",
    "    'F': 'PHE', \n",
    "    'P': 'PRO',  \n",
    "    'S': 'SER', \n",
    "    'T': 'THR', \n",
    "    'W': 'TRP', \n",
    "    'Y': 'TYR', \n",
    "    'V': 'VAL',\n",
    "}\n",
    "l_long_residue_mapping = {y:x for x,y in l_short_residue_mapping.items()}\n",
    "l_residue = [y for x,y in l_short_residue_mapping.items()]\n",
    "l_short_residue = [x for x,y in l_short_residue_mapping.items()]\n",
    "\n",
    "l_conformation = ['Alpha', 'Beta', 'Coil']\n",
    "l_conformation_mapping = {'Alpha': 'H', 'Beta': 'E', 'Coil': 'C'}\n",
    "\n",
    "print(\"{} valid amino acid\".format(len(l_residue)))\n",
    "print(\"{} valid conformation\".format(len(l_conformation)))"
   ]
  },
  {
   "cell_type": "code",
   "execution_count": 123,
   "metadata": {
    "collapsed": false,
    "deletable": true,
    "editable": true
   },
   "outputs": [
    {
     "name": "stdout",
     "output_type": "stream",
     "text": [
      "Merging DSSP\n",
      "804 entries ignored\n",
      "498 entries in DSSP\n",
      "Merging STRIDE\n",
      "4 entries ignored\n",
      "498 entries in STRIDE\n"
     ]
    }
   ],
   "source": [
    "# Merge DSSP/STRIDE entries according to the PDB code\n",
    "def merge(data):\n",
    "    l_error = []\n",
    "    \n",
    "    merged = {}\n",
    "    for i in range(len(data)):\n",
    "        entry = data[i]\n",
    "        \n",
    "        key = \"{}_{}\".format(entry['PDB_code'], entry['PDB_chain_code'])\n",
    "        \n",
    "        if key not in merged:\n",
    "            merged[key] = {}\n",
    "            merged[key]['chain'] = entry['PDB_chain_code']\n",
    "            merged[key]['seq'] = []\n",
    "        \n",
    "        try:\n",
    "            # Test data consistency\n",
    "            #assert (entry['PDB_chain_code'] == merged[key]['chain']), \"Inconsistent data: Chain code differs for same PDB entry {}, {}\".format(\n",
    "            #    entry['PDB_chain_code'], merged[entry['PDB_code']]['chain']\n",
    "            #)\n",
    "\n",
    "            # Valid amino acid\n",
    "            assert (entry['residue_name'] in l_residue), \"Invalid amino acid: {}\".format(entry['residue_name'])\n",
    "        except AssertionError as e:\n",
    "            l_error.append(\"Entry #{}: {}\".format(i+1, e.args[0]))\n",
    "            continue\n",
    "        \n",
    "        # Assignement requierement\n",
    "        if entry['secondary_structure'] == 'Other':\n",
    "            entry['secondary_structure'] = 'Coil'\n",
    "        elif entry['secondary_structure'] == 'Helix':\n",
    "            entry['secondary_structure'] = 'Alpha'\n",
    "        \n",
    "        merged[key]['seq'].append([\n",
    "            entry['PDB_seq_code'],\n",
    "            entry['residue_name'],\n",
    "            entry['secondary_structure'],\n",
    "        ])\n",
    "    \n",
    "    print(\"{} entries ignored\".format(len(l_error)))\n",
    "    #print(\"{}\".format('\\n'.join(l_error)))\n",
    "    \n",
    "    return merged\n",
    "\n",
    "print(\"Merging DSSP\")\n",
    "dssp_info_merged = merge(dssp_info)\n",
    "print(\"{} entries in DSSP\".format(len(dssp_info_merged)))\n",
    "\n",
    "print(\"Merging STRIDE\")\n",
    "stride_info_merged = merge(stride_info)\n",
    "print(\"{} entries in STRIDE\".format(len(stride_info_merged)))"
   ]
  },
  {
   "cell_type": "code",
   "execution_count": 124,
   "metadata": {
    "collapsed": false,
    "deletable": true,
    "editable": true
   },
   "outputs": [
    {
     "name": "stdout",
     "output_type": "stream",
     "text": [
      "Protein count: CATH: 498, DSSP: 498, STRIDE: 498\n",
      "Loading went well !\n"
     ]
    }
   ],
   "source": [
    "print(\"Protein count: CATH: {}, DSSP: {}, STRIDE: {}\".format(len(cath_info), len(dssp_info_merged), len(stride_info_merged)))\n",
    "\n",
    "# Check loading results\n",
    "try:\n",
    "    assert len(cath_info) == len(dssp_info_merged) == len(stride_info_merged), \"Warning: Protein count does not match !\"\n",
    "   \n",
    "    # Every CATH protein is in DSSP and STRIDE\n",
    "    for cath_protein in cath_info:\n",
    "        PDB_code = cath_protein['PDB_code']\n",
    "        PDB_chain_code = cath_protein['PDB_chain_code']\n",
    "        \n",
    "        key = \"{}_{}\".format(PDB_code, PDB_chain_code)\n",
    "        \n",
    "        assert key in dssp_info_merged and key in stride_info_merged, \"CATH data inconsistent with DSSP and STRIDE\"\n",
    "except AssertionError as e:\n",
    "    print(e)\n",
    "else:\n",
    "    print(\"Loading went well !\")"
   ]
  },
  {
   "cell_type": "code",
   "execution_count": 125,
   "metadata": {
    "collapsed": false,
    "deletable": true,
    "editable": true
   },
   "outputs": [],
   "source": [
    "# Processing I(S;R) using the following formula:\n",
    "# I(S;R)=log[(fS,R/fR)/(fS/N)]\n",
    "# S=conformation, R=amino acid, N=total amino acid\n",
    "# fR=total R, fS=total conformation, fS,R=total R->S\n",
    "def process_f(protein_set):\n",
    "    global l_residue, l_conformation\n",
    "    \n",
    "    # Initialize data structure\n",
    "    N = 0\n",
    "    fr = {}\n",
    "    fs = {}\n",
    "    f = {}\n",
    "    \n",
    "    for conformation in l_conformation:\n",
    "        fs[conformation] = 0\n",
    "    \n",
    "    for residue in l_residue:\n",
    "        fr[residue] = 0\n",
    "        f[residue] = {}\n",
    "        \n",
    "        for conformation in l_conformation:\n",
    "            f[residue][conformation] = 0\n",
    "    \n",
    "    # Process all protein\n",
    "    for key, protein in protein_set.items():\n",
    "        for seq in protein['seq']:\n",
    "            position = seq[0]\n",
    "            residue = seq[1]\n",
    "            conformation = seq[2]\n",
    "            \n",
    "            assert conformation in l_conformation, \"Unknown conformation: {}\".format(conformation)\n",
    "            \n",
    "            N += 1\n",
    "            fr[residue] += 1\n",
    "            fs[conformation] += 1\n",
    "            f[residue][conformation] += 1\n",
    "\n",
    "    return N, fr, fs, f\n",
    "\n",
    "def display_f(N, fr, fs, f):\n",
    "    global l_residue, l_conformation\n",
    "    \n",
    "    content_html = \"\"\n",
    "    conformation_html = \"\"\n",
    "    total_html = \"\"\n",
    "    \n",
    "    for conformation in l_conformation:\n",
    "        conformation_html += \"<th>{}</th>\".format(conformation)\n",
    "        total_html += \"<td>{}</td>\".format(fs[conformation])\n",
    "    \n",
    "    for residue in l_residue:\n",
    "        content_html += \"<td>{}</td>\".format(residue)\n",
    "        \n",
    "        for conformation in l_conformation:\n",
    "            content_html += \"<td>{}</td>\".format(f[residue][conformation])\n",
    "            \n",
    "        content_html += \"<td>{}</td>\".format(fr[residue])\n",
    "        content_html = \"<tr>{}</tr>\".format(content_html)\n",
    "    \n",
    "    from IPython.display import HTML, display\n",
    "    display(HTML(\"\"\"\n",
    "        <table>\n",
    "            <tr><th>Residue</th>{}<th>Total</th></tr>\n",
    "            {}\n",
    "            <tr><th>Total</th>{}<td>{}</td></tr>\n",
    "        </table>\"\"\".format(conformation_html, content_html, total_html, N)))\n",
    "\n",
    "# Usage:\n",
    "# N, fr, fs, f = process_f(dssp_info_merged)\n",
    "# display_f(N, fr, fs, f)\n",
    "#\n",
    "# N, fr, fs, f = process_f(stride_info_merged)\n",
    "# display_f(N, fr, fs, f)"
   ]
  },
  {
   "cell_type": "code",
   "execution_count": 197,
   "metadata": {
    "collapsed": false
   },
   "outputs": [],
   "source": [
    "import os\n",
    "    \n",
    "def load_protein(filename):\n",
    "    protein = ''\n",
    "    secondary_structure = ''\n",
    "    \n",
    "    with open(\"protein/{}\".format(filename), 'r') as f:\n",
    "        for line in f:\n",
    "            line = line.strip('\\n')\n",
    "            if line.startswith('>') or line == '':\n",
    "                continue\n",
    "            \n",
    "            if protein == '':\n",
    "                protein = line\n",
    "            else:\n",
    "                secondary_structure = line\n",
    "    \n",
    "    return protein, secondary_structure\n",
    "\n",
    "l_protein = []\n",
    "for filename in os.listdir('protein'):\n",
    "    protein, secondary_structure = load_protein(filename)\n",
    "    \n",
    "    assert len(protein) == len(secondary_structure), \"Protein size and secondary structure size does not match ! Protein: {}\".format(filename)\n",
    "    \n",
    "    l_protein.append({\n",
    "        'name': filename.split('.')[0],\n",
    "        'protein': protein,\n",
    "        'secondary_structure': secondary_structure,\n",
    "    })"
   ]
  },
  {
   "cell_type": "code",
   "execution_count": 198,
   "metadata": {
    "collapsed": true
   },
   "outputs": [],
   "source": [
    "import math\n",
    "\n",
    "# Compute self-information using the following formula:\n",
    "# I(delta Sj; Rj) = log(fSj,Rj / fn-Sj,Rj) + log(fn-S / fS)\n",
    "# fn-S,R = fR - fS,R\n",
    "# fn-S   = N - fS\n",
    "def compute_self_information(N, fr, fs, f, R):\n",
    "    global l_residue, l_conformation\n",
    "    \n",
    "    I = {}\n",
    "    for S in l_conformation:\n",
    "        fnsr = fr[R] - f[R][S]\n",
    "        fns = N - fs[S]\n",
    "        \n",
    "        I[S] = math.log(f[R][S] / fnsr) + math.log(fns / fs[S])\n",
    "    \n",
    "    return I"
   ]
  },
  {
   "cell_type": "code",
   "execution_count": 199,
   "metadata": {
    "collapsed": false
   },
   "outputs": [],
   "source": [
    "# Compute pair information\n",
    "def compute_pair_information(N, fr, fs, f, l_R, Rj, self_information):\n",
    "    I = {S:0 for S in l_conformation}\n",
    "    \n",
    "    for Rjm in l_R:\n",
    "        Rjm = l_short_residue_mapping[Rjm]\n",
    "        \n",
    "        for S in l_conformation:\n",
    "            fsrr = f[Rj][S] + f[Rjm][S]\n",
    "            fnsr = fr[Rj] - f[Rj][S]\n",
    "            fnsrr = fnsr + (fr[Rjm] - f[Rjm][S])\n",
    "            I[S] += math.log(fsrr / fnsrr) + math.log(fnsr / f[Rj][S])\n",
    "\n",
    "    return I"
   ]
  },
  {
   "cell_type": "code",
   "execution_count": 200,
   "metadata": {
    "collapsed": false
   },
   "outputs": [],
   "source": [
    "def MCC(real, predicted):\n",
    "    TP, TN, FP, FN = 0.0, 0.0, 0.0, 0.0\n",
    "    \n",
    "    for i in range(len(real)):\n",
    "        if real[i] == predicted[i]:\n",
    "            if real[i] == 'H':\n",
    "                TP += 1\n",
    "            else:\n",
    "                TN += 1\n",
    "        else:\n",
    "            if real[i] == 'H':\n",
    "                FN += 1\n",
    "            else:\n",
    "                FP += 1\n",
    "        \n",
    "    up = (TP * TN) - (FP * FN)\n",
    "    bottom = math.sqrt((TP + FP) * (TP + FN) * (TN + FP) * (TN + FN))\n",
    "    \n",
    "    return up / bottom"
   ]
  },
  {
   "cell_type": "code",
   "execution_count": 201,
   "metadata": {
    "collapsed": false
   },
   "outputs": [],
   "source": [
    "def Q3(real, predicted):\n",
    "    correct = 0.0\n",
    "    total = len(real)\n",
    "    \n",
    "    for i in range(total):\n",
    "        if real[i] == predicted[i]:\n",
    "            correct += 1\n",
    "        \n",
    "    return correct / total"
   ]
  },
  {
   "cell_type": "code",
   "execution_count": 205,
   "metadata": {
    "collapsed": false
   },
   "outputs": [
    {
     "name": "stdout",
     "output_type": "stream",
     "text": [
      "Protein: 1arl\n",
      "PROT> ARSTNTFNYATYHTLDEIYDFMDLLVAEHPQLVSKLQIGRSYEGRPIYVLKFSTGGSNRPAIWIDLGIHSREWITQATGVWFAKKFTEDYGQDPSFTAILDSMDIFLEIVTNPDGFAFTHSQNRLWRKTRSVTSSSLCVGVDANRNWDAGFGKAGASSSPCSETYHGKYANSEVEVKSIVDFVKDHGNFKAFLSIHSYSQLLLYPYGYTTQSIPDKTELNQVAKSAVAALKSLYGTSYKYGSIITTIYQASGGSIDWSYNQGIKYSFTFELRDTGRYGFLLPASQIIPTAQETWLGVLTIMEHTVNN\n",
      "REAL> CCCCCCCCCCCCCCHHHHHHHHHHHHHHCCCCEEEEEEEECCCCCEEEEEEECCCCCCCCEEEEEECCCCCCHHHHHHHHHHHHHHHHHCCCCHHHHHHHHHCEEEEECCCCHHHHHHHHHCCCCCCCCCCCCCCCCCCCCCHHHCCCCCCCCCCCECCCCCCCECCCCCCCCHHHHHHHHHHHHHCCEEEEEEEEECCCEEEECCCCCCCCCCCHHHHHHHHHHHHHHHHHHHCCCCEEEEHHHHCCCCCCCHHHHHHHCCCCEEEEEEECCCCCCHHHCCHHHHHHHHHHHHHHHHHHHHHHHHC\n",
      "PRED> CCHHEHCECEHCHHCEECCEHEECCCEEHHECCHECECHCECEHEECCCCCCEHHHEECECCCCECHCHHEECCHEEHHCCCEEECHCECHCEHHCHCCCEHEECCCECCHEEEHCCCHHHCECCCCEHCHCHEEECCCHCECECECECHCHCCHCHHHHCHCHCCHCCEEEECECEHCCECCEEHHECEECCHCHHCHECCCCHCHCHHCECHEEHECEECEEHECEECEHCCHHECECHECCHHCCEEEHHECECECECHCECHCHCECCEHHCCHCCCECHECCHHEEEHCCHCCHCEEEHCEE\n",
      "Q3: 0.28664495114006516\n",
      "MCC: -0.4366742823564344\n"
     ]
    }
   ],
   "source": [
    "# Process all proteins\n",
    "for protein in l_protein:\n",
    "    name = protein['name']\n",
    "    secondary_structure = protein['secondary_structure']\n",
    "    protein = protein['protein']\n",
    "    \n",
    "    N, fr, fs, f = process_f(dssp_info_merged)\n",
    "    #display_f(N, fr, fs, f)\n",
    "    \n",
    "    # Compute local informations for each amino acid\n",
    "    self_information = {}\n",
    "    for residue in l_residue:\n",
    "        self_information[residue] = compute_self_information(N, fr, fs, f, residue)\n",
    "    \n",
    "    prediction = \"\"\n",
    "    for j in range(len(protein)):\n",
    "        R = l_short_residue_mapping[protein[j]]\n",
    "        \n",
    "        # Validation for the window\n",
    "        # a ='abcdefghijklmnopqrstuvwxyz'\n",
    "        # for j in range(len(a)):\n",
    "        #    print(a[max(0,j-8):j] + a[j+1:min(j+8,len(a))])\n",
    "        \n",
    "        window = protein[max(0, j - 8) : j]\n",
    "        window += protein[j + 1 : min(j + 8, len(protein))]\n",
    "        \n",
    "        I = compute_pair_information(N, fr, fs, f, window, R, self_information)\n",
    "        \n",
    "        si = self_information[R]\n",
    "        for S in l_conformation:\n",
    "            I[S] += si[S]\n",
    "            \n",
    "        import operator\n",
    "        gor_prediction = max(I.items(), key=operator.itemgetter(1))[0]\n",
    "        prediction += l_conformation_mapping[gor_prediction]\n",
    "    \n",
    "    print(\"Protein:\", name)\n",
    "    print(\"PROT>\", protein)\n",
    "    print(\"REAL>\", secondary_structure)\n",
    "    print(\"PRED>\", prediction)\n",
    "    print(\"Q3:\", Q3(secondary_structure, prediction))\n",
    "    print(\"MCC:\", MCC(secondary_structure, prediction))\n",
    "    break # DEBUG: Remove"
   ]
  },
  {
   "cell_type": "code",
   "execution_count": null,
   "metadata": {
    "collapsed": true
   },
   "outputs": [],
   "source": []
  }
 ],
 "metadata": {
  "kernelspec": {
   "display_name": "Python 3",
   "language": "python",
   "name": "python3"
  },
  "language_info": {
   "codemirror_mode": {
    "name": "ipython",
    "version": 3
   },
   "file_extension": ".py",
   "mimetype": "text/x-python",
   "name": "python",
   "nbconvert_exporter": "python",
   "pygments_lexer": "ipython3",
   "version": "3.5.0"
  }
 },
 "nbformat": 4,
 "nbformat_minor": 2
}
