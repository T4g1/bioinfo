{
 "cells": [
  {
   "cell_type": "code",
   "execution_count": 2,
   "metadata": {
    "collapsed": true,
    "deletable": true,
    "editable": true
   },
   "outputs": [],
   "source": [
    "def load_CSV(filename, column_names=[], separator=\",\"):\n",
    "    l_data = []\n",
    "    column_names.reverse()\n",
    "    \n",
    "    try:\n",
    "        with open(filename, 'r') as file:\n",
    "            for line in file.readlines():\n",
    "                temp = line.strip().split(separator)\n",
    "\n",
    "                data = {}\n",
    "                for column in column_names:\n",
    "                    data[column] = temp.pop()\n",
    "                    data[column] = data[column].strip()\n",
    "                    \n",
    "                l_data.append(data)\n",
    "    except:\n",
    "        print(\"/!\\ Malformed file {} /!\\ Expecting a CSV with following columns: {}\".format(filename, column_names))\n",
    "        \n",
    "    return l_data"
   ]
  },
  {
   "cell_type": "code",
   "execution_count": 3,
   "metadata": {
    "collapsed": false,
    "deletable": true,
    "editable": true
   },
   "outputs": [],
   "source": [
    "def load_CATH(filename=\"cath_info.txt\"):\n",
    "    return load_CSV(filename=filename, column_names=['PDB_code', 'PDB_chain_code', 'protein_family'], separator=\"\\t\")\n",
    "\n",
    "def load_DSSP(filename=\"dssp_info.txt\"):\n",
    "    return load_CSV(filename=filename, column_names=['PDB_code', 'PDB_chain_code', 'PDB_seq_code', 'residue_name', 'secondary_structure'], separator=\"\\t\")\n",
    "\n",
    "def load_STRIDE(filename=\"stride_info.txt\"):\n",
    "    return load_CSV(filename=filename, column_names=['PDB_code', 'PDB_chain_code', 'PDB_seq_code', 'residue_name', 'secondary_structure'], separator=\"\\t\")"
   ]
  },
  {
   "cell_type": "code",
   "execution_count": 4,
   "metadata": {
    "collapsed": false,
    "deletable": true,
    "editable": true
   },
   "outputs": [
    {
     "name": "stdout",
     "output_type": "stream",
     "text": [
      "Loaded 498 entries for CATH\n",
      "Loaded 71391 entries for DSSP\n",
      "Loaded 71077 entries for STRIDE\n"
     ]
    }
   ],
   "source": [
    "cath_info = load_CATH()\n",
    "dssp_info = load_DSSP()\n",
    "stride_info = load_STRIDE()\n",
    "\n",
    "print(\"Loaded {} entries for CATH\".format(len(cath_info)))\n",
    "print(\"Loaded {} entries for DSSP\".format(len(dssp_info)))\n",
    "print(\"Loaded {} entries for STRIDE\".format(len(stride_info)))"
   ]
  },
  {
   "cell_type": "code",
   "execution_count": 5,
   "metadata": {
    "collapsed": false,
    "deletable": true,
    "editable": true
   },
   "outputs": [
    {
     "name": "stdout",
     "output_type": "stream",
     "text": [
      "20 valid amino acid\n",
      "3 valid conformation\n"
     ]
    }
   ],
   "source": [
    "l_residue = ['ALA', 'ARG', 'ASN', 'ASP', 'CYS',\n",
    "             'GLN', 'GLU', 'GLY', 'HIS', 'ILE', \n",
    "             'LEU', 'LYS', 'MET', 'PHE', 'PRO', \n",
    "             'SER', 'THR', 'TRP', 'TYR', 'VAL']\n",
    "\n",
    "l_conformation = ['Alpha', 'Beta', 'Coil']\n",
    "\n",
    "print(\"{} valid amino acid\".format(len(l_residue)))\n",
    "print(\"{} valid conformation\".format(len(l_conformation)))"
   ]
  },
  {
   "cell_type": "code",
   "execution_count": 6,
   "metadata": {
    "collapsed": false,
    "deletable": true,
    "editable": true
   },
   "outputs": [
    {
     "name": "stdout",
     "output_type": "stream",
     "text": [
      "Merging DSSP\n",
      "804 entries ignored\n",
      "498 entries in DSSP\n",
      "Merging STRIDE\n",
      "4 entries ignored\n",
      "498 entries in STRIDE\n"
     ]
    }
   ],
   "source": [
    "# Merge DSSP/STRIDE entries according to the PDB code\n",
    "def merge(data):\n",
    "    l_error = []\n",
    "    \n",
    "    merged = {}\n",
    "    for i in range(len(data)):\n",
    "        entry = data[i]\n",
    "        \n",
    "        key = \"{}_{}\".format(entry['PDB_code'], entry['PDB_chain_code'])\n",
    "        \n",
    "        if key not in merged:\n",
    "            merged[key] = {}\n",
    "            merged[key]['chain'] = entry['PDB_chain_code']\n",
    "            merged[key]['seq'] = []\n",
    "        \n",
    "        try:\n",
    "            # Test data consistency\n",
    "            #assert (entry['PDB_chain_code'] == merged[key]['chain']), \"Inconsistent data: Chain code differs for same PDB entry {}, {}\".format(\n",
    "            #    entry['PDB_chain_code'], merged[entry['PDB_code']]['chain']\n",
    "            #)\n",
    "\n",
    "            # Valid amino acid\n",
    "            assert (entry['residue_name'] in l_residue), \"Invalid amino acid: {}\".format(entry['residue_name'])\n",
    "        except AssertionError as e:\n",
    "            l_error.append(\"Entry #{}: {}\".format(i+1, e.args[0]))\n",
    "            continue\n",
    "        \n",
    "        # Assignement requierement\n",
    "        if entry['secondary_structure'] == 'Other':\n",
    "            entry['secondary_structure'] = 'Coil'\n",
    "        elif entry['secondary_structure'] == 'Helix':\n",
    "            entry['secondary_structure'] = 'Alpha'\n",
    "        \n",
    "        merged[key]['seq'].append([\n",
    "            entry['PDB_seq_code'],\n",
    "            entry['residue_name'],\n",
    "            entry['secondary_structure'],\n",
    "        ])\n",
    "    \n",
    "    print(\"{} entries ignored\".format(len(l_error)))\n",
    "    #print(\"{}\".format('\\n'.join(l_error)))\n",
    "    \n",
    "    return merged\n",
    "\n",
    "print(\"Merging DSSP\")\n",
    "dssp_info_merged = merge(dssp_info)\n",
    "print(\"{} entries in DSSP\".format(len(dssp_info_merged)))\n",
    "\n",
    "print(\"Merging STRIDE\")\n",
    "stride_info_merged = merge(stride_info)\n",
    "print(\"{} entries in STRIDE\".format(len(stride_info_merged)))"
   ]
  },
  {
   "cell_type": "code",
   "execution_count": 7,
   "metadata": {
    "collapsed": false,
    "deletable": true,
    "editable": true
   },
   "outputs": [
    {
     "name": "stdout",
     "output_type": "stream",
     "text": [
      "Protein count: CATH: 498, DSSP: 498, STRIDE: 498\n",
      "Loading went well !\n"
     ]
    }
   ],
   "source": [
    "print(\"Protein count: CATH: {}, DSSP: {}, STRIDE: {}\".format(len(cath_info), len(dssp_info_merged), len(stride_info_merged)))\n",
    "\n",
    "# Check loading results\n",
    "try:\n",
    "    assert len(cath_info) == len(dssp_info_merged) == len(stride_info_merged), \"Warning: Protein count does not match !\"\n",
    "except AssertionError as e:\n",
    "    print(e)\n",
    "else:\n",
    "    print(\"Loading went well !\")"
   ]
  },
  {
   "cell_type": "code",
   "execution_count": 37,
   "metadata": {
    "collapsed": false,
    "deletable": true,
    "editable": true
   },
   "outputs": [
    {
     "data": {
      "text/html": [
       "\n",
       "        <table>\n",
       "            <tr><th>Residue</th><th>Alpha</th><th>Beta</th><th>Coil</th><th>Total</th></tr>\n",
       "            <tr><tr><tr><tr><tr><tr><tr><tr><tr><tr><tr><tr><tr><tr><tr><tr><tr><tr><tr><tr><td>ALA</td><td>5869</td><td>6685</td><td>2636</td><td>7619</td></tr><td>ARG</td><td>3154</td><td>4455</td><td>1744</td><td>4693</td></tr><td>ASN</td><td>2244</td><td>3431</td><td>2214</td><td>3959</td></tr><td>ASP</td><td>3165</td><td>4593</td><td>3085</td><td>5432</td></tr><td>CYS</td><td>600</td><td>1165</td><td>508</td><td>1148</td></tr><td>GLN</td><td>2847</td><td>3297</td><td>1305</td><td>3736</td></tr><td>GLU</td><td>4753</td><td>5592</td><td>2222</td><td>6295</td></tr><td>GLY</td><td>2329</td><td>6101</td><td>4488</td><td>6471</td></tr><td>HIS</td><td>1276</td><td>2164</td><td>957</td><td>2203</td></tr><td>ILE</td><td>3012</td><td>6093</td><td>1275</td><td>5201</td></tr><td>LEU</td><td>6273</td><td>7862</td><td>2349</td><td>8263</td></tr><td>LYS</td><td>4044</td><td>5018</td><td>2199</td><td>5669</td></tr><td>MET</td><td>1260</td><td>1458</td><td>618</td><td>1649</td></tr><td>PHE</td><td>2063</td><td>3935</td><td>1212</td><td>3622</td></tr><td>PRO</td><td>1403</td><td>3563</td><td>3013</td><td>4007</td></tr><td>SER</td><td>2778</td><td>4986</td><td>2871</td><td>5319</td></tr><td>THR</td><td>2431</td><td>5521</td><td>2257</td><td>5116</td></tr><td>TRP</td><td>747</td><td>1308</td><td>384</td><td>1224</td></tr><td>TYR</td><td>1658</td><td>3403</td><td>977</td><td>3034</td></tr><td>VAL</td><td>3304</td><td>7941</td><td>1665</td><td>6478</td></tr>\n",
       "            <tr><th>Total</th><td>32077</td><td>21082</td><td>37979</td><td>91138</td></tr>\n",
       "        </table>"
      ],
      "text/plain": [
       "<IPython.core.display.HTML object>"
      ]
     },
     "metadata": {},
     "output_type": "display_data"
    }
   ],
   "source": [
    "# Processing I(S;R) using the following formula:\n",
    "# I(S;R)=log[(fS,R/fR)/(fS/N)]\n",
    "# S=conformation, R=amino acid, N=total amino acid\n",
    "# fR=total R, fS=total conformation, fS,R=total R->S\n",
    "def process_f(cath, dssp, stride):\n",
    "    global l_residue, l_conformation\n",
    "    assert len(cath_info) == len(dssp_info_merged) == len(stride_info_merged)\n",
    "    \n",
    "    # Initialize data structure\n",
    "    N = 0\n",
    "    fr = {}\n",
    "    fs = {}\n",
    "    f = {}\n",
    "    \n",
    "    for conformation in l_conformation:\n",
    "        fs[conformation] = 0\n",
    "    \n",
    "    for residue in l_residue:\n",
    "        fr[residue] = 0\n",
    "        f[residue] = {}\n",
    "        \n",
    "        for conformation in l_conformation:\n",
    "            f[residue][conformation] = 0\n",
    "    \n",
    "    # Process all protein\n",
    "    for cath_protein in cath:\n",
    "        PDB_code = cath_protein['PDB_code']\n",
    "        PDB_chain_code = cath_protein['PDB_chain_code']\n",
    "        cath_familly = cath_protein['protein_family']\n",
    "        \n",
    "        key = \"{}_{}\".format(PDB_code, PDB_chain_code)\n",
    "        \n",
    "        assert key in dssp and key in stride, \"CATH data inconsistent with DSSP and STRIDE\"\n",
    "            \n",
    "        all_seq = []\n",
    "        all_seq.extend(dssp[key]['seq'])\n",
    "        all_seq.extend(stride[key]['seq'])\n",
    "        \n",
    "        assert len(all_seq) == len(dssp[key]['seq']) + len(stride[key]['seq']), \"Sequences tables not fully merged for uni-processing !\"\n",
    "        \n",
    "        for seq in all_seq[:200]:\n",
    "            position = seq[0]\n",
    "            residue = seq[1]\n",
    "            conformation = seq[2]\n",
    "            \n",
    "            assert conformation in l_conformation, \"Unknown conformation: {}\".format(conformation)\n",
    "            \n",
    "            N += 1\n",
    "            fr[residue] += 1\n",
    "            fs[conformation] += 1\n",
    "            f[residue][conformation] += 1\n",
    "            \n",
    "            # Exploit CATH information\n",
    "            # The whole protein residues are considered to have the same familly\n",
    "            if cath_familly == \"None\":\n",
    "                continue\n",
    "            elif cath_familly == \"Alpha/beta\":\n",
    "                f[residue]['Alpha'] += 1\n",
    "                cath_familly = \"Beta\"\n",
    "            \n",
    "            assert cath_familly in l_conformation, \"Unknown conformation: {}\".format(cath_familly)\n",
    "            \n",
    "            f[residue][cath_familly] += 1\n",
    "\n",
    "    return N, fr, fs, f\n",
    "\n",
    "def display_f(N, fr, fs, f):\n",
    "    global l_residue, l_conformation\n",
    "    \n",
    "    content_html = \"\"\n",
    "    conformation_html = \"\"\n",
    "    total_html = \"\"\n",
    "    \n",
    "    for conformation in l_conformation:\n",
    "        conformation_html += \"<th>{}</th>\".format(conformation)\n",
    "        total_html += \"<td>{}</td>\".format(fs[conformation])\n",
    "    \n",
    "    for residue in l_residue:\n",
    "        content_html += \"<td>{}</td>\".format(residue)\n",
    "        \n",
    "        for conformation in l_conformation:\n",
    "            content_html += \"<td>{}</td>\".format(f[residue][conformation])\n",
    "            \n",
    "        content_html += \"<td>{}</td>\".format(fr[residue])\n",
    "        content_html = \"<tr>{}</tr>\".format(content_html)\n",
    "    \n",
    "    from IPython.display import HTML, display\n",
    "    display(HTML(\"\"\"\n",
    "        <table>\n",
    "            <tr><th>Residue</th>{}<th>Total</th></tr>\n",
    "            {}\n",
    "            <tr><th>Total</th>{}<td>{}</td></tr>\n",
    "        </table>\"\"\".format(conformation_html, content_html, total_html, N)))\n",
    "\n",
    "N, fr, fs, f = process_f(cath_info, dssp_info_merged, stride_info_merged)\n",
    "display_f(N, fr, fs, f)"
   ]
  },
  {
   "cell_type": "code",
   "execution_count": 38,
   "metadata": {
    "collapsed": true
   },
   "outputs": [],
   "source": [
    "def process_ISR(N, fr, fs, f):\n",
    "    global l_residue, l_conformation\n",
    "    pass\n",
    "    "
   ]
  },
  {
   "cell_type": "code",
   "execution_count": null,
   "metadata": {
    "collapsed": true
   },
   "outputs": [],
   "source": []
  }
 ],
 "metadata": {
  "kernelspec": {
   "display_name": "Python 3",
   "language": "python",
   "name": "python3"
  },
  "language_info": {
   "codemirror_mode": {
    "name": "ipython",
    "version": 3
   },
   "file_extension": ".py",
   "mimetype": "text/x-python",
   "name": "python",
   "nbconvert_exporter": "python",
   "pygments_lexer": "ipython3",
   "version": "3.5.0"
  }
 },
 "nbformat": 4,
 "nbformat_minor": 2
}
