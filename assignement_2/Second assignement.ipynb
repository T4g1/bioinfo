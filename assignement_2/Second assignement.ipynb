{
 "cells": [
  {
   "cell_type": "code",
   "execution_count": 1,
   "metadata": {
    "collapsed": true,
    "deletable": true,
    "editable": true
   },
   "outputs": [],
   "source": [
    "def load_CSV(filename, column_names=[], separator=\",\"):\n",
    "    l_data = []\n",
    "    column_names.reverse()\n",
    "    \n",
    "    try:\n",
    "        with open(filename, 'r') as file:\n",
    "            for line in file.readlines():\n",
    "                temp = line.strip().split(separator)\n",
    "\n",
    "                data = {}\n",
    "                for column in column_names:\n",
    "                    data[column] = temp.pop()\n",
    "                    data[column] = data[column].strip()\n",
    "                    \n",
    "                l_data.append(data)\n",
    "    except:\n",
    "        print(\"/!\\ Malformed file {} /!\\ Expecting a CSV with following columns: {}\".format(filename, column_names))\n",
    "        \n",
    "    return l_data"
   ]
  },
  {
   "cell_type": "code",
   "execution_count": 2,
   "metadata": {
    "collapsed": false,
    "deletable": true,
    "editable": true
   },
   "outputs": [],
   "source": [
    "def load_CATH(filename=\"cath_info.txt\"):\n",
    "    return load_CSV(filename=filename, column_names=['PDB_code', 'PDB_chain_code', 'protein_family'], separator=\"\\t\")\n",
    "\n",
    "def load_DSSP(filename=\"dssp_info.txt\"):\n",
    "    return load_CSV(filename=filename, column_names=['PDB_code', 'PDB_chain_code', 'PDB_seq_code', 'residue_name', 'secondary_structure'], separator=\"\\t\")\n",
    "\n",
    "def load_STRIDE(filename=\"stride_info.txt\"):\n",
    "    return load_CSV(filename=filename, column_names=['PDB_code', 'PDB_chain_code', 'PDB_seq_code', 'residue_name', 'secondary_structure'], separator=\"\\t\")"
   ]
  },
  {
   "cell_type": "code",
   "execution_count": 3,
   "metadata": {
    "collapsed": false,
    "deletable": true,
    "editable": true
   },
   "outputs": [
    {
     "name": "stdout",
     "output_type": "stream",
     "text": [
      "Loaded 498 entries for CATH\n",
      "Loaded 71391 entries for DSSP\n",
      "Loaded 71077 entries for STRIDE\n"
     ]
    }
   ],
   "source": [
    "cath_info = load_CATH()\n",
    "dssp_info = load_DSSP()\n",
    "stride_info = load_STRIDE()\n",
    "\n",
    "print(\"Loaded {} entries for CATH\".format(len(cath_info)))\n",
    "print(\"Loaded {} entries for DSSP\".format(len(dssp_info)))\n",
    "print(\"Loaded {} entries for STRIDE\".format(len(stride_info)))"
   ]
  },
  {
   "cell_type": "code",
   "execution_count": 4,
   "metadata": {
    "collapsed": false,
    "deletable": true,
    "editable": true
   },
   "outputs": [
    {
     "name": "stdout",
     "output_type": "stream",
     "text": [
      "20 valid amino acid\n",
      "3 valid conformation\n"
     ]
    }
   ],
   "source": [
    "l_short_residue_mapping = {\n",
    "    'A': 'ALA',\n",
    "    'R': 'ARG', \n",
    "    'N': 'ASN', \n",
    "    'D': 'ASP', \n",
    "    'C': 'CYS',\n",
    "    'Q': 'GLN', \n",
    "    'E': 'GLU', \n",
    "    'G': 'GLY', \n",
    "    'H': 'HIS', \n",
    "    'I': 'ILE', \n",
    "    'L': 'LEU', \n",
    "    'K': 'LYS', \n",
    "    'M': 'MET', \n",
    "    'F': 'PHE', \n",
    "    'P': 'PRO',  \n",
    "    'S': 'SER', \n",
    "    'T': 'THR', \n",
    "    'W': 'TRP', \n",
    "    'Y': 'TYR', \n",
    "    'V': 'VAL',\n",
    "}\n",
    "l_long_residue_mapping = {y:x for x,y in l_short_residue_mapping.items()}\n",
    "l_residue = [y for x,y in l_short_residue_mapping.items()]\n",
    "l_short_residue = [x for x,y in l_short_residue_mapping.items()]\n",
    "\n",
    "l_conformation = ['Alpha', 'Beta', 'Coil']\n",
    "l_short_conformation = ['H', 'E', 'C']\n",
    "l_conformation_mapping = {'Alpha': 'H', 'Beta': 'E', 'Coil': 'C'}\n",
    "\n",
    "print(\"{} valid amino acid\".format(len(l_residue)))\n",
    "print(\"{} valid conformation\".format(len(l_conformation)))"
   ]
  },
  {
   "cell_type": "code",
   "execution_count": 5,
   "metadata": {
    "collapsed": false,
    "deletable": true,
    "editable": true
   },
   "outputs": [
    {
     "name": "stdout",
     "output_type": "stream",
     "text": [
      "Merging DSSP\n",
      "804 entries ignored\n",
      "498 entries in DSSP\n",
      "Merging STRIDE\n",
      "4 entries ignored\n",
      "498 entries in STRIDE\n"
     ]
    }
   ],
   "source": [
    "# Merge DSSP/STRIDE entries according to the PDB code\n",
    "def merge(data):\n",
    "    l_error = []\n",
    "    \n",
    "    merged = {}\n",
    "    for i in range(len(data)):\n",
    "        entry = data[i]\n",
    "        \n",
    "        key = \"{}_{}\".format(entry['PDB_code'], entry['PDB_chain_code'])\n",
    "        \n",
    "        if key not in merged:\n",
    "            merged[key] = {}\n",
    "            merged[key]['temp'] = {}\n",
    "            merged[key]['PDB_chain_code'] = entry['PDB_chain_code']\n",
    "            merged[key]['sequence'] = ''\n",
    "            merged[key]['prediction'] = ''\n",
    "        \n",
    "        try:\n",
    "            # Test data consistency\n",
    "            #assert (entry['PDB_chain_code'] == merged[key]['chain']), \"Inconsistent data: Chain code differs for same PDB entry {}, {}\".format(\n",
    "            #    entry['PDB_chain_code'], merged[entry['PDB_code']]['chain']\n",
    "            #)\n",
    "\n",
    "            # Valid amino acid\n",
    "            assert (entry['residue_name'] in l_residue), \"Invalid amino acid: {}\".format(entry['residue_name'])\n",
    "        except AssertionError as e:\n",
    "            l_error.append(\"Entry #{}: {}\".format(i+1, e.args[0]))\n",
    "            continue\n",
    "        \n",
    "        # Assignement requierement\n",
    "        if entry['secondary_structure'] == 'Other':\n",
    "            entry['secondary_structure'] = 'Coil'\n",
    "        elif entry['secondary_structure'] == 'Helix':\n",
    "            entry['secondary_structure'] = 'Alpha'\n",
    "        \n",
    "        position = int(entry['PDB_seq_code'])\n",
    "            \n",
    "        merged[key]['temp'][position] = [\n",
    "            l_long_residue_mapping[entry['residue_name']],\n",
    "            l_conformation_mapping[entry['secondary_structure']]\n",
    "        ]\n",
    "    \n",
    "    for protein, data in merged.items():\n",
    "        import collections\n",
    "        od = collections.OrderedDict(sorted(data['temp'].items()))\n",
    "        merged[protein]['sequence'] = ''.join([value[0] for key, value in od.items()])\n",
    "        merged[protein]['prediction'] = ''.join([value[1] for key, value in od.items()])\n",
    "    \n",
    "    print(\"{} entries ignored\".format(len(l_error)))\n",
    "    #print(\"{}\".format('\\n'.join(l_error)))\n",
    "    \n",
    "    return merged\n",
    "\n",
    "print(\"Merging DSSP\")\n",
    "dssp_info_merged = merge(dssp_info)\n",
    "print(\"{} entries in DSSP\".format(len(dssp_info_merged)))\n",
    "\n",
    "print(\"Merging STRIDE\")\n",
    "stride_info_merged = merge(stride_info)\n",
    "print(\"{} entries in STRIDE\".format(len(stride_info_merged)))"
   ]
  },
  {
   "cell_type": "code",
   "execution_count": 6,
   "metadata": {
    "collapsed": false,
    "deletable": true,
    "editable": true
   },
   "outputs": [
    {
     "name": "stdout",
     "output_type": "stream",
     "text": [
      "Protein count: CATH: 498, DSSP: 498, STRIDE: 498\n",
      "Loading went well !\n"
     ]
    }
   ],
   "source": [
    "print(\"Protein count: CATH: {}, DSSP: {}, STRIDE: {}\".format(len(cath_info), len(dssp_info_merged), len(stride_info_merged)))\n",
    "\n",
    "# Check loading results\n",
    "try:\n",
    "    # Every CATH protein is in DSSP and STRIDE\n",
    "    for cath_protein in cath_info:\n",
    "        PDB_code = cath_protein['PDB_code']\n",
    "        PDB_chain_code = cath_protein['PDB_chain_code']\n",
    "        \n",
    "        key = \"{}_{}\".format(PDB_code, PDB_chain_code)\n",
    "        \n",
    "        assert key in dssp_info_merged and key in stride_info_merged, \"CATH data inconsistent with DSSP and STRIDE: {}\".format(key)\n",
    "    \n",
    "    assert len(cath_info) == len(dssp_info_merged) == len(stride_info_merged), \"Warning: Protein count does not match !\"\n",
    "except AssertionError as e:\n",
    "    print(e)\n",
    "else:\n",
    "    print(\"Loading went well !\")"
   ]
  },
  {
   "cell_type": "code",
   "execution_count": 7,
   "metadata": {
    "collapsed": false,
    "deletable": true,
    "editable": true
   },
   "outputs": [],
   "source": [
    "# Processing I(S;R) using the following formula:\n",
    "# I(S;R)=log[(fS,R/fR)/(fS/N)]\n",
    "# S=conformation, R=amino acid, N=total amino acid\n",
    "# fR=total R, fS=total conformation, fS,R=total R->S\n",
    "# Skip the given protein\n",
    "def process_f(protein_set, without_protein):\n",
    "    global l_residue, l_conformation\n",
    "    \n",
    "    #if without_protein in protein_set:\n",
    "    #    print(\"Protein {} is in provided set, ignored !\".format(without_protein))\n",
    "    #else:\n",
    "    #    print(\"Protein {} is not in provided set\".format(without_protein))\n",
    "    \n",
    "    # Initialize data structure\n",
    "    N = 0\n",
    "    fr = {}\n",
    "    fs = {}\n",
    "    f = {}\n",
    "    \n",
    "    Pair = {}\n",
    "    \n",
    "    for conformation in l_short_conformation:\n",
    "        fs[conformation] = 0\n",
    "    \n",
    "    for residue in l_short_residue:\n",
    "        fr[residue] = 0\n",
    "        f[residue] = {}\n",
    "        Pair[residue] = {}\n",
    "        \n",
    "        for conformation in l_short_conformation:\n",
    "            f[residue][conformation] = 0\n",
    "            Pair[residue][conformation] = {}\n",
    "            \n",
    "            for i in range(-8, 9):\n",
    "                Pair[residue][conformation][8 + i] = {}\n",
    "                \n",
    "                for _residue in l_short_residue:\n",
    "                    Pair[residue][conformation][8 + i][_residue] = 0\n",
    "    \n",
    "    # Process all protein\n",
    "    for name, data in protein_set.items():\n",
    "        # Skip protein being predicted\n",
    "        if name == without_protein:\n",
    "            continue\n",
    "        \n",
    "        for i in range(len(data['sequence'])):\n",
    "            residue = data['sequence'][i]\n",
    "            conformation = data['prediction'][i]\n",
    "            \n",
    "            assert conformation in l_short_conformation, \"Unknown conformation: {}\".format(conformation)\n",
    "            \n",
    "            # Pair information\n",
    "            for m in range(-8, 9):\n",
    "                if i+m < 0 or i+m >= len(data['sequence']):\n",
    "                    continue\n",
    "                \n",
    "                _residueim = data['sequence'][i + m]\n",
    "                Pair[residue][conformation][8 + m][_residueim] += 1\n",
    "            \n",
    "            N += 1\n",
    "            fr[residue] += 1\n",
    "            fs[conformation] += 1\n",
    "            f[residue][conformation] += 1\n",
    "\n",
    "    return N, fr, fs, f, Pair\n",
    "\n",
    "def display_f(N, fr, fs, f):\n",
    "    global l_residue, l_conformation\n",
    "    \n",
    "    content_html = \"\"\n",
    "    conformation_html = \"\"\n",
    "    total_html = \"\"\n",
    "    \n",
    "    for conformation in l_conformation:\n",
    "        short_conformation = l_conformation_mapping[conformation]\n",
    "        \n",
    "        conformation_html += \"<th>{}</th>\".format(conformation)\n",
    "        total_html += \"<td>{}</td>\".format(fs[short_conformation])\n",
    "    \n",
    "    for residue in l_residue:\n",
    "        short_residue = l_long_residue_mapping[residue]\n",
    "        \n",
    "        content_html += \"<td>{}</td>\".format(residue)\n",
    "        \n",
    "        for conformation in l_conformation:\n",
    "            short_conformation = l_conformation_mapping[conformation]\n",
    "            content_html += \"<td>{}</td>\".format(f[short_residue][short_conformation])\n",
    "            \n",
    "        content_html += \"<td>{}</td>\".format(fr[short_residue])\n",
    "        content_html = \"<tr>{}</tr>\".format(content_html)\n",
    "    \n",
    "    from IPython.display import HTML, display\n",
    "    display(HTML(\"\"\"\n",
    "        <table>\n",
    "            <tr><th>Residue</th>{}<th>Total</th></tr>\n",
    "            {}\n",
    "            <tr><th>Total</th>{}<td>{}</td></tr>\n",
    "        </table>\"\"\".format(conformation_html, content_html, total_html, N)))\n",
    "\n",
    "# Usage:\n",
    "#N, fr, fs, f, Pair = process_f(dssp_info_merged, \"\")\n",
    "#display_f(N, fr, fs, f)\n",
    "#\n",
    "# N, fr, fs, f, Pair = process_f(stride_info_merged, \"\")\n",
    "# display_f(N, fr, fs, f)"
   ]
  },
  {
   "cell_type": "code",
   "execution_count": 8,
   "metadata": {
    "collapsed": false
   },
   "outputs": [],
   "source": [
    "import os\n",
    "    \n",
    "def load_protein(filename):\n",
    "    protein = ''\n",
    "    sequence = ''\n",
    "    secondary_structure = ''\n",
    "    \n",
    "    with open(\"protein/{}\".format(filename), 'r') as f:\n",
    "        for line in f:\n",
    "            line = line.strip('\\n')\n",
    "            if line.startswith('>') and protein == '':\n",
    "                protein = line[1:7]\n",
    "                continue\n",
    "            elif line.startswith('>') or line == '':\n",
    "                continue\n",
    "            \n",
    "            if sequence == '':\n",
    "                sequence = line\n",
    "            else:\n",
    "                secondary_structure = line\n",
    "                \n",
    "    return protein, sequence, secondary_structure\n",
    "\n",
    "l_protein = []\n",
    "for filename in os.listdir('protein'):\n",
    "    protein, sequence, secondary_structure = load_protein(filename)\n",
    "    \n",
    "    assert len(sequence) == len(secondary_structure), \"Protein size and secondary structure size does not match ! Protein: {}\".format(filename)\n",
    "    \n",
    "    l_protein.append({\n",
    "        'protein': protein,\n",
    "        'sequence': sequence,\n",
    "        'secondary_structure': secondary_structure,\n",
    "    })"
   ]
  },
  {
   "cell_type": "code",
   "execution_count": 9,
   "metadata": {
    "collapsed": true
   },
   "outputs": [],
   "source": [
    "import math\n",
    "\n",
    "# Compute self-information using the following formula:\n",
    "# I(delta Sj; Rj) = log(fSj,Rj / fn-Sj,Rj) + log(fn-S / fS)\n",
    "# fn-S,R = fR - fS,R\n",
    "# fn-S   = N - fS\n",
    "def compute_self_information(N, fr, fs, f, R):\n",
    "    global l_residue, l_conformation\n",
    "    \n",
    "    I = {}\n",
    "    for S in l_short_conformation:\n",
    "        fnsr = fr[R] - f[R][S]\n",
    "        fns = N - fs[S]\n",
    "        \n",
    "        I[S] = math.log(f[R][S] / fnsr) + math.log(fns / fs[S])\n",
    "    \n",
    "    return I"
   ]
  },
  {
   "cell_type": "code",
   "execution_count": 48,
   "metadata": {
    "collapsed": false
   },
   "outputs": [],
   "source": [
    "# Compute pair information\n",
    "def compute_pair_information(N, fr, fs, f, Pair, sequence, j):\n",
    "    I = {S:0 for S in l_short_conformation}\n",
    "    \n",
    "    Rj = sequence[j]\n",
    "    \n",
    "    for m in range(-8,9):\n",
    "        for S in l_short_conformation:\n",
    "            if j + m < 0 or j + m >= len(sequence):\n",
    "                continue\n",
    "            \n",
    "            Rjm = sequence[j + m]\n",
    "            \n",
    "            fsrr = Pair[Rj][S][8 + m][Rjm]\n",
    "            \n",
    "            fnsrr = 0\n",
    "            for nS in l_short_conformation:\n",
    "                if nS == S:\n",
    "                    continue\n",
    "                fnsrr += Pair[Rj][nS][8 + m][Rjm]\n",
    "            \n",
    "            fnsr = fr[Rj] - f[Rj][S]\n",
    "            \n",
    "            temp = 0\n",
    "            try:\n",
    "                temp = math.log(fsrr / fnsrr)\n",
    "            except:\n",
    "                pass\n",
    "            \n",
    "            I[S] += temp + math.log(fnsr / f[Rj][S])\n",
    "\n",
    "    return I"
   ]
  },
  {
   "cell_type": "code",
   "execution_count": 49,
   "metadata": {
    "collapsed": false
   },
   "outputs": [],
   "source": [
    "def MCC(real, predicted):\n",
    "    TP, TN, FP, FN = 0.0, 0.0, 0.0, 0.0\n",
    "    \n",
    "    for i in range(len(real)):\n",
    "        if real[i] == predicted[i]:\n",
    "            if real[i] == 'H':\n",
    "                TP += 1\n",
    "            else:\n",
    "                TN += 1\n",
    "        else:\n",
    "            if real[i] == 'H':\n",
    "                FN += 1\n",
    "            else:\n",
    "                FP += 1\n",
    "        \n",
    "    up = (TP * TN) - (FP * FN)\n",
    "    bottom = math.sqrt((TP + FP) * (TP + FN) * (TN + FP) * (TN + FN))\n",
    "    \n",
    "    try:\n",
    "        return up / bottom\n",
    "    except:\n",
    "        return 'ERROR'"
   ]
  },
  {
   "cell_type": "code",
   "execution_count": 50,
   "metadata": {
    "collapsed": false
   },
   "outputs": [],
   "source": [
    "def Q3(real, predicted):\n",
    "    correct = 0.0\n",
    "    total = len(real)\n",
    "    \n",
    "    for i in range(total):\n",
    "        if real[i] == predicted[i]:\n",
    "            correct += 1\n",
    "        \n",
    "    return correct / total"
   ]
  },
  {
   "cell_type": "code",
   "execution_count": 51,
   "metadata": {
    "collapsed": false,
    "scrolled": false
   },
   "outputs": [],
   "source": [
    "def prediction(set_info, protein):\n",
    "    sequence = set_info[protein]['sequence']\n",
    "    secondary_structure = set_info[protein]['prediction']\n",
    "    \n",
    "    N, fr, fs, f, Pair = process_f(set_info, protein)\n",
    "    #display_f(N, fr, fs, f)\n",
    "    \n",
    "    # Compute local informations for each amino acid\n",
    "    self_information = {}\n",
    "    for residue in l_short_residue:\n",
    "        self_information[residue] = compute_self_information(N, fr, fs, f, residue)\n",
    "    \n",
    "    prediction = \"\"\n",
    "    for j in range(len(sequence)):\n",
    "        R = sequence[j]\n",
    "        I = compute_pair_information(N, fr, fs, f, Pair, sequence, j)\n",
    "        \n",
    "        si = self_information[R]\n",
    "        for S in l_short_conformation:\n",
    "            I[S] += si[S]\n",
    "            \n",
    "        import operator\n",
    "        gor_prediction = max(I.items(), key=operator.itemgetter(1))[0]\n",
    "        prediction += gor_prediction\n",
    "        \n",
    "    Q3_value = Q3(secondary_structure, prediction)\n",
    "    MCC_value = MCC(secondary_structure, prediction)\n",
    "    \n",
    "    family = ''\n",
    "    \n",
    "    return protein, prediction, Q3_value, MCC_value, family"
   ]
  },
  {
   "cell_type": "code",
   "execution_count": 52,
   "metadata": {
    "collapsed": false
   },
   "outputs": [
    {
     "data": {
      "text/html": [
       "\n",
       "        <table>\n",
       "            <tr><th>Residue</th><th>Alpha</th><th>Beta</th><th>Coil</th><th>Total</th></tr>\n",
       "            <tr><tr><tr><tr><tr><tr><tr><tr><tr><tr><tr><tr><tr><tr><tr><tr><tr><tr><tr><tr><td>ALA</td><td>2896</td><td>984</td><td>2081</td><td>5961</td></tr><td>ARG</td><td>1531</td><td>734</td><td>1400</td><td>3665</td></tr><td>ASN</td><td>836</td><td>433</td><td>1784</td><td>3053</td></tr><td>ASP</td><td>1302</td><td>489</td><td>2451</td><td>4242</td></tr><td>CYS</td><td>198</td><td>161</td><td>267</td><td>626</td></tr><td>GLN</td><td>1325</td><td>478</td><td>1046</td><td>2849</td></tr><td>GLU</td><td>2309</td><td>758</td><td>1748</td><td>4815</td></tr><td>GLY</td><td>819</td><td>779</td><td>3518</td><td>5116</td></tr><td>HIS</td><td>528</td><td>396</td><td>792</td><td>1716</td></tr><td>ILE</td><td>1451</td><td>1572</td><td>1011</td><td>4034</td></tr><td>LEU</td><td>2971</td><td>1564</td><td>1914</td><td>6449</td></tr><td>LYS</td><td>1732</td><td>790</td><td>1690</td><td>4212</td></tr><td>MET</td><td>526</td><td>267</td><td>468</td><td>1261</td></tr><td>PHE</td><td>990</td><td>925</td><td>975</td><td>2890</td></tr><td>PRO</td><td>471</td><td>315</td><td>2395</td><td>3181</td></tr><td>SER</td><td>1150</td><td>758</td><td>2238</td><td>4146</td></tr><td>THR</td><td>1063</td><td>1094</td><td>1780</td><td>3937</td></tr><td>TRP</td><td>375</td><td>291</td><td>341</td><td>1007</td></tr><td>TYR</td><td>825</td><td>821</td><td>821</td><td>2467</td></tr><td>VAL</td><td>1564</td><td>2085</td><td>1311</td><td>4960</td></tr>\n",
       "            <tr><th>Total</th><td>24862</td><td>15694</td><td>30031</td><td>70587</td></tr>\n",
       "        </table>"
      ],
      "text/plain": [
       "<IPython.core.display.HTML object>"
      ]
     },
     "metadata": {},
     "output_type": "display_data"
    }
   ],
   "source": [
    "# Example of f used\n",
    "N, fr, fs, f, Pair = process_f(dssp_info_merged, \"\")\n",
    "display_f(N, fr, fs, f)"
   ]
  },
  {
   "cell_type": "markdown",
   "metadata": {},
   "source": [
    "# Results\n",
    "\n",
    "First block is DSSP results for every protein in CATH file and second block is STRIDE results for every protein in CATH file\n",
    "\n",
    "## Explainations\n",
    "\n",
    "The self-information function is made using the table shown one cell above.\n",
    "\n",
    "For the pair information: When processing DSSP or STRIDE informations, we count the appearance of a given amino acid in position 1 to 17 to copute the influence of observing a given Amino Acid in a given position within the windows considered (1 to 17) on the given conformation. The  influence is computed using the formula on course page 5 on the bottom right."
   ]
  },
  {
   "cell_type": "code",
   "execution_count": null,
   "metadata": {
    "collapsed": false
   },
   "outputs": [],
   "source": [
    "# DSSP results\n",
    "count = 0\n",
    "q3_sum = 0.0\n",
    "for data in cath_info[:25]:\n",
    "    key = \"{}_{}\".format(data['PDB_code'], data['PDB_chain_code'])\n",
    "    \n",
    "    \n",
    "    protein, prediction, Q3_value, MCC_value, family = prediction(dssp_info_merged, key)\n",
    "    print(\"{} {} {} {} {}\".format(protein, prediction, Q3_value, MCC_value, family))\n",
    "    \n",
    "    count += 1\n",
    "    q3_sum += Q3_value\n",
    "\n",
    "print(\"Mean Q3: {}\".format(q3_sum / count))"
   ]
  },
  {
   "cell_type": "code",
   "execution_count": null,
   "metadata": {
    "collapsed": false
   },
   "outputs": [],
   "source": [
    "# Stride results\n",
    "for data in cath_info:\n",
    "    key = \"{}_{}\".format(data['PDB_code'], data['PDB_chain_code'])\n",
    "    \n",
    "    protein, prediction, Q3_value, MCC_value, family = prediction(stride_info_merged, key)\n",
    "    print(\"{} {} {} {} {}\".format(protein, prediction, Q3_value, MCC_value, family))"
   ]
  },
  {
   "cell_type": "code",
   "execution_count": null,
   "metadata": {
    "collapsed": false
   },
   "outputs": [],
   "source": []
  }
 ],
 "metadata": {
  "kernelspec": {
   "display_name": "Python 3",
   "language": "python",
   "name": "python3"
  },
  "language_info": {
   "codemirror_mode": {
    "name": "ipython",
    "version": 3
   },
   "file_extension": ".py",
   "mimetype": "text/x-python",
   "name": "python",
   "nbconvert_exporter": "python",
   "pygments_lexer": "ipython3",
   "version": "3.6.0"
  }
 },
 "nbformat": 4,
 "nbformat_minor": 2
}
