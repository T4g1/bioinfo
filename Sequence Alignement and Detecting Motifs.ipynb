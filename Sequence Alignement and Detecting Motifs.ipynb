{
 "cells": [
  {
   "cell_type": "markdown",
   "metadata": {},
   "source": [
    "# Sequence Alignement and Detecting Motifs\n",
    "\n",
    "This work was done for the ULB course: Computational biology and bioinformatics (INFO-F-439) by Thomas Van Gysegem (all rigth reserved).\n",
    "\n",
    "Please notice that several differences of results can occur compared to http://www.ch.embnet.org/software/LALIGN_form.html because of the algorithm they use which is a sligth modification of the one used here (citation from their software: \"The lalign program implements the algorithm of Huang and Miller, published in Adv. Appl. Math. (1991) 12:337-357.\")\n",
    "\n",
    "First of all, let us introduce some utility function that will be used for this project. The first one is a function that will be used to display our Dynamic Programing matrice:"
   ]
  },
  {
   "cell_type": "code",
   "execution_count": 151,
   "metadata": {
    "collapsed": false
   },
   "outputs": [
    {
     "data": {
      "text/html": [
       "// Some style to get a better display of our data\n",
       "<style>\n",
       ".outter td, .outter, .outter tr, .outter th {padding: 1px;}\n",
       ".inner td, .inner, .inner tr, .inner th {border:none!important;}\n",
       ".inner td, .inner tr, .inner th {width: 20px; height: 20px}\n",
       ".optimal td, .optimal, .optimal tr, .optimal th {border:2px!important; color: red;}\n",
       "</style>"
      ],
      "text/plain": [
       "<IPython.core.display.HTML object>"
      ]
     },
     "metadata": {},
     "output_type": "display_data"
    }
   ],
   "source": [
    "%%html\n",
    "// Some style to get a better display of our data\n",
    "<style>\n",
    ".outter td, .outter, .outter tr, .outter th {padding: 1px;}\n",
    ".inner td, .inner, .inner tr, .inner th {border:none!important;}\n",
    ".inner td, .inner tr, .inner th {width: 20px; height: 20px}\n",
    ".optimal td, .optimal, .optimal tr, .optimal th {border:2px!important; color: red;}\n",
    "</style>"
   ]
  },
  {
   "cell_type": "code",
   "execution_count": 152,
   "metadata": {
    "collapsed": false
   },
   "outputs": [],
   "source": [
    "from IPython.display import HTML, display\n",
    "\n",
    "def display_dp_matrix(dp_matrix, x, y, backtrack_matrix, optimal_path):\n",
    "    \"\"\" Simple display function that shows all informations about the DP matrice, sequences, ... \"\"\"\n",
    "    \n",
    "    html_str = '<table class=\"outter\">'\n",
    "    \n",
    "    # First row (header)\n",
    "    html_str += '<tr><td></td><td></td><td>{}</td></tr>'.format('</td><td>'.join(_ for _ in y))\n",
    "    \n",
    "    for i in range(len(dp_matrix)):\n",
    "        row = dp_matrix[i]\n",
    "        \n",
    "        c = '' if i <= 0 else x[i - 1]\n",
    "        \n",
    "        html_str += '<tr><td>{}</td>'.format(c)\n",
    "        \n",
    "        for j in range(len(row)):\n",
    "            value = row[j]\n",
    "            \n",
    "            upleft = '<img src=\"upleft.png\" height=\"42\" width=\"9\" />' if backtrack_matrix[i][j][0] else ''\n",
    "            up = '<img src=\"up.png\" height=\"9\" width=\"9\" />' if backtrack_matrix[i][j][1] else ''\n",
    "            left = '<img src=\"left.png\" height=\"9\" width=\"9\" />' if backtrack_matrix[i][j][2] else ''\n",
    "            \n",
    "            upleft = '<img src=\"upleftred.png\" height=\"42\" width=\"9\" />' if optimal_path_direction[i][j][0] else upleft\n",
    "            up = '<img src=\"upred.png\" height=\"9\" width=\"9\" />' if optimal_path_direction[i][j][1] else up\n",
    "            left = '<img src=\"leftred.png\" height=\"9\" width=\"9\" />' if optimal_path_direction[i][j][2] else left\n",
    "            \n",
    "            optimal = ' optimal' if optimal_path[i][j] else ''\n",
    "            \n",
    "            sub_table = '<table class=\"inner{}\"><tr><td>{}</td><td>{}</td></tr>'.format(optimal, upleft, up)\n",
    "            sub_table += '<tr><td>{}</td><td>{}</td></tr></table>'.format(left, int(value))\n",
    "            \n",
    "            html_str += '<td>{}</td>'.format(sub_table)\n",
    "        \n",
    "        html_str += '</tr>'\n",
    "    \n",
    "    html_str += '</table>'\n",
    "    \n",
    "    display(HTML(html_str))"
   ]
  },
  {
   "cell_type": "markdown",
   "metadata": {},
   "source": [
    "The second one will be used to parse BLOSUM and PAM matrices used. For simplicity sake we will use a 2D Python dictionnary:"
   ]
  },
  {
   "cell_type": "code",
   "execution_count": 153,
   "metadata": {
    "collapsed": false
   },
   "outputs": [],
   "source": [
    "def parse_ranking_matrix(filename):\n",
    "    \"\"\" Parse a ranking matrix file with comment line beginning with # \"\"\"\n",
    "    ranking_matrix = {}\n",
    "    \n",
    "    header = []\n",
    "    metadata_parsed = False\n",
    "    \n",
    "    with open(filename, 'r') as file:\n",
    "        for line in file:\n",
    "            line = line.strip()\n",
    "            \n",
    "            # Ignore empty or comment line\n",
    "            if line == \"\" or line.startswith('#'):\n",
    "                continue\n",
    "            \n",
    "            # First line of data: Header\n",
    "            elif not metadata_parsed:\n",
    "                header = [_ for _ in line if _ != ' ']\n",
    "                metadata_parsed = True\n",
    "            \n",
    "            # Other lines\n",
    "            else:\n",
    "                data = line.split(' ')\n",
    "                \n",
    "                key1 = data[0]\n",
    "                data = [_ for _ in data[1:] if _ != '']\n",
    "                \n",
    "                ranking_matrix[key1] = {}\n",
    "                for i in range(len(data)):\n",
    "                    key2 = header[i]\n",
    "                    value = int(data[i])\n",
    "                    \n",
    "                    ranking_matrix[key1][key2] = value\n",
    "        \n",
    "        return ranking_matrix"
   ]
  },
  {
   "cell_type": "markdown",
   "metadata": {},
   "source": [
    "This function is used to display solutions with human readable formatting (showing gap, matches and so on)"
   ]
  },
  {
   "cell_type": "code",
   "execution_count": 154,
   "metadata": {
    "collapsed": false
   },
   "outputs": [],
   "source": [
    "def display_solution(solution, x, y):\n",
    "    lines = ['', '', '']\n",
    "    \n",
    "    solution = solution[::-1]\n",
    "    \n",
    "    # Append the begginning\n",
    "    i, j = solution[0]\n",
    "    \n",
    "    if i == 0:\n",
    "        for _j in range(j-1):\n",
    "            lines[0] += '<td>-</td>'\n",
    "            lines[1] += '<td></td>'\n",
    "            lines[2] += '<td>{}</td>'.format(y[_j])\n",
    "    elif j == 0:\n",
    "        for _i in range(i-1):\n",
    "            lines[0] += '<td>{}</td>'.format(x[_i])\n",
    "            lines[1] += '<td></td>'\n",
    "            lines[2] += '<td>-</td>'\n",
    "    \n",
    "    # Take the most upper-left point from the first cell of the solution as the previous one\n",
    "    # This will force a match for the first cell solution if the solution begin in the middle of the matrix\n",
    "    # And a gap if it begin on the up or left border\n",
    "    pi, pj = max(solution[0][0] - 1, 0), max(solution[0][1] - 1, 0)\n",
    "    \n",
    "    for i, j in solution:\n",
    "        # Matched\n",
    "        if (i - pi) + (j - pj) == 2:\n",
    "            lines[0] += '<td bgcolor=\"#00FF11\"><b>{}</b></td>'.format(x[i-1])\n",
    "            lines[1] += '<td>|</td>'\n",
    "            lines[2] += '<td bgcolor=\"#00FF11\"><b>{}</b></td>'.format(y[j-1])\n",
    "        elif (i - pi) == 1:\n",
    "            lines[0] += '<td>{}</td>'.format(x[i-1])\n",
    "            lines[1] += '<td></td>'\n",
    "            lines[2] += '<td>-</td>'\n",
    "        elif (j - pj) == 1:\n",
    "            lines[0] += '<td>-</td>'\n",
    "            lines[1] += '<td></td>'\n",
    "            lines[2] += '<td>{}</td>'.format(y[j-1])\n",
    "        \n",
    "        pi, pj = i, j\n",
    "    \n",
    "    # Append the end\n",
    "    if pi == M - 1:\n",
    "        for j in range(pj+1, N):\n",
    "            lines[0] += '<td>-</td>'\n",
    "            lines[1] += '<td></td>'\n",
    "            lines[2] += '<td>{}</td>'.format(y[j-1])\n",
    "    elif pj == N - 1:\n",
    "        for i in range(pi+1, M):\n",
    "            lines[0] += '<td>{}</td>'.format(x[i-1])\n",
    "            lines[1] += '<td></td>'\n",
    "            lines[2] += '<td>-</td>'\n",
    "    \n",
    "    lines[0] = '<table class=\"inner\"><tr>{}</tr>'.format(lines[0])\n",
    "    lines[1] = '<tr>{}</tr>'.format(lines[1])\n",
    "    lines[2] = '<tr>{}</tr></table>'.format(lines[2])\n",
    "    \n",
    "    display(HTML(''.join(lines)))"
   ]
  },
  {
   "cell_type": "markdown",
   "metadata": {},
   "source": [
    "The variables used are as follows:\n",
    "* `dp_matrix` is the main matrix computed with a recursive definition of the value of each cells like seen in the course.\n",
    "* W and V matrices are the same as the ones from the course\n",
    "* `q` is the ranking matrix (BLOSOM, PAM, ... depending which one you choosed to parse\n",
    "* gap_penalty is, of course, the penalty for introducing a gap\n",
    "* i_gap_penalty is the penalty for introducing a gap\n",
    "* e_gap_penalty is the penalty for extending a gap\n",
    "* bactrack_matrix is a somewhat hacky matrix that stores which way we come from for a given cell of the dp_matrix. Each cell is a list of 3 boolean, the first one is True if we come from the upper left cell (so a match occured), the second one is True if we introduced a gap in Y and the last one is True if we introduced a gap in X.\n",
    "* optimal_path is a list of boolean, True if one optimal solution goes through it, False otherwise. It is used purely for display\n",
    "* optimal_path_direction is like backtrack_matrix but for showing red arrows instead of black ones.\n",
    "* l_solutions is a list of list of ordered positions in dp_matrix, each list in l_solutions is an optimal solution (up to k solutions)"
   ]
  },
  {
   "cell_type": "markdown",
   "metadata": {},
   "source": [
    "## Part 1: Sequence Alignement Algorithms\n",
    "\n",
    "This is the first part of the assignement.\n",
    "\n",
    "First, please input your sequences here and how many optimal solutions you want (k):"
   ]
  },
  {
   "cell_type": "code",
   "execution_count": 180,
   "metadata": {
    "collapsed": true
   },
   "outputs": [],
   "source": [
    "x = 'WYFGKLGRKDAERQLLSFGNPRGTFLIRESQTTKGAYSLSIRDWDDMKGDHVKHYKIRKLDNGGYYITTRAQFETLQQLVQHYSERAAGLCCRLVVPC'\n",
    "y = 'WYYGKVTRHQAEMALNERGHEGDFLIRDSESSPNDFSVSLKAQGKNKHFKVQLKETVYCIGQRKFSTMEELVEHYKKAPIFTSEQGEKLYLVKHL'\n",
    "k = 3\n",
    "\n",
    "# True to disable rendering of table (can solve lag issues)\n",
    "large_matrice = True"
   ]
  },
  {
   "cell_type": "markdown",
   "metadata": {},
   "source": [
    "Then, we need to load a ranking matrix and sepcify a gap penalty value"
   ]
  },
  {
   "cell_type": "code",
   "execution_count": 181,
   "metadata": {
    "collapsed": false
   },
   "outputs": [],
   "source": [
    "filename = 'BLOSUM62'\n",
    "q = parse_ranking_matrix(filename)\n",
    "\n",
    "# Use same values for both of those variables to have a linear gap penalty\n",
    "i_gap_penalty = -10\n",
    "e_gap_penalty = -1"
   ]
  },
  {
   "cell_type": "code",
   "execution_count": 182,
   "metadata": {
    "collapsed": false
   },
   "outputs": [],
   "source": [
    "M, N, dp_matrix, W, V = None, None, None, None, None\n",
    "backtrack_matrix, optimal_path, optimal_path_direction, to_zero = None, None, None, None"
   ]
  },
  {
   "cell_type": "markdown",
   "metadata": {},
   "source": [
    "### Needleman-Wunsch (global)"
   ]
  },
  {
   "cell_type": "code",
   "execution_count": 183,
   "metadata": {
    "collapsed": false
   },
   "outputs": [],
   "source": [
    "import numpy as np\n",
    "\n",
    "def reset_optimal():\n",
    "    global M, N, optimal_path, optimal_path_direction\n",
    "    \n",
    "    optimal_path = np.zeros((M, N), dtype=bool)\n",
    "\n",
    "    optimal_path_direction = []\n",
    "    for i in range(M):\n",
    "        optimal_path_direction.append([])\n",
    "\n",
    "        for j in range(N):\n",
    "            optimal_path_direction[i].append([False, False, False])\n",
    "\n",
    "def init_data_structures():\n",
    "    \"\"\" Initialisation of data structures \"\"\"\n",
    "    global M, N, dp_matrix, W, V, backtrack_matrix, optimal_path, optimal_path_direction, to_zero\n",
    "    \n",
    "    M = len(x) + 1\n",
    "    N = len(y) + 1\n",
    "    \n",
    "    dp_matrix = np.zeros((M, N))\n",
    "    W = np.zeros((M, N))\n",
    "    V = np.zeros((M, N))\n",
    "    \n",
    "    to_zero = np.zeros((M, N), dtype=bool)\n",
    "\n",
    "    backtrack_matrix = []\n",
    "    for i in range(M):\n",
    "        backtrack_matrix.append([])\n",
    "\n",
    "        for j in range(N):\n",
    "            backtrack_matrix[i].append([False, False, False])\n",
    "    \n",
    "    reset_optimal()\n",
    "\n",
    "init_data_structures()"
   ]
  },
  {
   "cell_type": "code",
   "execution_count": 184,
   "metadata": {
    "collapsed": false
   },
   "outputs": [],
   "source": [
    "\"\"\"\n",
    "# Initialise non-zero gap penalty\n",
    "for i in range(M):\n",
    "    dp_matrix[i][0] = gap_penalty * i\n",
    "    backtrack_matrix[i][0] = [False, True, False]\n",
    "    \n",
    "for j in range(N):\n",
    "    dp_matrix[0][j] = gap_penalty * j\n",
    "    backtrack_matrix[0][j] = [False, False, True]\n",
    "    \n",
    "backtrack_matrix[0][0] = [False, False, False]\n",
    "\"\"\"\n",
    "pass"
   ]
  },
  {
   "cell_type": "code",
   "execution_count": 185,
   "metadata": {
    "collapsed": false
   },
   "outputs": [],
   "source": [
    "def compute_dp_matrix(local_alignement=False):\n",
    "    \"\"\" Nested loop to process all the DP matrix \"\"\"\n",
    "    global x, y, M, N, dp_matrix, W, V, backtrack_matrix, i_gap_penalty, e_gap_penalty, to_zero\n",
    "    \n",
    "    for i in range(1, M):\n",
    "        for j in range(1, N):\n",
    "            # This cell is forced to be zero\n",
    "            if to_zero[i][j]:\n",
    "                dp_matrix[i][j] = 0\n",
    "                V[i][j] = 0\n",
    "                W[i][j] = 0\n",
    "                \n",
    "                backtrack_matrix[i][j] = [False, False, False]\n",
    "                continue\n",
    "            \n",
    "            key1 = x[i - 1]\n",
    "            key2 = y[j - 1]\n",
    "\n",
    "            V[i][j] = max(\n",
    "                dp_matrix[i - 1][j] + i_gap_penalty,\n",
    "                V[i - 1][j] + e_gap_penalty\n",
    "            )\n",
    "\n",
    "            W[i][j] = max(\n",
    "                dp_matrix[i][j - 1] + i_gap_penalty,\n",
    "                W[i][j - 1] + e_gap_penalty\n",
    "            )\n",
    "\n",
    "            no_gap = dp_matrix[i - 1][j - 1] + q[key1][key2]\n",
    "\n",
    "            value = max(no_gap, W[i][j], V[i][j])\n",
    "\n",
    "            if local_alignement:\n",
    "                value = max(0, value)\n",
    "\n",
    "            dp_matrix[i][j] = value\n",
    "\n",
    "            backtrack_matrix[i][j] = [\n",
    "                no_gap == value,\n",
    "                V[i][j] == value,\n",
    "                W[i][j] == value\n",
    "            ]\n",
    "\n",
    "compute_dp_matrix()"
   ]
  },
  {
   "cell_type": "code",
   "execution_count": 186,
   "metadata": {
    "collapsed": false,
    "scrolled": false
   },
   "outputs": [
    {
     "name": "stdout",
     "output_type": "stream",
     "text": [
      "Solution #1:\n"
     ]
    },
    {
     "data": {
      "text/html": [
       "<table class=\"inner\"><tr><td bgcolor=\"#00FF11\"><b>W</b></td><td bgcolor=\"#00FF11\"><b>Y</b></td><td bgcolor=\"#00FF11\"><b>F</b></td><td bgcolor=\"#00FF11\"><b>G</b></td><td bgcolor=\"#00FF11\"><b>K</b></td><td bgcolor=\"#00FF11\"><b>L</b></td><td bgcolor=\"#00FF11\"><b>G</b></td><td bgcolor=\"#00FF11\"><b>R</b></td><td bgcolor=\"#00FF11\"><b>K</b></td><td bgcolor=\"#00FF11\"><b>D</b></td><td bgcolor=\"#00FF11\"><b>A</b></td><td bgcolor=\"#00FF11\"><b>E</b></td><td bgcolor=\"#00FF11\"><b>R</b></td><td bgcolor=\"#00FF11\"><b>Q</b></td><td bgcolor=\"#00FF11\"><b>L</b></td><td bgcolor=\"#00FF11\"><b>L</b></td><td bgcolor=\"#00FF11\"><b>S</b></td><td bgcolor=\"#00FF11\"><b>F</b></td><td bgcolor=\"#00FF11\"><b>G</b></td><td bgcolor=\"#00FF11\"><b>N</b></td><td>P</td><td bgcolor=\"#00FF11\"><b>R</b></td><td bgcolor=\"#00FF11\"><b>G</b></td><td bgcolor=\"#00FF11\"><b>T</b></td><td bgcolor=\"#00FF11\"><b>F</b></td><td bgcolor=\"#00FF11\"><b>L</b></td><td bgcolor=\"#00FF11\"><b>I</b></td><td bgcolor=\"#00FF11\"><b>R</b></td><td bgcolor=\"#00FF11\"><b>E</b></td><td bgcolor=\"#00FF11\"><b>S</b></td><td bgcolor=\"#00FF11\"><b>Q</b></td><td bgcolor=\"#00FF11\"><b>T</b></td><td bgcolor=\"#00FF11\"><b>T</b></td><td bgcolor=\"#00FF11\"><b>K</b></td><td bgcolor=\"#00FF11\"><b>G</b></td><td bgcolor=\"#00FF11\"><b>A</b></td><td bgcolor=\"#00FF11\"><b>Y</b></td><td bgcolor=\"#00FF11\"><b>S</b></td><td bgcolor=\"#00FF11\"><b>L</b></td><td bgcolor=\"#00FF11\"><b>S</b></td><td bgcolor=\"#00FF11\"><b>I</b></td><td bgcolor=\"#00FF11\"><b>R</b></td><td>D</td><td>W</td><td>D</td><td>D</td><td bgcolor=\"#00FF11\"><b>M</b></td><td bgcolor=\"#00FF11\"><b>K</b></td><td bgcolor=\"#00FF11\"><b>G</b></td><td bgcolor=\"#00FF11\"><b>D</b></td><td bgcolor=\"#00FF11\"><b>H</b></td><td>V</td><td bgcolor=\"#00FF11\"><b>K</b></td><td bgcolor=\"#00FF11\"><b>H</b></td><td bgcolor=\"#00FF11\"><b>Y</b></td><td bgcolor=\"#00FF11\"><b>K</b></td><td bgcolor=\"#00FF11\"><b>I</b></td><td>R</td><td bgcolor=\"#00FF11\"><b>K</b></td><td bgcolor=\"#00FF11\"><b>L</b></td><td bgcolor=\"#00FF11\"><b>D</b></td><td bgcolor=\"#00FF11\"><b>N</b></td><td bgcolor=\"#00FF11\"><b>G</b></td><td>G</td><td bgcolor=\"#00FF11\"><b>Y</b></td><td bgcolor=\"#00FF11\"><b>Y</b></td><td bgcolor=\"#00FF11\"><b>I</b></td><td bgcolor=\"#00FF11\"><b>T</b></td><td bgcolor=\"#00FF11\"><b>T</b></td><td bgcolor=\"#00FF11\"><b>R</b></td><td bgcolor=\"#00FF11\"><b>A</b></td><td bgcolor=\"#00FF11\"><b>Q</b></td><td bgcolor=\"#00FF11\"><b>F</b></td><td bgcolor=\"#00FF11\"><b>E</b></td><td bgcolor=\"#00FF11\"><b>T</b></td><td bgcolor=\"#00FF11\"><b>L</b></td><td bgcolor=\"#00FF11\"><b>Q</b></td><td bgcolor=\"#00FF11\"><b>Q</b></td><td bgcolor=\"#00FF11\"><b>L</b></td><td bgcolor=\"#00FF11\"><b>V</b></td><td bgcolor=\"#00FF11\"><b>Q</b></td><td bgcolor=\"#00FF11\"><b>H</b></td><td bgcolor=\"#00FF11\"><b>Y</b></td><td>S</td><td>E</td><td bgcolor=\"#00FF11\"><b>R</b></td><td>A</td><td>A</td><td>G</td><td>L</td><td>C</td><td>C</td><td bgcolor=\"#00FF11\"><b>R</b></td><td>L</td><td>V</td><td bgcolor=\"#00FF11\"><b>V</b></td><td bgcolor=\"#00FF11\"><b>P</b></td><td bgcolor=\"#00FF11\"><b>C</b></td><td>-</td><td>-</td><td>-</td><td>-</td><td>-</td><td>-</td><td>-</td><td>-</td><td>-</td><td>-</td><td>-</td><td>-</td><td>-</td><td>-</td><td>-</td></tr><tr><td>|</td><td>|</td><td>|</td><td>|</td><td>|</td><td>|</td><td>|</td><td>|</td><td>|</td><td>|</td><td>|</td><td>|</td><td>|</td><td>|</td><td>|</td><td>|</td><td>|</td><td>|</td><td>|</td><td>|</td><td></td><td>|</td><td>|</td><td>|</td><td>|</td><td>|</td><td>|</td><td>|</td><td>|</td><td>|</td><td>|</td><td>|</td><td>|</td><td>|</td><td>|</td><td>|</td><td>|</td><td>|</td><td>|</td><td>|</td><td>|</td><td>|</td><td></td><td></td><td></td><td></td><td>|</td><td>|</td><td>|</td><td>|</td><td>|</td><td></td><td>|</td><td>|</td><td>|</td><td>|</td><td>|</td><td></td><td>|</td><td>|</td><td>|</td><td>|</td><td>|</td><td></td><td>|</td><td>|</td><td>|</td><td>|</td><td>|</td><td>|</td><td>|</td><td>|</td><td>|</td><td>|</td><td>|</td><td>|</td><td>|</td><td>|</td><td>|</td><td>|</td><td>|</td><td>|</td><td>|</td><td></td><td></td><td>|</td><td></td><td></td><td></td><td></td><td></td><td></td><td>|</td><td></td><td></td><td>|</td><td>|</td><td>|</td><td></td><td></td><td></td><td></td><td></td><td></td><td></td><td></td><td></td><td></td><td></td><td></td><td></td><td></td><td></td></tr><tr><td bgcolor=\"#00FF11\"><b>W</b></td><td bgcolor=\"#00FF11\"><b>Y</b></td><td bgcolor=\"#00FF11\"><b>Y</b></td><td bgcolor=\"#00FF11\"><b>G</b></td><td bgcolor=\"#00FF11\"><b>K</b></td><td bgcolor=\"#00FF11\"><b>V</b></td><td bgcolor=\"#00FF11\"><b>T</b></td><td bgcolor=\"#00FF11\"><b>R</b></td><td bgcolor=\"#00FF11\"><b>H</b></td><td bgcolor=\"#00FF11\"><b>Q</b></td><td bgcolor=\"#00FF11\"><b>A</b></td><td bgcolor=\"#00FF11\"><b>E</b></td><td bgcolor=\"#00FF11\"><b>M</b></td><td bgcolor=\"#00FF11\"><b>A</b></td><td bgcolor=\"#00FF11\"><b>L</b></td><td bgcolor=\"#00FF11\"><b>N</b></td><td bgcolor=\"#00FF11\"><b>E</b></td><td bgcolor=\"#00FF11\"><b>R</b></td><td bgcolor=\"#00FF11\"><b>G</b></td><td bgcolor=\"#00FF11\"><b>H</b></td><td>-</td><td bgcolor=\"#00FF11\"><b>E</b></td><td bgcolor=\"#00FF11\"><b>G</b></td><td bgcolor=\"#00FF11\"><b>D</b></td><td bgcolor=\"#00FF11\"><b>F</b></td><td bgcolor=\"#00FF11\"><b>L</b></td><td bgcolor=\"#00FF11\"><b>I</b></td><td bgcolor=\"#00FF11\"><b>R</b></td><td bgcolor=\"#00FF11\"><b>D</b></td><td bgcolor=\"#00FF11\"><b>S</b></td><td bgcolor=\"#00FF11\"><b>E</b></td><td bgcolor=\"#00FF11\"><b>S</b></td><td bgcolor=\"#00FF11\"><b>S</b></td><td bgcolor=\"#00FF11\"><b>P</b></td><td bgcolor=\"#00FF11\"><b>N</b></td><td bgcolor=\"#00FF11\"><b>D</b></td><td bgcolor=\"#00FF11\"><b>F</b></td><td bgcolor=\"#00FF11\"><b>S</b></td><td bgcolor=\"#00FF11\"><b>V</b></td><td bgcolor=\"#00FF11\"><b>S</b></td><td bgcolor=\"#00FF11\"><b>L</b></td><td bgcolor=\"#00FF11\"><b>K</b></td><td>-</td><td>-</td><td>-</td><td>-</td><td bgcolor=\"#00FF11\"><b>A</b></td><td bgcolor=\"#00FF11\"><b>Q</b></td><td bgcolor=\"#00FF11\"><b>G</b></td><td bgcolor=\"#00FF11\"><b>K</b></td><td bgcolor=\"#00FF11\"><b>N</b></td><td>-</td><td bgcolor=\"#00FF11\"><b>K</b></td><td bgcolor=\"#00FF11\"><b>H</b></td><td bgcolor=\"#00FF11\"><b>F</b></td><td bgcolor=\"#00FF11\"><b>K</b></td><td bgcolor=\"#00FF11\"><b>V</b></td><td>-</td><td bgcolor=\"#00FF11\"><b>Q</b></td><td bgcolor=\"#00FF11\"><b>L</b></td><td bgcolor=\"#00FF11\"><b>K</b></td><td bgcolor=\"#00FF11\"><b>E</b></td><td bgcolor=\"#00FF11\"><b>T</b></td><td>-</td><td bgcolor=\"#00FF11\"><b>V</b></td><td bgcolor=\"#00FF11\"><b>Y</b></td><td bgcolor=\"#00FF11\"><b>C</b></td><td bgcolor=\"#00FF11\"><b>I</b></td><td bgcolor=\"#00FF11\"><b>G</b></td><td bgcolor=\"#00FF11\"><b>Q</b></td><td bgcolor=\"#00FF11\"><b>R</b></td><td bgcolor=\"#00FF11\"><b>K</b></td><td bgcolor=\"#00FF11\"><b>F</b></td><td bgcolor=\"#00FF11\"><b>S</b></td><td bgcolor=\"#00FF11\"><b>T</b></td><td bgcolor=\"#00FF11\"><b>M</b></td><td bgcolor=\"#00FF11\"><b>E</b></td><td bgcolor=\"#00FF11\"><b>E</b></td><td bgcolor=\"#00FF11\"><b>L</b></td><td bgcolor=\"#00FF11\"><b>V</b></td><td bgcolor=\"#00FF11\"><b>E</b></td><td bgcolor=\"#00FF11\"><b>H</b></td><td bgcolor=\"#00FF11\"><b>Y</b></td><td>-</td><td>-</td><td bgcolor=\"#00FF11\"><b>K</b></td><td>-</td><td>-</td><td>-</td><td>-</td><td>-</td><td>-</td><td bgcolor=\"#00FF11\"><b>K</b></td><td>-</td><td>-</td><td bgcolor=\"#00FF11\"><b>A</b></td><td bgcolor=\"#00FF11\"><b>P</b></td><td bgcolor=\"#00FF11\"><b>I</b></td><td>F</td><td>T</td><td>S</td><td>E</td><td>Q</td><td>G</td><td>E</td><td>K</td><td>L</td><td>Y</td><td>L</td><td>V</td><td>K</td><td>H</td><td>L</td></tr></table>"
      ],
      "text/plain": [
       "<IPython.core.display.HTML object>"
      ]
     },
     "metadata": {},
     "output_type": "display_data"
    }
   ],
   "source": [
    "# A bit of backtracking now\n",
    "def backtrack(solution, i, j, ignore):\n",
    "    global optimal_path, backtrack_matrix\n",
    "    \n",
    "    solution.append((i, j))\n",
    "    \n",
    "    optimal_path[i][j] = True\n",
    "    \n",
    "    if True not in backtrack_matrix[i][j]:\n",
    "        return True\n",
    "    \n",
    "    if backtrack_matrix[i][j][0]: \n",
    "        if ignore == 0:\n",
    "            optimal_path_direction[i][j][0] = True\n",
    "            return backtrack(solution, i-1, j-1, ignore)\n",
    "        else:\n",
    "            ignore -=1\n",
    "    if backtrack_matrix[i][j][1]: \n",
    "        if ignore == 0:\n",
    "            optimal_path_direction[i][j][1] = True\n",
    "            return backtrack(solution, i-1, j, ignore)\n",
    "        else:\n",
    "            ignore -=1\n",
    "    if backtrack_matrix[i][j][2]: \n",
    "        if ignore == 0:\n",
    "            optimal_path_direction[i][j][2] = True\n",
    "            return backtrack(solution, i, j-1, ignore)\n",
    "        else:\n",
    "            ignore -=1\n",
    "    \n",
    "    return False\n",
    "\n",
    "def find_k_solutions(k, local_alignement=False):\n",
    "    \"\"\" Find at most k solutions \"\"\"\n",
    "    l_solution = []\n",
    "    for ignore in range(k):\n",
    "        solution = []\n",
    "\n",
    "        # Find better score in last row\n",
    "        max_score = None\n",
    "        max_position = None\n",
    "        for i in range(M):\n",
    "            for j in range(N):\n",
    "                if not local_alignement and i != M-1 and j != N-1:\n",
    "                    continue\n",
    "                    \n",
    "                if max_score == None or dp_matrix[i][j] > max_score:\n",
    "                    max_score = dp_matrix[i][j]\n",
    "                    max_position = (i, j)\n",
    "\n",
    "        backtrack(solution, max_position[0], max_position[1], ignore)\n",
    "\n",
    "        i, j = solution[-1]\n",
    "        if True not in backtrack_matrix[i][j]:\n",
    "            l_solution.append(solution)\n",
    "\n",
    "    if not large_matrice:\n",
    "        display_dp_matrix(dp_matrix, x, y, backtrack_matrix, optimal_path)\n",
    "\n",
    "    for i in range(len(l_solution)):\n",
    "        print(\"Solution #{}:\".format(i+1))\n",
    "        display_solution(l_solution[i], x, y)\n",
    "    \n",
    "    return l_solution\n",
    "\n",
    "_ = find_k_solutions(k)"
   ]
  },
  {
   "cell_type": "markdown",
   "metadata": {},
   "source": [
    "### Smith-Waterman(local)"
   ]
  },
  {
   "cell_type": "code",
   "execution_count": 188,
   "metadata": {
    "collapsed": false,
    "scrolled": false
   },
   "outputs": [
    {
     "data": {
      "text/html": [
       "<table class=\"outter\"><tr><td></td><td></td><td>I</td><td>S</td><td>A</td><td>L</td><td>I</td><td>G</td><td>N</td><td>E</td><td>D</td></tr><tr><td></td><td><table class=\"inner\"><tr><td></td><td></td></tr><tr><td></td><td>0</td></tr></table></td><td><table class=\"inner\"><tr><td></td><td></td></tr><tr><td></td><td>0</td></tr></table></td><td><table class=\"inner\"><tr><td></td><td></td></tr><tr><td></td><td>0</td></tr></table></td><td><table class=\"inner\"><tr><td></td><td></td></tr><tr><td></td><td>0</td></tr></table></td><td><table class=\"inner\"><tr><td></td><td></td></tr><tr><td></td><td>0</td></tr></table></td><td><table class=\"inner\"><tr><td></td><td></td></tr><tr><td></td><td>0</td></tr></table></td><td><table class=\"inner\"><tr><td></td><td></td></tr><tr><td></td><td>0</td></tr></table></td><td><table class=\"inner\"><tr><td></td><td></td></tr><tr><td></td><td>0</td></tr></table></td><td><table class=\"inner\"><tr><td></td><td></td></tr><tr><td></td><td>0</td></tr></table></td><td><table class=\"inner\"><tr><td></td><td></td></tr><tr><td></td><td>0</td></tr></table></td></tr><tr><td>T</td><td><table class=\"inner\"><tr><td></td><td></td></tr><tr><td></td><td>0</td></tr></table></td><td><table class=\"inner\"><tr><td></td><td></td></tr><tr><td></td><td>0</td></tr></table></td><td><table class=\"inner\"><tr><td><img src=\"upleft.png\" height=\"42\" width=\"9\" /></td><td></td></tr><tr><td></td><td>1</td></tr></table></td><td><table class=\"inner\"><tr><td><img src=\"upleft.png\" height=\"42\" width=\"9\" /></td><td></td></tr><tr><td></td><td>0</td></tr></table></td><td><table class=\"inner\"><tr><td></td><td></td></tr><tr><td></td><td>0</td></tr></table></td><td><table class=\"inner\"><tr><td></td><td></td></tr><tr><td></td><td>0</td></tr></table></td><td><table class=\"inner\"><tr><td></td><td></td></tr><tr><td></td><td>0</td></tr></table></td><td><table class=\"inner\"><tr><td><img src=\"upleft.png\" height=\"42\" width=\"9\" /></td><td></td></tr><tr><td></td><td>0</td></tr></table></td><td><table class=\"inner\"><tr><td></td><td></td></tr><tr><td></td><td>0</td></tr></table></td><td><table class=\"inner\"><tr><td></td><td></td></tr><tr><td></td><td>0</td></tr></table></td></tr><tr><td>H</td><td><table class=\"inner optimal\"><tr><td></td><td></td></tr><tr><td></td><td>0</td></tr></table></td><td><table class=\"inner\"><tr><td></td><td></td></tr><tr><td></td><td>0</td></tr></table></td><td><table class=\"inner\"><tr><td></td><td></td></tr><tr><td></td><td>0</td></tr></table></td><td><table class=\"inner\"><tr><td></td><td></td></tr><tr><td></td><td>0</td></tr></table></td><td><table class=\"inner\"><tr><td></td><td></td></tr><tr><td></td><td>0</td></tr></table></td><td><table class=\"inner\"><tr><td></td><td></td></tr><tr><td></td><td>0</td></tr></table></td><td><table class=\"inner\"><tr><td></td><td></td></tr><tr><td></td><td>0</td></tr></table></td><td><table class=\"inner\"><tr><td><img src=\"upleft.png\" height=\"42\" width=\"9\" /></td><td></td></tr><tr><td></td><td>1</td></tr></table></td><td><table class=\"inner\"><tr><td><img src=\"upleft.png\" height=\"42\" width=\"9\" /></td><td></td></tr><tr><td></td><td>0</td></tr></table></td><td><table class=\"inner\"><tr><td></td><td></td></tr><tr><td></td><td>0</td></tr></table></td></tr><tr><td>I</td><td><table class=\"inner\"><tr><td></td><td></td></tr><tr><td></td><td>0</td></tr></table></td><td><table class=\"inner optimal\"><tr><td><img src=\"upleftred.png\" height=\"42\" width=\"9\" /></td><td></td></tr><tr><td></td><td>4</td></tr></table></td><td><table class=\"inner\"><tr><td></td><td></td></tr><tr><td><img src=\"left.png\" height=\"9\" width=\"9\" /></td><td>0</td></tr></table></td><td><table class=\"inner\"><tr><td></td><td></td></tr><tr><td></td><td>0</td></tr></table></td><td><table class=\"inner\"><tr><td><img src=\"upleft.png\" height=\"42\" width=\"9\" /></td><td></td></tr><tr><td></td><td>2</td></tr></table></td><td><table class=\"inner\"><tr><td><img src=\"upleft.png\" height=\"42\" width=\"9\" /></td><td></td></tr><tr><td></td><td>4</td></tr></table></td><td><table class=\"inner\"><tr><td></td><td></td></tr><tr><td><img src=\"left.png\" height=\"9\" width=\"9\" /></td><td>0</td></tr></table></td><td><table class=\"inner\"><tr><td></td><td></td></tr><tr><td></td><td>0</td></tr></table></td><td><table class=\"inner\"><tr><td></td><td></td></tr><tr><td></td><td>0</td></tr></table></td><td><table class=\"inner\"><tr><td></td><td></td></tr><tr><td></td><td>0</td></tr></table></td></tr><tr><td>S</td><td><table class=\"inner\"><tr><td></td><td></td></tr><tr><td></td><td>0</td></tr></table></td><td><table class=\"inner\"><tr><td></td><td><img src=\"up.png\" height=\"9\" width=\"9\" /></td></tr><tr><td></td><td>0</td></tr></table></td><td><table class=\"inner optimal\"><tr><td><img src=\"upleftred.png\" height=\"42\" width=\"9\" /></td><td></td></tr><tr><td></td><td>8</td></tr></table></td><td><table class=\"inner optimal\"><tr><td></td><td></td></tr><tr><td><img src=\"leftred.png\" height=\"9\" width=\"9\" /></td><td>4</td></tr></table></td><td><table class=\"inner\"><tr><td></td><td></td></tr><tr><td><img src=\"left.png\" height=\"9\" width=\"9\" /></td><td>0</td></tr></table></td><td><table class=\"inner\"><tr><td><img src=\"upleft.png\" height=\"42\" width=\"9\" /></td><td><img src=\"up.png\" height=\"9\" width=\"9\" /></td></tr><tr><td></td><td>0</td></tr></table></td><td><table class=\"inner\"><tr><td><img src=\"upleft.png\" height=\"42\" width=\"9\" /></td><td></td></tr><tr><td></td><td>4</td></tr></table></td><td><table class=\"inner\"><tr><td><img src=\"upleft.png\" height=\"42\" width=\"9\" /></td><td></td></tr><tr><td></td><td>1</td></tr></table></td><td><table class=\"inner\"><tr><td><img src=\"upleft.png\" height=\"42\" width=\"9\" /></td><td></td></tr><tr><td></td><td>0</td></tr></table></td><td><table class=\"inner\"><tr><td><img src=\"upleft.png\" height=\"42\" width=\"9\" /></td><td></td></tr><tr><td></td><td>0</td></tr></table></td></tr><tr><td>L</td><td><table class=\"inner\"><tr><td></td><td></td></tr><tr><td></td><td>0</td></tr></table></td><td><table class=\"inner\"><tr><td><img src=\"upleft.png\" height=\"42\" width=\"9\" /></td><td></td></tr><tr><td></td><td>2</td></tr></table></td><td><table class=\"inner\"><tr><td></td><td><img src=\"up.png\" height=\"9\" width=\"9\" /></td></tr><tr><td></td><td>4</td></tr></table></td><td><table class=\"inner\"><tr><td><img src=\"upleft.png\" height=\"42\" width=\"9\" /></td><td></td></tr><tr><td></td><td>7</td></tr></table></td><td><table class=\"inner optimal\"><tr><td><img src=\"upleftred.png\" height=\"42\" width=\"9\" /></td><td></td></tr><tr><td></td><td>8</td></tr></table></td><td><table class=\"inner\"><tr><td></td><td></td></tr><tr><td><img src=\"left.png\" height=\"9\" width=\"9\" /></td><td>4</td></tr></table></td><td><table class=\"inner\"><tr><td></td><td><img src=\"up.png\" height=\"9\" width=\"9\" /></td></tr><tr><td><img src=\"left.png\" height=\"9\" width=\"9\" /></td><td>0</td></tr></table></td><td><table class=\"inner\"><tr><td><img src=\"upleft.png\" height=\"42\" width=\"9\" /></td><td></td></tr><tr><td></td><td>1</td></tr></table></td><td><table class=\"inner\"><tr><td></td><td></td></tr><tr><td></td><td>0</td></tr></table></td><td><table class=\"inner\"><tr><td></td><td></td></tr><tr><td></td><td>0</td></tr></table></td></tr><tr><td>I</td><td><table class=\"inner\"><tr><td></td><td></td></tr><tr><td></td><td>0</td></tr></table></td><td><table class=\"inner\"><tr><td><img src=\"upleft.png\" height=\"42\" width=\"9\" /></td><td></td></tr><tr><td></td><td>4</td></tr></table></td><td><table class=\"inner\"><tr><td><img src=\"upleft.png\" height=\"42\" width=\"9\" /></td><td><img src=\"up.png\" height=\"9\" width=\"9\" /></td></tr><tr><td><img src=\"left.png\" height=\"9\" width=\"9\" /></td><td>0</td></tr></table></td><td><table class=\"inner\"><tr><td><img src=\"upleft.png\" height=\"42\" width=\"9\" /></td><td><img src=\"up.png\" height=\"9\" width=\"9\" /></td></tr><tr><td></td><td>3</td></tr></table></td><td><table class=\"inner\"><tr><td><img src=\"upleft.png\" height=\"42\" width=\"9\" /></td><td></td></tr><tr><td></td><td>9</td></tr></table></td><td><table class=\"inner optimal\"><tr><td><img src=\"upleftred.png\" height=\"42\" width=\"9\" /></td><td></td></tr><tr><td></td><td>12</td></tr></table></td><td><table class=\"inner optimal\"><tr><td></td><td></td></tr><tr><td><img src=\"leftred.png\" height=\"9\" width=\"9\" /></td><td>8</td></tr></table></td><td><table class=\"inner\"><tr><td></td><td></td></tr><tr><td><img src=\"left.png\" height=\"9\" width=\"9\" /></td><td>4</td></tr></table></td><td><table class=\"inner\"><tr><td></td><td></td></tr><tr><td><img src=\"left.png\" height=\"9\" width=\"9\" /></td><td>0</td></tr></table></td><td><table class=\"inner\"><tr><td></td><td></td></tr><tr><td></td><td>0</td></tr></table></td></tr><tr><td>N</td><td><table class=\"inner\"><tr><td></td><td></td></tr><tr><td></td><td>0</td></tr></table></td><td><table class=\"inner\"><tr><td></td><td><img src=\"up.png\" height=\"9\" width=\"9\" /></td></tr><tr><td></td><td>0</td></tr></table></td><td><table class=\"inner\"><tr><td><img src=\"upleft.png\" height=\"42\" width=\"9\" /></td><td></td></tr><tr><td></td><td>5</td></tr></table></td><td><table class=\"inner\"><tr><td></td><td></td></tr><tr><td><img src=\"left.png\" height=\"9\" width=\"9\" /></td><td>1</td></tr></table></td><td><table class=\"inner\"><tr><td></td><td><img src=\"up.png\" height=\"9\" width=\"9\" /></td></tr><tr><td></td><td>5</td></tr></table></td><td><table class=\"inner\"><tr><td></td><td><img src=\"up.png\" height=\"9\" width=\"9\" /></td></tr><tr><td></td><td>8</td></tr></table></td><td><table class=\"inner\"><tr><td><img src=\"upleft.png\" height=\"42\" width=\"9\" /></td><td></td></tr><tr><td></td><td>12</td></tr></table></td><td><table class=\"inner optimal\"><tr><td><img src=\"upleftred.png\" height=\"42\" width=\"9\" /></td><td></td></tr><tr><td></td><td>14</td></tr></table></td><td><table class=\"inner\"><tr><td></td><td></td></tr><tr><td><img src=\"left.png\" height=\"9\" width=\"9\" /></td><td>10</td></tr></table></td><td><table class=\"inner\"><tr><td></td><td></td></tr><tr><td><img src=\"left.png\" height=\"9\" width=\"9\" /></td><td>6</td></tr></table></td></tr><tr><td>E</td><td><table class=\"inner\"><tr><td></td><td></td></tr><tr><td></td><td>0</td></tr></table></td><td><table class=\"inner\"><tr><td></td><td></td></tr><tr><td></td><td>0</td></tr></table></td><td><table class=\"inner\"><tr><td></td><td><img src=\"up.png\" height=\"9\" width=\"9\" /></td></tr><tr><td></td><td>1</td></tr></table></td><td><table class=\"inner\"><tr><td><img src=\"upleft.png\" height=\"42\" width=\"9\" /></td><td></td></tr><tr><td></td><td>4</td></tr></table></td><td><table class=\"inner\"><tr><td></td><td><img src=\"up.png\" height=\"9\" width=\"9\" /></td></tr><tr><td></td><td>1</td></tr></table></td><td><table class=\"inner\"><tr><td></td><td><img src=\"up.png\" height=\"9\" width=\"9\" /></td></tr><tr><td></td><td>4</td></tr></table></td><td><table class=\"inner\"><tr><td></td><td><img src=\"up.png\" height=\"9\" width=\"9\" /></td></tr><tr><td></td><td>8</td></tr></table></td><td><table class=\"inner\"><tr><td><img src=\"upleft.png\" height=\"42\" width=\"9\" /></td><td></td></tr><tr><td></td><td>12</td></tr></table></td><td><table class=\"inner optimal\"><tr><td><img src=\"upleftred.png\" height=\"42\" width=\"9\" /></td><td></td></tr><tr><td></td><td>19</td></tr></table></td><td><table class=\"inner\"><tr><td></td><td></td></tr><tr><td><img src=\"left.png\" height=\"9\" width=\"9\" /></td><td>15</td></tr></table></td></tr></table>"
      ],
      "text/plain": [
       "<IPython.core.display.HTML object>"
      ]
     },
     "metadata": {},
     "output_type": "display_data"
    },
    {
     "name": "stdout",
     "output_type": "stream",
     "text": [
      "Solution #1:\n"
     ]
    },
    {
     "data": {
      "text/html": [
       "<table class=\"inner\"><tr><td>T</td><td>H</td><td bgcolor=\"#00FF11\"><b>I</b></td><td bgcolor=\"#00FF11\"><b>S</b></td><td>-</td><td bgcolor=\"#00FF11\"><b>L</b></td><td bgcolor=\"#00FF11\"><b>I</b></td><td>-</td><td bgcolor=\"#00FF11\"><b>N</b></td><td bgcolor=\"#00FF11\"><b>E</b></td><td>-</td></tr><tr><td></td><td></td><td>|</td><td>|</td><td></td><td>|</td><td>|</td><td></td><td>|</td><td>|</td><td></td></tr><tr><td>-</td><td>-</td><td bgcolor=\"#00FF11\"><b>I</b></td><td bgcolor=\"#00FF11\"><b>S</b></td><td>A</td><td bgcolor=\"#00FF11\"><b>L</b></td><td bgcolor=\"#00FF11\"><b>I</b></td><td>G</td><td bgcolor=\"#00FF11\"><b>N</b></td><td bgcolor=\"#00FF11\"><b>E</b></td><td>D</td></tr></table>"
      ],
      "text/plain": [
       "<IPython.core.display.HTML object>"
      ]
     },
     "metadata": {},
     "output_type": "display_data"
    },
    {
     "data": {
      "text/html": [
       "<table class=\"outter\"><tr><td></td><td></td><td>I</td><td>S</td><td>A</td><td>L</td><td>I</td><td>G</td><td>N</td><td>E</td><td>D</td></tr><tr><td></td><td><table class=\"inner\"><tr><td></td><td></td></tr><tr><td></td><td>0</td></tr></table></td><td><table class=\"inner\"><tr><td></td><td></td></tr><tr><td></td><td>0</td></tr></table></td><td><table class=\"inner\"><tr><td></td><td></td></tr><tr><td></td><td>0</td></tr></table></td><td><table class=\"inner\"><tr><td></td><td></td></tr><tr><td></td><td>0</td></tr></table></td><td><table class=\"inner\"><tr><td></td><td></td></tr><tr><td></td><td>0</td></tr></table></td><td><table class=\"inner\"><tr><td></td><td></td></tr><tr><td></td><td>0</td></tr></table></td><td><table class=\"inner\"><tr><td></td><td></td></tr><tr><td></td><td>0</td></tr></table></td><td><table class=\"inner\"><tr><td></td><td></td></tr><tr><td></td><td>0</td></tr></table></td><td><table class=\"inner\"><tr><td></td><td></td></tr><tr><td></td><td>0</td></tr></table></td><td><table class=\"inner\"><tr><td></td><td></td></tr><tr><td></td><td>0</td></tr></table></td></tr><tr><td>T</td><td><table class=\"inner\"><tr><td></td><td></td></tr><tr><td></td><td>0</td></tr></table></td><td><table class=\"inner\"><tr><td></td><td></td></tr><tr><td></td><td>0</td></tr></table></td><td><table class=\"inner\"><tr><td><img src=\"upleft.png\" height=\"42\" width=\"9\" /></td><td></td></tr><tr><td></td><td>1</td></tr></table></td><td><table class=\"inner\"><tr><td><img src=\"upleft.png\" height=\"42\" width=\"9\" /></td><td></td></tr><tr><td></td><td>0</td></tr></table></td><td><table class=\"inner\"><tr><td></td><td></td></tr><tr><td></td><td>0</td></tr></table></td><td><table class=\"inner\"><tr><td></td><td></td></tr><tr><td></td><td>0</td></tr></table></td><td><table class=\"inner\"><tr><td></td><td></td></tr><tr><td></td><td>0</td></tr></table></td><td><table class=\"inner\"><tr><td><img src=\"upleft.png\" height=\"42\" width=\"9\" /></td><td></td></tr><tr><td></td><td>0</td></tr></table></td><td><table class=\"inner\"><tr><td></td><td></td></tr><tr><td></td><td>0</td></tr></table></td><td><table class=\"inner\"><tr><td></td><td></td></tr><tr><td></td><td>0</td></tr></table></td></tr><tr><td>H</td><td><table class=\"inner\"><tr><td></td><td></td></tr><tr><td></td><td>0</td></tr></table></td><td><table class=\"inner\"><tr><td></td><td></td></tr><tr><td></td><td>0</td></tr></table></td><td><table class=\"inner\"><tr><td></td><td></td></tr><tr><td></td><td>0</td></tr></table></td><td><table class=\"inner\"><tr><td></td><td></td></tr><tr><td></td><td>0</td></tr></table></td><td><table class=\"inner\"><tr><td></td><td></td></tr><tr><td></td><td>0</td></tr></table></td><td><table class=\"inner\"><tr><td></td><td></td></tr><tr><td></td><td>0</td></tr></table></td><td><table class=\"inner\"><tr><td></td><td></td></tr><tr><td></td><td>0</td></tr></table></td><td><table class=\"inner\"><tr><td><img src=\"upleft.png\" height=\"42\" width=\"9\" /></td><td></td></tr><tr><td></td><td>1</td></tr></table></td><td><table class=\"inner\"><tr><td><img src=\"upleft.png\" height=\"42\" width=\"9\" /></td><td></td></tr><tr><td></td><td>0</td></tr></table></td><td><table class=\"inner\"><tr><td></td><td></td></tr><tr><td></td><td>0</td></tr></table></td></tr><tr><td>I</td><td><table class=\"inner\"><tr><td></td><td></td></tr><tr><td></td><td>0</td></tr></table></td><td><table class=\"inner\"><tr><td></td><td></td></tr><tr><td></td><td>0</td></tr></table></td><td><table class=\"inner\"><tr><td></td><td></td></tr><tr><td></td><td>0</td></tr></table></td><td><table class=\"inner\"><tr><td></td><td></td></tr><tr><td></td><td>0</td></tr></table></td><td><table class=\"inner\"><tr><td><img src=\"upleft.png\" height=\"42\" width=\"9\" /></td><td></td></tr><tr><td></td><td>2</td></tr></table></td><td><table class=\"inner\"><tr><td><img src=\"upleft.png\" height=\"42\" width=\"9\" /></td><td></td></tr><tr><td></td><td>4</td></tr></table></td><td><table class=\"inner\"><tr><td></td><td></td></tr><tr><td><img src=\"left.png\" height=\"9\" width=\"9\" /></td><td>0</td></tr></table></td><td><table class=\"inner\"><tr><td></td><td></td></tr><tr><td></td><td>0</td></tr></table></td><td><table class=\"inner\"><tr><td></td><td></td></tr><tr><td></td><td>0</td></tr></table></td><td><table class=\"inner\"><tr><td></td><td></td></tr><tr><td></td><td>0</td></tr></table></td></tr><tr><td>S</td><td><table class=\"inner\"><tr><td></td><td></td></tr><tr><td></td><td>0</td></tr></table></td><td><table class=\"inner\"><tr><td></td><td></td></tr><tr><td></td><td>0</td></tr></table></td><td><table class=\"inner\"><tr><td></td><td></td></tr><tr><td></td><td>0</td></tr></table></td><td><table class=\"inner\"><tr><td></td><td></td></tr><tr><td></td><td>0</td></tr></table></td><td><table class=\"inner\"><tr><td></td><td></td></tr><tr><td></td><td>0</td></tr></table></td><td><table class=\"inner\"><tr><td><img src=\"upleft.png\" height=\"42\" width=\"9\" /></td><td><img src=\"up.png\" height=\"9\" width=\"9\" /></td></tr><tr><td></td><td>0</td></tr></table></td><td><table class=\"inner\"><tr><td><img src=\"upleft.png\" height=\"42\" width=\"9\" /></td><td></td></tr><tr><td></td><td>4</td></tr></table></td><td><table class=\"inner\"><tr><td><img src=\"upleft.png\" height=\"42\" width=\"9\" /></td><td></td></tr><tr><td></td><td>1</td></tr></table></td><td><table class=\"inner\"><tr><td><img src=\"upleft.png\" height=\"42\" width=\"9\" /></td><td></td></tr><tr><td></td><td>0</td></tr></table></td><td><table class=\"inner\"><tr><td><img src=\"upleft.png\" height=\"42\" width=\"9\" /></td><td></td></tr><tr><td></td><td>0</td></tr></table></td></tr><tr><td>L</td><td><table class=\"inner optimal\"><tr><td></td><td></td></tr><tr><td></td><td>0</td></tr></table></td><td><table class=\"inner\"><tr><td><img src=\"upleft.png\" height=\"42\" width=\"9\" /></td><td></td></tr><tr><td></td><td>2</td></tr></table></td><td><table class=\"inner\"><tr><td></td><td></td></tr><tr><td></td><td>0</td></tr></table></td><td><table class=\"inner\"><tr><td></td><td></td></tr><tr><td></td><td>0</td></tr></table></td><td><table class=\"inner\"><tr><td></td><td></td></tr><tr><td></td><td>0</td></tr></table></td><td><table class=\"inner\"><tr><td><img src=\"upleft.png\" height=\"42\" width=\"9\" /></td><td></td></tr><tr><td></td><td>2</td></tr></table></td><td><table class=\"inner\"><tr><td></td><td><img src=\"up.png\" height=\"9\" width=\"9\" /></td></tr><tr><td></td><td>0</td></tr></table></td><td><table class=\"inner\"><tr><td><img src=\"upleft.png\" height=\"42\" width=\"9\" /></td><td></td></tr><tr><td></td><td>1</td></tr></table></td><td><table class=\"inner\"><tr><td></td><td></td></tr><tr><td></td><td>0</td></tr></table></td><td><table class=\"inner\"><tr><td></td><td></td></tr><tr><td></td><td>0</td></tr></table></td></tr><tr><td>I</td><td><table class=\"inner\"><tr><td></td><td></td></tr><tr><td></td><td>0</td></tr></table></td><td><table class=\"inner optimal\"><tr><td><img src=\"upleftred.png\" height=\"42\" width=\"9\" /></td><td></td></tr><tr><td></td><td>4</td></tr></table></td><td><table class=\"inner\"><tr><td><img src=\"upleft.png\" height=\"42\" width=\"9\" /></td><td></td></tr><tr><td><img src=\"left.png\" height=\"9\" width=\"9\" /></td><td>0</td></tr></table></td><td><table class=\"inner\"><tr><td></td><td></td></tr><tr><td></td><td>0</td></tr></table></td><td><table class=\"inner\"><tr><td><img src=\"upleft.png\" height=\"42\" width=\"9\" /></td><td></td></tr><tr><td></td><td>2</td></tr></table></td><td><table class=\"inner\"><tr><td></td><td></td></tr><tr><td></td><td>0</td></tr></table></td><td><table class=\"inner\"><tr><td></td><td></td></tr><tr><td></td><td>0</td></tr></table></td><td><table class=\"inner\"><tr><td></td><td></td></tr><tr><td></td><td>0</td></tr></table></td><td><table class=\"inner\"><tr><td></td><td></td></tr><tr><td></td><td>0</td></tr></table></td><td><table class=\"inner\"><tr><td></td><td></td></tr><tr><td></td><td>0</td></tr></table></td></tr><tr><td>N</td><td><table class=\"inner\"><tr><td></td><td></td></tr><tr><td></td><td>0</td></tr></table></td><td><table class=\"inner\"><tr><td></td><td><img src=\"up.png\" height=\"9\" width=\"9\" /></td></tr><tr><td></td><td>0</td></tr></table></td><td><table class=\"inner optimal\"><tr><td><img src=\"upleftred.png\" height=\"42\" width=\"9\" /></td><td></td></tr><tr><td></td><td>5</td></tr></table></td><td><table class=\"inner\"><tr><td></td><td></td></tr><tr><td><img src=\"left.png\" height=\"9\" width=\"9\" /></td><td>1</td></tr></table></td><td><table class=\"inner\"><tr><td></td><td></td></tr><tr><td></td><td>0</td></tr></table></td><td><table class=\"inner\"><tr><td></td><td></td></tr><tr><td></td><td>0</td></tr></table></td><td><table class=\"inner\"><tr><td><img src=\"upleft.png\" height=\"42\" width=\"9\" /></td><td></td></tr><tr><td></td><td>0</td></tr></table></td><td><table class=\"inner\"><tr><td></td><td></td></tr><tr><td></td><td>0</td></tr></table></td><td><table class=\"inner\"><tr><td><img src=\"upleft.png\" height=\"42\" width=\"9\" /></td><td></td></tr><tr><td></td><td>0</td></tr></table></td><td><table class=\"inner\"><tr><td><img src=\"upleft.png\" height=\"42\" width=\"9\" /></td><td></td></tr><tr><td></td><td>1</td></tr></table></td></tr><tr><td>E</td><td><table class=\"inner\"><tr><td></td><td></td></tr><tr><td></td><td>0</td></tr></table></td><td><table class=\"inner\"><tr><td></td><td></td></tr><tr><td></td><td>0</td></tr></table></td><td><table class=\"inner\"><tr><td></td><td><img src=\"up.png\" height=\"9\" width=\"9\" /></td></tr><tr><td></td><td>1</td></tr></table></td><td><table class=\"inner\"><tr><td><img src=\"upleft.png\" height=\"42\" width=\"9\" /></td><td></td></tr><tr><td></td><td>4</td></tr></table></td><td><table class=\"inner\"><tr><td></td><td></td></tr><tr><td><img src=\"left.png\" height=\"9\" width=\"9\" /></td><td>0</td></tr></table></td><td><table class=\"inner\"><tr><td></td><td></td></tr><tr><td></td><td>0</td></tr></table></td><td><table class=\"inner\"><tr><td></td><td></td></tr><tr><td></td><td>0</td></tr></table></td><td><table class=\"inner\"><tr><td><img src=\"upleft.png\" height=\"42\" width=\"9\" /></td><td></td></tr><tr><td></td><td>0</td></tr></table></td><td><table class=\"inner\"><tr><td></td><td></td></tr><tr><td></td><td>0</td></tr></table></td><td><table class=\"inner\"><tr><td><img src=\"upleft.png\" height=\"42\" width=\"9\" /></td><td></td></tr><tr><td></td><td>2</td></tr></table></td></tr></table>"
      ],
      "text/plain": [
       "<IPython.core.display.HTML object>"
      ]
     },
     "metadata": {},
     "output_type": "display_data"
    },
    {
     "name": "stdout",
     "output_type": "stream",
     "text": [
      "Solution #1:\n"
     ]
    },
    {
     "data": {
      "text/html": [
       "<table class=\"inner\"><tr><td>T</td><td>H</td><td>I</td><td>S</td><td>L</td><td bgcolor=\"#00FF11\"><b>I</b></td><td bgcolor=\"#00FF11\"><b>N</b></td></tr><tr><td></td><td></td><td></td><td></td><td></td><td>|</td><td>|</td></tr><tr><td>-</td><td>-</td><td>-</td><td>-</td><td>-</td><td bgcolor=\"#00FF11\"><b>I</b></td><td bgcolor=\"#00FF11\"><b>S</b></td></tr></table>"
      ],
      "text/plain": [
       "<IPython.core.display.HTML object>"
      ]
     },
     "metadata": {},
     "output_type": "display_data"
    }
   ],
   "source": [
    "x = 'THISLINE'\n",
    "y = 'ISALIGNED'\n",
    "k = 3\n",
    "local_count = 2 # How many local solution we want\n",
    "\n",
    "# True to disable rendering of table (can solve lag issues)\n",
    "large_matrice = False\n",
    "\n",
    "filename = 'BLOSUM62'\n",
    "q = parse_ranking_matrix(filename)\n",
    "\n",
    "# Use same values for both of those variables to have a linear gap penalty\n",
    "i_gap_penalty = -4\n",
    "e_gap_penalty = -4\n",
    "\n",
    "init_data_structures()\n",
    "\n",
    "for _ in range(local_count):\n",
    "    reset_optimal()\n",
    "    compute_dp_matrix(local_alignement=True)\n",
    "    \n",
    "    l_solutions = find_k_solutions(k, local_alignement=True)\n",
    "    \n",
    "    solution = l_solutions[0]\n",
    "    \n",
    "    for i, j in solution:\n",
    "        to_zero[i][j] = True"
   ]
  },
  {
   "cell_type": "markdown",
   "metadata": {},
   "source": [
    "## Results"
   ]
  },
  {
   "cell_type": "code",
   "execution_count": 189,
   "metadata": {
    "collapsed": false
   },
   "outputs": [
    {
     "name": "stdout",
     "output_type": "stream",
     "text": [
      "Test #1: x: VPLPAGWEMAKTSSGQRYFLNHIDQTTTWQDPRK, y: SPLPPGWEERQDILGRTYYVNHESRRTQWKRPTP\n",
      "Solution #1:\n"
     ]
    },
    {
     "data": {
      "text/html": [
       "<table class=\"inner\"><tr><td bgcolor=\"#00FF11\"><b>V</b></td><td bgcolor=\"#00FF11\"><b>P</b></td><td bgcolor=\"#00FF11\"><b>L</b></td><td bgcolor=\"#00FF11\"><b>P</b></td><td bgcolor=\"#00FF11\"><b>A</b></td><td bgcolor=\"#00FF11\"><b>G</b></td><td bgcolor=\"#00FF11\"><b>W</b></td><td bgcolor=\"#00FF11\"><b>E</b></td><td bgcolor=\"#00FF11\"><b>M</b></td><td bgcolor=\"#00FF11\"><b>A</b></td><td bgcolor=\"#00FF11\"><b>K</b></td><td bgcolor=\"#00FF11\"><b>T</b></td><td bgcolor=\"#00FF11\"><b>S</b></td><td bgcolor=\"#00FF11\"><b>S</b></td><td bgcolor=\"#00FF11\"><b>G</b></td><td bgcolor=\"#00FF11\"><b>Q</b></td><td bgcolor=\"#00FF11\"><b>R</b></td><td bgcolor=\"#00FF11\"><b>Y</b></td><td bgcolor=\"#00FF11\"><b>F</b></td><td bgcolor=\"#00FF11\"><b>L</b></td><td bgcolor=\"#00FF11\"><b>N</b></td><td bgcolor=\"#00FF11\"><b>H</b></td><td bgcolor=\"#00FF11\"><b>I</b></td><td bgcolor=\"#00FF11\"><b>D</b></td><td bgcolor=\"#00FF11\"><b>Q</b></td><td bgcolor=\"#00FF11\"><b>T</b></td><td bgcolor=\"#00FF11\"><b>T</b></td><td bgcolor=\"#00FF11\"><b>T</b></td><td bgcolor=\"#00FF11\"><b>W</b></td><td bgcolor=\"#00FF11\"><b>Q</b></td><td bgcolor=\"#00FF11\"><b>D</b></td><td bgcolor=\"#00FF11\"><b>P</b></td><td bgcolor=\"#00FF11\"><b>R</b></td><td bgcolor=\"#00FF11\"><b>K</b></td></tr><tr><td>|</td><td>|</td><td>|</td><td>|</td><td>|</td><td>|</td><td>|</td><td>|</td><td>|</td><td>|</td><td>|</td><td>|</td><td>|</td><td>|</td><td>|</td><td>|</td><td>|</td><td>|</td><td>|</td><td>|</td><td>|</td><td>|</td><td>|</td><td>|</td><td>|</td><td>|</td><td>|</td><td>|</td><td>|</td><td>|</td><td>|</td><td>|</td><td>|</td><td>|</td></tr><tr><td bgcolor=\"#00FF11\"><b>S</b></td><td bgcolor=\"#00FF11\"><b>P</b></td><td bgcolor=\"#00FF11\"><b>L</b></td><td bgcolor=\"#00FF11\"><b>P</b></td><td bgcolor=\"#00FF11\"><b>P</b></td><td bgcolor=\"#00FF11\"><b>G</b></td><td bgcolor=\"#00FF11\"><b>W</b></td><td bgcolor=\"#00FF11\"><b>E</b></td><td bgcolor=\"#00FF11\"><b>E</b></td><td bgcolor=\"#00FF11\"><b>R</b></td><td bgcolor=\"#00FF11\"><b>Q</b></td><td bgcolor=\"#00FF11\"><b>D</b></td><td bgcolor=\"#00FF11\"><b>I</b></td><td bgcolor=\"#00FF11\"><b>L</b></td><td bgcolor=\"#00FF11\"><b>G</b></td><td bgcolor=\"#00FF11\"><b>R</b></td><td bgcolor=\"#00FF11\"><b>T</b></td><td bgcolor=\"#00FF11\"><b>Y</b></td><td bgcolor=\"#00FF11\"><b>Y</b></td><td bgcolor=\"#00FF11\"><b>V</b></td><td bgcolor=\"#00FF11\"><b>N</b></td><td bgcolor=\"#00FF11\"><b>H</b></td><td bgcolor=\"#00FF11\"><b>E</b></td><td bgcolor=\"#00FF11\"><b>S</b></td><td bgcolor=\"#00FF11\"><b>R</b></td><td bgcolor=\"#00FF11\"><b>R</b></td><td bgcolor=\"#00FF11\"><b>T</b></td><td bgcolor=\"#00FF11\"><b>Q</b></td><td bgcolor=\"#00FF11\"><b>W</b></td><td bgcolor=\"#00FF11\"><b>K</b></td><td bgcolor=\"#00FF11\"><b>R</b></td><td bgcolor=\"#00FF11\"><b>P</b></td><td bgcolor=\"#00FF11\"><b>T</b></td><td bgcolor=\"#00FF11\"><b>P</b></td></tr></table>"
      ],
      "text/plain": [
       "<IPython.core.display.HTML object>"
      ]
     },
     "metadata": {},
     "output_type": "display_data"
    },
    {
     "name": "stdout",
     "output_type": "stream",
     "text": [
      "Test #2: x: VPLPAGWEMAKTSSGQRYFLNHIDQTTTWQDPRK, y: GPLPPGWEERTHTDGRIFYINHNIKRTQWEDPRL\n",
      "Solution #1:\n"
     ]
    },
    {
     "data": {
      "text/html": [
       "<table class=\"inner\"><tr><td bgcolor=\"#00FF11\"><b>V</b></td><td bgcolor=\"#00FF11\"><b>P</b></td><td bgcolor=\"#00FF11\"><b>L</b></td><td bgcolor=\"#00FF11\"><b>P</b></td><td bgcolor=\"#00FF11\"><b>A</b></td><td bgcolor=\"#00FF11\"><b>G</b></td><td bgcolor=\"#00FF11\"><b>W</b></td><td bgcolor=\"#00FF11\"><b>E</b></td><td bgcolor=\"#00FF11\"><b>M</b></td><td bgcolor=\"#00FF11\"><b>A</b></td><td bgcolor=\"#00FF11\"><b>K</b></td><td bgcolor=\"#00FF11\"><b>T</b></td><td bgcolor=\"#00FF11\"><b>S</b></td><td bgcolor=\"#00FF11\"><b>S</b></td><td bgcolor=\"#00FF11\"><b>G</b></td><td bgcolor=\"#00FF11\"><b>Q</b></td><td bgcolor=\"#00FF11\"><b>R</b></td><td bgcolor=\"#00FF11\"><b>Y</b></td><td bgcolor=\"#00FF11\"><b>F</b></td><td bgcolor=\"#00FF11\"><b>L</b></td><td bgcolor=\"#00FF11\"><b>N</b></td><td bgcolor=\"#00FF11\"><b>H</b></td><td bgcolor=\"#00FF11\"><b>I</b></td><td bgcolor=\"#00FF11\"><b>D</b></td><td bgcolor=\"#00FF11\"><b>Q</b></td><td bgcolor=\"#00FF11\"><b>T</b></td><td bgcolor=\"#00FF11\"><b>T</b></td><td bgcolor=\"#00FF11\"><b>T</b></td><td bgcolor=\"#00FF11\"><b>W</b></td><td bgcolor=\"#00FF11\"><b>Q</b></td><td bgcolor=\"#00FF11\"><b>D</b></td><td bgcolor=\"#00FF11\"><b>P</b></td><td bgcolor=\"#00FF11\"><b>R</b></td><td bgcolor=\"#00FF11\"><b>K</b></td></tr><tr><td>|</td><td>|</td><td>|</td><td>|</td><td>|</td><td>|</td><td>|</td><td>|</td><td>|</td><td>|</td><td>|</td><td>|</td><td>|</td><td>|</td><td>|</td><td>|</td><td>|</td><td>|</td><td>|</td><td>|</td><td>|</td><td>|</td><td>|</td><td>|</td><td>|</td><td>|</td><td>|</td><td>|</td><td>|</td><td>|</td><td>|</td><td>|</td><td>|</td><td>|</td></tr><tr><td bgcolor=\"#00FF11\"><b>G</b></td><td bgcolor=\"#00FF11\"><b>P</b></td><td bgcolor=\"#00FF11\"><b>L</b></td><td bgcolor=\"#00FF11\"><b>P</b></td><td bgcolor=\"#00FF11\"><b>P</b></td><td bgcolor=\"#00FF11\"><b>G</b></td><td bgcolor=\"#00FF11\"><b>W</b></td><td bgcolor=\"#00FF11\"><b>E</b></td><td bgcolor=\"#00FF11\"><b>E</b></td><td bgcolor=\"#00FF11\"><b>R</b></td><td bgcolor=\"#00FF11\"><b>T</b></td><td bgcolor=\"#00FF11\"><b>H</b></td><td bgcolor=\"#00FF11\"><b>T</b></td><td bgcolor=\"#00FF11\"><b>D</b></td><td bgcolor=\"#00FF11\"><b>G</b></td><td bgcolor=\"#00FF11\"><b>R</b></td><td bgcolor=\"#00FF11\"><b>I</b></td><td bgcolor=\"#00FF11\"><b>F</b></td><td bgcolor=\"#00FF11\"><b>Y</b></td><td bgcolor=\"#00FF11\"><b>I</b></td><td bgcolor=\"#00FF11\"><b>N</b></td><td bgcolor=\"#00FF11\"><b>H</b></td><td bgcolor=\"#00FF11\"><b>N</b></td><td bgcolor=\"#00FF11\"><b>I</b></td><td bgcolor=\"#00FF11\"><b>K</b></td><td bgcolor=\"#00FF11\"><b>R</b></td><td bgcolor=\"#00FF11\"><b>T</b></td><td bgcolor=\"#00FF11\"><b>Q</b></td><td bgcolor=\"#00FF11\"><b>W</b></td><td bgcolor=\"#00FF11\"><b>E</b></td><td bgcolor=\"#00FF11\"><b>D</b></td><td bgcolor=\"#00FF11\"><b>P</b></td><td bgcolor=\"#00FF11\"><b>R</b></td><td bgcolor=\"#00FF11\"><b>L</b></td></tr></table>"
      ],
      "text/plain": [
       "<IPython.core.display.HTML object>"
      ]
     },
     "metadata": {},
     "output_type": "display_data"
    },
    {
     "name": "stdout",
     "output_type": "stream",
     "text": [
      "Test #3: x: VPLPAGWEMAKTSSGQRYFLNHIDQTTTWQDPRK, y: EKLPPGWEKRMSRSSGRVYYFNHITNASQWERPSG\n",
      "Solution #1:\n"
     ]
    },
    {
     "data": {
      "text/html": [
       "<table class=\"inner\"><tr><td bgcolor=\"#00FF11\"><b>V</b></td><td bgcolor=\"#00FF11\"><b>P</b></td><td bgcolor=\"#00FF11\"><b>L</b></td><td bgcolor=\"#00FF11\"><b>P</b></td><td bgcolor=\"#00FF11\"><b>A</b></td><td bgcolor=\"#00FF11\"><b>G</b></td><td bgcolor=\"#00FF11\"><b>W</b></td><td bgcolor=\"#00FF11\"><b>E</b></td><td bgcolor=\"#00FF11\"><b>M</b></td><td bgcolor=\"#00FF11\"><b>A</b></td><td bgcolor=\"#00FF11\"><b>K</b></td><td bgcolor=\"#00FF11\"><b>T</b></td><td>-</td><td bgcolor=\"#00FF11\"><b>S</b></td><td bgcolor=\"#00FF11\"><b>S</b></td><td bgcolor=\"#00FF11\"><b>G</b></td><td bgcolor=\"#00FF11\"><b>Q</b></td><td bgcolor=\"#00FF11\"><b>R</b></td><td bgcolor=\"#00FF11\"><b>Y</b></td><td bgcolor=\"#00FF11\"><b>F</b></td><td bgcolor=\"#00FF11\"><b>L</b></td><td bgcolor=\"#00FF11\"><b>N</b></td><td bgcolor=\"#00FF11\"><b>H</b></td><td bgcolor=\"#00FF11\"><b>I</b></td><td bgcolor=\"#00FF11\"><b>D</b></td><td bgcolor=\"#00FF11\"><b>Q</b></td><td bgcolor=\"#00FF11\"><b>T</b></td><td bgcolor=\"#00FF11\"><b>T</b></td><td bgcolor=\"#00FF11\"><b>T</b></td><td bgcolor=\"#00FF11\"><b>W</b></td><td bgcolor=\"#00FF11\"><b>Q</b></td><td bgcolor=\"#00FF11\"><b>D</b></td><td bgcolor=\"#00FF11\"><b>P</b></td><td bgcolor=\"#00FF11\"><b>R</b></td><td bgcolor=\"#00FF11\"><b>K</b></td></tr><tr><td>|</td><td>|</td><td>|</td><td>|</td><td>|</td><td>|</td><td>|</td><td>|</td><td>|</td><td>|</td><td>|</td><td>|</td><td></td><td>|</td><td>|</td><td>|</td><td>|</td><td>|</td><td>|</td><td>|</td><td>|</td><td>|</td><td>|</td><td>|</td><td>|</td><td>|</td><td>|</td><td>|</td><td>|</td><td>|</td><td>|</td><td>|</td><td>|</td><td>|</td><td>|</td></tr><tr><td bgcolor=\"#00FF11\"><b>E</b></td><td bgcolor=\"#00FF11\"><b>K</b></td><td bgcolor=\"#00FF11\"><b>L</b></td><td bgcolor=\"#00FF11\"><b>P</b></td><td bgcolor=\"#00FF11\"><b>P</b></td><td bgcolor=\"#00FF11\"><b>G</b></td><td bgcolor=\"#00FF11\"><b>W</b></td><td bgcolor=\"#00FF11\"><b>E</b></td><td bgcolor=\"#00FF11\"><b>K</b></td><td bgcolor=\"#00FF11\"><b>R</b></td><td bgcolor=\"#00FF11\"><b>M</b></td><td bgcolor=\"#00FF11\"><b>S</b></td><td>R</td><td bgcolor=\"#00FF11\"><b>S</b></td><td bgcolor=\"#00FF11\"><b>S</b></td><td bgcolor=\"#00FF11\"><b>G</b></td><td bgcolor=\"#00FF11\"><b>R</b></td><td bgcolor=\"#00FF11\"><b>V</b></td><td bgcolor=\"#00FF11\"><b>Y</b></td><td bgcolor=\"#00FF11\"><b>Y</b></td><td bgcolor=\"#00FF11\"><b>F</b></td><td bgcolor=\"#00FF11\"><b>N</b></td><td bgcolor=\"#00FF11\"><b>H</b></td><td bgcolor=\"#00FF11\"><b>I</b></td><td bgcolor=\"#00FF11\"><b>T</b></td><td bgcolor=\"#00FF11\"><b>N</b></td><td bgcolor=\"#00FF11\"><b>A</b></td><td bgcolor=\"#00FF11\"><b>S</b></td><td bgcolor=\"#00FF11\"><b>Q</b></td><td bgcolor=\"#00FF11\"><b>W</b></td><td bgcolor=\"#00FF11\"><b>E</b></td><td bgcolor=\"#00FF11\"><b>R</b></td><td bgcolor=\"#00FF11\"><b>P</b></td><td bgcolor=\"#00FF11\"><b>S</b></td><td bgcolor=\"#00FF11\"><b>G</b></td></tr></table>"
      ],
      "text/plain": [
       "<IPython.core.display.HTML object>"
      ]
     },
     "metadata": {},
     "output_type": "display_data"
    },
    {
     "name": "stdout",
     "output_type": "stream",
     "text": [
      "Test #4: x: VPLPAGWEMAKTSSGQRYFLNHIDQTTTWQDPRK, y: SGAKSMWTEHKSPDGRTYYYNTETKQSTWEKPDD\n",
      "Solution #1:\n"
     ]
    },
    {
     "data": {
      "text/html": [
       "<table class=\"inner\"><tr><td bgcolor=\"#00FF11\"><b>V</b></td><td bgcolor=\"#00FF11\"><b>P</b></td><td bgcolor=\"#00FF11\"><b>L</b></td><td bgcolor=\"#00FF11\"><b>P</b></td><td bgcolor=\"#00FF11\"><b>A</b></td><td bgcolor=\"#00FF11\"><b>G</b></td><td bgcolor=\"#00FF11\"><b>W</b></td><td bgcolor=\"#00FF11\"><b>E</b></td><td bgcolor=\"#00FF11\"><b>M</b></td><td bgcolor=\"#00FF11\"><b>A</b></td><td bgcolor=\"#00FF11\"><b>K</b></td><td bgcolor=\"#00FF11\"><b>T</b></td><td bgcolor=\"#00FF11\"><b>S</b></td><td bgcolor=\"#00FF11\"><b>S</b></td><td bgcolor=\"#00FF11\"><b>G</b></td><td bgcolor=\"#00FF11\"><b>Q</b></td><td bgcolor=\"#00FF11\"><b>R</b></td><td bgcolor=\"#00FF11\"><b>Y</b></td><td bgcolor=\"#00FF11\"><b>F</b></td><td bgcolor=\"#00FF11\"><b>L</b></td><td bgcolor=\"#00FF11\"><b>N</b></td><td bgcolor=\"#00FF11\"><b>H</b></td><td bgcolor=\"#00FF11\"><b>I</b></td><td bgcolor=\"#00FF11\"><b>D</b></td><td bgcolor=\"#00FF11\"><b>Q</b></td><td bgcolor=\"#00FF11\"><b>T</b></td><td bgcolor=\"#00FF11\"><b>T</b></td><td bgcolor=\"#00FF11\"><b>T</b></td><td bgcolor=\"#00FF11\"><b>W</b></td><td bgcolor=\"#00FF11\"><b>Q</b></td><td bgcolor=\"#00FF11\"><b>D</b></td><td bgcolor=\"#00FF11\"><b>P</b></td><td bgcolor=\"#00FF11\"><b>R</b></td><td bgcolor=\"#00FF11\"><b>K</b></td></tr><tr><td>|</td><td>|</td><td>|</td><td>|</td><td>|</td><td>|</td><td>|</td><td>|</td><td>|</td><td>|</td><td>|</td><td>|</td><td>|</td><td>|</td><td>|</td><td>|</td><td>|</td><td>|</td><td>|</td><td>|</td><td>|</td><td>|</td><td>|</td><td>|</td><td>|</td><td>|</td><td>|</td><td>|</td><td>|</td><td>|</td><td>|</td><td>|</td><td>|</td><td>|</td></tr><tr><td bgcolor=\"#00FF11\"><b>S</b></td><td bgcolor=\"#00FF11\"><b>G</b></td><td bgcolor=\"#00FF11\"><b>A</b></td><td bgcolor=\"#00FF11\"><b>K</b></td><td bgcolor=\"#00FF11\"><b>S</b></td><td bgcolor=\"#00FF11\"><b>M</b></td><td bgcolor=\"#00FF11\"><b>W</b></td><td bgcolor=\"#00FF11\"><b>T</b></td><td bgcolor=\"#00FF11\"><b>E</b></td><td bgcolor=\"#00FF11\"><b>H</b></td><td bgcolor=\"#00FF11\"><b>K</b></td><td bgcolor=\"#00FF11\"><b>S</b></td><td bgcolor=\"#00FF11\"><b>P</b></td><td bgcolor=\"#00FF11\"><b>D</b></td><td bgcolor=\"#00FF11\"><b>G</b></td><td bgcolor=\"#00FF11\"><b>R</b></td><td bgcolor=\"#00FF11\"><b>T</b></td><td bgcolor=\"#00FF11\"><b>Y</b></td><td bgcolor=\"#00FF11\"><b>Y</b></td><td bgcolor=\"#00FF11\"><b>Y</b></td><td bgcolor=\"#00FF11\"><b>N</b></td><td bgcolor=\"#00FF11\"><b>T</b></td><td bgcolor=\"#00FF11\"><b>E</b></td><td bgcolor=\"#00FF11\"><b>T</b></td><td bgcolor=\"#00FF11\"><b>K</b></td><td bgcolor=\"#00FF11\"><b>Q</b></td><td bgcolor=\"#00FF11\"><b>S</b></td><td bgcolor=\"#00FF11\"><b>T</b></td><td bgcolor=\"#00FF11\"><b>W</b></td><td bgcolor=\"#00FF11\"><b>E</b></td><td bgcolor=\"#00FF11\"><b>K</b></td><td bgcolor=\"#00FF11\"><b>P</b></td><td bgcolor=\"#00FF11\"><b>D</b></td><td bgcolor=\"#00FF11\"><b>D</b></td></tr></table>"
      ],
      "text/plain": [
       "<IPython.core.display.HTML object>"
      ]
     },
     "metadata": {},
     "output_type": "display_data"
    },
    {
     "name": "stdout",
     "output_type": "stream",
     "text": [
      "Test #5: x: VPLPAGWEMAKTSSGQRYFLNHIDQTTTWQDPRK, y: LLSKCPWKEYKSDSGKPYYYNSQTKESRWAKPKE\n",
      "Solution #1:\n"
     ]
    },
    {
     "data": {
      "text/html": [
       "<table class=\"inner\"><tr><td bgcolor=\"#00FF11\"><b>V</b></td><td bgcolor=\"#00FF11\"><b>P</b></td><td bgcolor=\"#00FF11\"><b>L</b></td><td bgcolor=\"#00FF11\"><b>P</b></td><td bgcolor=\"#00FF11\"><b>A</b></td><td bgcolor=\"#00FF11\"><b>G</b></td><td bgcolor=\"#00FF11\"><b>W</b></td><td bgcolor=\"#00FF11\"><b>E</b></td><td bgcolor=\"#00FF11\"><b>M</b></td><td bgcolor=\"#00FF11\"><b>A</b></td><td bgcolor=\"#00FF11\"><b>K</b></td><td bgcolor=\"#00FF11\"><b>T</b></td><td bgcolor=\"#00FF11\"><b>S</b></td><td bgcolor=\"#00FF11\"><b>S</b></td><td bgcolor=\"#00FF11\"><b>G</b></td><td bgcolor=\"#00FF11\"><b>Q</b></td><td bgcolor=\"#00FF11\"><b>R</b></td><td bgcolor=\"#00FF11\"><b>Y</b></td><td bgcolor=\"#00FF11\"><b>F</b></td><td bgcolor=\"#00FF11\"><b>L</b></td><td bgcolor=\"#00FF11\"><b>N</b></td><td bgcolor=\"#00FF11\"><b>H</b></td><td bgcolor=\"#00FF11\"><b>I</b></td><td bgcolor=\"#00FF11\"><b>D</b></td><td bgcolor=\"#00FF11\"><b>Q</b></td><td bgcolor=\"#00FF11\"><b>T</b></td><td bgcolor=\"#00FF11\"><b>T</b></td><td bgcolor=\"#00FF11\"><b>T</b></td><td bgcolor=\"#00FF11\"><b>W</b></td><td bgcolor=\"#00FF11\"><b>Q</b></td><td bgcolor=\"#00FF11\"><b>D</b></td><td bgcolor=\"#00FF11\"><b>P</b></td><td bgcolor=\"#00FF11\"><b>R</b></td><td bgcolor=\"#00FF11\"><b>K</b></td></tr><tr><td>|</td><td>|</td><td>|</td><td>|</td><td>|</td><td>|</td><td>|</td><td>|</td><td>|</td><td>|</td><td>|</td><td>|</td><td>|</td><td>|</td><td>|</td><td>|</td><td>|</td><td>|</td><td>|</td><td>|</td><td>|</td><td>|</td><td>|</td><td>|</td><td>|</td><td>|</td><td>|</td><td>|</td><td>|</td><td>|</td><td>|</td><td>|</td><td>|</td><td>|</td></tr><tr><td bgcolor=\"#00FF11\"><b>L</b></td><td bgcolor=\"#00FF11\"><b>L</b></td><td bgcolor=\"#00FF11\"><b>S</b></td><td bgcolor=\"#00FF11\"><b>K</b></td><td bgcolor=\"#00FF11\"><b>C</b></td><td bgcolor=\"#00FF11\"><b>P</b></td><td bgcolor=\"#00FF11\"><b>W</b></td><td bgcolor=\"#00FF11\"><b>K</b></td><td bgcolor=\"#00FF11\"><b>E</b></td><td bgcolor=\"#00FF11\"><b>Y</b></td><td bgcolor=\"#00FF11\"><b>K</b></td><td bgcolor=\"#00FF11\"><b>S</b></td><td bgcolor=\"#00FF11\"><b>D</b></td><td bgcolor=\"#00FF11\"><b>S</b></td><td bgcolor=\"#00FF11\"><b>G</b></td><td bgcolor=\"#00FF11\"><b>K</b></td><td bgcolor=\"#00FF11\"><b>P</b></td><td bgcolor=\"#00FF11\"><b>Y</b></td><td bgcolor=\"#00FF11\"><b>Y</b></td><td bgcolor=\"#00FF11\"><b>Y</b></td><td bgcolor=\"#00FF11\"><b>N</b></td><td bgcolor=\"#00FF11\"><b>S</b></td><td bgcolor=\"#00FF11\"><b>Q</b></td><td bgcolor=\"#00FF11\"><b>T</b></td><td bgcolor=\"#00FF11\"><b>K</b></td><td bgcolor=\"#00FF11\"><b>E</b></td><td bgcolor=\"#00FF11\"><b>S</b></td><td bgcolor=\"#00FF11\"><b>R</b></td><td bgcolor=\"#00FF11\"><b>W</b></td><td bgcolor=\"#00FF11\"><b>A</b></td><td bgcolor=\"#00FF11\"><b>K</b></td><td bgcolor=\"#00FF11\"><b>P</b></td><td bgcolor=\"#00FF11\"><b>K</b></td><td bgcolor=\"#00FF11\"><b>E</b></td></tr></table>"
      ],
      "text/plain": [
       "<IPython.core.display.HTML object>"
      ]
     },
     "metadata": {},
     "output_type": "display_data"
    },
    {
     "name": "stdout",
     "output_type": "stream",
     "text": [
      "Test #6: x: SPLPPGWEERQDILGRTYYVNHESRRTQWKRPTP, y: GPLPPGWEERTHTDGRIFYINHNIKRTQWEDPRL\n",
      "Solution #1:\n"
     ]
    },
    {
     "data": {
      "text/html": [
       "<table class=\"inner\"><tr><td bgcolor=\"#00FF11\"><b>S</b></td><td bgcolor=\"#00FF11\"><b>P</b></td><td bgcolor=\"#00FF11\"><b>L</b></td><td bgcolor=\"#00FF11\"><b>P</b></td><td bgcolor=\"#00FF11\"><b>P</b></td><td bgcolor=\"#00FF11\"><b>G</b></td><td bgcolor=\"#00FF11\"><b>W</b></td><td bgcolor=\"#00FF11\"><b>E</b></td><td bgcolor=\"#00FF11\"><b>E</b></td><td bgcolor=\"#00FF11\"><b>R</b></td><td bgcolor=\"#00FF11\"><b>Q</b></td><td bgcolor=\"#00FF11\"><b>D</b></td><td bgcolor=\"#00FF11\"><b>I</b></td><td bgcolor=\"#00FF11\"><b>L</b></td><td bgcolor=\"#00FF11\"><b>G</b></td><td bgcolor=\"#00FF11\"><b>R</b></td><td bgcolor=\"#00FF11\"><b>T</b></td><td bgcolor=\"#00FF11\"><b>Y</b></td><td bgcolor=\"#00FF11\"><b>Y</b></td><td bgcolor=\"#00FF11\"><b>V</b></td><td bgcolor=\"#00FF11\"><b>N</b></td><td bgcolor=\"#00FF11\"><b>H</b></td><td bgcolor=\"#00FF11\"><b>E</b></td><td bgcolor=\"#00FF11\"><b>S</b></td><td bgcolor=\"#00FF11\"><b>R</b></td><td bgcolor=\"#00FF11\"><b>R</b></td><td bgcolor=\"#00FF11\"><b>T</b></td><td bgcolor=\"#00FF11\"><b>Q</b></td><td bgcolor=\"#00FF11\"><b>W</b></td><td bgcolor=\"#00FF11\"><b>K</b></td><td bgcolor=\"#00FF11\"><b>R</b></td><td bgcolor=\"#00FF11\"><b>P</b></td><td bgcolor=\"#00FF11\"><b>T</b></td><td bgcolor=\"#00FF11\"><b>P</b></td></tr><tr><td>|</td><td>|</td><td>|</td><td>|</td><td>|</td><td>|</td><td>|</td><td>|</td><td>|</td><td>|</td><td>|</td><td>|</td><td>|</td><td>|</td><td>|</td><td>|</td><td>|</td><td>|</td><td>|</td><td>|</td><td>|</td><td>|</td><td>|</td><td>|</td><td>|</td><td>|</td><td>|</td><td>|</td><td>|</td><td>|</td><td>|</td><td>|</td><td>|</td><td>|</td></tr><tr><td bgcolor=\"#00FF11\"><b>G</b></td><td bgcolor=\"#00FF11\"><b>P</b></td><td bgcolor=\"#00FF11\"><b>L</b></td><td bgcolor=\"#00FF11\"><b>P</b></td><td bgcolor=\"#00FF11\"><b>P</b></td><td bgcolor=\"#00FF11\"><b>G</b></td><td bgcolor=\"#00FF11\"><b>W</b></td><td bgcolor=\"#00FF11\"><b>E</b></td><td bgcolor=\"#00FF11\"><b>E</b></td><td bgcolor=\"#00FF11\"><b>R</b></td><td bgcolor=\"#00FF11\"><b>T</b></td><td bgcolor=\"#00FF11\"><b>H</b></td><td bgcolor=\"#00FF11\"><b>T</b></td><td bgcolor=\"#00FF11\"><b>D</b></td><td bgcolor=\"#00FF11\"><b>G</b></td><td bgcolor=\"#00FF11\"><b>R</b></td><td bgcolor=\"#00FF11\"><b>I</b></td><td bgcolor=\"#00FF11\"><b>F</b></td><td bgcolor=\"#00FF11\"><b>Y</b></td><td bgcolor=\"#00FF11\"><b>I</b></td><td bgcolor=\"#00FF11\"><b>N</b></td><td bgcolor=\"#00FF11\"><b>H</b></td><td bgcolor=\"#00FF11\"><b>N</b></td><td bgcolor=\"#00FF11\"><b>I</b></td><td bgcolor=\"#00FF11\"><b>K</b></td><td bgcolor=\"#00FF11\"><b>R</b></td><td bgcolor=\"#00FF11\"><b>T</b></td><td bgcolor=\"#00FF11\"><b>Q</b></td><td bgcolor=\"#00FF11\"><b>W</b></td><td bgcolor=\"#00FF11\"><b>E</b></td><td bgcolor=\"#00FF11\"><b>D</b></td><td bgcolor=\"#00FF11\"><b>P</b></td><td bgcolor=\"#00FF11\"><b>R</b></td><td bgcolor=\"#00FF11\"><b>L</b></td></tr></table>"
      ],
      "text/plain": [
       "<IPython.core.display.HTML object>"
      ]
     },
     "metadata": {},
     "output_type": "display_data"
    },
    {
     "name": "stdout",
     "output_type": "stream",
     "text": [
      "Test #7: x: SPLPPGWEERQDILGRTYYVNHESRRTQWKRPTP, y: EKLPPGWEKRMSRSSGRVYYFNHITNASQWERPSG\n",
      "Solution #1:\n"
     ]
    },
    {
     "data": {
      "text/html": [
       "<table class=\"inner\"><tr><td bgcolor=\"#00FF11\"><b>S</b></td><td bgcolor=\"#00FF11\"><b>P</b></td><td bgcolor=\"#00FF11\"><b>L</b></td><td bgcolor=\"#00FF11\"><b>P</b></td><td bgcolor=\"#00FF11\"><b>P</b></td><td bgcolor=\"#00FF11\"><b>G</b></td><td bgcolor=\"#00FF11\"><b>W</b></td><td bgcolor=\"#00FF11\"><b>E</b></td><td bgcolor=\"#00FF11\"><b>E</b></td><td bgcolor=\"#00FF11\"><b>R</b></td><td bgcolor=\"#00FF11\"><b>Q</b></td><td bgcolor=\"#00FF11\"><b>D</b></td><td>-</td><td bgcolor=\"#00FF11\"><b>I</b></td><td bgcolor=\"#00FF11\"><b>L</b></td><td bgcolor=\"#00FF11\"><b>G</b></td><td bgcolor=\"#00FF11\"><b>R</b></td><td bgcolor=\"#00FF11\"><b>T</b></td><td bgcolor=\"#00FF11\"><b>Y</b></td><td bgcolor=\"#00FF11\"><b>Y</b></td><td bgcolor=\"#00FF11\"><b>V</b></td><td bgcolor=\"#00FF11\"><b>N</b></td><td bgcolor=\"#00FF11\"><b>H</b></td><td bgcolor=\"#00FF11\"><b>E</b></td><td bgcolor=\"#00FF11\"><b>S</b></td><td bgcolor=\"#00FF11\"><b>R</b></td><td bgcolor=\"#00FF11\"><b>R</b></td><td bgcolor=\"#00FF11\"><b>T</b></td><td bgcolor=\"#00FF11\"><b>Q</b></td><td bgcolor=\"#00FF11\"><b>W</b></td><td bgcolor=\"#00FF11\"><b>K</b></td><td bgcolor=\"#00FF11\"><b>R</b></td><td bgcolor=\"#00FF11\"><b>P</b></td><td bgcolor=\"#00FF11\"><b>T</b></td><td bgcolor=\"#00FF11\"><b>P</b></td></tr><tr><td>|</td><td>|</td><td>|</td><td>|</td><td>|</td><td>|</td><td>|</td><td>|</td><td>|</td><td>|</td><td>|</td><td>|</td><td></td><td>|</td><td>|</td><td>|</td><td>|</td><td>|</td><td>|</td><td>|</td><td>|</td><td>|</td><td>|</td><td>|</td><td>|</td><td>|</td><td>|</td><td>|</td><td>|</td><td>|</td><td>|</td><td>|</td><td>|</td><td>|</td><td>|</td></tr><tr><td bgcolor=\"#00FF11\"><b>E</b></td><td bgcolor=\"#00FF11\"><b>K</b></td><td bgcolor=\"#00FF11\"><b>L</b></td><td bgcolor=\"#00FF11\"><b>P</b></td><td bgcolor=\"#00FF11\"><b>P</b></td><td bgcolor=\"#00FF11\"><b>G</b></td><td bgcolor=\"#00FF11\"><b>W</b></td><td bgcolor=\"#00FF11\"><b>E</b></td><td bgcolor=\"#00FF11\"><b>K</b></td><td bgcolor=\"#00FF11\"><b>R</b></td><td bgcolor=\"#00FF11\"><b>M</b></td><td bgcolor=\"#00FF11\"><b>S</b></td><td>R</td><td bgcolor=\"#00FF11\"><b>S</b></td><td bgcolor=\"#00FF11\"><b>S</b></td><td bgcolor=\"#00FF11\"><b>G</b></td><td bgcolor=\"#00FF11\"><b>R</b></td><td bgcolor=\"#00FF11\"><b>V</b></td><td bgcolor=\"#00FF11\"><b>Y</b></td><td bgcolor=\"#00FF11\"><b>Y</b></td><td bgcolor=\"#00FF11\"><b>F</b></td><td bgcolor=\"#00FF11\"><b>N</b></td><td bgcolor=\"#00FF11\"><b>H</b></td><td bgcolor=\"#00FF11\"><b>I</b></td><td bgcolor=\"#00FF11\"><b>T</b></td><td bgcolor=\"#00FF11\"><b>N</b></td><td bgcolor=\"#00FF11\"><b>A</b></td><td bgcolor=\"#00FF11\"><b>S</b></td><td bgcolor=\"#00FF11\"><b>Q</b></td><td bgcolor=\"#00FF11\"><b>W</b></td><td bgcolor=\"#00FF11\"><b>E</b></td><td bgcolor=\"#00FF11\"><b>R</b></td><td bgcolor=\"#00FF11\"><b>P</b></td><td bgcolor=\"#00FF11\"><b>S</b></td><td bgcolor=\"#00FF11\"><b>G</b></td></tr></table>"
      ],
      "text/plain": [
       "<IPython.core.display.HTML object>"
      ]
     },
     "metadata": {},
     "output_type": "display_data"
    },
    {
     "name": "stdout",
     "output_type": "stream",
     "text": [
      "Test #8: x: SPLPPGWEERQDILGRTYYVNHESRRTQWKRPTP, y: SGAKSMWTEHKSPDGRTYYYNTETKQSTWEKPDD\n",
      "Solution #1:\n"
     ]
    },
    {
     "data": {
      "text/html": [
       "<table class=\"inner\"><tr><td bgcolor=\"#00FF11\"><b>S</b></td><td bgcolor=\"#00FF11\"><b>P</b></td><td bgcolor=\"#00FF11\"><b>L</b></td><td bgcolor=\"#00FF11\"><b>P</b></td><td bgcolor=\"#00FF11\"><b>P</b></td><td bgcolor=\"#00FF11\"><b>G</b></td><td bgcolor=\"#00FF11\"><b>W</b></td><td bgcolor=\"#00FF11\"><b>E</b></td><td bgcolor=\"#00FF11\"><b>E</b></td><td bgcolor=\"#00FF11\"><b>R</b></td><td bgcolor=\"#00FF11\"><b>Q</b></td><td bgcolor=\"#00FF11\"><b>D</b></td><td bgcolor=\"#00FF11\"><b>I</b></td><td bgcolor=\"#00FF11\"><b>L</b></td><td bgcolor=\"#00FF11\"><b>G</b></td><td bgcolor=\"#00FF11\"><b>R</b></td><td bgcolor=\"#00FF11\"><b>T</b></td><td bgcolor=\"#00FF11\"><b>Y</b></td><td bgcolor=\"#00FF11\"><b>Y</b></td><td bgcolor=\"#00FF11\"><b>V</b></td><td bgcolor=\"#00FF11\"><b>N</b></td><td bgcolor=\"#00FF11\"><b>H</b></td><td bgcolor=\"#00FF11\"><b>E</b></td><td bgcolor=\"#00FF11\"><b>S</b></td><td bgcolor=\"#00FF11\"><b>R</b></td><td bgcolor=\"#00FF11\"><b>R</b></td><td bgcolor=\"#00FF11\"><b>T</b></td><td bgcolor=\"#00FF11\"><b>Q</b></td><td bgcolor=\"#00FF11\"><b>W</b></td><td bgcolor=\"#00FF11\"><b>K</b></td><td bgcolor=\"#00FF11\"><b>R</b></td><td bgcolor=\"#00FF11\"><b>P</b></td><td bgcolor=\"#00FF11\"><b>T</b></td><td bgcolor=\"#00FF11\"><b>P</b></td></tr><tr><td>|</td><td>|</td><td>|</td><td>|</td><td>|</td><td>|</td><td>|</td><td>|</td><td>|</td><td>|</td><td>|</td><td>|</td><td>|</td><td>|</td><td>|</td><td>|</td><td>|</td><td>|</td><td>|</td><td>|</td><td>|</td><td>|</td><td>|</td><td>|</td><td>|</td><td>|</td><td>|</td><td>|</td><td>|</td><td>|</td><td>|</td><td>|</td><td>|</td><td>|</td></tr><tr><td bgcolor=\"#00FF11\"><b>S</b></td><td bgcolor=\"#00FF11\"><b>G</b></td><td bgcolor=\"#00FF11\"><b>A</b></td><td bgcolor=\"#00FF11\"><b>K</b></td><td bgcolor=\"#00FF11\"><b>S</b></td><td bgcolor=\"#00FF11\"><b>M</b></td><td bgcolor=\"#00FF11\"><b>W</b></td><td bgcolor=\"#00FF11\"><b>T</b></td><td bgcolor=\"#00FF11\"><b>E</b></td><td bgcolor=\"#00FF11\"><b>H</b></td><td bgcolor=\"#00FF11\"><b>K</b></td><td bgcolor=\"#00FF11\"><b>S</b></td><td bgcolor=\"#00FF11\"><b>P</b></td><td bgcolor=\"#00FF11\"><b>D</b></td><td bgcolor=\"#00FF11\"><b>G</b></td><td bgcolor=\"#00FF11\"><b>R</b></td><td bgcolor=\"#00FF11\"><b>T</b></td><td bgcolor=\"#00FF11\"><b>Y</b></td><td bgcolor=\"#00FF11\"><b>Y</b></td><td bgcolor=\"#00FF11\"><b>Y</b></td><td bgcolor=\"#00FF11\"><b>N</b></td><td bgcolor=\"#00FF11\"><b>T</b></td><td bgcolor=\"#00FF11\"><b>E</b></td><td bgcolor=\"#00FF11\"><b>T</b></td><td bgcolor=\"#00FF11\"><b>K</b></td><td bgcolor=\"#00FF11\"><b>Q</b></td><td bgcolor=\"#00FF11\"><b>S</b></td><td bgcolor=\"#00FF11\"><b>T</b></td><td bgcolor=\"#00FF11\"><b>W</b></td><td bgcolor=\"#00FF11\"><b>E</b></td><td bgcolor=\"#00FF11\"><b>K</b></td><td bgcolor=\"#00FF11\"><b>P</b></td><td bgcolor=\"#00FF11\"><b>D</b></td><td bgcolor=\"#00FF11\"><b>D</b></td></tr></table>"
      ],
      "text/plain": [
       "<IPython.core.display.HTML object>"
      ]
     },
     "metadata": {},
     "output_type": "display_data"
    },
    {
     "name": "stdout",
     "output_type": "stream",
     "text": [
      "Test #9: x: SPLPPGWEERQDILGRTYYVNHESRRTQWKRPTP, y: LLSKCPWKEYKSDSGKPYYYNSQTKESRWAKPKE\n",
      "Solution #1:\n"
     ]
    },
    {
     "data": {
      "text/html": [
       "<table class=\"inner\"><tr><td>-</td><td>-</td><td bgcolor=\"#00FF11\"><b>S</b></td><td bgcolor=\"#00FF11\"><b>P</b></td><td bgcolor=\"#00FF11\"><b>L</b></td><td>P</td><td bgcolor=\"#00FF11\"><b>P</b></td><td>G</td><td bgcolor=\"#00FF11\"><b>W</b></td><td bgcolor=\"#00FF11\"><b>E</b></td><td bgcolor=\"#00FF11\"><b>E</b></td><td bgcolor=\"#00FF11\"><b>R</b></td><td bgcolor=\"#00FF11\"><b>Q</b></td><td bgcolor=\"#00FF11\"><b>D</b></td><td bgcolor=\"#00FF11\"><b>I</b></td><td bgcolor=\"#00FF11\"><b>L</b></td><td bgcolor=\"#00FF11\"><b>G</b></td><td bgcolor=\"#00FF11\"><b>R</b></td><td bgcolor=\"#00FF11\"><b>T</b></td><td bgcolor=\"#00FF11\"><b>Y</b></td><td bgcolor=\"#00FF11\"><b>Y</b></td><td bgcolor=\"#00FF11\"><b>V</b></td><td bgcolor=\"#00FF11\"><b>N</b></td><td bgcolor=\"#00FF11\"><b>H</b></td><td bgcolor=\"#00FF11\"><b>E</b></td><td bgcolor=\"#00FF11\"><b>S</b></td><td bgcolor=\"#00FF11\"><b>R</b></td><td bgcolor=\"#00FF11\"><b>R</b></td><td bgcolor=\"#00FF11\"><b>T</b></td><td bgcolor=\"#00FF11\"><b>Q</b></td><td bgcolor=\"#00FF11\"><b>W</b></td><td bgcolor=\"#00FF11\"><b>K</b></td><td bgcolor=\"#00FF11\"><b>R</b></td><td bgcolor=\"#00FF11\"><b>P</b></td><td bgcolor=\"#00FF11\"><b>T</b></td><td bgcolor=\"#00FF11\"><b>P</b></td></tr><tr><td></td><td></td><td>|</td><td>|</td><td>|</td><td></td><td>|</td><td></td><td>|</td><td>|</td><td>|</td><td>|</td><td>|</td><td>|</td><td>|</td><td>|</td><td>|</td><td>|</td><td>|</td><td>|</td><td>|</td><td>|</td><td>|</td><td>|</td><td>|</td><td>|</td><td>|</td><td>|</td><td>|</td><td>|</td><td>|</td><td>|</td><td>|</td><td>|</td><td>|</td><td>|</td></tr><tr><td>L</td><td>L</td><td bgcolor=\"#00FF11\"><b>S</b></td><td bgcolor=\"#00FF11\"><b>K</b></td><td bgcolor=\"#00FF11\"><b>C</b></td><td>-</td><td bgcolor=\"#00FF11\"><b>P</b></td><td>-</td><td bgcolor=\"#00FF11\"><b>W</b></td><td bgcolor=\"#00FF11\"><b>K</b></td><td bgcolor=\"#00FF11\"><b>E</b></td><td bgcolor=\"#00FF11\"><b>Y</b></td><td bgcolor=\"#00FF11\"><b>K</b></td><td bgcolor=\"#00FF11\"><b>S</b></td><td bgcolor=\"#00FF11\"><b>D</b></td><td bgcolor=\"#00FF11\"><b>S</b></td><td bgcolor=\"#00FF11\"><b>G</b></td><td bgcolor=\"#00FF11\"><b>K</b></td><td bgcolor=\"#00FF11\"><b>P</b></td><td bgcolor=\"#00FF11\"><b>Y</b></td><td bgcolor=\"#00FF11\"><b>Y</b></td><td bgcolor=\"#00FF11\"><b>Y</b></td><td bgcolor=\"#00FF11\"><b>N</b></td><td bgcolor=\"#00FF11\"><b>S</b></td><td bgcolor=\"#00FF11\"><b>Q</b></td><td bgcolor=\"#00FF11\"><b>T</b></td><td bgcolor=\"#00FF11\"><b>K</b></td><td bgcolor=\"#00FF11\"><b>E</b></td><td bgcolor=\"#00FF11\"><b>S</b></td><td bgcolor=\"#00FF11\"><b>R</b></td><td bgcolor=\"#00FF11\"><b>W</b></td><td bgcolor=\"#00FF11\"><b>A</b></td><td bgcolor=\"#00FF11\"><b>K</b></td><td bgcolor=\"#00FF11\"><b>P</b></td><td bgcolor=\"#00FF11\"><b>K</b></td><td bgcolor=\"#00FF11\"><b>E</b></td></tr></table>"
      ],
      "text/plain": [
       "<IPython.core.display.HTML object>"
      ]
     },
     "metadata": {},
     "output_type": "display_data"
    },
    {
     "name": "stdout",
     "output_type": "stream",
     "text": [
      "Test #10: x: GPLPPGWEERTHTDGRIFYINHNIKRTQWEDPRL, y: EKLPPGWEKRMSRSSGRVYYFNHITNASQWERPSG\n",
      "Solution #1:\n"
     ]
    },
    {
     "data": {
      "text/html": [
       "<table class=\"inner\"><tr><td bgcolor=\"#00FF11\"><b>G</b></td><td bgcolor=\"#00FF11\"><b>P</b></td><td bgcolor=\"#00FF11\"><b>L</b></td><td bgcolor=\"#00FF11\"><b>P</b></td><td bgcolor=\"#00FF11\"><b>P</b></td><td bgcolor=\"#00FF11\"><b>G</b></td><td bgcolor=\"#00FF11\"><b>W</b></td><td bgcolor=\"#00FF11\"><b>E</b></td><td bgcolor=\"#00FF11\"><b>E</b></td><td bgcolor=\"#00FF11\"><b>R</b></td><td>-</td><td bgcolor=\"#00FF11\"><b>T</b></td><td bgcolor=\"#00FF11\"><b>H</b></td><td bgcolor=\"#00FF11\"><b>T</b></td><td bgcolor=\"#00FF11\"><b>D</b></td><td bgcolor=\"#00FF11\"><b>G</b></td><td bgcolor=\"#00FF11\"><b>R</b></td><td bgcolor=\"#00FF11\"><b>I</b></td><td bgcolor=\"#00FF11\"><b>F</b></td><td bgcolor=\"#00FF11\"><b>Y</b></td><td bgcolor=\"#00FF11\"><b>I</b></td><td bgcolor=\"#00FF11\"><b>N</b></td><td bgcolor=\"#00FF11\"><b>H</b></td><td bgcolor=\"#00FF11\"><b>N</b></td><td bgcolor=\"#00FF11\"><b>I</b></td><td bgcolor=\"#00FF11\"><b>K</b></td><td bgcolor=\"#00FF11\"><b>R</b></td><td bgcolor=\"#00FF11\"><b>T</b></td><td bgcolor=\"#00FF11\"><b>Q</b></td><td bgcolor=\"#00FF11\"><b>W</b></td><td bgcolor=\"#00FF11\"><b>E</b></td><td bgcolor=\"#00FF11\"><b>D</b></td><td bgcolor=\"#00FF11\"><b>P</b></td><td bgcolor=\"#00FF11\"><b>R</b></td><td bgcolor=\"#00FF11\"><b>L</b></td></tr><tr><td>|</td><td>|</td><td>|</td><td>|</td><td>|</td><td>|</td><td>|</td><td>|</td><td>|</td><td>|</td><td></td><td>|</td><td>|</td><td>|</td><td>|</td><td>|</td><td>|</td><td>|</td><td>|</td><td>|</td><td>|</td><td>|</td><td>|</td><td>|</td><td>|</td><td>|</td><td>|</td><td>|</td><td>|</td><td>|</td><td>|</td><td>|</td><td>|</td><td>|</td><td>|</td></tr><tr><td bgcolor=\"#00FF11\"><b>E</b></td><td bgcolor=\"#00FF11\"><b>K</b></td><td bgcolor=\"#00FF11\"><b>L</b></td><td bgcolor=\"#00FF11\"><b>P</b></td><td bgcolor=\"#00FF11\"><b>P</b></td><td bgcolor=\"#00FF11\"><b>G</b></td><td bgcolor=\"#00FF11\"><b>W</b></td><td bgcolor=\"#00FF11\"><b>E</b></td><td bgcolor=\"#00FF11\"><b>K</b></td><td bgcolor=\"#00FF11\"><b>R</b></td><td>M</td><td bgcolor=\"#00FF11\"><b>S</b></td><td bgcolor=\"#00FF11\"><b>R</b></td><td bgcolor=\"#00FF11\"><b>S</b></td><td bgcolor=\"#00FF11\"><b>S</b></td><td bgcolor=\"#00FF11\"><b>G</b></td><td bgcolor=\"#00FF11\"><b>R</b></td><td bgcolor=\"#00FF11\"><b>V</b></td><td bgcolor=\"#00FF11\"><b>Y</b></td><td bgcolor=\"#00FF11\"><b>Y</b></td><td bgcolor=\"#00FF11\"><b>F</b></td><td bgcolor=\"#00FF11\"><b>N</b></td><td bgcolor=\"#00FF11\"><b>H</b></td><td bgcolor=\"#00FF11\"><b>I</b></td><td bgcolor=\"#00FF11\"><b>T</b></td><td bgcolor=\"#00FF11\"><b>N</b></td><td bgcolor=\"#00FF11\"><b>A</b></td><td bgcolor=\"#00FF11\"><b>S</b></td><td bgcolor=\"#00FF11\"><b>Q</b></td><td bgcolor=\"#00FF11\"><b>W</b></td><td bgcolor=\"#00FF11\"><b>E</b></td><td bgcolor=\"#00FF11\"><b>R</b></td><td bgcolor=\"#00FF11\"><b>P</b></td><td bgcolor=\"#00FF11\"><b>S</b></td><td bgcolor=\"#00FF11\"><b>G</b></td></tr></table>"
      ],
      "text/plain": [
       "<IPython.core.display.HTML object>"
      ]
     },
     "metadata": {},
     "output_type": "display_data"
    },
    {
     "name": "stdout",
     "output_type": "stream",
     "text": [
      "Test #11: x: GPLPPGWEERTHTDGRIFYINHNIKRTQWEDPRL, y: SGAKSMWTEHKSPDGRTYYYNTETKQSTWEKPDD\n",
      "Solution #1:\n"
     ]
    },
    {
     "data": {
      "text/html": [
       "<table class=\"inner\"><tr><td bgcolor=\"#00FF11\"><b>G</b></td><td bgcolor=\"#00FF11\"><b>P</b></td><td bgcolor=\"#00FF11\"><b>L</b></td><td bgcolor=\"#00FF11\"><b>P</b></td><td bgcolor=\"#00FF11\"><b>P</b></td><td bgcolor=\"#00FF11\"><b>G</b></td><td bgcolor=\"#00FF11\"><b>W</b></td><td bgcolor=\"#00FF11\"><b>E</b></td><td bgcolor=\"#00FF11\"><b>E</b></td><td bgcolor=\"#00FF11\"><b>R</b></td><td bgcolor=\"#00FF11\"><b>T</b></td><td bgcolor=\"#00FF11\"><b>H</b></td><td bgcolor=\"#00FF11\"><b>T</b></td><td bgcolor=\"#00FF11\"><b>D</b></td><td bgcolor=\"#00FF11\"><b>G</b></td><td bgcolor=\"#00FF11\"><b>R</b></td><td bgcolor=\"#00FF11\"><b>I</b></td><td bgcolor=\"#00FF11\"><b>F</b></td><td bgcolor=\"#00FF11\"><b>Y</b></td><td bgcolor=\"#00FF11\"><b>I</b></td><td bgcolor=\"#00FF11\"><b>N</b></td><td bgcolor=\"#00FF11\"><b>H</b></td><td bgcolor=\"#00FF11\"><b>N</b></td><td bgcolor=\"#00FF11\"><b>I</b></td><td bgcolor=\"#00FF11\"><b>K</b></td><td bgcolor=\"#00FF11\"><b>R</b></td><td bgcolor=\"#00FF11\"><b>T</b></td><td bgcolor=\"#00FF11\"><b>Q</b></td><td bgcolor=\"#00FF11\"><b>W</b></td><td bgcolor=\"#00FF11\"><b>E</b></td><td bgcolor=\"#00FF11\"><b>D</b></td><td bgcolor=\"#00FF11\"><b>P</b></td><td bgcolor=\"#00FF11\"><b>R</b></td><td bgcolor=\"#00FF11\"><b>L</b></td></tr><tr><td>|</td><td>|</td><td>|</td><td>|</td><td>|</td><td>|</td><td>|</td><td>|</td><td>|</td><td>|</td><td>|</td><td>|</td><td>|</td><td>|</td><td>|</td><td>|</td><td>|</td><td>|</td><td>|</td><td>|</td><td>|</td><td>|</td><td>|</td><td>|</td><td>|</td><td>|</td><td>|</td><td>|</td><td>|</td><td>|</td><td>|</td><td>|</td><td>|</td><td>|</td></tr><tr><td bgcolor=\"#00FF11\"><b>S</b></td><td bgcolor=\"#00FF11\"><b>G</b></td><td bgcolor=\"#00FF11\"><b>A</b></td><td bgcolor=\"#00FF11\"><b>K</b></td><td bgcolor=\"#00FF11\"><b>S</b></td><td bgcolor=\"#00FF11\"><b>M</b></td><td bgcolor=\"#00FF11\"><b>W</b></td><td bgcolor=\"#00FF11\"><b>T</b></td><td bgcolor=\"#00FF11\"><b>E</b></td><td bgcolor=\"#00FF11\"><b>H</b></td><td bgcolor=\"#00FF11\"><b>K</b></td><td bgcolor=\"#00FF11\"><b>S</b></td><td bgcolor=\"#00FF11\"><b>P</b></td><td bgcolor=\"#00FF11\"><b>D</b></td><td bgcolor=\"#00FF11\"><b>G</b></td><td bgcolor=\"#00FF11\"><b>R</b></td><td bgcolor=\"#00FF11\"><b>T</b></td><td bgcolor=\"#00FF11\"><b>Y</b></td><td bgcolor=\"#00FF11\"><b>Y</b></td><td bgcolor=\"#00FF11\"><b>Y</b></td><td bgcolor=\"#00FF11\"><b>N</b></td><td bgcolor=\"#00FF11\"><b>T</b></td><td bgcolor=\"#00FF11\"><b>E</b></td><td bgcolor=\"#00FF11\"><b>T</b></td><td bgcolor=\"#00FF11\"><b>K</b></td><td bgcolor=\"#00FF11\"><b>Q</b></td><td bgcolor=\"#00FF11\"><b>S</b></td><td bgcolor=\"#00FF11\"><b>T</b></td><td bgcolor=\"#00FF11\"><b>W</b></td><td bgcolor=\"#00FF11\"><b>E</b></td><td bgcolor=\"#00FF11\"><b>K</b></td><td bgcolor=\"#00FF11\"><b>P</b></td><td bgcolor=\"#00FF11\"><b>D</b></td><td bgcolor=\"#00FF11\"><b>D</b></td></tr></table>"
      ],
      "text/plain": [
       "<IPython.core.display.HTML object>"
      ]
     },
     "metadata": {},
     "output_type": "display_data"
    },
    {
     "name": "stdout",
     "output_type": "stream",
     "text": [
      "Test #12: x: GPLPPGWEERTHTDGRIFYINHNIKRTQWEDPRL, y: LLSKCPWKEYKSDSGKPYYYNSQTKESRWAKPKE\n",
      "Solution #1:\n"
     ]
    },
    {
     "data": {
      "text/html": [
       "<table class=\"inner\"><tr><td>G</td><td bgcolor=\"#00FF11\"><b>P</b></td><td bgcolor=\"#00FF11\"><b>L</b></td><td bgcolor=\"#00FF11\"><b>P</b></td><td bgcolor=\"#00FF11\"><b>P</b></td><td>-</td><td bgcolor=\"#00FF11\"><b>G</b></td><td bgcolor=\"#00FF11\"><b>W</b></td><td bgcolor=\"#00FF11\"><b>E</b></td><td bgcolor=\"#00FF11\"><b>E</b></td><td bgcolor=\"#00FF11\"><b>R</b></td><td bgcolor=\"#00FF11\"><b>T</b></td><td bgcolor=\"#00FF11\"><b>H</b></td><td bgcolor=\"#00FF11\"><b>T</b></td><td bgcolor=\"#00FF11\"><b>D</b></td><td bgcolor=\"#00FF11\"><b>G</b></td><td bgcolor=\"#00FF11\"><b>R</b></td><td bgcolor=\"#00FF11\"><b>I</b></td><td bgcolor=\"#00FF11\"><b>F</b></td><td bgcolor=\"#00FF11\"><b>Y</b></td><td bgcolor=\"#00FF11\"><b>I</b></td><td bgcolor=\"#00FF11\"><b>N</b></td><td bgcolor=\"#00FF11\"><b>H</b></td><td bgcolor=\"#00FF11\"><b>N</b></td><td bgcolor=\"#00FF11\"><b>I</b></td><td bgcolor=\"#00FF11\"><b>K</b></td><td bgcolor=\"#00FF11\"><b>R</b></td><td bgcolor=\"#00FF11\"><b>T</b></td><td bgcolor=\"#00FF11\"><b>Q</b></td><td bgcolor=\"#00FF11\"><b>W</b></td><td bgcolor=\"#00FF11\"><b>E</b></td><td bgcolor=\"#00FF11\"><b>D</b></td><td bgcolor=\"#00FF11\"><b>P</b></td><td bgcolor=\"#00FF11\"><b>R</b></td><td bgcolor=\"#00FF11\"><b>L</b></td></tr><tr><td></td><td>|</td><td>|</td><td>|</td><td>|</td><td></td><td>|</td><td>|</td><td>|</td><td>|</td><td>|</td><td>|</td><td>|</td><td>|</td><td>|</td><td>|</td><td>|</td><td>|</td><td>|</td><td>|</td><td>|</td><td>|</td><td>|</td><td>|</td><td>|</td><td>|</td><td>|</td><td>|</td><td>|</td><td>|</td><td>|</td><td>|</td><td>|</td><td>|</td><td>|</td></tr><tr><td>-</td><td bgcolor=\"#00FF11\"><b>L</b></td><td bgcolor=\"#00FF11\"><b>L</b></td><td bgcolor=\"#00FF11\"><b>S</b></td><td bgcolor=\"#00FF11\"><b>K</b></td><td>C</td><td bgcolor=\"#00FF11\"><b>P</b></td><td bgcolor=\"#00FF11\"><b>W</b></td><td bgcolor=\"#00FF11\"><b>K</b></td><td bgcolor=\"#00FF11\"><b>E</b></td><td bgcolor=\"#00FF11\"><b>Y</b></td><td bgcolor=\"#00FF11\"><b>K</b></td><td bgcolor=\"#00FF11\"><b>S</b></td><td bgcolor=\"#00FF11\"><b>D</b></td><td bgcolor=\"#00FF11\"><b>S</b></td><td bgcolor=\"#00FF11\"><b>G</b></td><td bgcolor=\"#00FF11\"><b>K</b></td><td bgcolor=\"#00FF11\"><b>P</b></td><td bgcolor=\"#00FF11\"><b>Y</b></td><td bgcolor=\"#00FF11\"><b>Y</b></td><td bgcolor=\"#00FF11\"><b>Y</b></td><td bgcolor=\"#00FF11\"><b>N</b></td><td bgcolor=\"#00FF11\"><b>S</b></td><td bgcolor=\"#00FF11\"><b>Q</b></td><td bgcolor=\"#00FF11\"><b>T</b></td><td bgcolor=\"#00FF11\"><b>K</b></td><td bgcolor=\"#00FF11\"><b>E</b></td><td bgcolor=\"#00FF11\"><b>S</b></td><td bgcolor=\"#00FF11\"><b>R</b></td><td bgcolor=\"#00FF11\"><b>W</b></td><td bgcolor=\"#00FF11\"><b>A</b></td><td bgcolor=\"#00FF11\"><b>K</b></td><td bgcolor=\"#00FF11\"><b>P</b></td><td bgcolor=\"#00FF11\"><b>K</b></td><td bgcolor=\"#00FF11\"><b>E</b></td></tr></table>"
      ],
      "text/plain": [
       "<IPython.core.display.HTML object>"
      ]
     },
     "metadata": {},
     "output_type": "display_data"
    },
    {
     "name": "stdout",
     "output_type": "stream",
     "text": [
      "Test #13: x: EKLPPGWEKRMSRSSGRVYYFNHITNASQWERPSG, y: SGAKSMWTEHKSPDGRTYYYNTETKQSTWEKPDD\n",
      "Solution #1:\n"
     ]
    },
    {
     "data": {
      "text/html": [
       "<table class=\"inner\"><tr><td bgcolor=\"#00FF11\"><b>E</b></td><td bgcolor=\"#00FF11\"><b>K</b></td><td bgcolor=\"#00FF11\"><b>L</b></td><td bgcolor=\"#00FF11\"><b>P</b></td><td bgcolor=\"#00FF11\"><b>P</b></td><td bgcolor=\"#00FF11\"><b>G</b></td><td bgcolor=\"#00FF11\"><b>W</b></td><td bgcolor=\"#00FF11\"><b>E</b></td><td bgcolor=\"#00FF11\"><b>K</b></td><td bgcolor=\"#00FF11\"><b>R</b></td><td bgcolor=\"#00FF11\"><b>M</b></td><td bgcolor=\"#00FF11\"><b>S</b></td><td>R</td><td bgcolor=\"#00FF11\"><b>S</b></td><td bgcolor=\"#00FF11\"><b>S</b></td><td bgcolor=\"#00FF11\"><b>G</b></td><td bgcolor=\"#00FF11\"><b>R</b></td><td bgcolor=\"#00FF11\"><b>V</b></td><td bgcolor=\"#00FF11\"><b>Y</b></td><td bgcolor=\"#00FF11\"><b>Y</b></td><td bgcolor=\"#00FF11\"><b>F</b></td><td bgcolor=\"#00FF11\"><b>N</b></td><td bgcolor=\"#00FF11\"><b>H</b></td><td bgcolor=\"#00FF11\"><b>I</b></td><td bgcolor=\"#00FF11\"><b>T</b></td><td bgcolor=\"#00FF11\"><b>N</b></td><td bgcolor=\"#00FF11\"><b>A</b></td><td bgcolor=\"#00FF11\"><b>S</b></td><td bgcolor=\"#00FF11\"><b>Q</b></td><td bgcolor=\"#00FF11\"><b>W</b></td><td bgcolor=\"#00FF11\"><b>E</b></td><td bgcolor=\"#00FF11\"><b>R</b></td><td bgcolor=\"#00FF11\"><b>P</b></td><td bgcolor=\"#00FF11\"><b>S</b></td><td bgcolor=\"#00FF11\"><b>G</b></td></tr><tr><td>|</td><td>|</td><td>|</td><td>|</td><td>|</td><td>|</td><td>|</td><td>|</td><td>|</td><td>|</td><td>|</td><td>|</td><td></td><td>|</td><td>|</td><td>|</td><td>|</td><td>|</td><td>|</td><td>|</td><td>|</td><td>|</td><td>|</td><td>|</td><td>|</td><td>|</td><td>|</td><td>|</td><td>|</td><td>|</td><td>|</td><td>|</td><td>|</td><td>|</td><td>|</td></tr><tr><td bgcolor=\"#00FF11\"><b>S</b></td><td bgcolor=\"#00FF11\"><b>G</b></td><td bgcolor=\"#00FF11\"><b>A</b></td><td bgcolor=\"#00FF11\"><b>K</b></td><td bgcolor=\"#00FF11\"><b>S</b></td><td bgcolor=\"#00FF11\"><b>M</b></td><td bgcolor=\"#00FF11\"><b>W</b></td><td bgcolor=\"#00FF11\"><b>T</b></td><td bgcolor=\"#00FF11\"><b>E</b></td><td bgcolor=\"#00FF11\"><b>H</b></td><td bgcolor=\"#00FF11\"><b>K</b></td><td bgcolor=\"#00FF11\"><b>S</b></td><td>-</td><td bgcolor=\"#00FF11\"><b>P</b></td><td bgcolor=\"#00FF11\"><b>D</b></td><td bgcolor=\"#00FF11\"><b>G</b></td><td bgcolor=\"#00FF11\"><b>R</b></td><td bgcolor=\"#00FF11\"><b>T</b></td><td bgcolor=\"#00FF11\"><b>Y</b></td><td bgcolor=\"#00FF11\"><b>Y</b></td><td bgcolor=\"#00FF11\"><b>Y</b></td><td bgcolor=\"#00FF11\"><b>N</b></td><td bgcolor=\"#00FF11\"><b>T</b></td><td bgcolor=\"#00FF11\"><b>E</b></td><td bgcolor=\"#00FF11\"><b>T</b></td><td bgcolor=\"#00FF11\"><b>K</b></td><td bgcolor=\"#00FF11\"><b>Q</b></td><td bgcolor=\"#00FF11\"><b>S</b></td><td bgcolor=\"#00FF11\"><b>T</b></td><td bgcolor=\"#00FF11\"><b>W</b></td><td bgcolor=\"#00FF11\"><b>E</b></td><td bgcolor=\"#00FF11\"><b>K</b></td><td bgcolor=\"#00FF11\"><b>P</b></td><td bgcolor=\"#00FF11\"><b>D</b></td><td bgcolor=\"#00FF11\"><b>D</b></td></tr></table>"
      ],
      "text/plain": [
       "<IPython.core.display.HTML object>"
      ]
     },
     "metadata": {},
     "output_type": "display_data"
    },
    {
     "name": "stdout",
     "output_type": "stream",
     "text": [
      "Test #14: x: EKLPPGWEKRMSRSSGRVYYFNHITNASQWERPSG, y: LLSKCPWKEYKSDSGKPYYYNSQTKESRWAKPKE\n",
      "Solution #1:\n"
     ]
    },
    {
     "data": {
      "text/html": [
       "<table class=\"inner\"><tr><td>-</td><td>-</td><td bgcolor=\"#00FF11\"><b>E</b></td><td bgcolor=\"#00FF11\"><b>K</b></td><td bgcolor=\"#00FF11\"><b>L</b></td><td>P</td><td bgcolor=\"#00FF11\"><b>P</b></td><td>G</td><td bgcolor=\"#00FF11\"><b>W</b></td><td>E</td><td bgcolor=\"#00FF11\"><b>K</b></td><td bgcolor=\"#00FF11\"><b>R</b></td><td bgcolor=\"#00FF11\"><b>M</b></td><td bgcolor=\"#00FF11\"><b>S</b></td><td bgcolor=\"#00FF11\"><b>R</b></td><td bgcolor=\"#00FF11\"><b>S</b></td><td bgcolor=\"#00FF11\"><b>S</b></td><td bgcolor=\"#00FF11\"><b>G</b></td><td bgcolor=\"#00FF11\"><b>R</b></td><td bgcolor=\"#00FF11\"><b>V</b></td><td bgcolor=\"#00FF11\"><b>Y</b></td><td bgcolor=\"#00FF11\"><b>Y</b></td><td bgcolor=\"#00FF11\"><b>F</b></td><td bgcolor=\"#00FF11\"><b>N</b></td><td bgcolor=\"#00FF11\"><b>H</b></td><td bgcolor=\"#00FF11\"><b>I</b></td><td bgcolor=\"#00FF11\"><b>T</b></td><td bgcolor=\"#00FF11\"><b>N</b></td><td bgcolor=\"#00FF11\"><b>A</b></td><td bgcolor=\"#00FF11\"><b>S</b></td><td bgcolor=\"#00FF11\"><b>Q</b></td><td bgcolor=\"#00FF11\"><b>W</b></td><td bgcolor=\"#00FF11\"><b>E</b></td><td bgcolor=\"#00FF11\"><b>R</b></td><td bgcolor=\"#00FF11\"><b>P</b></td><td bgcolor=\"#00FF11\"><b>S</b></td><td bgcolor=\"#00FF11\"><b>G</b></td></tr><tr><td></td><td></td><td>|</td><td>|</td><td>|</td><td></td><td>|</td><td></td><td>|</td><td></td><td>|</td><td>|</td><td>|</td><td>|</td><td>|</td><td>|</td><td>|</td><td>|</td><td>|</td><td>|</td><td>|</td><td>|</td><td>|</td><td>|</td><td>|</td><td>|</td><td>|</td><td>|</td><td>|</td><td>|</td><td>|</td><td>|</td><td>|</td><td>|</td><td>|</td><td>|</td><td>|</td></tr><tr><td>L</td><td>L</td><td bgcolor=\"#00FF11\"><b>S</b></td><td bgcolor=\"#00FF11\"><b>K</b></td><td bgcolor=\"#00FF11\"><b>C</b></td><td>-</td><td bgcolor=\"#00FF11\"><b>P</b></td><td>-</td><td bgcolor=\"#00FF11\"><b>W</b></td><td>-</td><td bgcolor=\"#00FF11\"><b>K</b></td><td bgcolor=\"#00FF11\"><b>E</b></td><td bgcolor=\"#00FF11\"><b>Y</b></td><td bgcolor=\"#00FF11\"><b>K</b></td><td bgcolor=\"#00FF11\"><b>S</b></td><td bgcolor=\"#00FF11\"><b>D</b></td><td bgcolor=\"#00FF11\"><b>S</b></td><td bgcolor=\"#00FF11\"><b>G</b></td><td bgcolor=\"#00FF11\"><b>K</b></td><td bgcolor=\"#00FF11\"><b>P</b></td><td bgcolor=\"#00FF11\"><b>Y</b></td><td bgcolor=\"#00FF11\"><b>Y</b></td><td bgcolor=\"#00FF11\"><b>Y</b></td><td bgcolor=\"#00FF11\"><b>N</b></td><td bgcolor=\"#00FF11\"><b>S</b></td><td bgcolor=\"#00FF11\"><b>Q</b></td><td bgcolor=\"#00FF11\"><b>T</b></td><td bgcolor=\"#00FF11\"><b>K</b></td><td bgcolor=\"#00FF11\"><b>E</b></td><td bgcolor=\"#00FF11\"><b>S</b></td><td bgcolor=\"#00FF11\"><b>R</b></td><td bgcolor=\"#00FF11\"><b>W</b></td><td bgcolor=\"#00FF11\"><b>A</b></td><td bgcolor=\"#00FF11\"><b>K</b></td><td bgcolor=\"#00FF11\"><b>P</b></td><td bgcolor=\"#00FF11\"><b>K</b></td><td bgcolor=\"#00FF11\"><b>E</b></td></tr></table>"
      ],
      "text/plain": [
       "<IPython.core.display.HTML object>"
      ]
     },
     "metadata": {},
     "output_type": "display_data"
    },
    {
     "name": "stdout",
     "output_type": "stream",
     "text": [
      "Test #15: x: SGAKSMWTEHKSPDGRTYYYNTETKQSTWEKPDD, y: LLSKCPWKEYKSDSGKPYYYNSQTKESRWAKPKE\n",
      "Solution #1:\n"
     ]
    },
    {
     "data": {
      "text/html": [
       "<table class=\"inner\"><tr><td bgcolor=\"#00FF11\"><b>S</b></td><td bgcolor=\"#00FF11\"><b>G</b></td><td bgcolor=\"#00FF11\"><b>A</b></td><td bgcolor=\"#00FF11\"><b>K</b></td><td bgcolor=\"#00FF11\"><b>S</b></td><td bgcolor=\"#00FF11\"><b>M</b></td><td bgcolor=\"#00FF11\"><b>W</b></td><td bgcolor=\"#00FF11\"><b>T</b></td><td bgcolor=\"#00FF11\"><b>E</b></td><td bgcolor=\"#00FF11\"><b>H</b></td><td bgcolor=\"#00FF11\"><b>K</b></td><td bgcolor=\"#00FF11\"><b>S</b></td><td bgcolor=\"#00FF11\"><b>P</b></td><td bgcolor=\"#00FF11\"><b>D</b></td><td bgcolor=\"#00FF11\"><b>G</b></td><td bgcolor=\"#00FF11\"><b>R</b></td><td bgcolor=\"#00FF11\"><b>T</b></td><td bgcolor=\"#00FF11\"><b>Y</b></td><td bgcolor=\"#00FF11\"><b>Y</b></td><td bgcolor=\"#00FF11\"><b>Y</b></td><td bgcolor=\"#00FF11\"><b>N</b></td><td bgcolor=\"#00FF11\"><b>T</b></td><td bgcolor=\"#00FF11\"><b>E</b></td><td bgcolor=\"#00FF11\"><b>T</b></td><td bgcolor=\"#00FF11\"><b>K</b></td><td bgcolor=\"#00FF11\"><b>Q</b></td><td bgcolor=\"#00FF11\"><b>S</b></td><td bgcolor=\"#00FF11\"><b>T</b></td><td bgcolor=\"#00FF11\"><b>W</b></td><td bgcolor=\"#00FF11\"><b>E</b></td><td bgcolor=\"#00FF11\"><b>K</b></td><td bgcolor=\"#00FF11\"><b>P</b></td><td bgcolor=\"#00FF11\"><b>D</b></td><td bgcolor=\"#00FF11\"><b>D</b></td></tr><tr><td>|</td><td>|</td><td>|</td><td>|</td><td>|</td><td>|</td><td>|</td><td>|</td><td>|</td><td>|</td><td>|</td><td>|</td><td>|</td><td>|</td><td>|</td><td>|</td><td>|</td><td>|</td><td>|</td><td>|</td><td>|</td><td>|</td><td>|</td><td>|</td><td>|</td><td>|</td><td>|</td><td>|</td><td>|</td><td>|</td><td>|</td><td>|</td><td>|</td><td>|</td></tr><tr><td bgcolor=\"#00FF11\"><b>L</b></td><td bgcolor=\"#00FF11\"><b>L</b></td><td bgcolor=\"#00FF11\"><b>S</b></td><td bgcolor=\"#00FF11\"><b>K</b></td><td bgcolor=\"#00FF11\"><b>C</b></td><td bgcolor=\"#00FF11\"><b>P</b></td><td bgcolor=\"#00FF11\"><b>W</b></td><td bgcolor=\"#00FF11\"><b>K</b></td><td bgcolor=\"#00FF11\"><b>E</b></td><td bgcolor=\"#00FF11\"><b>Y</b></td><td bgcolor=\"#00FF11\"><b>K</b></td><td bgcolor=\"#00FF11\"><b>S</b></td><td bgcolor=\"#00FF11\"><b>D</b></td><td bgcolor=\"#00FF11\"><b>S</b></td><td bgcolor=\"#00FF11\"><b>G</b></td><td bgcolor=\"#00FF11\"><b>K</b></td><td bgcolor=\"#00FF11\"><b>P</b></td><td bgcolor=\"#00FF11\"><b>Y</b></td><td bgcolor=\"#00FF11\"><b>Y</b></td><td bgcolor=\"#00FF11\"><b>Y</b></td><td bgcolor=\"#00FF11\"><b>N</b></td><td bgcolor=\"#00FF11\"><b>S</b></td><td bgcolor=\"#00FF11\"><b>Q</b></td><td bgcolor=\"#00FF11\"><b>T</b></td><td bgcolor=\"#00FF11\"><b>K</b></td><td bgcolor=\"#00FF11\"><b>E</b></td><td bgcolor=\"#00FF11\"><b>S</b></td><td bgcolor=\"#00FF11\"><b>R</b></td><td bgcolor=\"#00FF11\"><b>W</b></td><td bgcolor=\"#00FF11\"><b>A</b></td><td bgcolor=\"#00FF11\"><b>K</b></td><td bgcolor=\"#00FF11\"><b>P</b></td><td bgcolor=\"#00FF11\"><b>K</b></td><td bgcolor=\"#00FF11\"><b>E</b></td></tr></table>"
      ],
      "text/plain": [
       "<IPython.core.display.HTML object>"
      ]
     },
     "metadata": {},
     "output_type": "display_data"
    }
   ],
   "source": [
    "large_matrice = True # !!! Do not set to False !!! (or be patient)\n",
    "l_sequences = [\n",
    "    'VPLPAGWEMAKTSSGQRYFLNHIDQTTTWQDPRK',\n",
    "    'SPLPPGWEERQDILGRTYYVNHESRRTQWKRPTP',\n",
    "    'GPLPPGWEERTHTDGRIFYINHNIKRTQWEDPRL',\n",
    "    'EKLPPGWEKRMSRSSGRVYYFNHITNASQWERPSG',\n",
    "    'SGAKSMWTEHKSPDGRTYYYNTETKQSTWEKPDD',\n",
    "    'LLSKCPWKEYKSDSGKPYYYNSQTKESRWAKPKE',\n",
    "]\n",
    "\n",
    "k = 3\n",
    "\n",
    "# True to disable rendering of table (can solve lag issues)\n",
    "large_matrice = True\n",
    "\n",
    "filename = 'BLOSUM62'\n",
    "q = parse_ranking_matrix(filename)\n",
    "\n",
    "# Use same values for both of those variables to have a linear gap penalty\n",
    "i_gap_penalty = -8\n",
    "e_gap_penalty = -8\n",
    "\n",
    "count = 0\n",
    "for i in range(len(l_sequences[:-1])):\n",
    "    x = l_sequences[i]\n",
    "    \n",
    "    for y in l_sequences[i+1:]:\n",
    "        count += 1\n",
    "        print(\"Test #{}: x: {}, y: {}\".format(count, x, y))\n",
    "        \n",
    "        init_data_structures()\n",
    "        compute_dp_matrix(local_alignement=False)\n",
    "        \n",
    "        find_k_solutions(k)\n",
    "        "
   ]
  },
  {
   "cell_type": "markdown",
   "metadata": {
    "collapsed": true
   },
   "source": [
    "For the checked value (using http://www.ch.embnet.org/software/LALIGN_form.html), this notebook show similar results. Unfortunately, I was not able to find how to check the sequence ancestor to find if they have some relatives in common."
   ]
  },
  {
   "cell_type": "code",
   "execution_count": null,
   "metadata": {
    "collapsed": true
   },
   "outputs": [],
   "source": []
  }
 ],
 "metadata": {
  "kernelspec": {
   "display_name": "Python 3",
   "language": "python",
   "name": "python3"
  },
  "language_info": {
   "codemirror_mode": {
    "name": "ipython",
    "version": 3
   },
   "file_extension": ".py",
   "mimetype": "text/x-python",
   "name": "python",
   "nbconvert_exporter": "python",
   "pygments_lexer": "ipython3",
   "version": "3.6.0"
  }
 },
 "nbformat": 4,
 "nbformat_minor": 2
}
