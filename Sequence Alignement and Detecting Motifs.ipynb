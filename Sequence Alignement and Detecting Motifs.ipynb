{
 "cells": [
  {
   "cell_type": "markdown",
   "metadata": {},
   "source": [
    "# Sequence Alignement and Detecting Motifs\n",
    "\n",
    "This work was done for the ULB course: Computational biology and bioinformatics (INFO-F-439) by Thomas Van Gysegem (all rigth reserved).\n",
    "\n",
    "First of all, let us introduce some utility function that will be used for this project. The first one is a function that will be used to display our Dynamic Programing matrice:"
   ]
  },
  {
   "cell_type": "code",
   "execution_count": 147,
   "metadata": {
    "collapsed": false
   },
   "outputs": [
    {
     "data": {
      "text/html": [
       "<style>\n",
       ".clear td, .clear, .clear tr, .clear th {border:none!important}\n",
       "</style>"
      ],
      "text/plain": [
       "<IPython.core.display.HTML object>"
      ]
     },
     "metadata": {},
     "output_type": "display_data"
    }
   ],
   "source": [
    "%%html\n",
    "<style>\n",
    ".clear td, .clear, .clear tr, .clear th {border:none!important}\n",
    "</style>"
   ]
  },
  {
   "cell_type": "code",
   "execution_count": 180,
   "metadata": {
    "collapsed": false
   },
   "outputs": [],
   "source": [
    "from IPython.display import HTML, display\n",
    "\n",
    "def display_dp_matrix(dp_matrix, x, y, backtrack_matrix):\n",
    "    \"\"\" Simple display function that shows all informations about the DP matrice, sequences, ... \"\"\"\n",
    "    \n",
    "    html_str = '<table>'\n",
    "    \n",
    "    # First row (header)\n",
    "    html_str += '<tr><td></td><td></td><td>{}</td></tr>'.format('</td><td>'.join(_ for _ in y))\n",
    "    \n",
    "    for i in range(len(dp_matrix)):\n",
    "        row = dp_matrix[i]\n",
    "        \n",
    "        c = '' if i <= 0 else x[i - 1]\n",
    "        \n",
    "        html_str += '<tr><td>{}</td>'.format(c)\n",
    "        \n",
    "        for j in range(len(row)):\n",
    "            value = row[j]\n",
    "            \n",
    "            back0 = 'o' if backtrack_matrix[i][j][0] else ''\n",
    "            back1 = 'o' if backtrack_matrix[i][j][1] else ''\n",
    "            back2 = 'o' if backtrack_matrix[i][j][2] else ''\n",
    "            \n",
    "            sub_table = '<table class=\"clear\"><tr><td>{}</td><td>{}</td></tr>'.format(back0, back1)\n",
    "            sub_table += '<tr><td>{}</td><td>{}</td></tr></table>'.format(back2, int(value))\n",
    "            \n",
    "            html_str += '<td>{}</td>'.format(sub_table)\n",
    "        \n",
    "        html_str += '</tr>'\n",
    "    \n",
    "    html_str += '</table>'\n",
    "    \n",
    "    display(HTML(html_str))"
   ]
  },
  {
   "cell_type": "markdown",
   "metadata": {},
   "source": [
    "The second one will be used to parse BLOSUM and PAM matrices used. For simplicity sake we will use a 2D Python dictionnary:"
   ]
  },
  {
   "cell_type": "code",
   "execution_count": 132,
   "metadata": {
    "collapsed": false
   },
   "outputs": [],
   "source": [
    "def parse_ranking_matrix(filename):\n",
    "    \"\"\" Parse a ranking matrix file with comment line beginning with # \"\"\"\n",
    "    ranking_matrix = {}\n",
    "    \n",
    "    header = []\n",
    "    metadata_parsed = False\n",
    "    \n",
    "    with open(filename, 'r') as file:\n",
    "        for line in file:\n",
    "            line = line.strip()\n",
    "            \n",
    "            # Ignore empty or comment line\n",
    "            if line == \"\" or line.startswith('#'):\n",
    "                continue\n",
    "            \n",
    "            # First line of data: Header\n",
    "            elif not metadata_parsed:\n",
    "                header = [_ for _ in line if _ != ' ']\n",
    "                metadata_parsed = True\n",
    "            \n",
    "            # Other lines\n",
    "            else:\n",
    "                data = line.split(' ')\n",
    "                \n",
    "                key1 = data[0]\n",
    "                data = [_ for _ in data[1:] if _ != '']\n",
    "                \n",
    "                ranking_matrix[key1] = {}\n",
    "                for i in range(len(data)):\n",
    "                    key2 = header[i]\n",
    "                    value = int(data[i])\n",
    "                    \n",
    "                    ranking_matrix[key1][key2] = value\n",
    "        \n",
    "        return ranking_matrix"
   ]
  },
  {
   "cell_type": "markdown",
   "metadata": {},
   "source": [
    "## Part 1: Sequence Alignement Algorithms\n",
    "\n",
    "This is the first part of the assignement.\n",
    "\n",
    "### Needleman-Wunsch (global)\n",
    "\n",
    "First, please input your sequences here:"
   ]
  },
  {
   "cell_type": "code",
   "execution_count": 116,
   "metadata": {
    "collapsed": false
   },
   "outputs": [],
   "source": [
    "x = 'AAA'\n",
    "y = 'AACCCCGGTTT'"
   ]
  },
  {
   "cell_type": "markdown",
   "metadata": {},
   "source": [
    "Then, we need to load a ranking matrix and sepcify a gap penalty value"
   ]
  },
  {
   "cell_type": "code",
   "execution_count": 108,
   "metadata": {
    "collapsed": false
   },
   "outputs": [],
   "source": [
    "filename = 'PAM120'\n",
    "q = parse_ranking_matrix(filename)\n",
    "gap_penalty = -6"
   ]
  },
  {
   "cell_type": "code",
   "execution_count": 178,
   "metadata": {
    "collapsed": false
   },
   "outputs": [],
   "source": [
    "import numpy as np\n",
    "\n",
    "M = len(x) + 1\n",
    "N = len(y) + 1\n",
    "\n",
    "dp_matrix = np.zeros((M, N))\n",
    "\n",
    "backtrack_matrix = []\n",
    "for i in range(M):\n",
    "    backtrack_matrix.append([])\n",
    "    \n",
    "    for j in range(N):\n",
    "        backtrack_matrix[i].append([False, False, False])\n",
    "\n",
    "#display_dp_matrix(dp_matrix, x, y)"
   ]
  },
  {
   "cell_type": "code",
   "execution_count": 164,
   "metadata": {
    "collapsed": false
   },
   "outputs": [],
   "source": [
    "# Initialise DP matrix with gap penalty\n",
    "for i in range(M):\n",
    "    dp_matrix[i][0] = gap_penalty * i\n",
    "    \n",
    "for j in range(N):\n",
    "    dp_matrix[0][j] = gap_penalty * j\n",
    "\n",
    "#display_dp_matrix(dp_matrix, x, y)"
   ]
  },
  {
   "cell_type": "code",
   "execution_count": 181,
   "metadata": {
    "collapsed": false
   },
   "outputs": [
    {
     "data": {
      "text/html": [
       "<table><tr><td></td><td></td><td>A</td><td>A</td><td>C</td><td>C</td><td>C</td><td>C</td><td>G</td><td>G</td><td>T</td><td>T</td><td>T</td></tr><tr><td></td><td><table class=\"clear\"><tr><td></td><td></td></tr><tr><td></td><td>0</td></tr></table></td><td><table class=\"clear\"><tr><td></td><td></td></tr><tr><td></td><td>0</td></tr></table></td><td><table class=\"clear\"><tr><td></td><td></td></tr><tr><td></td><td>0</td></tr></table></td><td><table class=\"clear\"><tr><td></td><td></td></tr><tr><td></td><td>0</td></tr></table></td><td><table class=\"clear\"><tr><td></td><td></td></tr><tr><td></td><td>0</td></tr></table></td><td><table class=\"clear\"><tr><td></td><td></td></tr><tr><td></td><td>0</td></tr></table></td><td><table class=\"clear\"><tr><td></td><td></td></tr><tr><td></td><td>0</td></tr></table></td><td><table class=\"clear\"><tr><td></td><td></td></tr><tr><td></td><td>0</td></tr></table></td><td><table class=\"clear\"><tr><td></td><td></td></tr><tr><td></td><td>0</td></tr></table></td><td><table class=\"clear\"><tr><td></td><td></td></tr><tr><td></td><td>0</td></tr></table></td><td><table class=\"clear\"><tr><td></td><td></td></tr><tr><td></td><td>0</td></tr></table></td><td><table class=\"clear\"><tr><td></td><td></td></tr><tr><td></td><td>0</td></tr></table></td></tr><tr><td>A</td><td><table class=\"clear\"><tr><td></td><td></td></tr><tr><td></td><td>0</td></tr></table></td><td><table class=\"clear\"><tr><td>o</td><td></td></tr><tr><td></td><td>3</td></tr></table></td><td><table class=\"clear\"><tr><td>o</td><td></td></tr><tr><td></td><td>3</td></tr></table></td><td><table class=\"clear\"><tr><td>o</td><td>o</td></tr><tr><td></td><td>-3</td></tr></table></td><td><table class=\"clear\"><tr><td>o</td><td></td></tr><tr><td></td><td>-3</td></tr></table></td><td><table class=\"clear\"><tr><td>o</td><td></td></tr><tr><td></td><td>-3</td></tr></table></td><td><table class=\"clear\"><tr><td>o</td><td></td></tr><tr><td></td><td>-3</td></tr></table></td><td><table class=\"clear\"><tr><td>o</td><td></td></tr><tr><td></td><td>1</td></tr></table></td><td><table class=\"clear\"><tr><td>o</td><td></td></tr><tr><td></td><td>1</td></tr></table></td><td><table class=\"clear\"><tr><td>o</td><td></td></tr><tr><td></td><td>1</td></tr></table></td><td><table class=\"clear\"><tr><td>o</td><td></td></tr><tr><td></td><td>1</td></tr></table></td><td><table class=\"clear\"><tr><td>o</td><td></td></tr><tr><td></td><td>1</td></tr></table></td></tr><tr><td>A</td><td><table class=\"clear\"><tr><td></td><td></td></tr><tr><td></td><td>0</td></tr></table></td><td><table class=\"clear\"><tr><td>o</td><td></td></tr><tr><td></td><td>3</td></tr></table></td><td><table class=\"clear\"><tr><td>o</td><td></td></tr><tr><td></td><td>6</td></tr></table></td><td><table class=\"clear\"><tr><td>o</td><td>o</td></tr><tr><td></td><td>0</td></tr></table></td><td><table class=\"clear\"><tr><td>o</td><td>o</td></tr><tr><td></td><td>-6</td></tr></table></td><td><table class=\"clear\"><tr><td>o</td><td></td></tr><tr><td></td><td>-6</td></tr></table></td><td><table class=\"clear\"><tr><td>o</td><td></td></tr><tr><td></td><td>-6</td></tr></table></td><td><table class=\"clear\"><tr><td>o</td><td></td></tr><tr><td></td><td>-2</td></tr></table></td><td><table class=\"clear\"><tr><td>o</td><td></td></tr><tr><td></td><td>2</td></tr></table></td><td><table class=\"clear\"><tr><td>o</td><td></td></tr><tr><td></td><td>2</td></tr></table></td><td><table class=\"clear\"><tr><td>o</td><td></td></tr><tr><td></td><td>2</td></tr></table></td><td><table class=\"clear\"><tr><td>o</td><td></td></tr><tr><td></td><td>2</td></tr></table></td></tr><tr><td>A</td><td><table class=\"clear\"><tr><td></td><td></td></tr><tr><td></td><td>0</td></tr></table></td><td><table class=\"clear\"><tr><td>o</td><td></td></tr><tr><td></td><td>3</td></tr></table></td><td><table class=\"clear\"><tr><td>o</td><td></td></tr><tr><td></td><td>6</td></tr></table></td><td><table class=\"clear\"><tr><td>o</td><td></td></tr><tr><td></td><td>3</td></tr></table></td><td><table class=\"clear\"><tr><td>o</td><td>o</td></tr><tr><td></td><td>-3</td></tr></table></td><td><table class=\"clear\"><tr><td>o</td><td>o</td></tr><tr><td></td><td>-9</td></tr></table></td><td><table class=\"clear\"><tr><td>o</td><td></td></tr><tr><td></td><td>-9</td></tr></table></td><td><table class=\"clear\"><tr><td>o</td><td></td></tr><tr><td></td><td>-5</td></tr></table></td><td><table class=\"clear\"><tr><td>o</td><td></td></tr><tr><td></td><td>-1</td></tr></table></td><td><table class=\"clear\"><tr><td>o</td><td></td></tr><tr><td></td><td>3</td></tr></table></td><td><table class=\"clear\"><tr><td>o</td><td></td></tr><tr><td></td><td>3</td></tr></table></td><td><table class=\"clear\"><tr><td>o</td><td></td></tr><tr><td></td><td>3</td></tr></table></td></tr></table>"
      ],
      "text/plain": [
       "<IPython.core.display.HTML object>"
      ]
     },
     "metadata": {},
     "output_type": "display_data"
    }
   ],
   "source": [
    "# Nested loop to process all the DP matrix\n",
    "for i in range(1, M):\n",
    "    for j in range(1, N):\n",
    "        key1 = x[i - 1]\n",
    "        key2 = y[j - 1]\n",
    "        \n",
    "        no_gap = dp_matrix[i - 1][j - 1] + q[key1][key2]\n",
    "        gap_up = dp_matrix[i][j - 1] + gap_penalty\n",
    "        gap_left = dp_matrix[i - 1][j] + gap_penalty\n",
    "        \n",
    "        value = max(no_gap, gap_left, gap_up)\n",
    "        \n",
    "        dp_matrix[i][j] = value\n",
    "        \n",
    "        backtrack_matrix[i][j] = [\n",
    "            no_gap == value,\n",
    "            gap_up == value,\n",
    "            gap_left == value\n",
    "        ]\n",
    "\n",
    "display_dp_matrix(dp_matrix, x, y, backtrack_matrix)"
   ]
  },
  {
   "cell_type": "code",
   "execution_count": null,
   "metadata": {
    "collapsed": true
   },
   "outputs": [],
   "source": []
  },
  {
   "cell_type": "markdown",
   "metadata": {},
   "source": [
    "### Smith-Waterman(local)"
   ]
  },
  {
   "cell_type": "code",
   "execution_count": 87,
   "metadata": {
    "collapsed": false
   },
   "outputs": [
    {
     "data": {
      "text/plain": [
       "1"
      ]
     },
     "execution_count": 87,
     "metadata": {},
     "output_type": "execute_result"
    }
   ],
   "source": [
    "range(1, 10)[0]"
   ]
  },
  {
   "cell_type": "code",
   "execution_count": null,
   "metadata": {
    "collapsed": true
   },
   "outputs": [],
   "source": []
  }
 ],
 "metadata": {
  "kernelspec": {
   "display_name": "Python 3",
   "language": "python",
   "name": "python3"
  },
  "language_info": {
   "codemirror_mode": {
    "name": "ipython",
    "version": 3
   },
   "file_extension": ".py",
   "mimetype": "text/x-python",
   "name": "python",
   "nbconvert_exporter": "python",
   "pygments_lexer": "ipython3",
   "version": "3.6.0"
  }
 },
 "nbformat": 4,
 "nbformat_minor": 2
}
