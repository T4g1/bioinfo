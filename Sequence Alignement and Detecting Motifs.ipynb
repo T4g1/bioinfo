{
 "cells": [
  {
   "cell_type": "markdown",
   "metadata": {},
   "source": [
    "# Sequence Alignement and Detecting Motifs\n",
    "\n",
    "This work was done for the ULB course: Computational biology and bioinformatics (INFO-F-439) by Thomas Van Gysegem (all rigth reserved).\n",
    "\n",
    "First of all, let us introduce some utility function that will be used for this project. The first one is a function that will be used to display our Dynamic Programing matrice:"
   ]
  },
  {
   "cell_type": "code",
   "execution_count": 131,
   "metadata": {
    "collapsed": false
   },
   "outputs": [
    {
     "data": {
      "text/html": [
       "// Some style to get a better display of our data\n",
       "<style>\n",
       ".outter td, .outter, .outter tr, .outter th {padding: 1px;}\n",
       ".inner td, .inner, .inner tr, .inner th {border:none!important;}\n",
       ".inner td, .inner tr, .inner th {width: 20px; height: 20px}\n",
       ".optimal td, .optimal, .optimal tr, .optimal th {border:2px!important; color: red;}\n",
       "</style>"
      ],
      "text/plain": [
       "<IPython.core.display.HTML object>"
      ]
     },
     "metadata": {},
     "output_type": "display_data"
    }
   ],
   "source": [
    "%%html\n",
    "// Some style to get a better display of our data\n",
    "<style>\n",
    ".outter td, .outter, .outter tr, .outter th {padding: 1px;}\n",
    ".inner td, .inner, .inner tr, .inner th {border:none!important;}\n",
    ".inner td, .inner tr, .inner th {width: 20px; height: 20px}\n",
    ".optimal td, .optimal, .optimal tr, .optimal th {border:2px!important; color: red;}\n",
    "</style>"
   ]
  },
  {
   "cell_type": "code",
   "execution_count": 27,
   "metadata": {
    "collapsed": false
   },
   "outputs": [],
   "source": [
    "from IPython.display import HTML, display\n",
    "\n",
    "def display_dp_matrix(dp_matrix, x, y, backtrack_matrix, optimal_path):\n",
    "    \"\"\" Simple display function that shows all informations about the DP matrice, sequences, ... \"\"\"\n",
    "    \n",
    "    html_str = '<table class=\"outter\">'\n",
    "    \n",
    "    # First row (header)\n",
    "    html_str += '<tr><td></td><td></td><td>{}</td></tr>'.format('</td><td>'.join(_ for _ in y))\n",
    "    \n",
    "    for i in range(len(dp_matrix)):\n",
    "        row = dp_matrix[i]\n",
    "        \n",
    "        c = '' if i <= 0 else x[i - 1]\n",
    "        \n",
    "        html_str += '<tr><td>{}</td>'.format(c)\n",
    "        \n",
    "        for j in range(len(row)):\n",
    "            value = row[j]\n",
    "            \n",
    "            upleft = '<img src=\"upleft.png\" height=\"42\" width=\"9\" />' if backtrack_matrix[i][j][0] else ''\n",
    "            up = '<img src=\"up.png\" height=\"9\" width=\"9\" />' if backtrack_matrix[i][j][1] else ''\n",
    "            left = '<img src=\"left.png\" height=\"9\" width=\"9\" />' if backtrack_matrix[i][j][2] else ''\n",
    "            \n",
    "            upleft = '<img src=\"upleftred.png\" height=\"42\" width=\"9\" />' if optimal_path_direction[i][j][0] else upleft\n",
    "            up = '<img src=\"upred.png\" height=\"9\" width=\"9\" />' if optimal_path_direction[i][j][1] else up\n",
    "            left = '<img src=\"leftred.png\" height=\"9\" width=\"9\" />' if optimal_path_direction[i][j][2] else left\n",
    "            \n",
    "            optimal = ' optimal' if optimal_path[i][j] else ''\n",
    "            \n",
    "            sub_table = '<table class=\"inner{}\"><tr><td>{}</td><td>{}</td></tr>'.format(optimal, upleft, up)\n",
    "            sub_table += '<tr><td>{}</td><td>{}</td></tr></table>'.format(left, int(value))\n",
    "            \n",
    "            html_str += '<td>{}</td>'.format(sub_table)\n",
    "        \n",
    "        html_str += '</tr>'\n",
    "    \n",
    "    html_str += '</table>'\n",
    "    \n",
    "    display(HTML(html_str))"
   ]
  },
  {
   "cell_type": "markdown",
   "metadata": {},
   "source": [
    "The second one will be used to parse BLOSUM and PAM matrices used. For simplicity sake we will use a 2D Python dictionnary:"
   ]
  },
  {
   "cell_type": "code",
   "execution_count": 19,
   "metadata": {
    "collapsed": false
   },
   "outputs": [],
   "source": [
    "def parse_ranking_matrix(filename):\n",
    "    \"\"\" Parse a ranking matrix file with comment line beginning with # \"\"\"\n",
    "    ranking_matrix = {}\n",
    "    \n",
    "    header = []\n",
    "    metadata_parsed = False\n",
    "    \n",
    "    with open(filename, 'r') as file:\n",
    "        for line in file:\n",
    "            line = line.strip()\n",
    "            \n",
    "            # Ignore empty or comment line\n",
    "            if line == \"\" or line.startswith('#'):\n",
    "                continue\n",
    "            \n",
    "            # First line of data: Header\n",
    "            elif not metadata_parsed:\n",
    "                header = [_ for _ in line if _ != ' ']\n",
    "                metadata_parsed = True\n",
    "            \n",
    "            # Other lines\n",
    "            else:\n",
    "                data = line.split(' ')\n",
    "                \n",
    "                key1 = data[0]\n",
    "                data = [_ for _ in data[1:] if _ != '']\n",
    "                \n",
    "                ranking_matrix[key1] = {}\n",
    "                for i in range(len(data)):\n",
    "                    key2 = header[i]\n",
    "                    value = int(data[i])\n",
    "                    \n",
    "                    ranking_matrix[key1][key2] = value\n",
    "        \n",
    "        return ranking_matrix"
   ]
  },
  {
   "cell_type": "markdown",
   "metadata": {},
   "source": [
    "This function is used to display solutions with human readable formatting (showing gap, matches and so on)"
   ]
  },
  {
   "cell_type": "code",
   "execution_count": 42,
   "metadata": {
    "collapsed": false
   },
   "outputs": [],
   "source": [
    "def display_solution(solution):\n",
    "    lines = ['', '', '']\n",
    "    \n",
    "    pi, pj = 0, 0\n",
    "    for i, j in solution[::-1][1:]:\n",
    "        # Matched\n",
    "        if (i - pi) + (j - pj) == 2:\n",
    "            lines[0] += '<td><b>{}</b></td>'.format(x[i-1])\n",
    "            lines[1] += '<td>|</td>'\n",
    "            lines[2] += '<td><b>{}</b></td>'.format(y[j-1])\n",
    "        elif (i - pi) == 1:\n",
    "            lines[0] += '<td>{}</td>'.format(x[i-1])\n",
    "            lines[1] += '<td></td>'\n",
    "            lines[2] += '<td>-</td>'\n",
    "        else:\n",
    "            lines[0] += '<td>-</td>'\n",
    "            lines[1] += '<td></td>'\n",
    "            lines[2] += '<td>{}</td>'.format(y[j-1])\n",
    "        \n",
    "        pi, pj = i, j\n",
    "    \n",
    "    lines[0] = '<table class=\"inner\"><tr>{}</tr>'.format(lines[0])\n",
    "    lines[1] = '<tr>{}</tr>'.format(lines[1])\n",
    "    lines[2] = '<tr>{}</tr></table>'.format(lines[2])\n",
    "    \n",
    "    display(HTML(''.join(lines)))"
   ]
  },
  {
   "cell_type": "markdown",
   "metadata": {},
   "source": [
    "The variables used are as follows:\n",
    "* `dp_matrix` is the main matrix computed with a recursive definition of the value of each cells like seen in the course.\n",
    "* `q` is the ranking matrix (BLOSOM, PAM, ... depending which one you choosed to parse\n",
    "* gap_penalty is, of course, the penalty for introducing a gap\n",
    "* bactrack_matrix is a somewhat hacky matrix that stores which way we come from for a given cell of the dp_matrix. Each cell is a list of 3 boolean, the first one is True if we come from the upper left cell (so a match occured), the second one is True if we introduced a gap in Y and the last one is True if we introduced a gap in X.\n",
    "* optimal_path is a list of boolean, True if one optimal solution goes through it, False otherwise. It is used purely for display\n",
    "* optimal_path_direction is like backtrack_matrix but for showing red arrows instead of black ones.\n",
    "* l_solutions is a list of list of ordered positions in dp_matrix, each list in l_solutions is an optimal solution (up to k solutions)"
   ]
  },
  {
   "cell_type": "markdown",
   "metadata": {},
   "source": [
    "## Part 1: Sequence Alignement Algorithms\n",
    "\n",
    "This is the first part of the assignement.\n",
    "\n",
    "### Needleman-Wunsch (global)\n",
    "\n",
    "First, please input your sequences here and how many sub-optimal solutions you want (k):"
   ]
  },
  {
   "cell_type": "code",
   "execution_count": 21,
   "metadata": {
    "collapsed": false
   },
   "outputs": [],
   "source": [
    "x = 'THISLINE'\n",
    "y = 'ISALIGNED'\n",
    "k = 3"
   ]
  },
  {
   "cell_type": "markdown",
   "metadata": {},
   "source": [
    "Then, we need to load a ranking matrix and sepcify a gap penalty value"
   ]
  },
  {
   "cell_type": "code",
   "execution_count": 22,
   "metadata": {
    "collapsed": false
   },
   "outputs": [],
   "source": [
    "filename = 'BLOSUM62'\n",
    "q = parse_ranking_matrix(filename)\n",
    "gap_penalty = -4"
   ]
  },
  {
   "cell_type": "code",
   "execution_count": 23,
   "metadata": {
    "collapsed": false
   },
   "outputs": [],
   "source": [
    "import numpy as np\n",
    "\n",
    "M = len(x) + 1\n",
    "N = len(y) + 1\n",
    "\n",
    "dp_matrix = np.zeros((M, N))\n",
    "\n",
    "backtrack_matrix = []\n",
    "optimal_path = []\n",
    "optimal_path_direction = []\n",
    "for i in range(M):\n",
    "    backtrack_matrix.append([])\n",
    "    optimal_path.append([])\n",
    "    optimal_path_direction.append([])\n",
    "    \n",
    "    for j in range(N):\n",
    "        backtrack_matrix[i].append([False, False, False])\n",
    "        optimal_path[i].append(False)\n",
    "        optimal_path_direction[i].append([False, False, False])"
   ]
  },
  {
   "cell_type": "code",
   "execution_count": 24,
   "metadata": {
    "collapsed": false
   },
   "outputs": [],
   "source": [
    "# Initialise DP matrix with gap penalty\n",
    "for i in range(M):\n",
    "    dp_matrix[i][0] = gap_penalty * i\n",
    "    backtrack_matrix[i][0] = [False, True, False]\n",
    "    \n",
    "for j in range(N):\n",
    "    dp_matrix[0][j] = gap_penalty * j\n",
    "    backtrack_matrix[0][j] = [False, False, True]\n",
    "    \n",
    "backtrack_matrix[0][0] = [False, False, False]"
   ]
  },
  {
   "cell_type": "code",
   "execution_count": 25,
   "metadata": {
    "collapsed": false
   },
   "outputs": [],
   "source": [
    "# Nested loop to process all the DP matrix\n",
    "for i in range(1, M):\n",
    "    for j in range(1, N):\n",
    "        key1 = x[i - 1]\n",
    "        key2 = y[j - 1]\n",
    "        \n",
    "        no_gap = dp_matrix[i - 1][j - 1] + q[key1][key2]\n",
    "        gap_left = dp_matrix[i][j - 1] + gap_penalty\n",
    "        gap_up = dp_matrix[i - 1][j] + gap_penalty\n",
    "        \n",
    "        value = max(no_gap, gap_left, gap_up)\n",
    "        \n",
    "        dp_matrix[i][j] = value\n",
    "        \n",
    "        backtrack_matrix[i][j] = [\n",
    "            no_gap == value,\n",
    "            gap_up == value,\n",
    "            gap_left == value\n",
    "        ]"
   ]
  },
  {
   "cell_type": "code",
   "execution_count": 43,
   "metadata": {
    "collapsed": false
   },
   "outputs": [
    {
     "data": {
      "text/html": [
       "<table class=\"outter\"><tr><td></td><td></td><td>I</td><td>S</td><td>A</td><td>L</td><td>I</td><td>G</td><td>N</td><td>E</td><td>D</td></tr><tr><td></td><td><table class=\"inner optimal\"><tr><td></td><td></td></tr><tr><td></td><td>0</td></tr></table></td><td><table class=\"inner\"><tr><td></td><td></td></tr><tr><td><img src=\"left.png\" height=\"9\" width=\"9\" /></td><td>-4</td></tr></table></td><td><table class=\"inner\"><tr><td></td><td></td></tr><tr><td><img src=\"left.png\" height=\"9\" width=\"9\" /></td><td>-8</td></tr></table></td><td><table class=\"inner\"><tr><td></td><td></td></tr><tr><td><img src=\"left.png\" height=\"9\" width=\"9\" /></td><td>-12</td></tr></table></td><td><table class=\"inner\"><tr><td></td><td></td></tr><tr><td><img src=\"left.png\" height=\"9\" width=\"9\" /></td><td>-16</td></tr></table></td><td><table class=\"inner\"><tr><td></td><td></td></tr><tr><td><img src=\"left.png\" height=\"9\" width=\"9\" /></td><td>-20</td></tr></table></td><td><table class=\"inner\"><tr><td></td><td></td></tr><tr><td><img src=\"left.png\" height=\"9\" width=\"9\" /></td><td>-24</td></tr></table></td><td><table class=\"inner\"><tr><td></td><td></td></tr><tr><td><img src=\"left.png\" height=\"9\" width=\"9\" /></td><td>-28</td></tr></table></td><td><table class=\"inner\"><tr><td></td><td></td></tr><tr><td><img src=\"left.png\" height=\"9\" width=\"9\" /></td><td>-32</td></tr></table></td><td><table class=\"inner\"><tr><td></td><td></td></tr><tr><td><img src=\"left.png\" height=\"9\" width=\"9\" /></td><td>-36</td></tr></table></td></tr><tr><td>T</td><td><table class=\"inner optimal\"><tr><td></td><td><img src=\"upred.png\" height=\"9\" width=\"9\" /></td></tr><tr><td></td><td>-4</td></tr></table></td><td><table class=\"inner\"><tr><td><img src=\"upleft.png\" height=\"42\" width=\"9\" /></td><td></td></tr><tr><td></td><td>-1</td></tr></table></td><td><table class=\"inner\"><tr><td><img src=\"upleft.png\" height=\"42\" width=\"9\" /></td><td></td></tr><tr><td></td><td>-3</td></tr></table></td><td><table class=\"inner\"><tr><td></td><td></td></tr><tr><td><img src=\"left.png\" height=\"9\" width=\"9\" /></td><td>-7</td></tr></table></td><td><table class=\"inner\"><tr><td></td><td></td></tr><tr><td><img src=\"left.png\" height=\"9\" width=\"9\" /></td><td>-11</td></tr></table></td><td><table class=\"inner\"><tr><td></td><td></td></tr><tr><td><img src=\"left.png\" height=\"9\" width=\"9\" /></td><td>-15</td></tr></table></td><td><table class=\"inner\"><tr><td></td><td></td></tr><tr><td><img src=\"left.png\" height=\"9\" width=\"9\" /></td><td>-19</td></tr></table></td><td><table class=\"inner\"><tr><td></td><td></td></tr><tr><td><img src=\"left.png\" height=\"9\" width=\"9\" /></td><td>-23</td></tr></table></td><td><table class=\"inner\"><tr><td></td><td></td></tr><tr><td><img src=\"left.png\" height=\"9\" width=\"9\" /></td><td>-27</td></tr></table></td><td><table class=\"inner\"><tr><td></td><td></td></tr><tr><td><img src=\"left.png\" height=\"9\" width=\"9\" /></td><td>-31</td></tr></table></td></tr><tr><td>H</td><td><table class=\"inner optimal\"><tr><td></td><td><img src=\"upred.png\" height=\"9\" width=\"9\" /></td></tr><tr><td></td><td>-8</td></tr></table></td><td><table class=\"inner\"><tr><td></td><td><img src=\"up.png\" height=\"9\" width=\"9\" /></td></tr><tr><td></td><td>-5</td></tr></table></td><td><table class=\"inner\"><tr><td><img src=\"upleft.png\" height=\"42\" width=\"9\" /></td><td></td></tr><tr><td></td><td>-2</td></tr></table></td><td><table class=\"inner\"><tr><td><img src=\"upleft.png\" height=\"42\" width=\"9\" /></td><td></td></tr><tr><td></td><td>-5</td></tr></table></td><td><table class=\"inner\"><tr><td></td><td></td></tr><tr><td><img src=\"left.png\" height=\"9\" width=\"9\" /></td><td>-9</td></tr></table></td><td><table class=\"inner\"><tr><td></td><td></td></tr><tr><td><img src=\"left.png\" height=\"9\" width=\"9\" /></td><td>-13</td></tr></table></td><td><table class=\"inner\"><tr><td><img src=\"upleft.png\" height=\"42\" width=\"9\" /></td><td></td></tr><tr><td><img src=\"left.png\" height=\"9\" width=\"9\" /></td><td>-17</td></tr></table></td><td><table class=\"inner\"><tr><td><img src=\"upleft.png\" height=\"42\" width=\"9\" /></td><td></td></tr><tr><td></td><td>-18</td></tr></table></td><td><table class=\"inner\"><tr><td></td><td></td></tr><tr><td><img src=\"left.png\" height=\"9\" width=\"9\" /></td><td>-22</td></tr></table></td><td><table class=\"inner\"><tr><td></td><td></td></tr><tr><td><img src=\"left.png\" height=\"9\" width=\"9\" /></td><td>-26</td></tr></table></td></tr><tr><td>I</td><td><table class=\"inner\"><tr><td></td><td><img src=\"up.png\" height=\"9\" width=\"9\" /></td></tr><tr><td></td><td>-12</td></tr></table></td><td><table class=\"inner optimal\"><tr><td><img src=\"upleftred.png\" height=\"42\" width=\"9\" /></td><td></td></tr><tr><td></td><td>-4</td></tr></table></td><td><table class=\"inner\"><tr><td></td><td><img src=\"up.png\" height=\"9\" width=\"9\" /></td></tr><tr><td></td><td>-6</td></tr></table></td><td><table class=\"inner\"><tr><td><img src=\"upleft.png\" height=\"42\" width=\"9\" /></td><td></td></tr><tr><td></td><td>-3</td></tr></table></td><td><table class=\"inner\"><tr><td><img src=\"upleft.png\" height=\"42\" width=\"9\" /></td><td></td></tr><tr><td></td><td>-3</td></tr></table></td><td><table class=\"inner\"><tr><td><img src=\"upleft.png\" height=\"42\" width=\"9\" /></td><td></td></tr><tr><td></td><td>-5</td></tr></table></td><td><table class=\"inner\"><tr><td></td><td></td></tr><tr><td><img src=\"left.png\" height=\"9\" width=\"9\" /></td><td>-9</td></tr></table></td><td><table class=\"inner\"><tr><td></td><td></td></tr><tr><td><img src=\"left.png\" height=\"9\" width=\"9\" /></td><td>-13</td></tr></table></td><td><table class=\"inner\"><tr><td></td><td></td></tr><tr><td><img src=\"left.png\" height=\"9\" width=\"9\" /></td><td>-17</td></tr></table></td><td><table class=\"inner\"><tr><td></td><td></td></tr><tr><td><img src=\"left.png\" height=\"9\" width=\"9\" /></td><td>-21</td></tr></table></td></tr><tr><td>S</td><td><table class=\"inner\"><tr><td></td><td><img src=\"up.png\" height=\"9\" width=\"9\" /></td></tr><tr><td></td><td>-16</td></tr></table></td><td><table class=\"inner\"><tr><td></td><td><img src=\"up.png\" height=\"9\" width=\"9\" /></td></tr><tr><td></td><td>-8</td></tr></table></td><td><table class=\"inner optimal\"><tr><td><img src=\"upleftred.png\" height=\"42\" width=\"9\" /></td><td></td></tr><tr><td></td><td>0</td></tr></table></td><td><table class=\"inner optimal\"><tr><td></td><td></td></tr><tr><td><img src=\"leftred.png\" height=\"9\" width=\"9\" /></td><td>-4</td></tr></table></td><td><table class=\"inner\"><tr><td><img src=\"upleft.png\" height=\"42\" width=\"9\" /></td><td></td></tr><tr><td></td><td>-5</td></tr></table></td><td><table class=\"inner\"><tr><td><img src=\"upleft.png\" height=\"42\" width=\"9\" /></td><td></td></tr><tr><td></td><td>-5</td></tr></table></td><td><table class=\"inner\"><tr><td><img src=\"upleft.png\" height=\"42\" width=\"9\" /></td><td></td></tr><tr><td></td><td>-5</td></tr></table></td><td><table class=\"inner\"><tr><td><img src=\"upleft.png\" height=\"42\" width=\"9\" /></td><td></td></tr><tr><td></td><td>-8</td></tr></table></td><td><table class=\"inner\"><tr><td></td><td></td></tr><tr><td><img src=\"left.png\" height=\"9\" width=\"9\" /></td><td>-12</td></tr></table></td><td><table class=\"inner\"><tr><td></td><td></td></tr><tr><td><img src=\"left.png\" height=\"9\" width=\"9\" /></td><td>-16</td></tr></table></td></tr><tr><td>L</td><td><table class=\"inner\"><tr><td></td><td><img src=\"up.png\" height=\"9\" width=\"9\" /></td></tr><tr><td></td><td>-20</td></tr></table></td><td><table class=\"inner\"><tr><td></td><td><img src=\"up.png\" height=\"9\" width=\"9\" /></td></tr><tr><td></td><td>-12</td></tr></table></td><td><table class=\"inner\"><tr><td></td><td><img src=\"up.png\" height=\"9\" width=\"9\" /></td></tr><tr><td></td><td>-4</td></tr></table></td><td><table class=\"inner\"><tr><td><img src=\"upleft.png\" height=\"42\" width=\"9\" /></td><td></td></tr><tr><td></td><td>-1</td></tr></table></td><td><table class=\"inner optimal\"><tr><td><img src=\"upleftred.png\" height=\"42\" width=\"9\" /></td><td></td></tr><tr><td></td><td>0</td></tr></table></td><td><table class=\"inner\"><tr><td><img src=\"upleft.png\" height=\"42\" width=\"9\" /></td><td></td></tr><tr><td></td><td>-3</td></tr></table></td><td><table class=\"inner\"><tr><td></td><td></td></tr><tr><td><img src=\"left.png\" height=\"9\" width=\"9\" /></td><td>-7</td></tr></table></td><td><table class=\"inner\"><tr><td><img src=\"upleft.png\" height=\"42\" width=\"9\" /></td><td></td></tr><tr><td></td><td>-8</td></tr></table></td><td><table class=\"inner\"><tr><td><img src=\"upleft.png\" height=\"42\" width=\"9\" /></td><td></td></tr><tr><td></td><td>-11</td></tr></table></td><td><table class=\"inner\"><tr><td></td><td></td></tr><tr><td><img src=\"left.png\" height=\"9\" width=\"9\" /></td><td>-15</td></tr></table></td></tr><tr><td>I</td><td><table class=\"inner\"><tr><td></td><td><img src=\"up.png\" height=\"9\" width=\"9\" /></td></tr><tr><td></td><td>-24</td></tr></table></td><td><table class=\"inner\"><tr><td><img src=\"upleft.png\" height=\"42\" width=\"9\" /></td><td><img src=\"up.png\" height=\"9\" width=\"9\" /></td></tr><tr><td></td><td>-16</td></tr></table></td><td><table class=\"inner\"><tr><td></td><td><img src=\"up.png\" height=\"9\" width=\"9\" /></td></tr><tr><td></td><td>-8</td></tr></table></td><td><table class=\"inner\"><tr><td><img src=\"upleft.png\" height=\"42\" width=\"9\" /></td><td><img src=\"up.png\" height=\"9\" width=\"9\" /></td></tr><tr><td></td><td>-5</td></tr></table></td><td><table class=\"inner\"><tr><td><img src=\"upleft.png\" height=\"42\" width=\"9\" /></td><td></td></tr><tr><td></td><td>1</td></tr></table></td><td><table class=\"inner optimal\"><tr><td><img src=\"upleftred.png\" height=\"42\" width=\"9\" /></td><td></td></tr><tr><td></td><td>4</td></tr></table></td><td><table class=\"inner optimal\"><tr><td></td><td></td></tr><tr><td><img src=\"leftred.png\" height=\"9\" width=\"9\" /></td><td>0</td></tr></table></td><td><table class=\"inner\"><tr><td></td><td></td></tr><tr><td><img src=\"left.png\" height=\"9\" width=\"9\" /></td><td>-4</td></tr></table></td><td><table class=\"inner\"><tr><td></td><td></td></tr><tr><td><img src=\"left.png\" height=\"9\" width=\"9\" /></td><td>-8</td></tr></table></td><td><table class=\"inner\"><tr><td></td><td></td></tr><tr><td><img src=\"left.png\" height=\"9\" width=\"9\" /></td><td>-12</td></tr></table></td></tr><tr><td>N</td><td><table class=\"inner\"><tr><td></td><td><img src=\"up.png\" height=\"9\" width=\"9\" /></td></tr><tr><td></td><td>-28</td></tr></table></td><td><table class=\"inner\"><tr><td></td><td><img src=\"up.png\" height=\"9\" width=\"9\" /></td></tr><tr><td></td><td>-20</td></tr></table></td><td><table class=\"inner\"><tr><td></td><td><img src=\"up.png\" height=\"9\" width=\"9\" /></td></tr><tr><td></td><td>-12</td></tr></table></td><td><table class=\"inner\"><tr><td></td><td><img src=\"up.png\" height=\"9\" width=\"9\" /></td></tr><tr><td></td><td>-9</td></tr></table></td><td><table class=\"inner\"><tr><td></td><td><img src=\"up.png\" height=\"9\" width=\"9\" /></td></tr><tr><td></td><td>-3</td></tr></table></td><td><table class=\"inner\"><tr><td></td><td><img src=\"up.png\" height=\"9\" width=\"9\" /></td></tr><tr><td></td><td>0</td></tr></table></td><td><table class=\"inner\"><tr><td><img src=\"upleft.png\" height=\"42\" width=\"9\" /></td><td></td></tr><tr><td></td><td>4</td></tr></table></td><td><table class=\"inner optimal\"><tr><td><img src=\"upleftred.png\" height=\"42\" width=\"9\" /></td><td></td></tr><tr><td></td><td>6</td></tr></table></td><td><table class=\"inner\"><tr><td></td><td></td></tr><tr><td><img src=\"left.png\" height=\"9\" width=\"9\" /></td><td>2</td></tr></table></td><td><table class=\"inner\"><tr><td></td><td></td></tr><tr><td><img src=\"left.png\" height=\"9\" width=\"9\" /></td><td>-2</td></tr></table></td></tr><tr><td>E</td><td><table class=\"inner\"><tr><td></td><td><img src=\"up.png\" height=\"9\" width=\"9\" /></td></tr><tr><td></td><td>-32</td></tr></table></td><td><table class=\"inner\"><tr><td></td><td><img src=\"up.png\" height=\"9\" width=\"9\" /></td></tr><tr><td></td><td>-24</td></tr></table></td><td><table class=\"inner\"><tr><td></td><td><img src=\"up.png\" height=\"9\" width=\"9\" /></td></tr><tr><td></td><td>-16</td></tr></table></td><td><table class=\"inner\"><tr><td><img src=\"upleft.png\" height=\"42\" width=\"9\" /></td><td><img src=\"up.png\" height=\"9\" width=\"9\" /></td></tr><tr><td></td><td>-13</td></tr></table></td><td><table class=\"inner\"><tr><td></td><td><img src=\"up.png\" height=\"9\" width=\"9\" /></td></tr><tr><td></td><td>-7</td></tr></table></td><td><table class=\"inner\"><tr><td></td><td><img src=\"up.png\" height=\"9\" width=\"9\" /></td></tr><tr><td></td><td>-4</td></tr></table></td><td><table class=\"inner\"><tr><td></td><td><img src=\"up.png\" height=\"9\" width=\"9\" /></td></tr><tr><td></td><td>0</td></tr></table></td><td><table class=\"inner\"><tr><td><img src=\"upleft.png\" height=\"42\" width=\"9\" /></td><td></td></tr><tr><td></td><td>4</td></tr></table></td><td><table class=\"inner optimal\"><tr><td><img src=\"upleftred.png\" height=\"42\" width=\"9\" /></td><td></td></tr><tr><td></td><td>11</td></tr></table></td><td><table class=\"inner optimal\"><tr><td></td><td></td></tr><tr><td><img src=\"leftred.png\" height=\"9\" width=\"9\" /></td><td>7</td></tr></table></td></tr></table>"
      ],
      "text/plain": [
       "<IPython.core.display.HTML object>"
      ]
     },
     "metadata": {},
     "output_type": "display_data"
    },
    {
     "name": "stdout",
     "output_type": "stream",
     "text": [
      "Solution #1:\n"
     ]
    },
    {
     "data": {
      "text/html": [
       "<table class=\"inner\"><tr><td>T</td><td>H</td><td><b>I</b></td><td><b>S</b></td><td>-</td><td><b>L</b></td><td><b>I</b></td><td>-</td><td><b>N</b></td><td><b>E</b></td><td>-</td></tr><tr><td></td><td></td><td>|</td><td>|</td><td></td><td>|</td><td>|</td><td></td><td>|</td><td>|</td><td></td></tr><tr><td>-</td><td>-</td><td><b>I</b></td><td><b>S</b></td><td>A</td><td><b>L</b></td><td><b>I</b></td><td>G</td><td><b>N</b></td><td><b>E</b></td><td>D</td></tr></table>"
      ],
      "text/plain": [
       "<IPython.core.display.HTML object>"
      ]
     },
     "metadata": {},
     "output_type": "display_data"
    }
   ],
   "source": [
    "# A bit of backtracking now\n",
    "def backtrack(solution, i, j, ignore):\n",
    "    solution.append((i, j))\n",
    "    \n",
    "    optimal_path[i][j] = True\n",
    "    \n",
    "    if i == 0 and j == 0:\n",
    "        return True\n",
    "    \n",
    "    if backtrack_matrix[i][j][0]: \n",
    "        if ignore == 0:\n",
    "            optimal_path_direction[i][j][0] = True\n",
    "            return backtrack(solution, i-1, j-1, ignore)\n",
    "        else:\n",
    "            ignore -=1\n",
    "    if backtrack_matrix[i][j][1]: \n",
    "        if ignore == 0:\n",
    "            optimal_path_direction[i][j][1] = True\n",
    "            return backtrack(solution, i-1, j, ignore)\n",
    "        else:\n",
    "            ignore -=1\n",
    "    if backtrack_matrix[i][j][2]: \n",
    "        if ignore == 0:\n",
    "            optimal_path_direction[i][j][2] = True\n",
    "            return backtrack(solution, i, j-1, ignore)\n",
    "        else:\n",
    "            ignore -=1\n",
    "    \n",
    "    return False\n",
    "\n",
    "l_solution = []\n",
    "for ignore in range(k):\n",
    "    solution = []\n",
    "    backtrack(solution, M - 1, N - 1, ignore)\n",
    "    \n",
    "    if solution[-1] == (0, 0):\n",
    "        l_solution.append(solution)\n",
    "\n",
    "display_dp_matrix(dp_matrix, x, y, backtrack_matrix, optimal_path)\n",
    "\n",
    "for i in range(len(l_solution)):\n",
    "    print(\"Solution #{}:\".format(i+1))\n",
    "    display_solution(l_solution[i])"
   ]
  },
  {
   "cell_type": "markdown",
   "metadata": {},
   "source": [
    "### Smith-Waterman(local)"
   ]
  },
  {
   "cell_type": "code",
   "execution_count": null,
   "metadata": {
    "collapsed": false
   },
   "outputs": [],
   "source": []
  },
  {
   "cell_type": "code",
   "execution_count": null,
   "metadata": {
    "collapsed": false
   },
   "outputs": [],
   "source": []
  },
  {
   "cell_type": "code",
   "execution_count": null,
   "metadata": {
    "collapsed": true
   },
   "outputs": [],
   "source": []
  },
  {
   "cell_type": "code",
   "execution_count": null,
   "metadata": {
    "collapsed": false
   },
   "outputs": [],
   "source": []
  },
  {
   "cell_type": "code",
   "execution_count": null,
   "metadata": {
    "collapsed": false
   },
   "outputs": [],
   "source": []
  },
  {
   "cell_type": "code",
   "execution_count": null,
   "metadata": {
    "collapsed": true
   },
   "outputs": [],
   "source": []
  }
 ],
 "metadata": {
  "kernelspec": {
   "display_name": "Python 3",
   "language": "python",
   "name": "python3"
  },
  "language_info": {
   "codemirror_mode": {
    "name": "ipython",
    "version": 3
   },
   "file_extension": ".py",
   "mimetype": "text/x-python",
   "name": "python",
   "nbconvert_exporter": "python",
   "pygments_lexer": "ipython3",
   "version": "3.6.0"
  }
 },
 "nbformat": 4,
 "nbformat_minor": 2
}
